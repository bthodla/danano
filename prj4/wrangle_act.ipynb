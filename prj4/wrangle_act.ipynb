{
  "nbformat": 4,
  "nbformat_minor": 0,
  "metadata": {
    "colab": {
      "name": "wrangle_act.ipynb",
      "version": "0.3.2",
      "provenance": [],
      "collapsed_sections": [],
      "include_colab_link": true
    },
    "kernelspec": {
      "name": "python3",
      "display_name": "Python 3"
    }
  },
  "cells": [
    {
      "cell_type": "markdown",
      "metadata": {
        "id": "view-in-github",
        "colab_type": "text"
      },
      "source": [
        "<a href=\"https://colab.research.google.com/github/bthodla/danano/blob/master/prj4/wrangle_act.ipynb\" target=\"_parent\"><img src=\"https://colab.research.google.com/assets/colab-badge.svg\" alt=\"Open In Colab\"/></a>"
      ]
    },
    {
      "metadata": {
        "id": "6MHgHyKUt_Uj",
        "colab_type": "text"
      },
      "cell_type": "markdown",
      "source": [
        "### Gathering data\n",
        "\n",
        "1.   Load the \"twitter-archive-enhanced.csv\" into a dataframe\n",
        "2.   Load the \"image_predictions.tsv\" (the Tweet image predictions) hosted on Udacity servers programmatically using the \"requests\" library (URL: https://d17h27t6h515a5.cloudfront.net/topher/2017/August/599fd2ad_image-predictions/image-predictions.tsv)\n",
        "3. Using tweet ids from (1) above and the Twitter API, load information such as \"retweet count\" and \"favorite count\" and any other interesting data items and store the entire set of data relating to a tweet in a JSON file called \"tweet_json.txt\"; then read this file line by line into a data frame and include tweet id, retweet count, favorite count and any other data items of interest\n",
        "4. Consumer API keys: \n",
        "    \n",
        "    Z22dLMPEOtCL2ayqnPTbFg3sK (API key)\n",
        "    \n",
        "    SuaxZay016BTIpzrYszo9Dbo0jQd38FZ8SUi0bDyy8hU6jMKdj (API secret key)\n",
        "    \n",
        "    Access token & access token secret\n",
        "\n",
        "    14299634-DHvEoZI9bR2D5WOZWf82MjHX6vEnPRIosIrli6ueb (Access token)\n",
        "\n",
        "    nvba5wXGFrEcYKmQjztu40wsr0vG2pXnQShE2ZQv6I313 (Access token secret)\n",
        "\n",
        "    Read and write (Access level)\n",
        "\n",
        "\n"
      ]
    },
    {
      "metadata": {
        "id": "CLeZDiDMhHv6",
        "colab_type": "code",
        "colab": {}
      },
      "cell_type": "code",
      "source": [
        "# Import the necessary libraries\n",
        "import pandas as pd\n",
        "import numpy as np\n",
        "import requests\n",
        "import io\n",
        "import tweepy\n",
        "import json\n",
        "from google.colab import drive\n",
        "import yaml\n",
        "import time\n",
        "import os\n"
      ],
      "execution_count": 0,
      "outputs": []
    },
    {
      "metadata": {
        "id": "0M0qep9Flhtx",
        "colab_type": "code",
        "colab": {}
      },
      "cell_type": "code",
      "source": [
        "def load_yaml_file(filename: str) -> dict:\n",
        "    twitter_keys = {}\n",
        "\n",
        "    with open(filename, 'r') as ymlfile:\n",
        "        cfg = yaml.safe_load(ymlfile)\n",
        "    \n",
        "    twitter_keys['consumer_key'] = cfg['twitter']['consumer']['key']\n",
        "    twitter_keys['consumer_secret'] = cfg['twitter']['consumer']['secret']\n",
        "    twitter_keys['access_token'] = cfg['twitter']['access']['token']\n",
        "    twitter_keys['access_token_secret'] = cfg['twitter']['access']['token-secret']\n",
        "\n",
        "    return twitter_keys"
      ],
      "execution_count": 0,
      "outputs": []
    },
    {
      "metadata": {
        "id": "bbUVJeB4p56h",
        "colab_type": "code",
        "colab": {}
      },
      "cell_type": "code",
      "source": [
        "def print_file(file_name, lines = 10):\n",
        "    with open(file_name, 'r') as f:\n",
        "        for _ in range(lines):\n",
        "            print (f.readline())\n",
        "        "
      ],
      "execution_count": 0,
      "outputs": []
    },
    {
      "metadata": {
        "id": "OAAc2CBNljDo",
        "colab_type": "code",
        "outputId": "5de82dd7-4bac-4295-e83a-73384935977a",
        "colab": {
          "base_uri": "https://localhost:8080/",
          "height": 71
        }
      },
      "cell_type": "code",
      "source": [
        "drive.mount('/content/gdrive')\n",
        "twitter_keys_yaml_file = '/content/gdrive/My Drive/Colab Notebooks/twitter_keys.yaml'\n",
        "tweet_json_file = '/content/gdrive/My Drive/Colab Notebooks/tweet_json.txt'\n",
        "\n",
        "\"\"\"\n",
        "with open(twitter_keys_yaml_file, encoding='utf-8') as file:\n",
        "    line = file.readline()\n",
        "    while line:\n",
        "        line = file.readline()\n",
        "        print(line)\n",
        "\"\"\"\n",
        "print(load_yaml_file(twitter_keys_yaml_file))\n"
      ],
      "execution_count": 24,
      "outputs": [
        {
          "output_type": "stream",
          "text": [
            "Drive already mounted at /content/gdrive; to attempt to forcibly remount, call drive.mount(\"/content/gdrive\", force_remount=True).\n",
            "{'consumer_key': 'Z22dLMPEOtCL2ayqnPTbFg3sK', 'consumer_secret': 'SuaxZay016BTIpzrYszo9Dbo0jQd38FZ8SUi0bDyy8hU6jMKdj', 'access_token': '14299634-DHvEoZI9bR2D5WOZWf82MjHX6vEnPRIosIrli6ueb', 'access_token_secret': 'nvba5wXGFrEcYKmQjztu40wsr0vG2pXnQShE2ZQv6I313'}\n"
          ],
          "name": "stdout"
        }
      ]
    },
    {
      "metadata": {
        "id": "6C3qa35miEux",
        "colab_type": "code",
        "outputId": "25284588-74e0-459e-a133-9af5116faada",
        "colab": {
          "base_uri": "https://localhost:8080/",
          "height": 34
        }
      },
      "cell_type": "code",
      "source": [
        "# 1. Load the file \"twitter-archive-enhanced.csv\" into a dataframe\n",
        "twitter_archive_file_url = 'https://raw.githubusercontent.com/bthodla/danano/master/prj4/twitter-archive-enhanced.csv'\n",
        "\n",
        "tweets_df = pd.read_csv(twitter_archive_file_url)\n",
        "\n",
        "tweet_count = tweets_df.shape[0]\n",
        "print ('%s %d' % ('Tweet Count: ', tweet_count))"
      ],
      "execution_count": 25,
      "outputs": [
        {
          "output_type": "stream",
          "text": [
            "Tweet Count:  2356\n"
          ],
          "name": "stdout"
        }
      ]
    },
    {
      "metadata": {
        "id": "YXfHmi0ene-L",
        "colab_type": "code",
        "colab": {}
      },
      "cell_type": "code",
      "source": [
        "# 2. Load the \"image_predictions.tsv\" (the Tweet image predictions) hosted on Udacity servers programmatically using the \"requests\" library\n",
        "\n",
        "image_predictions_file_url = 'https://d17h27t6h515a5.cloudfront.net/topher/2017/August/599fd2ad_image-predictions/image-predictions.tsv'\n",
        "\n",
        "url_data = requests.get(image_predictions_file_url).content\n",
        "\n",
        "img_pred_df = pd.read_csv(io.StringIO(url_data.decode('utf-8')), sep = '\\t')\n"
      ],
      "execution_count": 0,
      "outputs": []
    },
    {
      "metadata": {
        "id": "uXGoehx6nemP",
        "colab_type": "code",
        "outputId": "80525603-7af8-429c-8250-e642780e6bdf",
        "colab": {
          "base_uri": "https://localhost:8080/",
          "height": 51
        }
      },
      "cell_type": "code",
      "source": [
        "\"\"\" 3. Using tweet ids from tweet_df and the Twitter API, load information such as \"retweet count\" and \"favorite count\" and any other interesting data items \n",
        "and store the entire set of data relating to a tweet in a JSON file called \"tweet_json.txt\"; then read this file line by line into a data frame and include \n",
        "tweet id, retweet count, favorite count and any other data items of interest\n",
        "\"\"\"\n",
        "\n",
        "twitter_keys = load_yaml_file(twitter_keys_yaml_file)\n",
        "consumer_key = twitter_keys['consumer_key']\n",
        "consumer_secret = twitter_keys['consumer_secret']\n",
        "access_token = twitter_keys['access_token']\n",
        "access_token_secret = twitter_keys['access_token_secret']\n",
        "\n",
        "auth = tweepy.OAuthHandler(consumer_key, consumer_secret)\n",
        "auth.set_access_token(access_token, access_token_secret)\n",
        "\n",
        "api = tweepy.API(auth, wait_on_rate_limit = True, wait_on_rate_limit_notify = True)\n",
        "\n",
        "error_tweets = {}\n",
        "tweet_offset = 0\n",
        "tweet_batch = 100\n",
        "tweets_remaining = 0\n",
        "\n",
        "# Delete the file first so that each run can add content fresh\n",
        "if os.path.isfile(tweet_json_file):\n",
        "    os.remove(tweet_json_file)\n",
        "\n",
        "with open(tweet_json_file, mode = 'a', encoding = 'utf-8') as f:\n",
        "    while tweet_batch:\n",
        "        tweet_ids = tweets_df[tweet_offset:tweet_offset + tweet_batch]['tweet_id']\n",
        "        for tweet_id in tweet_ids:\n",
        "            try:\n",
        "                status = api.get_status(tweet_id)\n",
        "                f.write(json.dumps(status._json) + '\\n')\n",
        "\n",
        "            except tweepy.TweepError as e:\n",
        "                error_tweets[status.id] = e\n",
        "            \n",
        "        tweets_remaining = tweet_count - tweet_offset\n",
        "        tweet_batch = tweet_batch if tweet_batch < tweets_remaining else tweets_remaining\n",
        "        tweet_offset += tweet_batch\n",
        "        # print ('%s %d %s %d' % ('Tweets Remaining: ', tweets_remaining, 'Tweet Offset: ', tweet_offset))\n",
        "        # time.sleep(1 * 5)\n"
      ],
      "execution_count": 31,
      "outputs": [
        {
          "output_type": "stream",
          "text": [
            "Rate limit reached. Sleeping for: 764\n",
            "Rate limit reached. Sleeping for: 762\n"
          ],
          "name": "stderr"
        }
      ]
    },
    {
      "metadata": {
        "id": "tafWMMk53G23",
        "colab_type": "code",
        "outputId": "542701cd-391d-4a26-d68e-eae4cdc16925",
        "colab": {
          "base_uri": "https://localhost:8080/",
          "height": 34
        }
      },
      "cell_type": "code",
      "source": [
        "with open(tweet_json_file, mode = 'r', encoding = 'utf-8') as f:\n",
        "    print('%s %d %s %d' % ('Valid tweet count: ', len(f.readlines()), 'Error tweet count: ', len(error_tweets)))"
      ],
      "execution_count": 33,
      "outputs": [
        {
          "output_type": "stream",
          "text": [
            "Valid tweet count:  2339 Error tweet count:  17\n"
          ],
          "name": "stdout"
        }
      ]
    },
    {
      "metadata": {
        "id": "dAgIUK19TShf",
        "colab_type": "code",
        "colab": {}
      },
      "cell_type": "code",
      "source": [
        "# Read \"tweet_json.txt\" file line by line into a data frame and include tweet id, retweet count, favorite count and any other data items of interest\n",
        "\n",
        "columns = ['tweet_id', 'text', 'retweet_count', 'favorite_count', 'retweeted', 'favorited', 'media_url']\n",
        "tweets_mini_df = pd.DataFrame(columns = columns)\n",
        "\n",
        "index = 0\n",
        "with open(tweet_json_file, mode = 'r', encoding = 'utf-8') as f:\n",
        "    for tweet in f:\n",
        "        tweet_json = json.loads(tweet)\n",
        "        tweet_id = tweet_json['id']\n",
        "        text = tweet_json['text']\n",
        "        retweet_count = tweet_json['retweet_count']\n",
        "        favorite_count = tweet_json['favorite_count']\n",
        "        retweeted = tweet_json['retweeted']\n",
        "        favorited = tweet_json['favorited']\n",
        "        try:\n",
        "            media_url = tweet_json['entities']['media'][0]['media_url_https']\n",
        "        except KeyError as e:\n",
        "            media_url = ''\n",
        "\n",
        "        tweets_mini_df.loc[index] = pd.Series({'tweet_id': tweet_id, \n",
        "                                        'text': text, \n",
        "                                        'retweet_count': retweet_count, \n",
        "                                        'favorite_count': favorite_count,\n",
        "                                        'retweeted': retweeted,\n",
        "                                        'favorited': favorited,\n",
        "                                        'media_url': media_url})\n",
        "        index +=1\n"
      ],
      "execution_count": 0,
      "outputs": []
    },
    {
      "metadata": {
        "id": "tj0ikwBvF_qT",
        "colab_type": "text"
      },
      "cell_type": "markdown",
      "source": [
        "### Assessing data\n",
        "\n",
        "Key Points\n",
        "\n",
        "* You only want original ratings (no retweets) that have images. Though there are 5000+ tweets in the dataset, not all are dog ratings and some are retweets.\n",
        "\n",
        "* Assessing and cleaning the entire dataset completely would require a lot of time, and is not necessary to practice and demonstrate your skills in data wrangling. Therefore, the requirements of this project are only to assess and clean at least 8 quality issues and at least 2 tidiness issues in this dataset.\n",
        "\n",
        "* Cleaning includes merging individual pieces of data according to the rules of tidy data.\n",
        "\n",
        "* The fact that the rating numerators are greater than the denominators does not need to be cleaned. This unique rating system is a big part of the popularity of WeRateDogs.\n",
        "\n",
        "* You do not need to gather the tweets beyond August 1st, 2017. You can, but note that you won't be able to gather the image predictions for these tweets since you don't have access to the algorithm used.\n"
      ]
    },
    {
      "metadata": {
        "id": "YXffn4IMdRRe",
        "colab_type": "text"
      },
      "cell_type": "markdown",
      "source": [
        "#### twitter-archive-enhanced.csv"
      ]
    },
    {
      "metadata": {
        "id": "KVAIX-cR3sq_",
        "colab_type": "code",
        "outputId": "9292fe6e-44b2-49ce-f65b-972ed2832986",
        "colab": {
          "base_uri": "https://localhost:8080/",
          "height": 391
        }
      },
      "cell_type": "code",
      "source": [
        "tweets_df.info()"
      ],
      "execution_count": 35,
      "outputs": [
        {
          "output_type": "stream",
          "text": [
            "<class 'pandas.core.frame.DataFrame'>\n",
            "RangeIndex: 2356 entries, 0 to 2355\n",
            "Data columns (total 17 columns):\n",
            "tweet_id                      2356 non-null int64\n",
            "in_reply_to_status_id         78 non-null float64\n",
            "in_reply_to_user_id           78 non-null float64\n",
            "timestamp                     2356 non-null object\n",
            "source                        2356 non-null object\n",
            "text                          2356 non-null object\n",
            "retweeted_status_id           181 non-null float64\n",
            "retweeted_status_user_id      181 non-null float64\n",
            "retweeted_status_timestamp    181 non-null object\n",
            "expanded_urls                 2297 non-null object\n",
            "rating_numerator              2356 non-null int64\n",
            "rating_denominator            2356 non-null int64\n",
            "name                          2356 non-null object\n",
            "doggo                         2356 non-null object\n",
            "floofer                       2356 non-null object\n",
            "pupper                        2356 non-null object\n",
            "puppo                         2356 non-null object\n",
            "dtypes: float64(4), int64(3), object(10)\n",
            "memory usage: 313.0+ KB\n"
          ],
          "name": "stdout"
        }
      ]
    },
    {
      "metadata": {
        "id": "RnzdB2c43u_n",
        "colab_type": "code",
        "outputId": "57a35f6d-bd1f-4720-dce3-9e73ef6c3ab4",
        "colab": {
          "base_uri": "https://localhost:8080/",
          "height": 479
        }
      },
      "cell_type": "code",
      "source": [
        "tweets_df.query('name == \"None\"').sample(5)"
      ],
      "execution_count": 47,
      "outputs": [
        {
          "output_type": "execute_result",
          "data": {
            "text/html": [
              "<div>\n",
              "<style scoped>\n",
              "    .dataframe tbody tr th:only-of-type {\n",
              "        vertical-align: middle;\n",
              "    }\n",
              "\n",
              "    .dataframe tbody tr th {\n",
              "        vertical-align: top;\n",
              "    }\n",
              "\n",
              "    .dataframe thead th {\n",
              "        text-align: right;\n",
              "    }\n",
              "</style>\n",
              "<table border=\"1\" class=\"dataframe\">\n",
              "  <thead>\n",
              "    <tr style=\"text-align: right;\">\n",
              "      <th></th>\n",
              "      <th>tweet_id</th>\n",
              "      <th>in_reply_to_status_id</th>\n",
              "      <th>in_reply_to_user_id</th>\n",
              "      <th>timestamp</th>\n",
              "      <th>source</th>\n",
              "      <th>text</th>\n",
              "      <th>retweeted_status_id</th>\n",
              "      <th>retweeted_status_user_id</th>\n",
              "      <th>retweeted_status_timestamp</th>\n",
              "      <th>expanded_urls</th>\n",
              "      <th>rating_numerator</th>\n",
              "      <th>rating_denominator</th>\n",
              "      <th>name</th>\n",
              "      <th>doggo</th>\n",
              "      <th>floofer</th>\n",
              "      <th>pupper</th>\n",
              "      <th>puppo</th>\n",
              "    </tr>\n",
              "  </thead>\n",
              "  <tbody>\n",
              "    <tr>\n",
              "      <th>1656</th>\n",
              "      <td>683357973142474752</td>\n",
              "      <td>NaN</td>\n",
              "      <td>NaN</td>\n",
              "      <td>2016-01-02 18:43:31 +0000</td>\n",
              "      <td>&lt;a href=\"http://twitter.com/download/iphone\" r...</td>\n",
              "      <td>\"Have a seat, son. There are some things we ne...</td>\n",
              "      <td>NaN</td>\n",
              "      <td>NaN</td>\n",
              "      <td>NaN</td>\n",
              "      <td>https://twitter.com/dog_rates/status/683357973...</td>\n",
              "      <td>10</td>\n",
              "      <td>10</td>\n",
              "      <td>None</td>\n",
              "      <td>None</td>\n",
              "      <td>None</td>\n",
              "      <td>None</td>\n",
              "      <td>None</td>\n",
              "    </tr>\n",
              "    <tr>\n",
              "      <th>1447</th>\n",
              "      <td>696488710901260288</td>\n",
              "      <td>NaN</td>\n",
              "      <td>NaN</td>\n",
              "      <td>2016-02-08 00:20:23 +0000</td>\n",
              "      <td>&lt;a href=\"http://twitter.com/download/iphone\" r...</td>\n",
              "      <td>12/10 revolutionary af https://t.co/zKzq4nIY86</td>\n",
              "      <td>NaN</td>\n",
              "      <td>NaN</td>\n",
              "      <td>NaN</td>\n",
              "      <td>https://twitter.com/dog_rates/status/696488710...</td>\n",
              "      <td>12</td>\n",
              "      <td>10</td>\n",
              "      <td>None</td>\n",
              "      <td>None</td>\n",
              "      <td>None</td>\n",
              "      <td>None</td>\n",
              "      <td>None</td>\n",
              "    </tr>\n",
              "    <tr>\n",
              "      <th>1466</th>\n",
              "      <td>694342028726001664</td>\n",
              "      <td>NaN</td>\n",
              "      <td>NaN</td>\n",
              "      <td>2016-02-02 02:10:14 +0000</td>\n",
              "      <td>&lt;a href=\"http://vine.co\" rel=\"nofollow\"&gt;Vine -...</td>\n",
              "      <td>It's okay pup. This happens every time I liste...</td>\n",
              "      <td>NaN</td>\n",
              "      <td>NaN</td>\n",
              "      <td>NaN</td>\n",
              "      <td>https://vine.co/v/iJWKejYdLlh</td>\n",
              "      <td>11</td>\n",
              "      <td>10</td>\n",
              "      <td>None</td>\n",
              "      <td>None</td>\n",
              "      <td>None</td>\n",
              "      <td>None</td>\n",
              "      <td>None</td>\n",
              "    </tr>\n",
              "    <tr>\n",
              "      <th>1255</th>\n",
              "      <td>710609963652087808</td>\n",
              "      <td>NaN</td>\n",
              "      <td>NaN</td>\n",
              "      <td>2016-03-17 23:33:12 +0000</td>\n",
              "      <td>&lt;a href=\"http://vine.co\" rel=\"nofollow\"&gt;Vine -...</td>\n",
              "      <td>I've watched this a million times and you prob...</td>\n",
              "      <td>NaN</td>\n",
              "      <td>NaN</td>\n",
              "      <td>NaN</td>\n",
              "      <td>https://vine.co/v/idaTpwH5TgU</td>\n",
              "      <td>12</td>\n",
              "      <td>10</td>\n",
              "      <td>None</td>\n",
              "      <td>None</td>\n",
              "      <td>None</td>\n",
              "      <td>None</td>\n",
              "      <td>None</td>\n",
              "    </tr>\n",
              "    <tr>\n",
              "      <th>742</th>\n",
              "      <td>780476555013349377</td>\n",
              "      <td>NaN</td>\n",
              "      <td>NaN</td>\n",
              "      <td>2016-09-26 18:38:05 +0000</td>\n",
              "      <td>&lt;a href=\"http://twitter.com/download/iphone\" r...</td>\n",
              "      <td>RT @Patreon: Well. @dog_rates is on Patreon. \\...</td>\n",
              "      <td>7.804657e+17</td>\n",
              "      <td>1.228326e+09</td>\n",
              "      <td>2016-09-26 17:55:00 +0000</td>\n",
              "      <td>https://www.patreon.com/WeRateDogs,https://twi...</td>\n",
              "      <td>12</td>\n",
              "      <td>10</td>\n",
              "      <td>None</td>\n",
              "      <td>None</td>\n",
              "      <td>None</td>\n",
              "      <td>None</td>\n",
              "      <td>None</td>\n",
              "    </tr>\n",
              "  </tbody>\n",
              "</table>\n",
              "</div>"
            ],
            "text/plain": [
              "                tweet_id  in_reply_to_status_id  in_reply_to_user_id  \\\n",
              "1656  683357973142474752                    NaN                  NaN   \n",
              "1447  696488710901260288                    NaN                  NaN   \n",
              "1466  694342028726001664                    NaN                  NaN   \n",
              "1255  710609963652087808                    NaN                  NaN   \n",
              "742   780476555013349377                    NaN                  NaN   \n",
              "\n",
              "                      timestamp  \\\n",
              "1656  2016-01-02 18:43:31 +0000   \n",
              "1447  2016-02-08 00:20:23 +0000   \n",
              "1466  2016-02-02 02:10:14 +0000   \n",
              "1255  2016-03-17 23:33:12 +0000   \n",
              "742   2016-09-26 18:38:05 +0000   \n",
              "\n",
              "                                                 source  \\\n",
              "1656  <a href=\"http://twitter.com/download/iphone\" r...   \n",
              "1447  <a href=\"http://twitter.com/download/iphone\" r...   \n",
              "1466  <a href=\"http://vine.co\" rel=\"nofollow\">Vine -...   \n",
              "1255  <a href=\"http://vine.co\" rel=\"nofollow\">Vine -...   \n",
              "742   <a href=\"http://twitter.com/download/iphone\" r...   \n",
              "\n",
              "                                                   text  retweeted_status_id  \\\n",
              "1656  \"Have a seat, son. There are some things we ne...                  NaN   \n",
              "1447     12/10 revolutionary af https://t.co/zKzq4nIY86                  NaN   \n",
              "1466  It's okay pup. This happens every time I liste...                  NaN   \n",
              "1255  I've watched this a million times and you prob...                  NaN   \n",
              "742   RT @Patreon: Well. @dog_rates is on Patreon. \\...         7.804657e+17   \n",
              "\n",
              "      retweeted_status_user_id retweeted_status_timestamp  \\\n",
              "1656                       NaN                        NaN   \n",
              "1447                       NaN                        NaN   \n",
              "1466                       NaN                        NaN   \n",
              "1255                       NaN                        NaN   \n",
              "742               1.228326e+09  2016-09-26 17:55:00 +0000   \n",
              "\n",
              "                                          expanded_urls  rating_numerator  \\\n",
              "1656  https://twitter.com/dog_rates/status/683357973...                10   \n",
              "1447  https://twitter.com/dog_rates/status/696488710...                12   \n",
              "1466                      https://vine.co/v/iJWKejYdLlh                11   \n",
              "1255                      https://vine.co/v/idaTpwH5TgU                12   \n",
              "742   https://www.patreon.com/WeRateDogs,https://twi...                12   \n",
              "\n",
              "      rating_denominator  name doggo floofer pupper puppo  \n",
              "1656                  10  None  None    None   None  None  \n",
              "1447                  10  None  None    None   None  None  \n",
              "1466                  10  None  None    None   None  None  \n",
              "1255                  10  None  None    None   None  None  \n",
              "742                   10  None  None    None   None  None  "
            ]
          },
          "metadata": {
            "tags": []
          },
          "execution_count": 47
        }
      ]
    },
    {
      "metadata": {
        "id": "1QUPyIRj3yNo",
        "colab_type": "code",
        "outputId": "312046a9-51dd-4b7f-baad-5a11377b95cc",
        "colab": {
          "base_uri": "https://localhost:8080/",
          "height": 34
        }
      },
      "cell_type": "code",
      "source": [
        "tweets_df.isnull().sum()\n",
        "tweets_df.query('name == \"None\"').shape"
      ],
      "execution_count": 46,
      "outputs": [
        {
          "output_type": "execute_result",
          "data": {
            "text/plain": [
              "(745, 17)"
            ]
          },
          "metadata": {
            "tags": []
          },
          "execution_count": 46
        }
      ]
    },
    {
      "metadata": {
        "id": "i0Z6HA0Q4JUK",
        "colab_type": "text"
      },
      "cell_type": "markdown",
      "source": [
        "#### image_predictions.tsv"
      ]
    },
    {
      "metadata": {
        "id": "Qmy2GffK4ZN0",
        "colab_type": "code",
        "outputId": "8269161f-1060-4baf-93af-960e8cd168ce",
        "colab": {
          "base_uri": "https://localhost:8080/",
          "height": 306
        }
      },
      "cell_type": "code",
      "source": [
        "img_pred_df.info()"
      ],
      "execution_count": 38,
      "outputs": [
        {
          "output_type": "stream",
          "text": [
            "<class 'pandas.core.frame.DataFrame'>\n",
            "RangeIndex: 2075 entries, 0 to 2074\n",
            "Data columns (total 12 columns):\n",
            "tweet_id    2075 non-null int64\n",
            "jpg_url     2075 non-null object\n",
            "img_num     2075 non-null int64\n",
            "p1          2075 non-null object\n",
            "p1_conf     2075 non-null float64\n",
            "p1_dog      2075 non-null bool\n",
            "p2          2075 non-null object\n",
            "p2_conf     2075 non-null float64\n",
            "p2_dog      2075 non-null bool\n",
            "p3          2075 non-null object\n",
            "p3_conf     2075 non-null float64\n",
            "p3_dog      2075 non-null bool\n",
            "dtypes: bool(3), float64(3), int64(2), object(4)\n",
            "memory usage: 152.1+ KB\n"
          ],
          "name": "stdout"
        }
      ]
    },
    {
      "metadata": {
        "id": "XsdTrDXq4hjL",
        "colab_type": "code",
        "outputId": "62cd3e47-80a6-46e5-f164-501c537016a0",
        "colab": {
          "base_uri": "https://localhost:8080/",
          "height": 204
        }
      },
      "cell_type": "code",
      "source": [
        "img_pred_df.sample(5)"
      ],
      "execution_count": 44,
      "outputs": [
        {
          "output_type": "execute_result",
          "data": {
            "text/html": [
              "<div>\n",
              "<style scoped>\n",
              "    .dataframe tbody tr th:only-of-type {\n",
              "        vertical-align: middle;\n",
              "    }\n",
              "\n",
              "    .dataframe tbody tr th {\n",
              "        vertical-align: top;\n",
              "    }\n",
              "\n",
              "    .dataframe thead th {\n",
              "        text-align: right;\n",
              "    }\n",
              "</style>\n",
              "<table border=\"1\" class=\"dataframe\">\n",
              "  <thead>\n",
              "    <tr style=\"text-align: right;\">\n",
              "      <th></th>\n",
              "      <th>tweet_id</th>\n",
              "      <th>jpg_url</th>\n",
              "      <th>img_num</th>\n",
              "      <th>p1</th>\n",
              "      <th>p1_conf</th>\n",
              "      <th>p1_dog</th>\n",
              "      <th>p2</th>\n",
              "      <th>p2_conf</th>\n",
              "      <th>p2_dog</th>\n",
              "      <th>p3</th>\n",
              "      <th>p3_conf</th>\n",
              "      <th>p3_dog</th>\n",
              "    </tr>\n",
              "  </thead>\n",
              "  <tbody>\n",
              "    <tr>\n",
              "      <th>1407</th>\n",
              "      <td>770093767776997377</td>\n",
              "      <td>https://pbs.twimg.com/media/CkjMx99UoAM2B1a.jpg</td>\n",
              "      <td>1</td>\n",
              "      <td>golden_retriever</td>\n",
              "      <td>0.843799</td>\n",
              "      <td>True</td>\n",
              "      <td>Labrador_retriever</td>\n",
              "      <td>0.052956</td>\n",
              "      <td>True</td>\n",
              "      <td>kelpie</td>\n",
              "      <td>0.035711</td>\n",
              "      <td>True</td>\n",
              "    </tr>\n",
              "    <tr>\n",
              "      <th>177</th>\n",
              "      <td>669214165781868544</td>\n",
              "      <td>https://pbs.twimg.com/media/CUmGu7-UcAA0r3O.jpg</td>\n",
              "      <td>1</td>\n",
              "      <td>minivan</td>\n",
              "      <td>0.435396</td>\n",
              "      <td>False</td>\n",
              "      <td>police_van</td>\n",
              "      <td>0.310143</td>\n",
              "      <td>False</td>\n",
              "      <td>minibus</td>\n",
              "      <td>0.068201</td>\n",
              "      <td>False</td>\n",
              "    </tr>\n",
              "    <tr>\n",
              "      <th>1086</th>\n",
              "      <td>718631497683582976</td>\n",
              "      <td>https://pbs.twimg.com/media/CfkXiX6W4AAmICF.jpg</td>\n",
              "      <td>1</td>\n",
              "      <td>Pomeranian</td>\n",
              "      <td>0.993718</td>\n",
              "      <td>True</td>\n",
              "      <td>Pekinese</td>\n",
              "      <td>0.003611</td>\n",
              "      <td>True</td>\n",
              "      <td>Persian_cat</td>\n",
              "      <td>0.000525</td>\n",
              "      <td>False</td>\n",
              "    </tr>\n",
              "    <tr>\n",
              "      <th>1707</th>\n",
              "      <td>817777686764523521</td>\n",
              "      <td>https://pbs.twimg.com/ext_tw_video_thumb/81777...</td>\n",
              "      <td>1</td>\n",
              "      <td>curly-coated_retriever</td>\n",
              "      <td>0.733256</td>\n",
              "      <td>True</td>\n",
              "      <td>flat-coated_retriever</td>\n",
              "      <td>0.214145</td>\n",
              "      <td>True</td>\n",
              "      <td>Irish_water_spaniel</td>\n",
              "      <td>0.029769</td>\n",
              "      <td>True</td>\n",
              "    </tr>\n",
              "    <tr>\n",
              "      <th>1187</th>\n",
              "      <td>739485634323156992</td>\n",
              "      <td>https://pbs.twimg.com/media/CkMuP7SWkAAD-2R.jpg</td>\n",
              "      <td>2</td>\n",
              "      <td>Walker_hound</td>\n",
              "      <td>0.640256</td>\n",
              "      <td>True</td>\n",
              "      <td>English_foxhound</td>\n",
              "      <td>0.229799</td>\n",
              "      <td>True</td>\n",
              "      <td>beagle</td>\n",
              "      <td>0.037754</td>\n",
              "      <td>True</td>\n",
              "    </tr>\n",
              "  </tbody>\n",
              "</table>\n",
              "</div>"
            ],
            "text/plain": [
              "                tweet_id                                            jpg_url  \\\n",
              "1407  770093767776997377    https://pbs.twimg.com/media/CkjMx99UoAM2B1a.jpg   \n",
              "177   669214165781868544    https://pbs.twimg.com/media/CUmGu7-UcAA0r3O.jpg   \n",
              "1086  718631497683582976    https://pbs.twimg.com/media/CfkXiX6W4AAmICF.jpg   \n",
              "1707  817777686764523521  https://pbs.twimg.com/ext_tw_video_thumb/81777...   \n",
              "1187  739485634323156992    https://pbs.twimg.com/media/CkMuP7SWkAAD-2R.jpg   \n",
              "\n",
              "      img_num                      p1   p1_conf  p1_dog  \\\n",
              "1407        1        golden_retriever  0.843799    True   \n",
              "177         1                 minivan  0.435396   False   \n",
              "1086        1              Pomeranian  0.993718    True   \n",
              "1707        1  curly-coated_retriever  0.733256    True   \n",
              "1187        2            Walker_hound  0.640256    True   \n",
              "\n",
              "                         p2   p2_conf  p2_dog                   p3   p3_conf  \\\n",
              "1407     Labrador_retriever  0.052956    True               kelpie  0.035711   \n",
              "177              police_van  0.310143   False              minibus  0.068201   \n",
              "1086               Pekinese  0.003611    True          Persian_cat  0.000525   \n",
              "1707  flat-coated_retriever  0.214145    True  Irish_water_spaniel  0.029769   \n",
              "1187       English_foxhound  0.229799    True               beagle  0.037754   \n",
              "\n",
              "      p3_dog  \n",
              "1407    True  \n",
              "177    False  \n",
              "1086   False  \n",
              "1707    True  \n",
              "1187    True  "
            ]
          },
          "metadata": {
            "tags": []
          },
          "execution_count": 44
        }
      ]
    },
    {
      "metadata": {
        "id": "cjqzh9tR4jZh",
        "colab_type": "code",
        "outputId": "b6385d0f-566c-44a1-dc2b-46bebb73ce89",
        "colab": {
          "base_uri": "https://localhost:8080/",
          "height": 221
        }
      },
      "cell_type": "code",
      "source": [
        "list(img_pred_df)"
      ],
      "execution_count": 49,
      "outputs": [
        {
          "output_type": "execute_result",
          "data": {
            "text/plain": [
              "['tweet_id',\n",
              " 'jpg_url',\n",
              " 'img_num',\n",
              " 'p1',\n",
              " 'p1_conf',\n",
              " 'p1_dog',\n",
              " 'p2',\n",
              " 'p2_conf',\n",
              " 'p2_dog',\n",
              " 'p3',\n",
              " 'p3_conf',\n",
              " 'p3_dog']"
            ]
          },
          "metadata": {
            "tags": []
          },
          "execution_count": 49
        }
      ]
    },
    {
      "metadata": {
        "id": "ocvEaslL42Sh",
        "colab_type": "text"
      },
      "cell_type": "markdown",
      "source": [
        "#### tweets_mini_df"
      ]
    },
    {
      "metadata": {
        "id": "1rnHK9f946hB",
        "colab_type": "code",
        "outputId": "ecdb1a4b-f287-409c-b05b-c64aacc3bb97",
        "colab": {
          "base_uri": "https://localhost:8080/",
          "height": 221
        }
      },
      "cell_type": "code",
      "source": [
        "tweets_mini_df.info()"
      ],
      "execution_count": 0,
      "outputs": [
        {
          "output_type": "stream",
          "text": [
            "<class 'pandas.core.frame.DataFrame'>\n",
            "Int64Index: 2339 entries, 0 to 2338\n",
            "Data columns (total 7 columns):\n",
            "tweet_id          2339 non-null object\n",
            "text              2339 non-null object\n",
            "retweet_count     2339 non-null object\n",
            "favorite_count    2339 non-null object\n",
            "retweeted         2339 non-null object\n",
            "favorited         2339 non-null object\n",
            "media_url         2339 non-null object\n",
            "dtypes: object(7)\n",
            "memory usage: 146.2+ KB\n"
          ],
          "name": "stdout"
        }
      ]
    },
    {
      "metadata": {
        "id": "8rELxq_a48D4",
        "colab_type": "code",
        "outputId": "17c4cc7b-6ce7-4ad0-b086-4d3f8effd5d3",
        "colab": {
          "base_uri": "https://localhost:8080/",
          "height": 80
        }
      },
      "cell_type": "code",
      "source": [
        "tweets_mini_df.sample(5)\n",
        "tweets_mini_df.query('tweet_id == 683357973142474752')"
      ],
      "execution_count": 48,
      "outputs": [
        {
          "output_type": "execute_result",
          "data": {
            "text/html": [
              "<div>\n",
              "<style scoped>\n",
              "    .dataframe tbody tr th:only-of-type {\n",
              "        vertical-align: middle;\n",
              "    }\n",
              "\n",
              "    .dataframe tbody tr th {\n",
              "        vertical-align: top;\n",
              "    }\n",
              "\n",
              "    .dataframe thead th {\n",
              "        text-align: right;\n",
              "    }\n",
              "</style>\n",
              "<table border=\"1\" class=\"dataframe\">\n",
              "  <thead>\n",
              "    <tr style=\"text-align: right;\">\n",
              "      <th></th>\n",
              "      <th>tweet_id</th>\n",
              "      <th>text</th>\n",
              "      <th>retweet_count</th>\n",
              "      <th>favorite_count</th>\n",
              "      <th>retweeted</th>\n",
              "      <th>favorited</th>\n",
              "      <th>media_url</th>\n",
              "    </tr>\n",
              "  </thead>\n",
              "  <tbody>\n",
              "    <tr>\n",
              "      <th>1640</th>\n",
              "      <td>683357973142474752</td>\n",
              "      <td>\"Have a seat, son. There are some things we ne...</td>\n",
              "      <td>995</td>\n",
              "      <td>3053</td>\n",
              "      <td>False</td>\n",
              "      <td>False</td>\n",
              "      <td>https://pbs.twimg.com/media/CXvGbWeWMAcRbyJ.jpg</td>\n",
              "    </tr>\n",
              "  </tbody>\n",
              "</table>\n",
              "</div>"
            ],
            "text/plain": [
              "                tweet_id                                               text  \\\n",
              "1640  683357973142474752  \"Have a seat, son. There are some things we ne...   \n",
              "\n",
              "     retweet_count favorite_count retweeted favorited  \\\n",
              "1640           995           3053     False     False   \n",
              "\n",
              "                                            media_url  \n",
              "1640  https://pbs.twimg.com/media/CXvGbWeWMAcRbyJ.jpg  "
            ]
          },
          "metadata": {
            "tags": []
          },
          "execution_count": 48
        }
      ]
    },
    {
      "metadata": {
        "id": "fJseZO0n4-a5",
        "colab_type": "code",
        "outputId": "f38b6a97-727b-45aa-91e8-abb697346e6c",
        "colab": {
          "base_uri": "https://localhost:8080/",
          "height": 153
        }
      },
      "cell_type": "code",
      "source": [
        "tweets_mini_df.isnull().sum()"
      ],
      "execution_count": 0,
      "outputs": [
        {
          "output_type": "execute_result",
          "data": {
            "text/plain": [
              "tweet_id          0\n",
              "text              0\n",
              "retweet_count     0\n",
              "favorite_count    0\n",
              "retweeted         0\n",
              "favorited         0\n",
              "media_url         0\n",
              "dtype: int64"
            ]
          },
          "metadata": {
            "tags": []
          },
          "execution_count": 20
        }
      ]
    },
    {
      "metadata": {
        "id": "lpl5Y3VI42PF",
        "colab_type": "text"
      },
      "cell_type": "markdown",
      "source": [
        "#### Cleaning data"
      ]
    },
    {
      "metadata": {
        "id": "CyXObBAe41zK",
        "colab_type": "text"
      },
      "cell_type": "markdown",
      "source": [
        "#### 1. twitter-archive-enhanced.csv\n",
        "##### 1.1 Data Quality Issues:\n",
        "\n",
        "1. There are 181 rows in this dataset that are retweets. I have identified them based non-null values in the \"retweeted_status_id\" column. These need to be removed from the dataset as we only want original tweets (1.1.1)\n",
        "\n",
        "2. Remove the following columns from the dataset. I don't think that we need these columns for our analysis (1.1.2)\n",
        "\n",
        "    *  in_reply_to_status_id\n",
        "    *  in_reply_to_user_id\n",
        "    *  retweeted_status_id\n",
        "    *  retweeted_status_user_id\n",
        "    *  retweeted_status_timestamp\n",
        "    *  expanded_urls\n",
        "\n",
        "3. The \"timestamp\" column is represented as a string and needs to be converted to datetime (1.1.3)\n",
        "4. Dog stages are not fully recorded and many of them contain null values or values labeled as \"None\". We need to scan the tweet text and see if we can extract these values for each row (1.1.4)\n",
        "5. Drop all tweets with timestamps greater than 8/1/2017 as per the project requirements (1.1.5)\n",
        "6. *** Not Addressed *** There are 745 rows in this dataset where the name is marked as \"None\". I am not addressing this issue right now since I don't have sufficient data to obtain this information (1.1.6)\n",
        "\n",
        "##### 1.2 Tidiness Issues:\n",
        "1. Dog stages are represented in separate columns as a sparse-array matrix which is wasteful and also not scalable in case we identify new stages. These need to be converted to a single column titled \"stage\". If they are not mutually exclusive (meaning, if there are multiple tweets about the same dog at different points in time where their stages change), we can put them into a separate dataframe for normalization purposes (1.2.1)\n"
      ]
    },
    {
      "metadata": {
        "id": "oMz698VwYvob",
        "colab_type": "text"
      },
      "cell_type": "markdown",
      "source": [
        "#### 2. image-predictions.tsv\n",
        "\n",
        "##### 2.1 Tidiness Issues:\n",
        "\n",
        "1. In the case of this dataset, we will deal with the tidiness issues first before we deal with data quality issues. There is a specific reason for it - there are three breed predictions in this dataset with a percentage of confidence against each and a boolean flag indicating whether the image prediction is actually canine or not. That makes it a total of 9 columns. I would like to reduce them to three columns to begin with: breed, prediction_confidence, is_canine. Addressing this tidiness issue will make it easier to fix the data quality issues identified below. We will begin with separating breed predictions to its own dataframe so that we can work on the data quality issues later (2.1.1)\n",
        "\n",
        "##### 2.2 Data Quality Issues:\n",
        "\n",
        "1. Once we address the tidiness issue above and spin off the breed predictions to their own dataframe, we will eliminate all predictions where the \"is_canine\" flag is false. We will then pick the prediction with the higher percentage of confidence and retain them as the only breed predictions (assuming that each dog can be classified into a single breed) and drop the ones with lower prediction confidence scores (2.2.1)\n",
        "2. We can then merge this dataset back to the original dataset (2.2.2)\n",
        "3. After merging, we will drop the following columns as they are no longer needed (2.2.3): \n",
        "    *  jpg_url (we have obtained the media_url using the Twitter API and we will retain that in case it needs to be used)\n",
        "    *  img_num (don't see how this information will be useful)\n",
        "    *  p1\n",
        "    *  p1_conf\n",
        "    *  p1_dog\n",
        "    *  p2\n",
        "    *  p2_conf\n",
        "    *  p2_dog\n",
        "    *  p3\n",
        "    *  p3_conf\n",
        "    *  p3_dog\n",
        "\n",
        "\n"
      ]
    },
    {
      "metadata": {
        "id": "1TOTRnZuiJLG",
        "colab_type": "text"
      },
      "cell_type": "markdown",
      "source": [
        "#### 3. tweet_mini_df\n",
        "\n",
        "##### 3.1 Data Quality Issues\n",
        "1. We need to drop all the tweets in this dataset that were originally marked as retweets in the \"twitter-archive-enhanced\" dataset as we are only interested in original tweets (3.1.1)\n"
      ]
    },
    {
      "metadata": {
        "id": "sFLzQ8n_nWRh",
        "colab_type": "text"
      },
      "cell_type": "markdown",
      "source": [
        "#### 4. Tidiness Issues: combining data from all the datasets\n",
        "\n",
        "##### 4.1 Tidiness\n",
        "\n",
        "1. Having addressed the data quality and tidiness issues at the level of individual datasets, we can now merge the data in these datasets into one. Since the data granularity in each of these datasets is at the \"tweet_id\" level, we will use it to combine the data into a single dataset and persist it to a file (4.1.1)\n",
        "\n",
        "##### 4.2 Data Quality\n",
        "\n",
        "1. We will use \"inner joins\" to merge these datasets thus eliminating any rows for whcih no valid information is available online. For example, there are 17 tweet ids in the original \"twitter-archive-enhanced\" dataset for which the Twitter API returned errors and these will be eliminated during the merging process. (4.2.1)"
      ]
    },
    {
      "metadata": {
        "colab_type": "code",
        "outputId": "f04e5b92-82ad-46cc-9422-f286b0f812db",
        "id": "qhQL5JV-YuKA",
        "colab": {
          "base_uri": "https://localhost:8080/",
          "height": 34
        }
      },
      "cell_type": "code",
      "source": [
        "# There are 181 rows in this dataset that are retweets. This is based on the fact that the column \"retweeted_status_id\" is not null. \n",
        "# This column points to the original tweet which this has retweeted. These need to be removed from the dataset as we only want original ratings\n",
        "\n",
        "tweets_df[tweets_df['retweeted_status_id'].notna()].shape[0]"
      ],
      "execution_count": 0,
      "outputs": [
        {
          "output_type": "execute_result",
          "data": {
            "text/plain": [
              "181"
            ]
          },
          "metadata": {
            "tags": []
          },
          "execution_count": 61
        }
      ]
    },
    {
      "metadata": {
        "colab_type": "code",
        "outputId": "4da71430-1940-434c-d03e-478e65d4ad9c",
        "id": "gjrVR3X6Yt2y",
        "colab": {
          "base_uri": "https://localhost:8080/",
          "height": 119
        }
      },
      "cell_type": "code",
      "source": [
        "# \"timestamp\" is represented as a string and should be converted to datetime\n",
        "tweets_df['timestamp'].head(5)"
      ],
      "execution_count": 0,
      "outputs": [
        {
          "output_type": "execute_result",
          "data": {
            "text/plain": [
              "0    2017-08-01 16:23:56 +0000\n",
              "1    2017-08-01 00:17:27 +0000\n",
              "2    2017-07-31 00:18:03 +0000\n",
              "3    2017-07-30 15:58:51 +0000\n",
              "4    2017-07-29 16:00:24 +0000\n",
              "Name: timestamp, dtype: object"
            ]
          },
          "metadata": {
            "tags": []
          },
          "execution_count": 51
        }
      ]
    },
    {
      "metadata": {
        "colab_type": "code",
        "outputId": "808b45a8-3278-4044-a195-0c0c3d6d27ac",
        "id": "qJYZfYpmYtVp",
        "colab": {
          "base_uri": "https://localhost:8080/",
          "height": 1969
        }
      },
      "cell_type": "code",
      "source": [
        "# Dog stages ('doggo', 'floofer', 'pupper', 'puppo') are not fully recorded in the respective columns with most values having been set to \"None\"\n",
        "# This needs to be corrected\n",
        "\n",
        "tweets_df[tweets_df['text'].str.contains(\"pupper\")][['tweet_id', 'pupper', 'text']]"
      ],
      "execution_count": 0,
      "outputs": [
        {
          "output_type": "execute_result",
          "data": {
            "text/html": [
              "<div>\n",
              "<style scoped>\n",
              "    .dataframe tbody tr th:only-of-type {\n",
              "        vertical-align: middle;\n",
              "    }\n",
              "\n",
              "    .dataframe tbody tr th {\n",
              "        vertical-align: top;\n",
              "    }\n",
              "\n",
              "    .dataframe thead th {\n",
              "        text-align: right;\n",
              "    }\n",
              "</style>\n",
              "<table border=\"1\" class=\"dataframe\">\n",
              "  <thead>\n",
              "    <tr style=\"text-align: right;\">\n",
              "      <th></th>\n",
              "      <th>tweet_id</th>\n",
              "      <th>pupper</th>\n",
              "      <th>text</th>\n",
              "    </tr>\n",
              "  </thead>\n",
              "  <tbody>\n",
              "    <tr>\n",
              "      <th>29</th>\n",
              "      <td>886366144734445568</td>\n",
              "      <td>pupper</td>\n",
              "      <td>This is Roscoe. Another pupper fallen victim t...</td>\n",
              "    </tr>\n",
              "    <tr>\n",
              "      <th>49</th>\n",
              "      <td>882762694511734784</td>\n",
              "      <td>pupper</td>\n",
              "      <td>This is Gus. He's quite the cheeky pupper. Alr...</td>\n",
              "    </tr>\n",
              "    <tr>\n",
              "      <th>54</th>\n",
              "      <td>881666595344535552</td>\n",
              "      <td>None</td>\n",
              "      <td>This is Gary. He couldn't miss this puppertuni...</td>\n",
              "    </tr>\n",
              "    <tr>\n",
              "      <th>56</th>\n",
              "      <td>881536004380872706</td>\n",
              "      <td>pupper</td>\n",
              "      <td>Here is a pupper approaching maximum borkdrive...</td>\n",
              "    </tr>\n",
              "    <tr>\n",
              "      <th>78</th>\n",
              "      <td>877611172832227328</td>\n",
              "      <td>pupper</td>\n",
              "      <td>RT @rachel2195: @dog_rates the boyfriend and h...</td>\n",
              "    </tr>\n",
              "    <tr>\n",
              "      <th>82</th>\n",
              "      <td>876838120628539392</td>\n",
              "      <td>pupper</td>\n",
              "      <td>This is Ginger. She's having a ruff Monday. To...</td>\n",
              "    </tr>\n",
              "    <tr>\n",
              "      <th>92</th>\n",
              "      <td>874296783580663808</td>\n",
              "      <td>pupper</td>\n",
              "      <td>This is Jed. He may be the fanciest pupper in ...</td>\n",
              "    </tr>\n",
              "    <tr>\n",
              "      <th>97</th>\n",
              "      <td>873337748698140672</td>\n",
              "      <td>pupper</td>\n",
              "      <td>RT @dog_rates: This is Sierra. She's one preci...</td>\n",
              "    </tr>\n",
              "    <tr>\n",
              "      <th>98</th>\n",
              "      <td>873213775632977920</td>\n",
              "      <td>pupper</td>\n",
              "      <td>This is Sierra. She's one precious pupper. Abs...</td>\n",
              "    </tr>\n",
              "    <tr>\n",
              "      <th>107</th>\n",
              "      <td>871762521631449091</td>\n",
              "      <td>pupper</td>\n",
              "      <td>This is Rover. As part of pupper protocol he h...</td>\n",
              "    </tr>\n",
              "    <tr>\n",
              "      <th>132</th>\n",
              "      <td>866816280283807744</td>\n",
              "      <td>pupper</td>\n",
              "      <td>RT @dog_rates: This is Jamesy. He gives a kiss...</td>\n",
              "    </tr>\n",
              "    <tr>\n",
              "      <th>135</th>\n",
              "      <td>866450705531457537</td>\n",
              "      <td>pupper</td>\n",
              "      <td>This is Jamesy. He gives a kiss to every other...</td>\n",
              "    </tr>\n",
              "    <tr>\n",
              "      <th>137</th>\n",
              "      <td>866094527597207552</td>\n",
              "      <td>pupper</td>\n",
              "      <td>RT @dog_rates: Here's a pupper before and afte...</td>\n",
              "    </tr>\n",
              "    <tr>\n",
              "      <th>199</th>\n",
              "      <td>854120357044912130</td>\n",
              "      <td>pupper</td>\n",
              "      <td>Sometimes you guys remind me just how impactfu...</td>\n",
              "    </tr>\n",
              "    <tr>\n",
              "      <th>220</th>\n",
              "      <td>850019790995546112</td>\n",
              "      <td>pupper</td>\n",
              "      <td>Say hello to Boomer. He's a sandy pupper. Havi...</td>\n",
              "    </tr>\n",
              "    <tr>\n",
              "      <th>222</th>\n",
              "      <td>849668094696017920</td>\n",
              "      <td>pupper</td>\n",
              "      <td>RT @dog_rates: This is Gidget. She's a spy pup...</td>\n",
              "    </tr>\n",
              "    <tr>\n",
              "      <th>249</th>\n",
              "      <td>845306882940190720</td>\n",
              "      <td>pupper</td>\n",
              "      <td>This is Pickles. She's a silly pupper. Thinks ...</td>\n",
              "    </tr>\n",
              "    <tr>\n",
              "      <th>293</th>\n",
              "      <td>837820167694528512</td>\n",
              "      <td>pupper</td>\n",
              "      <td>Here's a pupper before and after being asked \"...</td>\n",
              "    </tr>\n",
              "    <tr>\n",
              "      <th>297</th>\n",
              "      <td>837110210464448512</td>\n",
              "      <td>pupper</td>\n",
              "      <td>This is Clark. He passed pupper training today...</td>\n",
              "    </tr>\n",
              "    <tr>\n",
              "      <th>304</th>\n",
              "      <td>836380477523124226</td>\n",
              "      <td>pupper</td>\n",
              "      <td>This is Ava. She just blasted off. Streamline ...</td>\n",
              "    </tr>\n",
              "    <tr>\n",
              "      <th>330</th>\n",
              "      <td>833124694597443584</td>\n",
              "      <td>pupper</td>\n",
              "      <td>This is Gidget. She's a spy pupper. Stealthy a...</td>\n",
              "    </tr>\n",
              "    <tr>\n",
              "      <th>352</th>\n",
              "      <td>831315979191906304</td>\n",
              "      <td>pupper</td>\n",
              "      <td>I couldn't make it to the #WKCDogShow BUT I ha...</td>\n",
              "    </tr>\n",
              "    <tr>\n",
              "      <th>378</th>\n",
              "      <td>827933404142436356</td>\n",
              "      <td>pupper</td>\n",
              "      <td>This is Kona. Yesterday she stopped by the dep...</td>\n",
              "    </tr>\n",
              "    <tr>\n",
              "      <th>402</th>\n",
              "      <td>824325613288833024</td>\n",
              "      <td>pupper</td>\n",
              "      <td>Retweet the h*ck out of this 13/10 pupper #Bel...</td>\n",
              "    </tr>\n",
              "    <tr>\n",
              "      <th>418</th>\n",
              "      <td>822462944365645825</td>\n",
              "      <td>pupper</td>\n",
              "      <td>This is Gabe. He was the unequivocal embodimen...</td>\n",
              "    </tr>\n",
              "    <tr>\n",
              "      <th>444</th>\n",
              "      <td>819238181065359361</td>\n",
              "      <td>pupper</td>\n",
              "      <td>Some happy pupper news to share. 10/10 for eve...</td>\n",
              "    </tr>\n",
              "    <tr>\n",
              "      <th>453</th>\n",
              "      <td>818588835076603904</td>\n",
              "      <td>pupper</td>\n",
              "      <td>RT @dog_rates: This is Chelsea. She forgot how...</td>\n",
              "    </tr>\n",
              "    <tr>\n",
              "      <th>462</th>\n",
              "      <td>817502432452313088</td>\n",
              "      <td>pupper</td>\n",
              "      <td>RT @dog_rates: Meet Herschel. He's slightly bi...</td>\n",
              "    </tr>\n",
              "    <tr>\n",
              "      <th>465</th>\n",
              "      <td>817181837579653120</td>\n",
              "      <td>pupper</td>\n",
              "      <td>RT @dog_rates: Here's a pupper with squeaky hi...</td>\n",
              "    </tr>\n",
              "    <tr>\n",
              "      <th>478</th>\n",
              "      <td>815966073409433600</td>\n",
              "      <td>pupper</td>\n",
              "      <td>Here's a pupper with squeaky hiccups. Please e...</td>\n",
              "    </tr>\n",
              "    <tr>\n",
              "      <th>...</th>\n",
              "      <td>...</td>\n",
              "      <td>...</td>\n",
              "      <td>...</td>\n",
              "    </tr>\n",
              "    <tr>\n",
              "      <th>1889</th>\n",
              "      <td>674774481756377088</td>\n",
              "      <td>pupper</td>\n",
              "      <td>This is Superpup. His head isn't proportional ...</td>\n",
              "    </tr>\n",
              "    <tr>\n",
              "      <th>1897</th>\n",
              "      <td>674737130913071104</td>\n",
              "      <td>pupper</td>\n",
              "      <td>Meet Rufio. He is unaware of the pink legless ...</td>\n",
              "    </tr>\n",
              "    <tr>\n",
              "      <th>1900</th>\n",
              "      <td>674664755118911488</td>\n",
              "      <td>None</td>\n",
              "      <td>This is Rodman. He's getting destroyed by the ...</td>\n",
              "    </tr>\n",
              "    <tr>\n",
              "      <th>1903</th>\n",
              "      <td>674638615994089473</td>\n",
              "      <td>pupper</td>\n",
              "      <td>This pupper is fed up with being tickled. 12/1...</td>\n",
              "    </tr>\n",
              "    <tr>\n",
              "      <th>1907</th>\n",
              "      <td>674447403907457024</td>\n",
              "      <td>pupper</td>\n",
              "      <td>This pupper just wants a belly rub. This puppe...</td>\n",
              "    </tr>\n",
              "    <tr>\n",
              "      <th>1915</th>\n",
              "      <td>674318007229923329</td>\n",
              "      <td>pupper</td>\n",
              "      <td>This is Lennon. He's in quite the predicament....</td>\n",
              "    </tr>\n",
              "    <tr>\n",
              "      <th>1921</th>\n",
              "      <td>674262580978937856</td>\n",
              "      <td>pupper</td>\n",
              "      <td>This is Gus. He's super stoked about being an ...</td>\n",
              "    </tr>\n",
              "    <tr>\n",
              "      <th>1928</th>\n",
              "      <td>674045139690631169</td>\n",
              "      <td>None</td>\n",
              "      <td>Herd of wild dogs here. Not sure what they're ...</td>\n",
              "    </tr>\n",
              "    <tr>\n",
              "      <th>1930</th>\n",
              "      <td>674038233588723717</td>\n",
              "      <td>pupper</td>\n",
              "      <td>This is Kaiya. She's an aspiring shoe model. 1...</td>\n",
              "    </tr>\n",
              "    <tr>\n",
              "      <th>1936</th>\n",
              "      <td>673956914389192708</td>\n",
              "      <td>pupper</td>\n",
              "      <td>This is one esteemed pupper. Just graduated co...</td>\n",
              "    </tr>\n",
              "    <tr>\n",
              "      <th>1937</th>\n",
              "      <td>673919437611909120</td>\n",
              "      <td>pupper</td>\n",
              "      <td>This is Obie. He is on guard watching for evil...</td>\n",
              "    </tr>\n",
              "    <tr>\n",
              "      <th>1945</th>\n",
              "      <td>673707060090052608</td>\n",
              "      <td>pupper</td>\n",
              "      <td>This is Raymond. He's absolutely terrified of ...</td>\n",
              "    </tr>\n",
              "    <tr>\n",
              "      <th>1948</th>\n",
              "      <td>673697980713705472</td>\n",
              "      <td>pupper</td>\n",
              "      <td>This is Pickles. She's a tiny pointy pupper. A...</td>\n",
              "    </tr>\n",
              "    <tr>\n",
              "      <th>1954</th>\n",
              "      <td>673656262056419329</td>\n",
              "      <td>pupper</td>\n",
              "      <td>This is Albert AKA King Banana Peel. He's a ki...</td>\n",
              "    </tr>\n",
              "    <tr>\n",
              "      <th>1956</th>\n",
              "      <td>673612854080196609</td>\n",
              "      <td>pupper</td>\n",
              "      <td>This is Jeffri. He's a speckled ice pupper. Ve...</td>\n",
              "    </tr>\n",
              "    <tr>\n",
              "      <th>1960</th>\n",
              "      <td>673363615379013632</td>\n",
              "      <td>pupper</td>\n",
              "      <td>This little pupper can't wait for Christmas. H...</td>\n",
              "    </tr>\n",
              "    <tr>\n",
              "      <th>1967</th>\n",
              "      <td>673342308415348736</td>\n",
              "      <td>pupper</td>\n",
              "      <td>This is Django. He's a skilled assassin pupper...</td>\n",
              "    </tr>\n",
              "    <tr>\n",
              "      <th>1970</th>\n",
              "      <td>673295268553605120</td>\n",
              "      <td>pupper</td>\n",
              "      <td>Meet Eve. She's a raging alcoholic 8/10 (would...</td>\n",
              "    </tr>\n",
              "    <tr>\n",
              "      <th>1974</th>\n",
              "      <td>673148804208660480</td>\n",
              "      <td>pupper</td>\n",
              "      <td>This is Fletcher. He's had a ruff night. No mo...</td>\n",
              "    </tr>\n",
              "    <tr>\n",
              "      <th>1977</th>\n",
              "      <td>672988786805112832</td>\n",
              "      <td>pupper</td>\n",
              "      <td>This is Schnozz. He's had a blurred tail since...</td>\n",
              "    </tr>\n",
              "    <tr>\n",
              "      <th>1980</th>\n",
              "      <td>672975131468300288</td>\n",
              "      <td>pupper</td>\n",
              "      <td>This is Chuckles. He is one skeptical pupper. ...</td>\n",
              "    </tr>\n",
              "    <tr>\n",
              "      <th>1981</th>\n",
              "      <td>672970152493887488</td>\n",
              "      <td>pupper</td>\n",
              "      <td>This is Chet. He's having a hard time. Really ...</td>\n",
              "    </tr>\n",
              "    <tr>\n",
              "      <th>1991</th>\n",
              "      <td>672622327801233409</td>\n",
              "      <td>pupper</td>\n",
              "      <td>This lil pupper is sad because we haven't foun...</td>\n",
              "    </tr>\n",
              "    <tr>\n",
              "      <th>1992</th>\n",
              "      <td>672614745925664768</td>\n",
              "      <td>pupper</td>\n",
              "      <td>This is Norman. Doesn't bark much. Very docile...</td>\n",
              "    </tr>\n",
              "    <tr>\n",
              "      <th>1995</th>\n",
              "      <td>672594978741354496</td>\n",
              "      <td>pupper</td>\n",
              "      <td>Meet Scott. Just trying to catch his train to ...</td>\n",
              "    </tr>\n",
              "    <tr>\n",
              "      <th>2002</th>\n",
              "      <td>672481316919734272</td>\n",
              "      <td>pupper</td>\n",
              "      <td>Say hello to Jazz. She should be on the cover ...</td>\n",
              "    </tr>\n",
              "    <tr>\n",
              "      <th>2009</th>\n",
              "      <td>672254177670729728</td>\n",
              "      <td>pupper</td>\n",
              "      <td>This is Rolf. He's having the time of his life...</td>\n",
              "    </tr>\n",
              "    <tr>\n",
              "      <th>2015</th>\n",
              "      <td>672205392827572224</td>\n",
              "      <td>pupper</td>\n",
              "      <td>This is Opal. He's a Royal John Coctostan. Rea...</td>\n",
              "    </tr>\n",
              "    <tr>\n",
              "      <th>2017</th>\n",
              "      <td>672160042234327040</td>\n",
              "      <td>pupper</td>\n",
              "      <td>This is Bubba. He's a Titted Peebles Aorta. Ev...</td>\n",
              "    </tr>\n",
              "    <tr>\n",
              "      <th>2141</th>\n",
              "      <td>669993076832759809</td>\n",
              "      <td>None</td>\n",
              "      <td>This is Zoey. Her dreams of becoming a hippo b...</td>\n",
              "    </tr>\n",
              "  </tbody>\n",
              "</table>\n",
              "<p>272 rows × 3 columns</p>\n",
              "</div>"
            ],
            "text/plain": [
              "                tweet_id  pupper  \\\n",
              "29    886366144734445568  pupper   \n",
              "49    882762694511734784  pupper   \n",
              "54    881666595344535552    None   \n",
              "56    881536004380872706  pupper   \n",
              "78    877611172832227328  pupper   \n",
              "82    876838120628539392  pupper   \n",
              "92    874296783580663808  pupper   \n",
              "97    873337748698140672  pupper   \n",
              "98    873213775632977920  pupper   \n",
              "107   871762521631449091  pupper   \n",
              "132   866816280283807744  pupper   \n",
              "135   866450705531457537  pupper   \n",
              "137   866094527597207552  pupper   \n",
              "199   854120357044912130  pupper   \n",
              "220   850019790995546112  pupper   \n",
              "222   849668094696017920  pupper   \n",
              "249   845306882940190720  pupper   \n",
              "293   837820167694528512  pupper   \n",
              "297   837110210464448512  pupper   \n",
              "304   836380477523124226  pupper   \n",
              "330   833124694597443584  pupper   \n",
              "352   831315979191906304  pupper   \n",
              "378   827933404142436356  pupper   \n",
              "402   824325613288833024  pupper   \n",
              "418   822462944365645825  pupper   \n",
              "444   819238181065359361  pupper   \n",
              "453   818588835076603904  pupper   \n",
              "462   817502432452313088  pupper   \n",
              "465   817181837579653120  pupper   \n",
              "478   815966073409433600  pupper   \n",
              "...                  ...     ...   \n",
              "1889  674774481756377088  pupper   \n",
              "1897  674737130913071104  pupper   \n",
              "1900  674664755118911488    None   \n",
              "1903  674638615994089473  pupper   \n",
              "1907  674447403907457024  pupper   \n",
              "1915  674318007229923329  pupper   \n",
              "1921  674262580978937856  pupper   \n",
              "1928  674045139690631169    None   \n",
              "1930  674038233588723717  pupper   \n",
              "1936  673956914389192708  pupper   \n",
              "1937  673919437611909120  pupper   \n",
              "1945  673707060090052608  pupper   \n",
              "1948  673697980713705472  pupper   \n",
              "1954  673656262056419329  pupper   \n",
              "1956  673612854080196609  pupper   \n",
              "1960  673363615379013632  pupper   \n",
              "1967  673342308415348736  pupper   \n",
              "1970  673295268553605120  pupper   \n",
              "1974  673148804208660480  pupper   \n",
              "1977  672988786805112832  pupper   \n",
              "1980  672975131468300288  pupper   \n",
              "1981  672970152493887488  pupper   \n",
              "1991  672622327801233409  pupper   \n",
              "1992  672614745925664768  pupper   \n",
              "1995  672594978741354496  pupper   \n",
              "2002  672481316919734272  pupper   \n",
              "2009  672254177670729728  pupper   \n",
              "2015  672205392827572224  pupper   \n",
              "2017  672160042234327040  pupper   \n",
              "2141  669993076832759809    None   \n",
              "\n",
              "                                                   text  \n",
              "29    This is Roscoe. Another pupper fallen victim t...  \n",
              "49    This is Gus. He's quite the cheeky pupper. Alr...  \n",
              "54    This is Gary. He couldn't miss this puppertuni...  \n",
              "56    Here is a pupper approaching maximum borkdrive...  \n",
              "78    RT @rachel2195: @dog_rates the boyfriend and h...  \n",
              "82    This is Ginger. She's having a ruff Monday. To...  \n",
              "92    This is Jed. He may be the fanciest pupper in ...  \n",
              "97    RT @dog_rates: This is Sierra. She's one preci...  \n",
              "98    This is Sierra. She's one precious pupper. Abs...  \n",
              "107   This is Rover. As part of pupper protocol he h...  \n",
              "132   RT @dog_rates: This is Jamesy. He gives a kiss...  \n",
              "135   This is Jamesy. He gives a kiss to every other...  \n",
              "137   RT @dog_rates: Here's a pupper before and afte...  \n",
              "199   Sometimes you guys remind me just how impactfu...  \n",
              "220   Say hello to Boomer. He's a sandy pupper. Havi...  \n",
              "222   RT @dog_rates: This is Gidget. She's a spy pup...  \n",
              "249   This is Pickles. She's a silly pupper. Thinks ...  \n",
              "293   Here's a pupper before and after being asked \"...  \n",
              "297   This is Clark. He passed pupper training today...  \n",
              "304   This is Ava. She just blasted off. Streamline ...  \n",
              "330   This is Gidget. She's a spy pupper. Stealthy a...  \n",
              "352   I couldn't make it to the #WKCDogShow BUT I ha...  \n",
              "378   This is Kona. Yesterday she stopped by the dep...  \n",
              "402   Retweet the h*ck out of this 13/10 pupper #Bel...  \n",
              "418   This is Gabe. He was the unequivocal embodimen...  \n",
              "444   Some happy pupper news to share. 10/10 for eve...  \n",
              "453   RT @dog_rates: This is Chelsea. She forgot how...  \n",
              "462   RT @dog_rates: Meet Herschel. He's slightly bi...  \n",
              "465   RT @dog_rates: Here's a pupper with squeaky hi...  \n",
              "478   Here's a pupper with squeaky hiccups. Please e...  \n",
              "...                                                 ...  \n",
              "1889  This is Superpup. His head isn't proportional ...  \n",
              "1897  Meet Rufio. He is unaware of the pink legless ...  \n",
              "1900  This is Rodman. He's getting destroyed by the ...  \n",
              "1903  This pupper is fed up with being tickled. 12/1...  \n",
              "1907  This pupper just wants a belly rub. This puppe...  \n",
              "1915  This is Lennon. He's in quite the predicament....  \n",
              "1921  This is Gus. He's super stoked about being an ...  \n",
              "1928  Herd of wild dogs here. Not sure what they're ...  \n",
              "1930  This is Kaiya. She's an aspiring shoe model. 1...  \n",
              "1936  This is one esteemed pupper. Just graduated co...  \n",
              "1937  This is Obie. He is on guard watching for evil...  \n",
              "1945  This is Raymond. He's absolutely terrified of ...  \n",
              "1948  This is Pickles. She's a tiny pointy pupper. A...  \n",
              "1954  This is Albert AKA King Banana Peel. He's a ki...  \n",
              "1956  This is Jeffri. He's a speckled ice pupper. Ve...  \n",
              "1960  This little pupper can't wait for Christmas. H...  \n",
              "1967  This is Django. He's a skilled assassin pupper...  \n",
              "1970  Meet Eve. She's a raging alcoholic 8/10 (would...  \n",
              "1974  This is Fletcher. He's had a ruff night. No mo...  \n",
              "1977  This is Schnozz. He's had a blurred tail since...  \n",
              "1980  This is Chuckles. He is one skeptical pupper. ...  \n",
              "1981  This is Chet. He's having a hard time. Really ...  \n",
              "1991  This lil pupper is sad because we haven't foun...  \n",
              "1992  This is Norman. Doesn't bark much. Very docile...  \n",
              "1995  Meet Scott. Just trying to catch his train to ...  \n",
              "2002  Say hello to Jazz. She should be on the cover ...  \n",
              "2009  This is Rolf. He's having the time of his life...  \n",
              "2015  This is Opal. He's a Royal John Coctostan. Rea...  \n",
              "2017  This is Bubba. He's a Titted Peebles Aorta. Ev...  \n",
              "2141  This is Zoey. Her dreams of becoming a hippo b...  \n",
              "\n",
              "[272 rows x 3 columns]"
            ]
          },
          "metadata": {
            "tags": []
          },
          "execution_count": 87
        }
      ]
    }
  ]
}