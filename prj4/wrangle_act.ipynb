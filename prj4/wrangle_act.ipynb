{
  "nbformat": 4,
  "nbformat_minor": 0,
  "metadata": {
    "colab": {
      "name": "wrangle_act.ipynb",
      "version": "0.3.2",
      "provenance": [],
      "collapsed_sections": [],
      "include_colab_link": true
    },
    "kernelspec": {
      "name": "python3",
      "display_name": "Python 3"
    }
  },
  "cells": [
    {
      "cell_type": "markdown",
      "metadata": {
        "id": "view-in-github",
        "colab_type": "text"
      },
      "source": [
        "<a href=\"https://colab.research.google.com/github/bthodla/danano/blob/master/prj4/wrangle_act.ipynb\" target=\"_parent\"><img src=\"https://colab.research.google.com/assets/colab-badge.svg\" alt=\"Open In Colab\"/></a>"
      ]
    },
    {
      "metadata": {
        "id": "6MHgHyKUt_Uj",
        "colab_type": "text"
      },
      "cell_type": "markdown",
      "source": [
        "### Gathering data\n",
        "\n",
        "1.   Load the \"twitter-archive-enhanced.csv\" into a dataframe\n",
        "2.   Load the \"image_predictions.tsv\" (the Tweet image predictions) hosted on Udacity servers programmatically using the \"requests\" library (URL: https://d17h27t6h515a5.cloudfront.net/topher/2017/August/599fd2ad_image-predictions/image-predictions.tsv)\n",
        "3. Using tweet ids from (1) above and the Twitter API, load information such as \"retweet count\" and \"favorite count\" and any other interesting data items and store the entire set of data relating to a tweet in a JSON file called \"tweet_json.txt\"; then read this file line by line into a data frame and include tweet id, retweet count, favorite count and any other data items of interest\n",
        "4. Consumer API keys: \n",
        "    \n",
        "    Z22dLMPEOtCL2ayqnPTbFg3sK (API key)\n",
        "    \n",
        "    SuaxZay016BTIpzrYszo9Dbo0jQd38FZ8SUi0bDyy8hU6jMKdj (API secret key)\n",
        "    \n",
        "    Access token & access token secret\n",
        "\n",
        "    14299634-DHvEoZI9bR2D5WOZWf82MjHX6vEnPRIosIrli6ueb (Access token)\n",
        "\n",
        "    nvba5wXGFrEcYKmQjztu40wsr0vG2pXnQShE2ZQv6I313 (Access token secret)\n",
        "\n",
        "    Read and write (Access level)\n",
        "\n",
        "\n"
      ]
    },
    {
      "metadata": {
        "id": "CLeZDiDMhHv6",
        "colab_type": "code",
        "colab": {}
      },
      "cell_type": "code",
      "source": [
        "# Import the necessary libraries\n",
        "import pandas as pd\n",
        "import numpy as np\n",
        "import requests\n",
        "import io\n",
        "import tweepy\n",
        "import json\n",
        "from google.colab import drive\n",
        "import yaml\n",
        "import time\n",
        "import os\n"
      ],
      "execution_count": 0,
      "outputs": []
    },
    {
      "metadata": {
        "id": "0M0qep9Flhtx",
        "colab_type": "code",
        "colab": {}
      },
      "cell_type": "code",
      "source": [
        "def load_yaml_file(filename: str) -> dict:\n",
        "    twitter_keys = {}\n",
        "\n",
        "    with open(filename, 'r') as ymlfile:\n",
        "        cfg = yaml.safe_load(ymlfile)\n",
        "    \n",
        "    twitter_keys['consumer_key'] = cfg['twitter']['consumer']['key']\n",
        "    twitter_keys['consumer_secret'] = cfg['twitter']['consumer']['secret']\n",
        "    twitter_keys['access_token'] = cfg['twitter']['access']['token']\n",
        "    twitter_keys['access_token_secret'] = cfg['twitter']['access']['token-secret']\n",
        "\n",
        "    return twitter_keys"
      ],
      "execution_count": 0,
      "outputs": []
    },
    {
      "metadata": {
        "id": "bbUVJeB4p56h",
        "colab_type": "code",
        "colab": {}
      },
      "cell_type": "code",
      "source": [
        "def print_file(file_name, lines = 10):\n",
        "    with open(file_name, 'r') as f:\n",
        "        for _ in range(lines):\n",
        "            print (f.readline())\n",
        "        "
      ],
      "execution_count": 0,
      "outputs": []
    },
    {
      "metadata": {
        "id": "OAAc2CBNljDo",
        "colab_type": "code",
        "outputId": "3bfc7b65-7eb0-46f9-9478-87ca73907358",
        "colab": {
          "base_uri": "https://localhost:8080/",
          "height": 139
        }
      },
      "cell_type": "code",
      "source": [
        "drive.mount('/content/gdrive')\n",
        "twitter_keys_yaml_file = '/content/gdrive/My Drive/Colab Notebooks/twitter_keys.yaml'\n",
        "tweet_json_file = '/content/gdrive/My Drive/Colab Notebooks/tweet_json.txt'\n",
        "\n",
        "\"\"\"\n",
        "with open(twitter_keys_yaml_file, encoding='utf-8') as file:\n",
        "    line = file.readline()\n",
        "    while line:\n",
        "        line = file.readline()\n",
        "        print(line)\n",
        "\"\"\"\n",
        "print(load_yaml_file(twitter_keys_yaml_file))\n"
      ],
      "execution_count": 4,
      "outputs": [
        {
          "output_type": "stream",
          "text": [
            "Go to this URL in a browser: https://accounts.google.com/o/oauth2/auth?client_id=947318989803-6bn6qk8qdgf4n4g3pfee6491hc0brc4i.apps.googleusercontent.com&redirect_uri=urn%3Aietf%3Awg%3Aoauth%3A2.0%3Aoob&scope=email%20https%3A%2F%2Fwww.googleapis.com%2Fauth%2Fdocs.test%20https%3A%2F%2Fwww.googleapis.com%2Fauth%2Fdrive%20https%3A%2F%2Fwww.googleapis.com%2Fauth%2Fdrive.photos.readonly%20https%3A%2F%2Fwww.googleapis.com%2Fauth%2Fpeopleapi.readonly&response_type=code\n",
            "\n",
            "Enter your authorization code:\n",
            "··········\n",
            "Mounted at /content/gdrive\n",
            "{'consumer_key': 'Z22dLMPEOtCL2ayqnPTbFg3sK', 'consumer_secret': 'SuaxZay016BTIpzrYszo9Dbo0jQd38FZ8SUi0bDyy8hU6jMKdj', 'access_token': '14299634-DHvEoZI9bR2D5WOZWf82MjHX6vEnPRIosIrli6ueb', 'access_token_secret': 'nvba5wXGFrEcYKmQjztu40wsr0vG2pXnQShE2ZQv6I313'}\n"
          ],
          "name": "stdout"
        }
      ]
    },
    {
      "metadata": {
        "id": "6C3qa35miEux",
        "colab_type": "code",
        "outputId": "ee4e64e1-3b50-4344-acc9-097b9de9902b",
        "colab": {
          "base_uri": "https://localhost:8080/",
          "height": 34
        }
      },
      "cell_type": "code",
      "source": [
        "# 1. Load the file \"twitter-archive-enhanced.csv\" into a dataframe\n",
        "twitter_archive_file_url = 'https://raw.githubusercontent.com/bthodla/danano/master/prj4/twitter-archive-enhanced.csv'\n",
        "\n",
        "tweets_df = pd.read_csv(twitter_archive_file_url)\n",
        "\n",
        "tweet_count = tweets_df.shape[0]\n",
        "print ('%s %d' % ('Tweet Count: ', tweet_count))"
      ],
      "execution_count": 5,
      "outputs": [
        {
          "output_type": "stream",
          "text": [
            "Tweet Count:  2356\n"
          ],
          "name": "stdout"
        }
      ]
    },
    {
      "metadata": {
        "id": "YXfHmi0ene-L",
        "colab_type": "code",
        "colab": {}
      },
      "cell_type": "code",
      "source": [
        "# 2. Load the \"image_predictions.tsv\" (the Tweet image predictions) hosted on Udacity servers programmatically using the \"requests\" library\n",
        "\n",
        "image_predictions_file_url = 'https://d17h27t6h515a5.cloudfront.net/topher/2017/August/599fd2ad_image-predictions/image-predictions.tsv'\n",
        "\n",
        "url_data = requests.get(image_predictions_file_url).content\n",
        "\n",
        "img_pred_df = pd.read_csv(io.StringIO(url_data.decode('utf-8')), sep = '\\t')\n"
      ],
      "execution_count": 0,
      "outputs": []
    },
    {
      "metadata": {
        "id": "uXGoehx6nemP",
        "colab_type": "code",
        "outputId": "a2047b72-a5d7-4f3f-f15e-a548ebfc1df2",
        "colab": {
          "base_uri": "https://localhost:8080/",
          "height": 51
        }
      },
      "cell_type": "code",
      "source": [
        "\"\"\" 3. Using tweet ids from tweet_df and the Twitter API, load information such as \"retweet count\" and \"favorite count\" and any other interesting data items \n",
        "and store the entire set of data relating to a tweet in a JSON file called \"tweet_json.txt\"; then read this file line by line into a data frame and include \n",
        "tweet id, retweet count, favorite count and any other data items of interest\n",
        "\"\"\"\n",
        "\n",
        "twitter_keys = load_yaml_file(twitter_keys_yaml_file)\n",
        "consumer_key = twitter_keys['consumer_key']\n",
        "consumer_secret = twitter_keys['consumer_secret']\n",
        "access_token = twitter_keys['access_token']\n",
        "access_token_secret = twitter_keys['access_token_secret']\n",
        "\n",
        "auth = tweepy.OAuthHandler(consumer_key, consumer_secret)\n",
        "auth.set_access_token(access_token, access_token_secret)\n",
        "\n",
        "api = tweepy.API(auth, wait_on_rate_limit = True, wait_on_rate_limit_notify = True)\n",
        "\n",
        "error_tweets = {}\n",
        "tweet_offset = 0\n",
        "tweet_batch = 100\n",
        "tweets_remaining = 0\n",
        "\n",
        "# Delete the file first so that each run can add content fresh\n",
        "if os.path.isfile(tweet_json_file):\n",
        "    os.remove(tweet_json_file)\n",
        "\n",
        "with open(tweet_json_file, mode = 'a', encoding = 'utf-8') as f:\n",
        "    while tweet_batch:\n",
        "        tweet_ids = tweets_df[tweet_offset:tweet_offset + tweet_batch]['tweet_id']\n",
        "        for tweet_id in tweet_ids:\n",
        "            try:\n",
        "                status = api.get_status(tweet_id)\n",
        "                f.write(json.dumps(status._json) + '\\n')\n",
        "\n",
        "            except tweepy.TweepError as e:\n",
        "                error_tweets[status.id] = e\n",
        "            \n",
        "        tweets_remaining = tweet_count - tweet_offset\n",
        "        tweet_batch = tweet_batch if tweet_batch < tweets_remaining else tweets_remaining\n",
        "        tweet_offset += tweet_batch\n",
        "        # print ('%s %d %s %d' % ('Tweets Remaining: ', tweets_remaining, 'Tweet Offset: ', tweet_offset))\n",
        "        # time.sleep(1 * 5)\n"
      ],
      "execution_count": 7,
      "outputs": [
        {
          "output_type": "stream",
          "text": [
            "Rate limit reached. Sleeping for: 765\n",
            "Rate limit reached. Sleeping for: 768\n"
          ],
          "name": "stderr"
        }
      ]
    },
    {
      "metadata": {
        "id": "tafWMMk53G23",
        "colab_type": "code",
        "outputId": "1e19b09a-88f6-4b38-84ef-00d17f280870",
        "colab": {
          "base_uri": "https://localhost:8080/",
          "height": 34
        }
      },
      "cell_type": "code",
      "source": [
        "with open(tweet_json_file, mode = 'r', encoding = 'utf-8') as f:\n",
        "    print('%s %d %s %d' % ('Valid tweet count: ', len(f.readlines()), 'Error tweet count: ', len(error_tweets)))"
      ],
      "execution_count": 8,
      "outputs": [
        {
          "output_type": "stream",
          "text": [
            "Valid tweet count:  2339 Error tweet count:  17\n"
          ],
          "name": "stdout"
        }
      ]
    },
    {
      "metadata": {
        "id": "dAgIUK19TShf",
        "colab_type": "code",
        "colab": {}
      },
      "cell_type": "code",
      "source": [
        "# Read \"tweet_json.txt\" file line by line into a data frame and include tweet id, retweet count, favorite count and any other data items of interest\n",
        "\n",
        "columns = ['tweet_id', 'text', 'retweet_count', 'favorite_count', 'retweeted', 'favorited', 'media_url']\n",
        "tweets_mini_df = pd.DataFrame(columns = columns)\n",
        "\n",
        "index = 0\n",
        "with open(tweet_json_file, mode = 'r', encoding = 'utf-8') as f:\n",
        "    for tweet in f:\n",
        "        tweet_json = json.loads(tweet)\n",
        "        tweet_id = tweet_json['id']\n",
        "        text = tweet_json['text']\n",
        "        retweet_count = tweet_json['retweet_count']\n",
        "        favorite_count = tweet_json['favorite_count']\n",
        "        retweeted = tweet_json['retweeted']\n",
        "        favorited = tweet_json['favorited']\n",
        "        try:\n",
        "            media_url = tweet_json['entities']['media'][0]['media_url_https']\n",
        "        except KeyError as e:\n",
        "            media_url = ''\n",
        "\n",
        "        tweets_mini_df.loc[index] = pd.Series({'tweet_id': tweet_id, \n",
        "                                        'text': text, \n",
        "                                        'retweet_count': retweet_count, \n",
        "                                        'favorite_count': favorite_count,\n",
        "                                        'retweeted': retweeted,\n",
        "                                        'favorited': favorited,\n",
        "                                        'media_url': media_url})\n",
        "        index +=1\n"
      ],
      "execution_count": 0,
      "outputs": []
    },
    {
      "metadata": {
        "id": "tj0ikwBvF_qT",
        "colab_type": "text"
      },
      "cell_type": "markdown",
      "source": [
        "### Assessing data\n",
        "\n",
        "Key Points\n",
        "\n",
        "* You only want original ratings (no retweets) that have images. Though there are 5000+ tweets in the dataset, not all are dog ratings and some are retweets.\n",
        "\n",
        "* Assessing and cleaning the entire dataset completely would require a lot of time, and is not necessary to practice and demonstrate your skills in data wrangling. Therefore, the requirements of this project are only to assess and clean at least 8 quality issues and at least 2 tidiness issues in this dataset.\n",
        "\n",
        "* Cleaning includes merging individual pieces of data according to the rules of tidy data.\n",
        "\n",
        "* The fact that the rating numerators are greater than the denominators does not need to be cleaned. This unique rating system is a big part of the popularity of WeRateDogs.\n",
        "\n",
        "* You do not need to gather the tweets beyond August 1st, 2017. You can, but note that you won't be able to gather the image predictions for these tweets since you don't have access to the algorithm used.\n"
      ]
    },
    {
      "metadata": {
        "id": "YXffn4IMdRRe",
        "colab_type": "text"
      },
      "cell_type": "markdown",
      "source": [
        "#### twitter-archive-enhanced.csv"
      ]
    },
    {
      "metadata": {
        "id": "KVAIX-cR3sq_",
        "colab_type": "code",
        "outputId": "665e83aa-4f1d-4281-de9f-02b3a6287d3d",
        "colab": {
          "base_uri": "https://localhost:8080/",
          "height": 391
        }
      },
      "cell_type": "code",
      "source": [
        "tweets_df.info()"
      ],
      "execution_count": 10,
      "outputs": [
        {
          "output_type": "stream",
          "text": [
            "<class 'pandas.core.frame.DataFrame'>\n",
            "RangeIndex: 2356 entries, 0 to 2355\n",
            "Data columns (total 17 columns):\n",
            "tweet_id                      2356 non-null int64\n",
            "in_reply_to_status_id         78 non-null float64\n",
            "in_reply_to_user_id           78 non-null float64\n",
            "timestamp                     2356 non-null object\n",
            "source                        2356 non-null object\n",
            "text                          2356 non-null object\n",
            "retweeted_status_id           181 non-null float64\n",
            "retweeted_status_user_id      181 non-null float64\n",
            "retweeted_status_timestamp    181 non-null object\n",
            "expanded_urls                 2297 non-null object\n",
            "rating_numerator              2356 non-null int64\n",
            "rating_denominator            2356 non-null int64\n",
            "name                          2356 non-null object\n",
            "doggo                         2356 non-null object\n",
            "floofer                       2356 non-null object\n",
            "pupper                        2356 non-null object\n",
            "puppo                         2356 non-null object\n",
            "dtypes: float64(4), int64(3), object(10)\n",
            "memory usage: 313.0+ KB\n"
          ],
          "name": "stdout"
        }
      ]
    },
    {
      "metadata": {
        "id": "RnzdB2c43u_n",
        "colab_type": "code",
        "outputId": "ed49571d-2f3b-495f-f4f4-15c3b280a7d1",
        "colab": {
          "base_uri": "https://localhost:8080/",
          "height": 513
        }
      },
      "cell_type": "code",
      "source": [
        "tweets_df.query('name == \"None\"').sample(5)"
      ],
      "execution_count": 11,
      "outputs": [
        {
          "output_type": "execute_result",
          "data": {
            "text/html": [
              "<div>\n",
              "<style scoped>\n",
              "    .dataframe tbody tr th:only-of-type {\n",
              "        vertical-align: middle;\n",
              "    }\n",
              "\n",
              "    .dataframe tbody tr th {\n",
              "        vertical-align: top;\n",
              "    }\n",
              "\n",
              "    .dataframe thead th {\n",
              "        text-align: right;\n",
              "    }\n",
              "</style>\n",
              "<table border=\"1\" class=\"dataframe\">\n",
              "  <thead>\n",
              "    <tr style=\"text-align: right;\">\n",
              "      <th></th>\n",
              "      <th>tweet_id</th>\n",
              "      <th>in_reply_to_status_id</th>\n",
              "      <th>in_reply_to_user_id</th>\n",
              "      <th>timestamp</th>\n",
              "      <th>source</th>\n",
              "      <th>text</th>\n",
              "      <th>retweeted_status_id</th>\n",
              "      <th>retweeted_status_user_id</th>\n",
              "      <th>retweeted_status_timestamp</th>\n",
              "      <th>expanded_urls</th>\n",
              "      <th>rating_numerator</th>\n",
              "      <th>rating_denominator</th>\n",
              "      <th>name</th>\n",
              "      <th>doggo</th>\n",
              "      <th>floofer</th>\n",
              "      <th>pupper</th>\n",
              "      <th>puppo</th>\n",
              "    </tr>\n",
              "  </thead>\n",
              "  <tbody>\n",
              "    <tr>\n",
              "      <th>658</th>\n",
              "      <td>791672322847637504</td>\n",
              "      <td>NaN</td>\n",
              "      <td>NaN</td>\n",
              "      <td>2016-10-27 16:06:04 +0000</td>\n",
              "      <td>&lt;a href=\"http://twitter.com/download/iphone\" r...</td>\n",
              "      <td>When she says you're a good boy and you know y...</td>\n",
              "      <td>NaN</td>\n",
              "      <td>NaN</td>\n",
              "      <td>NaN</td>\n",
              "      <td>https://twitter.com/dog_rates/status/791672322...</td>\n",
              "      <td>13</td>\n",
              "      <td>10</td>\n",
              "      <td>None</td>\n",
              "      <td>None</td>\n",
              "      <td>None</td>\n",
              "      <td>None</td>\n",
              "      <td>None</td>\n",
              "    </tr>\n",
              "    <tr>\n",
              "      <th>934</th>\n",
              "      <td>753420520834629632</td>\n",
              "      <td>NaN</td>\n",
              "      <td>NaN</td>\n",
              "      <td>2016-07-14 02:47:04 +0000</td>\n",
              "      <td>&lt;a href=\"http://twitter.com/download/iphone\" r...</td>\n",
              "      <td>Here we are witnessing an isolated squad of bo...</td>\n",
              "      <td>NaN</td>\n",
              "      <td>NaN</td>\n",
              "      <td>NaN</td>\n",
              "      <td>https://twitter.com/dog_rates/status/753420520...</td>\n",
              "      <td>11</td>\n",
              "      <td>10</td>\n",
              "      <td>None</td>\n",
              "      <td>None</td>\n",
              "      <td>None</td>\n",
              "      <td>None</td>\n",
              "      <td>None</td>\n",
              "    </tr>\n",
              "    <tr>\n",
              "      <th>1293</th>\n",
              "      <td>708026248782585858</td>\n",
              "      <td>NaN</td>\n",
              "      <td>NaN</td>\n",
              "      <td>2016-03-10 20:26:26 +0000</td>\n",
              "      <td>&lt;a href=\"http://twitter.com/download/iphone\" r...</td>\n",
              "      <td>Everybody stop what you're doing and watch thi...</td>\n",
              "      <td>NaN</td>\n",
              "      <td>NaN</td>\n",
              "      <td>NaN</td>\n",
              "      <td>https://twitter.com/dog_rates/status/708026248...</td>\n",
              "      <td>13</td>\n",
              "      <td>10</td>\n",
              "      <td>None</td>\n",
              "      <td>None</td>\n",
              "      <td>None</td>\n",
              "      <td>None</td>\n",
              "      <td>None</td>\n",
              "    </tr>\n",
              "    <tr>\n",
              "      <th>127</th>\n",
              "      <td>867900495410671616</td>\n",
              "      <td>NaN</td>\n",
              "      <td>NaN</td>\n",
              "      <td>2017-05-26 00:29:37 +0000</td>\n",
              "      <td>&lt;a href=\"http://twitter.com/download/iphone\" r...</td>\n",
              "      <td>Unbelievable. We only rate dogs. Please don't ...</td>\n",
              "      <td>NaN</td>\n",
              "      <td>NaN</td>\n",
              "      <td>NaN</td>\n",
              "      <td>https://twitter.com/dog_rates/status/867900495...</td>\n",
              "      <td>12</td>\n",
              "      <td>10</td>\n",
              "      <td>None</td>\n",
              "      <td>None</td>\n",
              "      <td>None</td>\n",
              "      <td>None</td>\n",
              "      <td>None</td>\n",
              "    </tr>\n",
              "    <tr>\n",
              "      <th>605</th>\n",
              "      <td>798576900688019456</td>\n",
              "      <td>NaN</td>\n",
              "      <td>NaN</td>\n",
              "      <td>2016-11-15 17:22:24 +0000</td>\n",
              "      <td>&lt;a href=\"http://twitter.com/download/iphone\" r...</td>\n",
              "      <td>RT @dog_rates: Not familiar with this breed. N...</td>\n",
              "      <td>6.661041e+17</td>\n",
              "      <td>4.196984e+09</td>\n",
              "      <td>2015-11-16 04:02:55 +0000</td>\n",
              "      <td>https://twitter.com/dog_rates/status/666104133...</td>\n",
              "      <td>1</td>\n",
              "      <td>10</td>\n",
              "      <td>None</td>\n",
              "      <td>None</td>\n",
              "      <td>None</td>\n",
              "      <td>None</td>\n",
              "      <td>None</td>\n",
              "    </tr>\n",
              "  </tbody>\n",
              "</table>\n",
              "</div>"
            ],
            "text/plain": [
              "                tweet_id  in_reply_to_status_id  in_reply_to_user_id  \\\n",
              "658   791672322847637504                    NaN                  NaN   \n",
              "934   753420520834629632                    NaN                  NaN   \n",
              "1293  708026248782585858                    NaN                  NaN   \n",
              "127   867900495410671616                    NaN                  NaN   \n",
              "605   798576900688019456                    NaN                  NaN   \n",
              "\n",
              "                      timestamp  \\\n",
              "658   2016-10-27 16:06:04 +0000   \n",
              "934   2016-07-14 02:47:04 +0000   \n",
              "1293  2016-03-10 20:26:26 +0000   \n",
              "127   2017-05-26 00:29:37 +0000   \n",
              "605   2016-11-15 17:22:24 +0000   \n",
              "\n",
              "                                                 source  \\\n",
              "658   <a href=\"http://twitter.com/download/iphone\" r...   \n",
              "934   <a href=\"http://twitter.com/download/iphone\" r...   \n",
              "1293  <a href=\"http://twitter.com/download/iphone\" r...   \n",
              "127   <a href=\"http://twitter.com/download/iphone\" r...   \n",
              "605   <a href=\"http://twitter.com/download/iphone\" r...   \n",
              "\n",
              "                                                   text  retweeted_status_id  \\\n",
              "658   When she says you're a good boy and you know y...                  NaN   \n",
              "934   Here we are witnessing an isolated squad of bo...                  NaN   \n",
              "1293  Everybody stop what you're doing and watch thi...                  NaN   \n",
              "127   Unbelievable. We only rate dogs. Please don't ...                  NaN   \n",
              "605   RT @dog_rates: Not familiar with this breed. N...         6.661041e+17   \n",
              "\n",
              "      retweeted_status_user_id retweeted_status_timestamp  \\\n",
              "658                        NaN                        NaN   \n",
              "934                        NaN                        NaN   \n",
              "1293                       NaN                        NaN   \n",
              "127                        NaN                        NaN   \n",
              "605               4.196984e+09  2015-11-16 04:02:55 +0000   \n",
              "\n",
              "                                          expanded_urls  rating_numerator  \\\n",
              "658   https://twitter.com/dog_rates/status/791672322...                13   \n",
              "934   https://twitter.com/dog_rates/status/753420520...                11   \n",
              "1293  https://twitter.com/dog_rates/status/708026248...                13   \n",
              "127   https://twitter.com/dog_rates/status/867900495...                12   \n",
              "605   https://twitter.com/dog_rates/status/666104133...                 1   \n",
              "\n",
              "      rating_denominator  name doggo floofer pupper puppo  \n",
              "658                   10  None  None    None   None  None  \n",
              "934                   10  None  None    None   None  None  \n",
              "1293                  10  None  None    None   None  None  \n",
              "127                   10  None  None    None   None  None  \n",
              "605                   10  None  None    None   None  None  "
            ]
          },
          "metadata": {
            "tags": []
          },
          "execution_count": 11
        }
      ]
    },
    {
      "metadata": {
        "id": "1QUPyIRj3yNo",
        "colab_type": "code",
        "outputId": "5bdbc494-d980-4ead-c375-0c0655604b8c",
        "colab": {
          "base_uri": "https://localhost:8080/",
          "height": 34
        }
      },
      "cell_type": "code",
      "source": [
        "tweets_df.isnull().sum()\n",
        "tweets_df.query('name == \"None\"').shape"
      ],
      "execution_count": 12,
      "outputs": [
        {
          "output_type": "execute_result",
          "data": {
            "text/plain": [
              "(745, 17)"
            ]
          },
          "metadata": {
            "tags": []
          },
          "execution_count": 12
        }
      ]
    },
    {
      "metadata": {
        "id": "i0Z6HA0Q4JUK",
        "colab_type": "text"
      },
      "cell_type": "markdown",
      "source": [
        "#### image_predictions.tsv"
      ]
    },
    {
      "metadata": {
        "id": "Qmy2GffK4ZN0",
        "colab_type": "code",
        "outputId": "593fb3e6-0ce8-4045-dc20-796b9cd1186d",
        "colab": {
          "base_uri": "https://localhost:8080/",
          "height": 306
        }
      },
      "cell_type": "code",
      "source": [
        "img_pred_df.info()"
      ],
      "execution_count": 13,
      "outputs": [
        {
          "output_type": "stream",
          "text": [
            "<class 'pandas.core.frame.DataFrame'>\n",
            "RangeIndex: 2075 entries, 0 to 2074\n",
            "Data columns (total 12 columns):\n",
            "tweet_id    2075 non-null int64\n",
            "jpg_url     2075 non-null object\n",
            "img_num     2075 non-null int64\n",
            "p1          2075 non-null object\n",
            "p1_conf     2075 non-null float64\n",
            "p1_dog      2075 non-null bool\n",
            "p2          2075 non-null object\n",
            "p2_conf     2075 non-null float64\n",
            "p2_dog      2075 non-null bool\n",
            "p3          2075 non-null object\n",
            "p3_conf     2075 non-null float64\n",
            "p3_dog      2075 non-null bool\n",
            "dtypes: bool(3), float64(3), int64(2), object(4)\n",
            "memory usage: 152.1+ KB\n"
          ],
          "name": "stdout"
        }
      ]
    },
    {
      "metadata": {
        "id": "XsdTrDXq4hjL",
        "colab_type": "code",
        "outputId": "b1acf5a5-94f9-4365-fb9e-025247c4ce44",
        "colab": {
          "base_uri": "https://localhost:8080/",
          "height": 204
        }
      },
      "cell_type": "code",
      "source": [
        "img_pred_df.sample(5)"
      ],
      "execution_count": 14,
      "outputs": [
        {
          "output_type": "execute_result",
          "data": {
            "text/html": [
              "<div>\n",
              "<style scoped>\n",
              "    .dataframe tbody tr th:only-of-type {\n",
              "        vertical-align: middle;\n",
              "    }\n",
              "\n",
              "    .dataframe tbody tr th {\n",
              "        vertical-align: top;\n",
              "    }\n",
              "\n",
              "    .dataframe thead th {\n",
              "        text-align: right;\n",
              "    }\n",
              "</style>\n",
              "<table border=\"1\" class=\"dataframe\">\n",
              "  <thead>\n",
              "    <tr style=\"text-align: right;\">\n",
              "      <th></th>\n",
              "      <th>tweet_id</th>\n",
              "      <th>jpg_url</th>\n",
              "      <th>img_num</th>\n",
              "      <th>p1</th>\n",
              "      <th>p1_conf</th>\n",
              "      <th>p1_dog</th>\n",
              "      <th>p2</th>\n",
              "      <th>p2_conf</th>\n",
              "      <th>p2_dog</th>\n",
              "      <th>p3</th>\n",
              "      <th>p3_conf</th>\n",
              "      <th>p3_dog</th>\n",
              "    </tr>\n",
              "  </thead>\n",
              "  <tbody>\n",
              "    <tr>\n",
              "      <th>610</th>\n",
              "      <td>680100725817409536</td>\n",
              "      <td>https://pbs.twimg.com/media/CW-loUBWYAAn2Cb.jpg</td>\n",
              "      <td>1</td>\n",
              "      <td>golden_retriever</td>\n",
              "      <td>0.698961</td>\n",
              "      <td>True</td>\n",
              "      <td>chow</td>\n",
              "      <td>0.145971</td>\n",
              "      <td>True</td>\n",
              "      <td>Pomeranian</td>\n",
              "      <td>0.034888</td>\n",
              "      <td>True</td>\n",
              "    </tr>\n",
              "    <tr>\n",
              "      <th>1713</th>\n",
              "      <td>818614493328580609</td>\n",
              "      <td>https://pbs.twimg.com/media/C1xNgraVIAA3EVb.jpg</td>\n",
              "      <td>4</td>\n",
              "      <td>Chihuahua</td>\n",
              "      <td>0.450722</td>\n",
              "      <td>True</td>\n",
              "      <td>Border_terrier</td>\n",
              "      <td>0.204177</td>\n",
              "      <td>True</td>\n",
              "      <td>beagle</td>\n",
              "      <td>0.092774</td>\n",
              "      <td>True</td>\n",
              "    </tr>\n",
              "    <tr>\n",
              "      <th>243</th>\n",
              "      <td>670452855871037440</td>\n",
              "      <td>https://pbs.twimg.com/media/CU3tUC4WEAAoZby.jpg</td>\n",
              "      <td>1</td>\n",
              "      <td>Arctic_fox</td>\n",
              "      <td>0.188174</td>\n",
              "      <td>False</td>\n",
              "      <td>indri</td>\n",
              "      <td>0.123584</td>\n",
              "      <td>False</td>\n",
              "      <td>malamute</td>\n",
              "      <td>0.080379</td>\n",
              "      <td>True</td>\n",
              "    </tr>\n",
              "    <tr>\n",
              "      <th>490</th>\n",
              "      <td>675531475945709568</td>\n",
              "      <td>https://pbs.twimg.com/media/CV_4ShmUYAA3wNu.jpg</td>\n",
              "      <td>1</td>\n",
              "      <td>Pembroke</td>\n",
              "      <td>0.918441</td>\n",
              "      <td>True</td>\n",
              "      <td>Cardigan</td>\n",
              "      <td>0.027339</td>\n",
              "      <td>True</td>\n",
              "      <td>Siberian_husky</td>\n",
              "      <td>0.020221</td>\n",
              "      <td>True</td>\n",
              "    </tr>\n",
              "    <tr>\n",
              "      <th>1918</th>\n",
              "      <td>855459453768019968</td>\n",
              "      <td>https://pbs.twimg.com/media/C98z1ZAXsAEIFFn.jpg</td>\n",
              "      <td>2</td>\n",
              "      <td>Blenheim_spaniel</td>\n",
              "      <td>0.389513</td>\n",
              "      <td>True</td>\n",
              "      <td>Pekinese</td>\n",
              "      <td>0.188220</td>\n",
              "      <td>True</td>\n",
              "      <td>Japanese_spaniel</td>\n",
              "      <td>0.082628</td>\n",
              "      <td>True</td>\n",
              "    </tr>\n",
              "  </tbody>\n",
              "</table>\n",
              "</div>"
            ],
            "text/plain": [
              "                tweet_id                                          jpg_url  \\\n",
              "610   680100725817409536  https://pbs.twimg.com/media/CW-loUBWYAAn2Cb.jpg   \n",
              "1713  818614493328580609  https://pbs.twimg.com/media/C1xNgraVIAA3EVb.jpg   \n",
              "243   670452855871037440  https://pbs.twimg.com/media/CU3tUC4WEAAoZby.jpg   \n",
              "490   675531475945709568  https://pbs.twimg.com/media/CV_4ShmUYAA3wNu.jpg   \n",
              "1918  855459453768019968  https://pbs.twimg.com/media/C98z1ZAXsAEIFFn.jpg   \n",
              "\n",
              "      img_num                p1   p1_conf  p1_dog              p2   p2_conf  \\\n",
              "610         1  golden_retriever  0.698961    True            chow  0.145971   \n",
              "1713        4         Chihuahua  0.450722    True  Border_terrier  0.204177   \n",
              "243         1        Arctic_fox  0.188174   False           indri  0.123584   \n",
              "490         1          Pembroke  0.918441    True        Cardigan  0.027339   \n",
              "1918        2  Blenheim_spaniel  0.389513    True        Pekinese  0.188220   \n",
              "\n",
              "      p2_dog                p3   p3_conf  p3_dog  \n",
              "610     True        Pomeranian  0.034888    True  \n",
              "1713    True            beagle  0.092774    True  \n",
              "243    False          malamute  0.080379    True  \n",
              "490     True    Siberian_husky  0.020221    True  \n",
              "1918    True  Japanese_spaniel  0.082628    True  "
            ]
          },
          "metadata": {
            "tags": []
          },
          "execution_count": 14
        }
      ]
    },
    {
      "metadata": {
        "id": "cjqzh9tR4jZh",
        "colab_type": "code",
        "outputId": "1c17c2dc-64a3-4c0a-b4f0-a7946cf4d829",
        "colab": {
          "base_uri": "https://localhost:8080/",
          "height": 221
        }
      },
      "cell_type": "code",
      "source": [
        "list(img_pred_df)"
      ],
      "execution_count": 15,
      "outputs": [
        {
          "output_type": "execute_result",
          "data": {
            "text/plain": [
              "['tweet_id',\n",
              " 'jpg_url',\n",
              " 'img_num',\n",
              " 'p1',\n",
              " 'p1_conf',\n",
              " 'p1_dog',\n",
              " 'p2',\n",
              " 'p2_conf',\n",
              " 'p2_dog',\n",
              " 'p3',\n",
              " 'p3_conf',\n",
              " 'p3_dog']"
            ]
          },
          "metadata": {
            "tags": []
          },
          "execution_count": 15
        }
      ]
    },
    {
      "metadata": {
        "id": "ocvEaslL42Sh",
        "colab_type": "text"
      },
      "cell_type": "markdown",
      "source": [
        "#### tweets_mini_df"
      ]
    },
    {
      "metadata": {
        "id": "1rnHK9f946hB",
        "colab_type": "code",
        "outputId": "99b90ac1-4bf2-487b-8d67-dc164d552a31",
        "colab": {
          "base_uri": "https://localhost:8080/",
          "height": 221
        }
      },
      "cell_type": "code",
      "source": [
        "tweets_mini_df.info()"
      ],
      "execution_count": 16,
      "outputs": [
        {
          "output_type": "stream",
          "text": [
            "<class 'pandas.core.frame.DataFrame'>\n",
            "Int64Index: 2339 entries, 0 to 2338\n",
            "Data columns (total 7 columns):\n",
            "tweet_id          2339 non-null object\n",
            "text              2339 non-null object\n",
            "retweet_count     2339 non-null object\n",
            "favorite_count    2339 non-null object\n",
            "retweeted         2339 non-null object\n",
            "favorited         2339 non-null object\n",
            "media_url         2339 non-null object\n",
            "dtypes: object(7)\n",
            "memory usage: 146.2+ KB\n"
          ],
          "name": "stdout"
        }
      ]
    },
    {
      "metadata": {
        "id": "8rELxq_a48D4",
        "colab_type": "code",
        "outputId": "ac732c86-1966-411c-c9d3-86a576865f04",
        "colab": {
          "base_uri": "https://localhost:8080/",
          "height": 80
        }
      },
      "cell_type": "code",
      "source": [
        "tweets_mini_df.sample(5)\n",
        "tweets_mini_df.query('tweet_id == 683357973142474752')"
      ],
      "execution_count": 17,
      "outputs": [
        {
          "output_type": "execute_result",
          "data": {
            "text/html": [
              "<div>\n",
              "<style scoped>\n",
              "    .dataframe tbody tr th:only-of-type {\n",
              "        vertical-align: middle;\n",
              "    }\n",
              "\n",
              "    .dataframe tbody tr th {\n",
              "        vertical-align: top;\n",
              "    }\n",
              "\n",
              "    .dataframe thead th {\n",
              "        text-align: right;\n",
              "    }\n",
              "</style>\n",
              "<table border=\"1\" class=\"dataframe\">\n",
              "  <thead>\n",
              "    <tr style=\"text-align: right;\">\n",
              "      <th></th>\n",
              "      <th>tweet_id</th>\n",
              "      <th>text</th>\n",
              "      <th>retweet_count</th>\n",
              "      <th>favorite_count</th>\n",
              "      <th>retweeted</th>\n",
              "      <th>favorited</th>\n",
              "      <th>media_url</th>\n",
              "    </tr>\n",
              "  </thead>\n",
              "  <tbody>\n",
              "    <tr>\n",
              "      <th>1640</th>\n",
              "      <td>683357973142474752</td>\n",
              "      <td>\"Have a seat, son. There are some things we ne...</td>\n",
              "      <td>995</td>\n",
              "      <td>3052</td>\n",
              "      <td>False</td>\n",
              "      <td>False</td>\n",
              "      <td>https://pbs.twimg.com/media/CXvGbWeWMAcRbyJ.jpg</td>\n",
              "    </tr>\n",
              "  </tbody>\n",
              "</table>\n",
              "</div>"
            ],
            "text/plain": [
              "                tweet_id                                               text  \\\n",
              "1640  683357973142474752  \"Have a seat, son. There are some things we ne...   \n",
              "\n",
              "     retweet_count favorite_count retweeted favorited  \\\n",
              "1640           995           3052     False     False   \n",
              "\n",
              "                                            media_url  \n",
              "1640  https://pbs.twimg.com/media/CXvGbWeWMAcRbyJ.jpg  "
            ]
          },
          "metadata": {
            "tags": []
          },
          "execution_count": 17
        }
      ]
    },
    {
      "metadata": {
        "id": "fJseZO0n4-a5",
        "colab_type": "code",
        "outputId": "d1149d7d-06d5-4b1b-ac0a-92632b8faed5",
        "colab": {
          "base_uri": "https://localhost:8080/",
          "height": 153
        }
      },
      "cell_type": "code",
      "source": [
        "tweets_mini_df.isnull().sum()"
      ],
      "execution_count": 18,
      "outputs": [
        {
          "output_type": "execute_result",
          "data": {
            "text/plain": [
              "tweet_id          0\n",
              "text              0\n",
              "retweet_count     0\n",
              "favorite_count    0\n",
              "retweeted         0\n",
              "favorited         0\n",
              "media_url         0\n",
              "dtype: int64"
            ]
          },
          "metadata": {
            "tags": []
          },
          "execution_count": 18
        }
      ]
    },
    {
      "metadata": {
        "id": "lpl5Y3VI42PF",
        "colab_type": "text"
      },
      "cell_type": "markdown",
      "source": [
        "#### Cleaning data"
      ]
    },
    {
      "metadata": {
        "id": "CyXObBAe41zK",
        "colab_type": "text"
      },
      "cell_type": "markdown",
      "source": [
        "#### 1. twitter-archive-enhanced.csv\n",
        "##### 1.1 Data Quality Issues:\n",
        "\n",
        "1. There are 181 rows in this dataset that are retweets. I have identified them based non-null values in the \"retweeted_status_id\" column. These need to be removed from the dataset as we only want original tweets (1.1.1)\n",
        "\n",
        "2. Remove the following columns from the dataset. I don't think that we need these columns for our analysis (1.1.2)\n",
        "\n",
        "    *  in_reply_to_status_id\n",
        "    *  in_reply_to_user_id\n",
        "    *  retweeted_status_id\n",
        "    *  retweeted_status_user_id\n",
        "    *  retweeted_status_timestamp\n",
        "    *  expanded_urls\n",
        "\n",
        "3. The \"timestamp\" column is represented as a string and needs to be converted to datetime (1.1.3)\n",
        "4. Drop all tweets with timestamps greater than 8/1/2017 as per the project requirements (1.1.4)\n",
        "5. Dog stages are not fully recorded and many of them contain null values or values labeled as \"None\". We need to scan the tweet text and see if we can extract these values for each row (1.1.5)\n",
        "6. *** Not Addressed *** There are 745 rows in this dataset where the name is marked as \"None\". I am not addressing this issue right now since I don't have sufficient data to obtain this information (1.1.6)\n",
        "\n",
        "##### 1.2 Tidiness Issues:\n",
        "1. Dog stages are represented in separate columns as a sparse-array matrix which is wasteful and also not scalable in case we identify new stages. These need to be converted to a single column titled \"stage\". If they are not mutually exclusive (meaning, if there are multiple tweets about the same dog at different points in time where their stages change), we can put them into a separate dataframe for normalization purposes (1.2.1)\n"
      ]
    },
    {
      "metadata": {
        "id": "oMz698VwYvob",
        "colab_type": "text"
      },
      "cell_type": "markdown",
      "source": [
        "#### 2. image-predictions.tsv\n",
        "\n",
        "##### 2.1 Tidiness Issues:\n",
        "\n",
        "1. In the case of this dataset, we will deal with the tidiness issues first before we deal with data quality issues. There is a specific reason for it - there are three breed predictions in this dataset with a percentage of confidence against each and a boolean flag indicating whether the image prediction is actually canine or not. That makes it a total of 9 columns. I would like to reduce them to three columns to begin with: breed, prediction_confidence, is_canine. Addressing this tidiness issue will make it easier to fix the data quality issues identified below. We will begin with separating breed predictions to its own dataframe so that we can work on the data quality issues later (2.1.1)\n",
        "\n",
        "##### 2.2 Data Quality Issues:\n",
        "\n",
        "1. Once we address the tidiness issue above and spin off the breed predictions to their own dataframe, we will eliminate all predictions where the \"is_canine\" flag is false. We will then pick the prediction with the higher percentage of confidence and retain them as the only breed predictions (assuming that each dog can be classified into a single breed) and drop the ones with lower prediction confidence scores (2.2.1)\n",
        "2. We can then merge this dataset back to the original dataset (2.2.2)\n",
        "3. After merging, we will drop the following columns as they are no longer needed (2.2.3): \n",
        "    *  jpg_url (we have obtained the media_url using the Twitter API and we will retain that in case it needs to be used)\n",
        "    *  img_num (don't see how this information will be useful)\n",
        "    *  p1\n",
        "    *  p1_conf\n",
        "    *  p1_dog\n",
        "    *  p2\n",
        "    *  p2_conf\n",
        "    *  p2_dog\n",
        "    *  p3\n",
        "    *  p3_conf\n",
        "    *  p3_dog\n",
        "\n",
        "\n"
      ]
    },
    {
      "metadata": {
        "id": "1TOTRnZuiJLG",
        "colab_type": "text"
      },
      "cell_type": "markdown",
      "source": [
        "#### 3. tweet_mini_df\n",
        "\n",
        "##### 3.1 Data Quality Issues\n",
        "1. We need to drop all the tweets in this dataset that were originally marked as retweets in the \"twitter-archive-enhanced\" dataset as we are only interested in original tweets (3.1.1)\n"
      ]
    },
    {
      "metadata": {
        "id": "sFLzQ8n_nWRh",
        "colab_type": "text"
      },
      "cell_type": "markdown",
      "source": [
        "#### 4. Tidiness Issues: combining data from all the datasets\n",
        "\n",
        "##### 4.1 Tidiness\n",
        "\n",
        "1. Having addressed the data quality and tidiness issues at the level of individual datasets, we can now merge the data in these datasets into one. Since the data granularity in each of these datasets is at the \"tweet_id\" level, we will use it to combine the data into a single dataset and persist it to a file (4.1.1)\n",
        "\n",
        "##### 4.2 Data Quality\n",
        "\n",
        "1. We will use \"inner joins\" to merge these datasets thus eliminating any rows for whcih no valid information is available online. For example, there are 17 tweet ids in the original \"twitter-archive-enhanced\" dataset for which the Twitter API returned errors and these will be eliminated during the merging process. (4.2.1)"
      ]
    },
    {
      "metadata": {
        "id": "rD1smP4iIApY",
        "colab_type": "code",
        "outputId": "7f149963-075b-4d0f-b25f-cf2d99d4d0e2",
        "colab": {
          "base_uri": "https://localhost:8080/",
          "height": 68
        }
      },
      "cell_type": "code",
      "source": [
        "# First, let us make clean copies of each of the dataframes and leave the originals intact\n",
        "\n",
        "tweets_df_clean = tweets_df.copy()\n",
        "img_pred_df_clean = img_pred_df.copy()\n",
        "tweets_mini_df_clean = tweets_mini_df.copy()\n",
        "\n",
        "print ('%s %d %s %d' %('Original Row Count: ', tweets_df.shape[0], 'Copy Row Count: ', tweets_df_clean.shape[0]))\n",
        "print ('%s %d %s %d' %('Original Row Count: ', img_pred_df.shape[0], 'Copy Row Count: ', img_pred_df_clean.shape[0]))\n",
        "print ('%s %d %s %d' %('Original Row Count: ', tweets_mini_df.shape[0], 'Copy Row Count: ', tweets_mini_df_clean.shape[0]))"
      ],
      "execution_count": 19,
      "outputs": [
        {
          "output_type": "stream",
          "text": [
            "Original Row Count:  2356 Copy Row Count:  2356\n",
            "Original Row Count:  2075 Copy Row Count:  2075\n",
            "Original Row Count:  2339 Copy Row Count:  2339\n"
          ],
          "name": "stdout"
        }
      ]
    },
    {
      "metadata": {
        "colab_type": "code",
        "outputId": "7156865e-3576-491a-d463-33b150abe802",
        "id": "qhQL5JV-YuKA",
        "colab": {
          "base_uri": "https://localhost:8080/",
          "height": 34
        }
      },
      "cell_type": "code",
      "source": [
        "\"\"\"\n",
        "1.1.1 Define\n",
        "There are 181 rows in this dataset that are retweets. I have identified them based non-null values in the \"retweeted_status_id\" column. \n",
        "These need to be removed from the dataset as we only want original tweets\n",
        "\"\"\"\n",
        "\n",
        "tweets_df_clean[tweets_df_clean['retweeted_status_id'].notnull()].shape[0]"
      ],
      "execution_count": 20,
      "outputs": [
        {
          "output_type": "execute_result",
          "data": {
            "text/plain": [
              "181"
            ]
          },
          "metadata": {
            "tags": []
          },
          "execution_count": 20
        }
      ]
    },
    {
      "metadata": {
        "id": "fgMT6kOsHm6g",
        "colab_type": "code",
        "colab": {}
      },
      "cell_type": "code",
      "source": [
        "\"\"\"\n",
        "1.1.1 Code\n",
        "\"\"\"\n",
        "\n",
        "tweets_df_clean.drop(tweets_df_clean[tweets_df_clean['retweeted_status_id'].notnull()].index, inplace = True)\n"
      ],
      "execution_count": 0,
      "outputs": []
    },
    {
      "metadata": {
        "id": "Pmz0B93BJZdq",
        "colab_type": "code",
        "colab": {}
      },
      "cell_type": "code",
      "source": [
        "\"\"\"\n",
        "1.1.1 Test\n",
        "Assertion: Original DF Row Count - Cleaned DF Row Count = Retweet Count\n",
        "\"\"\"\n",
        "\n",
        "assert (tweets_df.shape[0] - tweets_df_clean.shape[0] == tweets_df[tweets_df['retweeted_status_id'].notnull()].shape[0])\n",
        "# print('%s %d %s %d %s %d' % ('Org. Count: ', tweets_df.shape[0], 'New Count: ', tweets_df_clean.shape[0], 'Diff: ',  tweets_df[tweets_df['retweeted_status_id'].notnull()].shape[0]))"
      ],
      "execution_count": 0,
      "outputs": []
    },
    {
      "metadata": {
        "id": "x5vIjrtJNjDX",
        "colab_type": "code",
        "outputId": "091e320b-bdc0-4bac-865d-4771282ec7ea",
        "colab": {
          "base_uri": "https://localhost:8080/",
          "height": 204
        }
      },
      "cell_type": "code",
      "source": [
        "\"\"\"\n",
        "1.1.2 Define\n",
        "Remove the following columns from the dataset:\n",
        "\n",
        "in_reply_to_status_id\n",
        "in_reply_to_user_id\n",
        "retweeted_status_id\n",
        "retweeted_status_user_id\n",
        "retweeted_status_timestamp\n",
        "expanded_urls\n",
        "\"\"\"\n",
        "tweets_df_clean_drop_cols = ['in_reply_to_status_id', 'in_reply_to_user_id', 'retweeted_status_id', 'retweeted_status_user_id', 'retweeted_status_timestamp', 'expanded_urls']\n",
        "tweets_df_clean[tweets_df_clean_drop_cols].head()"
      ],
      "execution_count": 23,
      "outputs": [
        {
          "output_type": "execute_result",
          "data": {
            "text/html": [
              "<div>\n",
              "<style scoped>\n",
              "    .dataframe tbody tr th:only-of-type {\n",
              "        vertical-align: middle;\n",
              "    }\n",
              "\n",
              "    .dataframe tbody tr th {\n",
              "        vertical-align: top;\n",
              "    }\n",
              "\n",
              "    .dataframe thead th {\n",
              "        text-align: right;\n",
              "    }\n",
              "</style>\n",
              "<table border=\"1\" class=\"dataframe\">\n",
              "  <thead>\n",
              "    <tr style=\"text-align: right;\">\n",
              "      <th></th>\n",
              "      <th>in_reply_to_status_id</th>\n",
              "      <th>in_reply_to_user_id</th>\n",
              "      <th>retweeted_status_id</th>\n",
              "      <th>retweeted_status_user_id</th>\n",
              "      <th>retweeted_status_timestamp</th>\n",
              "      <th>expanded_urls</th>\n",
              "    </tr>\n",
              "  </thead>\n",
              "  <tbody>\n",
              "    <tr>\n",
              "      <th>0</th>\n",
              "      <td>NaN</td>\n",
              "      <td>NaN</td>\n",
              "      <td>NaN</td>\n",
              "      <td>NaN</td>\n",
              "      <td>NaN</td>\n",
              "      <td>https://twitter.com/dog_rates/status/892420643...</td>\n",
              "    </tr>\n",
              "    <tr>\n",
              "      <th>1</th>\n",
              "      <td>NaN</td>\n",
              "      <td>NaN</td>\n",
              "      <td>NaN</td>\n",
              "      <td>NaN</td>\n",
              "      <td>NaN</td>\n",
              "      <td>https://twitter.com/dog_rates/status/892177421...</td>\n",
              "    </tr>\n",
              "    <tr>\n",
              "      <th>2</th>\n",
              "      <td>NaN</td>\n",
              "      <td>NaN</td>\n",
              "      <td>NaN</td>\n",
              "      <td>NaN</td>\n",
              "      <td>NaN</td>\n",
              "      <td>https://twitter.com/dog_rates/status/891815181...</td>\n",
              "    </tr>\n",
              "    <tr>\n",
              "      <th>3</th>\n",
              "      <td>NaN</td>\n",
              "      <td>NaN</td>\n",
              "      <td>NaN</td>\n",
              "      <td>NaN</td>\n",
              "      <td>NaN</td>\n",
              "      <td>https://twitter.com/dog_rates/status/891689557...</td>\n",
              "    </tr>\n",
              "    <tr>\n",
              "      <th>4</th>\n",
              "      <td>NaN</td>\n",
              "      <td>NaN</td>\n",
              "      <td>NaN</td>\n",
              "      <td>NaN</td>\n",
              "      <td>NaN</td>\n",
              "      <td>https://twitter.com/dog_rates/status/891327558...</td>\n",
              "    </tr>\n",
              "  </tbody>\n",
              "</table>\n",
              "</div>"
            ],
            "text/plain": [
              "   in_reply_to_status_id  in_reply_to_user_id  retweeted_status_id  \\\n",
              "0                    NaN                  NaN                  NaN   \n",
              "1                    NaN                  NaN                  NaN   \n",
              "2                    NaN                  NaN                  NaN   \n",
              "3                    NaN                  NaN                  NaN   \n",
              "4                    NaN                  NaN                  NaN   \n",
              "\n",
              "   retweeted_status_user_id retweeted_status_timestamp  \\\n",
              "0                       NaN                        NaN   \n",
              "1                       NaN                        NaN   \n",
              "2                       NaN                        NaN   \n",
              "3                       NaN                        NaN   \n",
              "4                       NaN                        NaN   \n",
              "\n",
              "                                       expanded_urls  \n",
              "0  https://twitter.com/dog_rates/status/892420643...  \n",
              "1  https://twitter.com/dog_rates/status/892177421...  \n",
              "2  https://twitter.com/dog_rates/status/891815181...  \n",
              "3  https://twitter.com/dog_rates/status/891689557...  \n",
              "4  https://twitter.com/dog_rates/status/891327558...  "
            ]
          },
          "metadata": {
            "tags": []
          },
          "execution_count": 23
        }
      ]
    },
    {
      "metadata": {
        "id": "gnR2oHpDONzE",
        "colab_type": "code",
        "colab": {}
      },
      "cell_type": "code",
      "source": [
        "\"\"\"\n",
        "1.1.2 Code\n",
        "\"\"\"\n",
        "tweets_df_clean.drop(tweets_df_clean_drop_cols, axis = 1, inplace = True)"
      ],
      "execution_count": 0,
      "outputs": []
    },
    {
      "metadata": {
        "id": "Z6uf6YFIOdqI",
        "colab_type": "code",
        "colab": {}
      },
      "cell_type": "code",
      "source": [
        "\"\"\"\n",
        "1.1.2 Test\n",
        "\"\"\"\n",
        "\n",
        "assert not set(tweets_df_clean_drop_cols).issubset(tweets_df_clean.columns)"
      ],
      "execution_count": 0,
      "outputs": []
    },
    {
      "metadata": {
        "id": "ae_JevNSUoLP",
        "colab_type": "code",
        "outputId": "4a7fe394-0710-49c0-93e8-a40e1a9b1a2e",
        "colab": {
          "base_uri": "https://localhost:8080/",
          "height": 289
        }
      },
      "cell_type": "code",
      "source": [
        "\"\"\" \n",
        "1.1.3 Define\n",
        "The \"timestamp\" column is represented as a string and needs to be converted to datetime\n",
        "\"\"\"\n",
        "\n",
        "tweets_df_clean.info()"
      ],
      "execution_count": 26,
      "outputs": [
        {
          "output_type": "stream",
          "text": [
            "<class 'pandas.core.frame.DataFrame'>\n",
            "Int64Index: 2175 entries, 0 to 2355\n",
            "Data columns (total 11 columns):\n",
            "tweet_id              2175 non-null int64\n",
            "timestamp             2175 non-null object\n",
            "source                2175 non-null object\n",
            "text                  2175 non-null object\n",
            "rating_numerator      2175 non-null int64\n",
            "rating_denominator    2175 non-null int64\n",
            "name                  2175 non-null object\n",
            "doggo                 2175 non-null object\n",
            "floofer               2175 non-null object\n",
            "pupper                2175 non-null object\n",
            "puppo                 2175 non-null object\n",
            "dtypes: int64(3), object(8)\n",
            "memory usage: 203.9+ KB\n"
          ],
          "name": "stdout"
        }
      ]
    },
    {
      "metadata": {
        "id": "A7qvDlxgU3WA",
        "colab_type": "code",
        "colab": {}
      },
      "cell_type": "code",
      "source": [
        "\"\"\"\n",
        "1.1.3 Code\n",
        "\"\"\"\n",
        "\n",
        "tweets_df_clean['timestamp'] = pd.to_datetime(tweets_df_clean['timestamp'])"
      ],
      "execution_count": 0,
      "outputs": []
    },
    {
      "metadata": {
        "colab_type": "code",
        "outputId": "5b4399ef-131a-4096-fa60-b22ed41289fb",
        "id": "gjrVR3X6Yt2y",
        "colab": {
          "base_uri": "https://localhost:8080/",
          "height": 289
        }
      },
      "cell_type": "code",
      "source": [
        "\"\"\"\n",
        "1.1.3 Test\n",
        "\"\"\"\n",
        "\n",
        "tweets_df_clean.info()"
      ],
      "execution_count": 28,
      "outputs": [
        {
          "output_type": "stream",
          "text": [
            "<class 'pandas.core.frame.DataFrame'>\n",
            "Int64Index: 2175 entries, 0 to 2355\n",
            "Data columns (total 11 columns):\n",
            "tweet_id              2175 non-null int64\n",
            "timestamp             2175 non-null datetime64[ns]\n",
            "source                2175 non-null object\n",
            "text                  2175 non-null object\n",
            "rating_numerator      2175 non-null int64\n",
            "rating_denominator    2175 non-null int64\n",
            "name                  2175 non-null object\n",
            "doggo                 2175 non-null object\n",
            "floofer               2175 non-null object\n",
            "pupper                2175 non-null object\n",
            "puppo                 2175 non-null object\n",
            "dtypes: datetime64[ns](1), int64(3), object(7)\n",
            "memory usage: 203.9+ KB\n"
          ],
          "name": "stdout"
        }
      ]
    },
    {
      "metadata": {
        "id": "ysGxsJwIimX0",
        "colab_type": "code",
        "outputId": "098b1378-fb42-4718-f709-3748316ebe21",
        "colab": {
          "base_uri": "https://localhost:8080/",
          "height": 111
        }
      },
      "cell_type": "code",
      "source": [
        "\"\"\"\n",
        "1.1.4 Define\n",
        "Drop all tweets with timestamps greater than 8/1/2017 as per the project requirements\n",
        "\"\"\"\n",
        "tweets_df_clean.query('timestamp > \"08/01/2017\"')"
      ],
      "execution_count": 29,
      "outputs": [
        {
          "output_type": "execute_result",
          "data": {
            "text/html": [
              "<div>\n",
              "<style scoped>\n",
              "    .dataframe tbody tr th:only-of-type {\n",
              "        vertical-align: middle;\n",
              "    }\n",
              "\n",
              "    .dataframe tbody tr th {\n",
              "        vertical-align: top;\n",
              "    }\n",
              "\n",
              "    .dataframe thead th {\n",
              "        text-align: right;\n",
              "    }\n",
              "</style>\n",
              "<table border=\"1\" class=\"dataframe\">\n",
              "  <thead>\n",
              "    <tr style=\"text-align: right;\">\n",
              "      <th></th>\n",
              "      <th>tweet_id</th>\n",
              "      <th>timestamp</th>\n",
              "      <th>source</th>\n",
              "      <th>text</th>\n",
              "      <th>rating_numerator</th>\n",
              "      <th>rating_denominator</th>\n",
              "      <th>name</th>\n",
              "      <th>doggo</th>\n",
              "      <th>floofer</th>\n",
              "      <th>pupper</th>\n",
              "      <th>puppo</th>\n",
              "    </tr>\n",
              "  </thead>\n",
              "  <tbody>\n",
              "    <tr>\n",
              "      <th>0</th>\n",
              "      <td>892420643555336193</td>\n",
              "      <td>2017-08-01 16:23:56</td>\n",
              "      <td>&lt;a href=\"http://twitter.com/download/iphone\" r...</td>\n",
              "      <td>This is Phineas. He's a mystical boy. Only eve...</td>\n",
              "      <td>13</td>\n",
              "      <td>10</td>\n",
              "      <td>Phineas</td>\n",
              "      <td>None</td>\n",
              "      <td>None</td>\n",
              "      <td>None</td>\n",
              "      <td>None</td>\n",
              "    </tr>\n",
              "    <tr>\n",
              "      <th>1</th>\n",
              "      <td>892177421306343426</td>\n",
              "      <td>2017-08-01 00:17:27</td>\n",
              "      <td>&lt;a href=\"http://twitter.com/download/iphone\" r...</td>\n",
              "      <td>This is Tilly. She's just checking pup on you....</td>\n",
              "      <td>13</td>\n",
              "      <td>10</td>\n",
              "      <td>Tilly</td>\n",
              "      <td>None</td>\n",
              "      <td>None</td>\n",
              "      <td>None</td>\n",
              "      <td>None</td>\n",
              "    </tr>\n",
              "  </tbody>\n",
              "</table>\n",
              "</div>"
            ],
            "text/plain": [
              "             tweet_id           timestamp  \\\n",
              "0  892420643555336193 2017-08-01 16:23:56   \n",
              "1  892177421306343426 2017-08-01 00:17:27   \n",
              "\n",
              "                                              source  \\\n",
              "0  <a href=\"http://twitter.com/download/iphone\" r...   \n",
              "1  <a href=\"http://twitter.com/download/iphone\" r...   \n",
              "\n",
              "                                                text  rating_numerator  \\\n",
              "0  This is Phineas. He's a mystical boy. Only eve...                13   \n",
              "1  This is Tilly. She's just checking pup on you....                13   \n",
              "\n",
              "   rating_denominator     name doggo floofer pupper puppo  \n",
              "0                  10  Phineas  None    None   None  None  \n",
              "1                  10    Tilly  None    None   None  None  "
            ]
          },
          "metadata": {
            "tags": []
          },
          "execution_count": 29
        }
      ]
    },
    {
      "metadata": {
        "id": "9BXXPQyejCJ0",
        "colab_type": "code",
        "colab": {}
      },
      "cell_type": "code",
      "source": [
        "\"\"\"\n",
        "1.1.4 Code\n",
        "\"\"\"\n",
        "\n",
        "tweets_df_clean.drop(tweets_df_clean.query('timestamp > \"08/01/2017\"').index, inplace = True)"
      ],
      "execution_count": 0,
      "outputs": []
    },
    {
      "metadata": {
        "id": "QvCe-rmijeXe",
        "colab_type": "code",
        "colab": {}
      },
      "cell_type": "code",
      "source": [
        "\"\"\"\n",
        "1.1.4 Test\n",
        "\"\"\"\n",
        "\n",
        "assert tweets_df_clean.query('timestamp > \"08/01/2017\"').shape[0] == 0"
      ],
      "execution_count": 0,
      "outputs": []
    },
    {
      "metadata": {
        "id": "dhYvpawjWQwl",
        "colab_type": "code",
        "colab": {}
      },
      "cell_type": "code",
      "source": [
        "\"\"\"\n",
        "1.1.5 Define\n",
        "Dog stages are not fully recorded and many of them contain null values or values labeled as \"None\". \n",
        "We need to scan the tweet text and see if we can extract these values for each row\n",
        "\"\"\"\n",
        "\n",
        "dog_stages = ['doggo', 'floofer', 'pupper', 'puppo']\n",
        "[tweets_df_clean[dog_stages] == 'None']"
      ],
      "execution_count": 0,
      "outputs": []
    },
    {
      "metadata": {
        "colab_type": "code",
        "id": "qJYZfYpmYtVp",
        "colab": {}
      },
      "cell_type": "code",
      "source": [
        "\"\"\"\n",
        "1.1.5 Code\n",
        "In this cleaning exercise, I am going to transpose the the \"dog_stage columns\" to rows first to make the next steps easier\n",
        "\"\"\"\n",
        "\n",
        "dog_stage_df = pd.melt(tweets_df_clean[['tweet_id', 'text', 'doggo', 'floofer', 'pupper', 'puppo']], id_vars = ['tweet_id', 'text'], var_name = 'dog_stage_col', value_name = 'dog_stage')\n",
        "\n",
        "# Next, I am assigning the value \"doggo\" to the column 'dog_stage' in cases where the tweet text has the word \"doggo\" in it and the 'dog_stage' column has the value \"None\"\n",
        "dog_stage_df.loc[dog_stage_df[dog_stage_df['text'].str.contains('doggo ', case = False)].query('dog_stage_col == \"doggo\" and dog_stage == \"None\"').index, 'dog_stage'] = 'doggo'\n",
        "\n",
        "# Next, I am repeating the above for other 'dog_stage' values\n",
        "dog_stage_df.loc[dog_stage_df[dog_stage_df['text'].str.contains('floofer ', case = False)].query('dog_stage_col == \"floofer\" and dog_stage == \"None\"').index, 'dog_stage'] = 'floofer'\n",
        "dog_stage_df.loc[dog_stage_df[dog_stage_df['text'].str.contains('pupper ', case = False)].query('dog_stage_col == \"pupper\" and dog_stage == \"None\"').index, 'dog_stage'] = 'pupper'\n",
        "dog_stage_df.loc[dog_stage_df[dog_stage_df['text'].str.contains('puppo ', case = False)].query('dog_stage_col == \"puppo\" and dog_stage == \"None\"').index, 'dog_stage'] = 'puppo'\n"
      ],
      "execution_count": 0,
      "outputs": []
    },
    {
      "metadata": {
        "id": "cpBiq4gI5C2t",
        "colab_type": "code",
        "outputId": "3cfaf59a-9ff8-4880-d106-47539f9760ea",
        "colab": {
          "base_uri": "https://localhost:8080/",
          "height": 34
        }
      },
      "cell_type": "code",
      "source": [
        "\"\"\"\n",
        "The test below confirm that there are multiple dog stages tied to a single tweet id.\n",
        "Since I am not sure if this is good or bad data, I am going to err on the conservative side and treat it as good.\n",
        "Therefore, i am going to retain this as a separate dataset until I find evidence to the contrary\n",
        "However, I am going to get rid of all rows where the dog stage is None even after fixing the quality\n",
        "\"\"\"\n",
        "dog_stage_df[['tweet_id', 'dog_stage']].query('dog_stage != \"None\"').groupby('tweet_id').filter(lambda x: len(x) > 1).shape"
      ],
      "execution_count": 87,
      "outputs": [
        {
          "output_type": "execute_result",
          "data": {
            "text/plain": [
              "(24, 2)"
            ]
          },
          "metadata": {
            "tags": []
          },
          "execution_count": 87
        }
      ]
    },
    {
      "metadata": {
        "id": "V9LONoTO-QUk",
        "colab_type": "code",
        "colab": {}
      },
      "cell_type": "code",
      "source": [
        "\"\"\"\n",
        "We will begin with dropping the unnecessary columns\n",
        "\"\"\"\n",
        "# dog_stage_df.drop(['text', 'dog_stage_col'], axis = 1, inplace = True)\n",
        "# dog_stage_df.info()\n",
        "\n",
        "\"\"\"\n",
        "Next, we will drop all rows where the dog_stage column contains the value \"None\"\n",
        "\"\"\"\n",
        "\n",
        "dog_stage_df.drop(dog_stage_df.query('dog_stage == \"None\"').index, inplace = True)\n"
      ],
      "execution_count": 0,
      "outputs": []
    },
    {
      "metadata": {
        "id": "W-9Kqa3LZjfj",
        "colab_type": "code",
        "colab": {}
      },
      "cell_type": "code",
      "source": [
        "\"\"\"\n",
        "1.1.5 Test by visual inspection\n",
        "\"\"\"\n",
        "\n",
        "assert dog_stage_df.query('dog_stage == \"None\"').shape[0] == 0"
      ],
      "execution_count": 0,
      "outputs": []
    }
  ]
}