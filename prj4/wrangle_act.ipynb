{
  "nbformat": 4,
  "nbformat_minor": 0,
  "metadata": {
    "colab": {
      "name": "wrangle_act.ipynb",
      "version": "0.3.2",
      "provenance": [],
      "collapsed_sections": [],
      "include_colab_link": true
    },
    "kernelspec": {
      "name": "python3",
      "display_name": "Python 3"
    }
  },
  "cells": [
    {
      "cell_type": "markdown",
      "metadata": {
        "id": "view-in-github",
        "colab_type": "text"
      },
      "source": [
        "<a href=\"https://colab.research.google.com/github/bthodla/danano/blob/master/prj4/wrangle_act.ipynb\" target=\"_parent\"><img src=\"https://colab.research.google.com/assets/colab-badge.svg\" alt=\"Open In Colab\"/></a>"
      ]
    },
    {
      "metadata": {
        "id": "6MHgHyKUt_Uj",
        "colab_type": "text"
      },
      "cell_type": "markdown",
      "source": [
        "### Data to be gathered\n",
        "\n",
        "1.   Load the \"twitter-archive-enhanced.csv\" into a dataframe\n",
        "2.   Load the \"image_predictions.tsv\" (the Tweet image predictions) hosted on Udacity servers programmatically using the \"requests\" library (URL: https://d17h27t6h515a5.cloudfront.net/topher/2017/August/599fd2ad_image-predictions/image-predictions.tsv)\n",
        "3. Using tweet ids from (1) above and the Twitter API, load information such as \"retweet count\" and \"favorite count\" and any other interesting data items and store the entire set of data relating to a tweet in a JSON file called \"tweet_json.txt\"; then read this file line by line into a data frame and include tweet id, retweet count, favorite count and any other data items of interest\n",
        "4. Consumer API keys: \n",
        "    \n",
        "    Z22dLMPEOtCL2ayqnPTbFg3sK (API key)\n",
        "    \n",
        "    SuaxZay016BTIpzrYszo9Dbo0jQd38FZ8SUi0bDyy8hU6jMKdj (API secret key)\n",
        "    \n",
        "    Access token & access token secret\n",
        "\n",
        "    14299634-DHvEoZI9bR2D5WOZWf82MjHX6vEnPRIosIrli6ueb (Access token)\n",
        "\n",
        "    nvba5wXGFrEcYKmQjztu40wsr0vG2pXnQShE2ZQv6I313 (Access token secret)\n",
        "\n",
        "    Read and write (Access level)\n",
        "\n",
        "\n"
      ]
    },
    {
      "metadata": {
        "id": "CLeZDiDMhHv6",
        "colab_type": "code",
        "colab": {}
      },
      "cell_type": "code",
      "source": [
        "# Import the necessary libraries\n",
        "import pandas as pd\n",
        "import numpy as np\n",
        "import requests\n",
        "import io\n",
        "import tweepy\n",
        "import json"
      ],
      "execution_count": 0,
      "outputs": []
    },
    {
      "metadata": {
        "id": "6C3qa35miEux",
        "colab_type": "code",
        "outputId": "cf197eea-afb6-4559-8edd-4b13f8a7c880",
        "colab": {
          "base_uri": "https://localhost:8080/",
          "height": 391
        }
      },
      "cell_type": "code",
      "source": [
        "# 1. Load the file \"twitter-archive-enhanced.csv\" into a dataframe\n",
        "twitter_archive_file_url = 'https://raw.githubusercontent.com/bthodla/danano/master/prj4/twitter-archive-enhanced.csv'\n",
        "\n",
        "tweets_df = pd.read_csv(twitter_archive_file_url)\n",
        "\n",
        "tweets_df.info()"
      ],
      "execution_count": 10,
      "outputs": [
        {
          "output_type": "stream",
          "text": [
            "<class 'pandas.core.frame.DataFrame'>\n",
            "RangeIndex: 2356 entries, 0 to 2355\n",
            "Data columns (total 17 columns):\n",
            "tweet_id                      2356 non-null int64\n",
            "in_reply_to_status_id         78 non-null float64\n",
            "in_reply_to_user_id           78 non-null float64\n",
            "timestamp                     2356 non-null object\n",
            "source                        2356 non-null object\n",
            "text                          2356 non-null object\n",
            "retweeted_status_id           181 non-null float64\n",
            "retweeted_status_user_id      181 non-null float64\n",
            "retweeted_status_timestamp    181 non-null object\n",
            "expanded_urls                 2297 non-null object\n",
            "rating_numerator              2356 non-null int64\n",
            "rating_denominator            2356 non-null int64\n",
            "name                          2356 non-null object\n",
            "doggo                         2356 non-null object\n",
            "floofer                       2356 non-null object\n",
            "pupper                        2356 non-null object\n",
            "puppo                         2356 non-null object\n",
            "dtypes: float64(4), int64(3), object(10)\n",
            "memory usage: 313.0+ KB\n"
          ],
          "name": "stdout"
        }
      ]
    },
    {
      "metadata": {
        "id": "YXfHmi0ene-L",
        "colab_type": "code",
        "outputId": "ea833081-a629-4c89-89ce-6f07cb50c442",
        "colab": {
          "base_uri": "https://localhost:8080/",
          "height": 306
        }
      },
      "cell_type": "code",
      "source": [
        "# 2. Load the \"image_predictions.tsv\" (the Tweet image predictions) hosted on Udacity servers programmatically using the \"requests\" library\n",
        "\n",
        "image_predictions_file_url = 'https://d17h27t6h515a5.cloudfront.net/topher/2017/August/599fd2ad_image-predictions/image-predictions.tsv'\n",
        "\n",
        "url_data = requests.get(image_predictions_file_url).content\n",
        "\n",
        "img_pred_df = pd.read_csv(io.StringIO(url_data.decode('utf-8')), sep = '\\t')\n",
        "\n",
        "img_pred_df.info()"
      ],
      "execution_count": 9,
      "outputs": [
        {
          "output_type": "stream",
          "text": [
            "<class 'pandas.core.frame.DataFrame'>\n",
            "RangeIndex: 2075 entries, 0 to 2074\n",
            "Data columns (total 12 columns):\n",
            "tweet_id    2075 non-null int64\n",
            "jpg_url     2075 non-null object\n",
            "img_num     2075 non-null int64\n",
            "p1          2075 non-null object\n",
            "p1_conf     2075 non-null float64\n",
            "p1_dog      2075 non-null bool\n",
            "p2          2075 non-null object\n",
            "p2_conf     2075 non-null float64\n",
            "p2_dog      2075 non-null bool\n",
            "p3          2075 non-null object\n",
            "p3_conf     2075 non-null float64\n",
            "p3_dog      2075 non-null bool\n",
            "dtypes: bool(3), float64(3), int64(2), object(4)\n",
            "memory usage: 152.1+ KB\n"
          ],
          "name": "stdout"
        }
      ]
    },
    {
      "metadata": {
        "id": "uXGoehx6nemP",
        "colab_type": "code",
        "outputId": "5344c870-f078-448f-aad6-b95187345c82",
        "colab": {
          "base_uri": "https://localhost:8080/",
          "height": 1751
        }
      },
      "cell_type": "code",
      "source": [
        "\"\"\" 3. Using tweet ids from tweet_df and the Twitter API, load information such as \"retweet count\" and \"favorite count\" and any other interesting data items \n",
        "and store the entire set of data relating to a tweet in a JSON file called \"tweet_json.txt\"; \n",
        "then read this file line by line into a data frame and include tweet id, retweet count, favorite count and any other data items of interest\n",
        "\"\"\"\n",
        "\n",
        "consumer_key = 'Z22dLMPEOtCL2ayqnPTbFg3sK'\n",
        "consumer_secret = 'SuaxZay016BTIpzrYszo9Dbo0jQd38FZ8SUi0bDyy8hU6jMKdj'\n",
        "\n",
        "access_token = '14299634-DHvEoZI9bR2D5WOZWf82MjHX6vEnPRIosIrli6ueb'\n",
        "access_token_secret = 'nvba5wXGFrEcYKmQjztu40wsr0vG2pXnQShE2ZQv6I313'\n",
        "\n",
        "auth = tweepy.OAuthHandler(consumer_key, consumer_secret)\n",
        "auth.set_access_token(access_token, access_token_secret)\n",
        "\n",
        "api = tweepy.API(auth)\n",
        "\n",
        "\"\"\"\n",
        "public_tweets = api.home_timeline()\n",
        "for tweet in public_tweets:\n",
        "    print(tweet.text)\n",
        "\n",
        "print(user.screen_name)\n",
        "print(user.followers_count)\n",
        "for friend in user.friends():\n",
        "   print(friend.screen_name)\n",
        "\n",
        "\n",
        "\"\"\" \n",
        "count = 0\n",
        "error_tweets = []\n",
        "for i in tweets_df['tweet_id']:\n",
        "    try:\n",
        "        tweet = api.get_status(i)\n",
        "        count += 1\n",
        "        print ('%s %d %s %d' % ('Retweets: ', tweet.retweet_count, 'Favorites: ', tweet.favorite_count))\n",
        "\n",
        "        if count > 100:\n",
        "            break\n",
        "    except tweepy.TweepError as e:\n",
        "        error_tweets.append(i)\n",
        "        \n",
        "error_tweets"
      ],
      "execution_count": 22,
      "outputs": [
        {
          "output_type": "stream",
          "text": [
            "Retweets:  8232 Favorites:  37782\n",
            "Retweets:  6084 Favorites:  32455\n",
            "Retweets:  4027 Favorites:  24436\n",
            "Retweets:  8382 Favorites:  41114\n",
            "Retweets:  9089 Favorites:  39322\n",
            "Retweets:  3013 Favorites:  19769\n",
            "Retweets:  1992 Favorites:  11554\n",
            "Retweets:  18301 Favorites:  63723\n",
            "Retweets:  4142 Favorites:  27162\n",
            "Retweets:  7153 Favorites:  31146\n",
            "Retweets:  7112 Favorites:  29937\n",
            "Retweets:  4826 Favorites:  27152\n",
            "Retweets:  9733 Favorites:  46931\n",
            "Retweets:  4393 Favorites:  26467\n",
            "Retweets:  2184 Favorites:  14759\n",
            "Retweets:  5209 Favorites:  24631\n",
            "Retweets:  4368 Favorites:  28426\n",
            "Retweets:  4154 Favorites:  24941\n",
            "Retweets:  3433 Favorites:  19350\n",
            "Retweets:  3387 Favorites:  21234\n",
            "Retweets:  5222 Favorites:  29479\n",
            "Retweets:  11351 Favorites:  45165\n",
            "Retweets:  17629 Favorites:  67321\n",
            "Retweets:  10115 Favorites:  32870\n",
            "Retweets:  5786 Favorites:  29840\n",
            "Retweets:  7535 Favorites:  34277\n",
            "Retweets:  3174 Favorites:  11762\n",
            "Retweets:  4328 Favorites:  21906\n",
            "Retweets:  3106 Favorites:  20677\n",
            "Retweets:  4 Favorites:  116\n",
            "Retweets:  6110 Favorites:  27321\n",
            "Retweets:  104 Favorites:  0\n",
            "Retweets:  6563 Favorites:  31844\n",
            "Retweets:  6235 Favorites:  35088\n",
            "Retweets:  3641 Favorites:  19953\n",
            "Retweets:  17995 Favorites:  0\n",
            "Retweets:  4257 Favorites:  21382\n",
            "Retweets:  17716 Favorites:  75453\n",
            "Retweets:  5453 Favorites:  27237\n",
            "Retweets:  4554 Favorites:  23699\n",
            "Retweets:  5498 Favorites:  26362\n",
            "Retweets:  19915 Favorites:  71212\n",
            "Retweets:  2893 Favorites:  19867\n",
            "Retweets:  3349 Favorites:  21365\n",
            "Retweets:  9642 Favorites:  44801\n",
            "Retweets:  3601 Favorites:  22147\n",
            "Retweets:  6473 Favorites:  36278\n",
            "Retweets:  3810 Favorites:  23374\n",
            "Retweets:  4762 Favorites:  27627\n",
            "Retweets:  5915 Favorites:  27280\n",
            "Retweets:  11261 Favorites:  43857\n",
            "Retweets:  4816 Favorites:  28631\n",
            "Retweets:  3302 Favorites:  23748\n",
            "Retweets:  10375 Favorites:  49396\n",
            "Retweets:  7 Favorites:  124\n",
            "Retweets:  15511 Favorites:  48248\n",
            "Retweets:  5036 Favorites:  22565\n",
            "Retweets:  2706 Favorites:  16642\n",
            "Retweets:  3725 Favorites:  20759\n",
            "Retweets:  6104 Favorites:  27859\n",
            "Retweets:  4099 Favorites:  26383\n",
            "Retweets:  4222 Favorites:  26968\n",
            "Retweets:  3403 Favorites:  21818\n",
            "Retweets:  10 Favorites:  302\n",
            "Retweets:  3094 Favorites:  22877\n",
            "Retweets:  43069 Favorites:  103349\n",
            "Retweets:  3026 Favorites:  16404\n",
            "Retweets:  6634 Favorites:  0\n",
            "Retweets:  4581 Favorites:  22029\n",
            "Retweets:  2623 Favorites:  18548\n",
            "Retweets:  4018 Favorites:  18958\n",
            "Retweets:  7010 Favorites:  29556\n",
            "Retweets:  1252 Favorites:  0\n",
            "Retweets:  6474 Favorites:  0\n",
            "Retweets:  1252 Favorites:  7561\n",
            "Retweets:  6634 Favorites:  41065\n",
            "Retweets:  18601 Favorites:  77820\n",
            "Retweets:  78 Favorites:  0\n",
            "Retweets:  3702 Favorites:  22207\n",
            "Retweets:  5054 Favorites:  26767\n",
            "Retweets:  5438 Favorites:  26503\n",
            "Retweets:  3255 Favorites:  20227\n",
            "Retweets:  4528 Favorites:  23020\n",
            "Retweets:  2334 Favorites:  18347\n",
            "Retweets:  4571 Favorites:  27320\n",
            "Retweets:  4185 Favorites:  24641\n",
            "Retweets:  4819 Favorites:  21455\n",
            "Retweets:  5912 Favorites:  26816\n",
            "Retweets:  4613 Favorites:  24925\n",
            "Retweets:  4538 Favorites:  27229\n",
            "Retweets:  14379 Favorites:  0\n",
            "Retweets:  4016 Favorites:  25508\n",
            "Retweets:  3870 Favorites:  22230\n",
            "Retweets:  10182 Favorites:  33804\n",
            "Retweets:  3852 Favorites:  23713\n",
            "Retweets:  1552 Favorites:  0\n",
            "Retweets:  1552 Favorites:  7086\n",
            "Retweets:  5308 Favorites:  26782\n",
            "Retweets:  3626 Favorites:  14445\n",
            "Retweets:  3625 Favorites:  20381\n",
            "Retweets:  8860 Favorites:  39912\n"
          ],
          "name": "stdout"
        },
        {
          "output_type": "execute_result",
          "data": {
            "text/plain": [
              "[888202515573088257, 873697596434513921, 872668790621863937]"
            ]
          },
          "metadata": {
            "tags": []
          },
          "execution_count": 22
        }
      ]
    }
  ]
}