{
  "nbformat": 4,
  "nbformat_minor": 0,
  "metadata": {
    "colab": {
      "name": "wrangle_act.ipynb",
      "version": "0.3.2",
      "provenance": [],
      "collapsed_sections": [],
      "include_colab_link": true
    },
    "kernelspec": {
      "name": "python3",
      "display_name": "Python 3"
    }
  },
  "cells": [
    {
      "cell_type": "markdown",
      "metadata": {
        "id": "view-in-github",
        "colab_type": "text"
      },
      "source": [
        "<a href=\"https://colab.research.google.com/github/bthodla/danano/blob/master/prj4/wrangle_act.ipynb\" target=\"_parent\"><img src=\"https://colab.research.google.com/assets/colab-badge.svg\" alt=\"Open In Colab\"/></a>"
      ]
    },
    {
      "metadata": {
        "id": "6MHgHyKUt_Uj",
        "colab_type": "text"
      },
      "cell_type": "markdown",
      "source": [
        "### Gathering data\n",
        "\n",
        "1.   Load the \"twitter-archive-enhanced.csv\" into a dataframe\n",
        "2.   Load the \"image_predictions.tsv\" (the Tweet image predictions) hosted on Udacity servers programmatically using the \"requests\" library (URL: https://d17h27t6h515a5.cloudfront.net/topher/2017/August/599fd2ad_image-predictions/image-predictions.tsv)\n",
        "3. Using tweet ids from (1) above and the Twitter API, load information such as \"retweet count\" and \"favorite count\" and any other interesting data items and store the entire set of data relating to a tweet in a JSON file called \"tweet_json.txt\"; then read this file line by line into a data frame and include tweet id, retweet count, favorite count and any other data items of interest\n"
      ]
    },
    {
      "metadata": {
        "id": "CLeZDiDMhHv6",
        "colab_type": "code",
        "colab": {}
      },
      "cell_type": "code",
      "source": [
        "# Import the necessary libraries\n",
        "import pandas as pd\n",
        "import numpy as np\n",
        "import requests\n",
        "import io\n",
        "import tweepy\n",
        "import json\n",
        "from google.colab import drive\n",
        "import yaml\n",
        "import time\n",
        "import os\n"
      ],
      "execution_count": 0,
      "outputs": []
    },
    {
      "metadata": {
        "id": "0M0qep9Flhtx",
        "colab_type": "code",
        "colab": {}
      },
      "cell_type": "code",
      "source": [
        "def load_yaml_file(filename: str) -> dict:\n",
        "    twitter_keys = {}\n",
        "\n",
        "    with open(filename, 'r') as ymlfile:\n",
        "        cfg = yaml.safe_load(ymlfile)\n",
        "    \n",
        "    twitter_keys['consumer_key'] = cfg['twitter']['consumer']['key']\n",
        "    twitter_keys['consumer_secret'] = cfg['twitter']['consumer']['secret']\n",
        "    twitter_keys['access_token'] = cfg['twitter']['access']['token']\n",
        "    twitter_keys['access_token_secret'] = cfg['twitter']['access']['token-secret']\n",
        "\n",
        "    return twitter_keys"
      ],
      "execution_count": 0,
      "outputs": []
    },
    {
      "metadata": {
        "id": "bbUVJeB4p56h",
        "colab_type": "code",
        "colab": {}
      },
      "cell_type": "code",
      "source": [
        "def print_file(file_name, lines = 10):\n",
        "    with open(file_name, 'r') as f:\n",
        "        for _ in range(lines):\n",
        "            print (f.readline())\n",
        "        "
      ],
      "execution_count": 0,
      "outputs": []
    },
    {
      "metadata": {
        "id": "OAAc2CBNljDo",
        "colab_type": "code",
        "outputId": "54c8e79d-bf6d-40ed-a537-ca4d83d7ad24",
        "colab": {
          "base_uri": "https://localhost:8080/",
          "height": 139
        }
      },
      "cell_type": "code",
      "source": [
        "drive.mount('/content/gdrive')\n",
        "twitter_keys_yaml_file = '/content/gdrive/My Drive/Colab Notebooks/twitter_keys.yaml'\n",
        "tweet_json_file = '/content/gdrive/My Drive/Colab Notebooks/tweet_json.txt'\n",
        "twitter_archive_master_file = '/content/gdrive/My Drive/Colab Notebooks/twitter_archive_master.csv'\n",
        "dog_stage_file = '/content/gdrive/My Drive/Colab Notebooks/dog_stage.csv'\n",
        "\n",
        "\"\"\"\n",
        "with open(twitter_keys_yaml_file, encoding='utf-8') as file:\n",
        "    line = file.readline()\n",
        "    while line:\n",
        "        line = file.readline()\n",
        "        print(line)\n",
        "\"\"\"\n",
        "print(load_yaml_file(twitter_keys_yaml_file))\n"
      ],
      "execution_count": 5,
      "outputs": [
        {
          "output_type": "stream",
          "text": [
            "Go to this URL in a browser: https://accounts.google.com/o/oauth2/auth?client_id=947318989803-6bn6qk8qdgf4n4g3pfee6491hc0brc4i.apps.googleusercontent.com&redirect_uri=urn%3Aietf%3Awg%3Aoauth%3A2.0%3Aoob&scope=email%20https%3A%2F%2Fwww.googleapis.com%2Fauth%2Fdocs.test%20https%3A%2F%2Fwww.googleapis.com%2Fauth%2Fdrive%20https%3A%2F%2Fwww.googleapis.com%2Fauth%2Fdrive.photos.readonly%20https%3A%2F%2Fwww.googleapis.com%2Fauth%2Fpeopleapi.readonly&response_type=code\n",
            "\n",
            "Enter your authorization code:\n",
            "··········\n",
            "Mounted at /content/gdrive\n",
            "{'consumer_key': 'Z22dLMPEOtCL2ayqnPTbFg3sK', 'consumer_secret': 'SuaxZay016BTIpzrYszo9Dbo0jQd38FZ8SUi0bDyy8hU6jMKdj', 'access_token': '14299634-DHvEoZI9bR2D5WOZWf82MjHX6vEnPRIosIrli6ueb', 'access_token_secret': 'nvba5wXGFrEcYKmQjztu40wsr0vG2pXnQShE2ZQv6I313'}\n"
          ],
          "name": "stdout"
        }
      ]
    },
    {
      "metadata": {
        "id": "6C3qa35miEux",
        "colab_type": "code",
        "outputId": "617021de-76ac-40c1-b20e-6ab2ffdd662a",
        "colab": {
          "base_uri": "https://localhost:8080/",
          "height": 34
        }
      },
      "cell_type": "code",
      "source": [
        "# 1. Load the file \"twitter-archive-enhanced.csv\" into a dataframe\n",
        "twitter_archive_file_url = 'https://raw.githubusercontent.com/bthodla/danano/master/prj4/twitter-archive-enhanced.csv'\n",
        "\n",
        "tweets_df = pd.read_csv(twitter_archive_file_url)\n",
        "\n",
        "tweet_count = tweets_df.shape[0]\n",
        "print ('%s %d' % ('Tweet Count: ', tweet_count))"
      ],
      "execution_count": 6,
      "outputs": [
        {
          "output_type": "stream",
          "text": [
            "Tweet Count:  2356\n"
          ],
          "name": "stdout"
        }
      ]
    },
    {
      "metadata": {
        "id": "YXfHmi0ene-L",
        "colab_type": "code",
        "colab": {}
      },
      "cell_type": "code",
      "source": [
        "# 2. Load the \"image_predictions.tsv\" (the Tweet image predictions) hosted on Udacity servers programmatically using the \"requests\" library\n",
        "\n",
        "image_predictions_file_url = 'https://d17h27t6h515a5.cloudfront.net/topher/2017/August/599fd2ad_image-predictions/image-predictions.tsv'\n",
        "\n",
        "url_data = requests.get(image_predictions_file_url).content\n",
        "\n",
        "img_pred_df = pd.read_csv(io.StringIO(url_data.decode('utf-8')), sep = '\\t')\n"
      ],
      "execution_count": 0,
      "outputs": []
    },
    {
      "metadata": {
        "id": "uXGoehx6nemP",
        "colab_type": "code",
        "outputId": "a2047b72-a5d7-4f3f-f15e-a548ebfc1df2",
        "colab": {
          "base_uri": "https://localhost:8080/",
          "height": 51
        }
      },
      "cell_type": "code",
      "source": [
        "\"\"\" 3. Using tweet ids from tweet_df and the Twitter API, load information such as \"retweet count\" and \"favorite count\" and any other interesting data items \n",
        "and store the entire set of data relating to a tweet in a JSON file called \"tweet_json.txt\"; then read this file line by line into a data frame and include \n",
        "tweet id, retweet count, favorite count and any other data items of interest\n",
        "\"\"\"\n",
        "\n",
        "twitter_keys = load_yaml_file(twitter_keys_yaml_file)\n",
        "consumer_key = twitter_keys['consumer_key']\n",
        "consumer_secret = twitter_keys['consumer_secret']\n",
        "access_token = twitter_keys['access_token']\n",
        "access_token_secret = twitter_keys['access_token_secret']\n",
        "\n",
        "auth = tweepy.OAuthHandler(consumer_key, consumer_secret)\n",
        "auth.set_access_token(access_token, access_token_secret)\n",
        "\n",
        "api = tweepy.API(auth, wait_on_rate_limit = True, wait_on_rate_limit_notify = True)\n",
        "\n",
        "error_tweets = {}\n",
        "tweet_offset = 0\n",
        "tweet_batch = 100\n",
        "tweets_remaining = 0\n",
        "\n",
        "# Delete the file first so that each run can add content fresh\n",
        "if os.path.isfile(tweet_json_file):\n",
        "    os.remove(tweet_json_file)\n",
        "\n",
        "with open(tweet_json_file, mode = 'a', encoding = 'utf-8') as f:\n",
        "    while tweet_batch:\n",
        "        tweet_ids = tweets_df[tweet_offset:tweet_offset + tweet_batch]['tweet_id']\n",
        "        for tweet_id in tweet_ids:\n",
        "            try:\n",
        "                status = api.get_status(tweet_id)\n",
        "                f.write(json.dumps(status._json) + '\\n')\n",
        "\n",
        "            except tweepy.TweepError as e:\n",
        "                error_tweets[status.id] = e\n",
        "            \n",
        "        tweets_remaining = tweet_count - tweet_offset\n",
        "        tweet_batch = tweet_batch if tweet_batch < tweets_remaining else tweets_remaining\n",
        "        tweet_offset += tweet_batch\n",
        "        # print ('%s %d %s %d' % ('Tweets Remaining: ', tweets_remaining, 'Tweet Offset: ', tweet_offset))\n",
        "        # time.sleep(1 * 5)\n"
      ],
      "execution_count": 0,
      "outputs": [
        {
          "output_type": "stream",
          "text": [
            "Rate limit reached. Sleeping for: 765\n",
            "Rate limit reached. Sleeping for: 768\n"
          ],
          "name": "stderr"
        }
      ]
    },
    {
      "metadata": {
        "id": "tafWMMk53G23",
        "colab_type": "code",
        "colab": {}
      },
      "cell_type": "code",
      "source": [
        "with open(tweet_json_file, mode = 'r', encoding = 'utf-8') as f:\n",
        "    print('%s %d %s %d' % ('Valid tweet count: ', len(f.readlines()), 'Error tweet count: ', len(error_tweets)))"
      ],
      "execution_count": 0,
      "outputs": []
    },
    {
      "metadata": {
        "id": "dAgIUK19TShf",
        "colab_type": "code",
        "colab": {}
      },
      "cell_type": "code",
      "source": [
        "# Read \"tweet_json.txt\" file line by line into a data frame and include tweet id, retweet count, favorite count and any other data items of interest\n",
        "\n",
        "columns = ['tweet_id', 'text', 'retweet_count', 'favorite_count', 'retweeted', 'favorited', 'media_url']\n",
        "tweets_mini_df = pd.DataFrame(columns = columns)\n",
        "\n",
        "index = 0\n",
        "with open(tweet_json_file, mode = 'r', encoding = 'utf-8') as f:\n",
        "    for tweet in f:\n",
        "        tweet_json = json.loads(tweet)\n",
        "        tweet_id = tweet_json['id']\n",
        "        text = tweet_json['text']\n",
        "        retweet_count = tweet_json['retweet_count']\n",
        "        favorite_count = tweet_json['favorite_count']\n",
        "        retweeted = tweet_json['retweeted']\n",
        "        favorited = tweet_json['favorited']\n",
        "        try:\n",
        "            media_url = tweet_json['entities']['media'][0]['media_url_https']\n",
        "        except KeyError as e:\n",
        "            media_url = ''\n",
        "\n",
        "        tweets_mini_df.loc[index] = pd.Series({'tweet_id': tweet_id, \n",
        "                                        'text': text, \n",
        "                                        'retweet_count': retweet_count, \n",
        "                                        'favorite_count': favorite_count,\n",
        "                                        'retweeted': retweeted,\n",
        "                                        'favorited': favorited,\n",
        "                                        'media_url': media_url})\n",
        "        index +=1\n"
      ],
      "execution_count": 0,
      "outputs": []
    },
    {
      "metadata": {
        "id": "tj0ikwBvF_qT",
        "colab_type": "text"
      },
      "cell_type": "markdown",
      "source": [
        "### Assessing data\n"
      ]
    },
    {
      "metadata": {
        "id": "YXffn4IMdRRe",
        "colab_type": "text"
      },
      "cell_type": "markdown",
      "source": [
        "#### twitter-archive-enhanced.csv"
      ]
    },
    {
      "metadata": {
        "id": "KVAIX-cR3sq_",
        "colab_type": "code",
        "outputId": "bd253791-258d-45d2-e138-47a17b1a3ac3",
        "colab": {
          "base_uri": "https://localhost:8080/",
          "height": 391
        }
      },
      "cell_type": "code",
      "source": [
        "tweets_df.info()"
      ],
      "execution_count": 9,
      "outputs": [
        {
          "output_type": "stream",
          "text": [
            "<class 'pandas.core.frame.DataFrame'>\n",
            "RangeIndex: 2356 entries, 0 to 2355\n",
            "Data columns (total 17 columns):\n",
            "tweet_id                      2356 non-null int64\n",
            "in_reply_to_status_id         78 non-null float64\n",
            "in_reply_to_user_id           78 non-null float64\n",
            "timestamp                     2356 non-null object\n",
            "source                        2356 non-null object\n",
            "text                          2356 non-null object\n",
            "retweeted_status_id           181 non-null float64\n",
            "retweeted_status_user_id      181 non-null float64\n",
            "retweeted_status_timestamp    181 non-null object\n",
            "expanded_urls                 2297 non-null object\n",
            "rating_numerator              2356 non-null int64\n",
            "rating_denominator            2356 non-null int64\n",
            "name                          2356 non-null object\n",
            "doggo                         2356 non-null object\n",
            "floofer                       2356 non-null object\n",
            "pupper                        2356 non-null object\n",
            "puppo                         2356 non-null object\n",
            "dtypes: float64(4), int64(3), object(10)\n",
            "memory usage: 313.0+ KB\n"
          ],
          "name": "stdout"
        }
      ]
    },
    {
      "metadata": {
        "id": "RnzdB2c43u_n",
        "colab_type": "code",
        "outputId": "e09c68a6-36f1-4ffd-a36d-874a4b06ba50",
        "colab": {
          "base_uri": "https://localhost:8080/",
          "height": 615
        }
      },
      "cell_type": "code",
      "source": [
        "tweets_df.sample(5)"
      ],
      "execution_count": 10,
      "outputs": [
        {
          "output_type": "execute_result",
          "data": {
            "text/html": [
              "<div>\n",
              "<style scoped>\n",
              "    .dataframe tbody tr th:only-of-type {\n",
              "        vertical-align: middle;\n",
              "    }\n",
              "\n",
              "    .dataframe tbody tr th {\n",
              "        vertical-align: top;\n",
              "    }\n",
              "\n",
              "    .dataframe thead th {\n",
              "        text-align: right;\n",
              "    }\n",
              "</style>\n",
              "<table border=\"1\" class=\"dataframe\">\n",
              "  <thead>\n",
              "    <tr style=\"text-align: right;\">\n",
              "      <th></th>\n",
              "      <th>tweet_id</th>\n",
              "      <th>in_reply_to_status_id</th>\n",
              "      <th>in_reply_to_user_id</th>\n",
              "      <th>timestamp</th>\n",
              "      <th>source</th>\n",
              "      <th>text</th>\n",
              "      <th>retweeted_status_id</th>\n",
              "      <th>retweeted_status_user_id</th>\n",
              "      <th>retweeted_status_timestamp</th>\n",
              "      <th>expanded_urls</th>\n",
              "      <th>rating_numerator</th>\n",
              "      <th>rating_denominator</th>\n",
              "      <th>name</th>\n",
              "      <th>doggo</th>\n",
              "      <th>floofer</th>\n",
              "      <th>pupper</th>\n",
              "      <th>puppo</th>\n",
              "    </tr>\n",
              "  </thead>\n",
              "  <tbody>\n",
              "    <tr>\n",
              "      <th>1310</th>\n",
              "      <td>707038192327901184</td>\n",
              "      <td>NaN</td>\n",
              "      <td>NaN</td>\n",
              "      <td>2016-03-08 03:00:15 +0000</td>\n",
              "      <td>&lt;a href=\"http://twitter.com/download/iphone\" r...</td>\n",
              "      <td>This is Kathmandu. He sees every move you make...</td>\n",
              "      <td>NaN</td>\n",
              "      <td>NaN</td>\n",
              "      <td>NaN</td>\n",
              "      <td>https://twitter.com/dog_rates/status/707038192...</td>\n",
              "      <td>10</td>\n",
              "      <td>10</td>\n",
              "      <td>Kathmandu</td>\n",
              "      <td>None</td>\n",
              "      <td>None</td>\n",
              "      <td>None</td>\n",
              "      <td>None</td>\n",
              "    </tr>\n",
              "    <tr>\n",
              "      <th>102</th>\n",
              "      <td>872620804844003328</td>\n",
              "      <td>NaN</td>\n",
              "      <td>NaN</td>\n",
              "      <td>2017-06-08 01:06:27 +0000</td>\n",
              "      <td>&lt;a href=\"http://twitter.com/download/iphone\" r...</td>\n",
              "      <td>This is Monkey. She's supporting owners everyw...</td>\n",
              "      <td>NaN</td>\n",
              "      <td>NaN</td>\n",
              "      <td>NaN</td>\n",
              "      <td>https://twitter.com/dog_rates/status/872620804...</td>\n",
              "      <td>13</td>\n",
              "      <td>10</td>\n",
              "      <td>Monkey</td>\n",
              "      <td>None</td>\n",
              "      <td>None</td>\n",
              "      <td>None</td>\n",
              "      <td>None</td>\n",
              "    </tr>\n",
              "    <tr>\n",
              "      <th>2321</th>\n",
              "      <td>666435652385423360</td>\n",
              "      <td>NaN</td>\n",
              "      <td>NaN</td>\n",
              "      <td>2015-11-17 02:00:15 +0000</td>\n",
              "      <td>&lt;a href=\"http://twitter.com/download/iphone\" r...</td>\n",
              "      <td>\"Can you behave? You're ruining my wedding day...</td>\n",
              "      <td>NaN</td>\n",
              "      <td>NaN</td>\n",
              "      <td>NaN</td>\n",
              "      <td>https://twitter.com/dog_rates/status/666435652...</td>\n",
              "      <td>10</td>\n",
              "      <td>10</td>\n",
              "      <td>None</td>\n",
              "      <td>None</td>\n",
              "      <td>None</td>\n",
              "      <td>None</td>\n",
              "      <td>None</td>\n",
              "    </tr>\n",
              "    <tr>\n",
              "      <th>1930</th>\n",
              "      <td>674038233588723717</td>\n",
              "      <td>NaN</td>\n",
              "      <td>NaN</td>\n",
              "      <td>2015-12-08 01:30:12 +0000</td>\n",
              "      <td>&lt;a href=\"http://twitter.com/download/iphone\" r...</td>\n",
              "      <td>This is Kaiya. She's an aspiring shoe model. 1...</td>\n",
              "      <td>NaN</td>\n",
              "      <td>NaN</td>\n",
              "      <td>NaN</td>\n",
              "      <td>https://twitter.com/dog_rates/status/674038233...</td>\n",
              "      <td>12</td>\n",
              "      <td>10</td>\n",
              "      <td>Kaiya</td>\n",
              "      <td>None</td>\n",
              "      <td>None</td>\n",
              "      <td>pupper</td>\n",
              "      <td>None</td>\n",
              "    </tr>\n",
              "    <tr>\n",
              "      <th>370</th>\n",
              "      <td>828409743546925057</td>\n",
              "      <td>NaN</td>\n",
              "      <td>NaN</td>\n",
              "      <td>2017-02-06 01:07:28 +0000</td>\n",
              "      <td>&lt;a href=\"http://twitter.com/download/iphone\" r...</td>\n",
              "      <td>This is Mutt Ryan. He's quite confident at the...</td>\n",
              "      <td>NaN</td>\n",
              "      <td>NaN</td>\n",
              "      <td>NaN</td>\n",
              "      <td>https://twitter.com/dog_rates/status/828409743...</td>\n",
              "      <td>12</td>\n",
              "      <td>10</td>\n",
              "      <td>Mutt</td>\n",
              "      <td>None</td>\n",
              "      <td>None</td>\n",
              "      <td>None</td>\n",
              "      <td>None</td>\n",
              "    </tr>\n",
              "  </tbody>\n",
              "</table>\n",
              "</div>"
            ],
            "text/plain": [
              "                tweet_id  in_reply_to_status_id  in_reply_to_user_id  \\\n",
              "1310  707038192327901184                    NaN                  NaN   \n",
              "102   872620804844003328                    NaN                  NaN   \n",
              "2321  666435652385423360                    NaN                  NaN   \n",
              "1930  674038233588723717                    NaN                  NaN   \n",
              "370   828409743546925057                    NaN                  NaN   \n",
              "\n",
              "                      timestamp  \\\n",
              "1310  2016-03-08 03:00:15 +0000   \n",
              "102   2017-06-08 01:06:27 +0000   \n",
              "2321  2015-11-17 02:00:15 +0000   \n",
              "1930  2015-12-08 01:30:12 +0000   \n",
              "370   2017-02-06 01:07:28 +0000   \n",
              "\n",
              "                                                 source  \\\n",
              "1310  <a href=\"http://twitter.com/download/iphone\" r...   \n",
              "102   <a href=\"http://twitter.com/download/iphone\" r...   \n",
              "2321  <a href=\"http://twitter.com/download/iphone\" r...   \n",
              "1930  <a href=\"http://twitter.com/download/iphone\" r...   \n",
              "370   <a href=\"http://twitter.com/download/iphone\" r...   \n",
              "\n",
              "                                                   text  retweeted_status_id  \\\n",
              "1310  This is Kathmandu. He sees every move you make...                  NaN   \n",
              "102   This is Monkey. She's supporting owners everyw...                  NaN   \n",
              "2321  \"Can you behave? You're ruining my wedding day...                  NaN   \n",
              "1930  This is Kaiya. She's an aspiring shoe model. 1...                  NaN   \n",
              "370   This is Mutt Ryan. He's quite confident at the...                  NaN   \n",
              "\n",
              "      retweeted_status_user_id retweeted_status_timestamp  \\\n",
              "1310                       NaN                        NaN   \n",
              "102                        NaN                        NaN   \n",
              "2321                       NaN                        NaN   \n",
              "1930                       NaN                        NaN   \n",
              "370                        NaN                        NaN   \n",
              "\n",
              "                                          expanded_urls  rating_numerator  \\\n",
              "1310  https://twitter.com/dog_rates/status/707038192...                10   \n",
              "102   https://twitter.com/dog_rates/status/872620804...                13   \n",
              "2321  https://twitter.com/dog_rates/status/666435652...                10   \n",
              "1930  https://twitter.com/dog_rates/status/674038233...                12   \n",
              "370   https://twitter.com/dog_rates/status/828409743...                12   \n",
              "\n",
              "      rating_denominator       name doggo floofer  pupper puppo  \n",
              "1310                  10  Kathmandu  None    None    None  None  \n",
              "102                   10     Monkey  None    None    None  None  \n",
              "2321                  10       None  None    None    None  None  \n",
              "1930                  10      Kaiya  None    None  pupper  None  \n",
              "370                   10       Mutt  None    None    None  None  "
            ]
          },
          "metadata": {
            "tags": []
          },
          "execution_count": 10
        }
      ]
    },
    {
      "metadata": {
        "id": "1QUPyIRj3yNo",
        "colab_type": "code",
        "outputId": "e14ff68a-ef0a-491e-8d5d-dceb488ea2b4",
        "colab": {
          "base_uri": "https://localhost:8080/",
          "height": 34
        }
      },
      "cell_type": "code",
      "source": [
        "tweets_df.shape"
      ],
      "execution_count": 11,
      "outputs": [
        {
          "output_type": "execute_result",
          "data": {
            "text/plain": [
              "(2356, 17)"
            ]
          },
          "metadata": {
            "tags": []
          },
          "execution_count": 11
        }
      ]
    },
    {
      "metadata": {
        "id": "i0Z6HA0Q4JUK",
        "colab_type": "text"
      },
      "cell_type": "markdown",
      "source": [
        "#### image_predictions.tsv"
      ]
    },
    {
      "metadata": {
        "id": "Qmy2GffK4ZN0",
        "colab_type": "code",
        "outputId": "57516624-540a-4645-899f-e34a133ec19d",
        "colab": {
          "base_uri": "https://localhost:8080/",
          "height": 306
        }
      },
      "cell_type": "code",
      "source": [
        "img_pred_df.info()"
      ],
      "execution_count": 12,
      "outputs": [
        {
          "output_type": "stream",
          "text": [
            "<class 'pandas.core.frame.DataFrame'>\n",
            "RangeIndex: 2075 entries, 0 to 2074\n",
            "Data columns (total 12 columns):\n",
            "tweet_id    2075 non-null int64\n",
            "jpg_url     2075 non-null object\n",
            "img_num     2075 non-null int64\n",
            "p1          2075 non-null object\n",
            "p1_conf     2075 non-null float64\n",
            "p1_dog      2075 non-null bool\n",
            "p2          2075 non-null object\n",
            "p2_conf     2075 non-null float64\n",
            "p2_dog      2075 non-null bool\n",
            "p3          2075 non-null object\n",
            "p3_conf     2075 non-null float64\n",
            "p3_dog      2075 non-null bool\n",
            "dtypes: bool(3), float64(3), int64(2), object(4)\n",
            "memory usage: 152.1+ KB\n"
          ],
          "name": "stdout"
        }
      ]
    },
    {
      "metadata": {
        "id": "XsdTrDXq4hjL",
        "colab_type": "code",
        "outputId": "5eca7491-fd48-4df3-e01a-44464a686f44",
        "colab": {
          "base_uri": "https://localhost:8080/",
          "height": 204
        }
      },
      "cell_type": "code",
      "source": [
        "img_pred_df.sample(5)"
      ],
      "execution_count": 13,
      "outputs": [
        {
          "output_type": "execute_result",
          "data": {
            "text/html": [
              "<div>\n",
              "<style scoped>\n",
              "    .dataframe tbody tr th:only-of-type {\n",
              "        vertical-align: middle;\n",
              "    }\n",
              "\n",
              "    .dataframe tbody tr th {\n",
              "        vertical-align: top;\n",
              "    }\n",
              "\n",
              "    .dataframe thead th {\n",
              "        text-align: right;\n",
              "    }\n",
              "</style>\n",
              "<table border=\"1\" class=\"dataframe\">\n",
              "  <thead>\n",
              "    <tr style=\"text-align: right;\">\n",
              "      <th></th>\n",
              "      <th>tweet_id</th>\n",
              "      <th>jpg_url</th>\n",
              "      <th>img_num</th>\n",
              "      <th>p1</th>\n",
              "      <th>p1_conf</th>\n",
              "      <th>p1_dog</th>\n",
              "      <th>p2</th>\n",
              "      <th>p2_conf</th>\n",
              "      <th>p2_dog</th>\n",
              "      <th>p3</th>\n",
              "      <th>p3_conf</th>\n",
              "      <th>p3_dog</th>\n",
              "    </tr>\n",
              "  </thead>\n",
              "  <tbody>\n",
              "    <tr>\n",
              "      <th>1459</th>\n",
              "      <td>778027034220126208</td>\n",
              "      <td>https://pbs.twimg.com/media/Cswbc2yWcAAVsCJ.jpg</td>\n",
              "      <td>1</td>\n",
              "      <td>clumber</td>\n",
              "      <td>0.946718</td>\n",
              "      <td>True</td>\n",
              "      <td>cocker_spaniel</td>\n",
              "      <td>0.015950</td>\n",
              "      <td>True</td>\n",
              "      <td>Lhasa</td>\n",
              "      <td>0.006519</td>\n",
              "      <td>True</td>\n",
              "    </tr>\n",
              "    <tr>\n",
              "      <th>572</th>\n",
              "      <td>678410210315247616</td>\n",
              "      <td>https://pbs.twimg.com/media/CWoyfMiWUAAmGdd.jpg</td>\n",
              "      <td>1</td>\n",
              "      <td>schipperke</td>\n",
              "      <td>0.145877</td>\n",
              "      <td>True</td>\n",
              "      <td>Labrador_retriever</td>\n",
              "      <td>0.098354</td>\n",
              "      <td>True</td>\n",
              "      <td>kelpie</td>\n",
              "      <td>0.097393</td>\n",
              "      <td>True</td>\n",
              "    </tr>\n",
              "    <tr>\n",
              "      <th>1070</th>\n",
              "      <td>716285507865542656</td>\n",
              "      <td>https://pbs.twimg.com/media/CfDB3aJXEAAEZNv.jpg</td>\n",
              "      <td>1</td>\n",
              "      <td>Yorkshire_terrier</td>\n",
              "      <td>0.430420</td>\n",
              "      <td>True</td>\n",
              "      <td>silky_terrier</td>\n",
              "      <td>0.196769</td>\n",
              "      <td>True</td>\n",
              "      <td>cairn</td>\n",
              "      <td>0.072676</td>\n",
              "      <td>True</td>\n",
              "    </tr>\n",
              "    <tr>\n",
              "      <th>1111</th>\n",
              "      <td>724046343203856385</td>\n",
              "      <td>https://pbs.twimg.com/media/CgxUTS_XEAAC0pv.jpg</td>\n",
              "      <td>1</td>\n",
              "      <td>boxer</td>\n",
              "      <td>0.826272</td>\n",
              "      <td>True</td>\n",
              "      <td>bull_mastiff</td>\n",
              "      <td>0.158595</td>\n",
              "      <td>True</td>\n",
              "      <td>Great_Dane</td>\n",
              "      <td>0.011859</td>\n",
              "      <td>True</td>\n",
              "    </tr>\n",
              "    <tr>\n",
              "      <th>896</th>\n",
              "      <td>699691744225525762</td>\n",
              "      <td>https://pbs.twimg.com/media/CbXN7aPWIAE0Xt1.jpg</td>\n",
              "      <td>1</td>\n",
              "      <td>hippopotamus</td>\n",
              "      <td>0.982269</td>\n",
              "      <td>False</td>\n",
              "      <td>sea_lion</td>\n",
              "      <td>0.006295</td>\n",
              "      <td>False</td>\n",
              "      <td>dugong</td>\n",
              "      <td>0.005768</td>\n",
              "      <td>False</td>\n",
              "    </tr>\n",
              "  </tbody>\n",
              "</table>\n",
              "</div>"
            ],
            "text/plain": [
              "                tweet_id                                          jpg_url  \\\n",
              "1459  778027034220126208  https://pbs.twimg.com/media/Cswbc2yWcAAVsCJ.jpg   \n",
              "572   678410210315247616  https://pbs.twimg.com/media/CWoyfMiWUAAmGdd.jpg   \n",
              "1070  716285507865542656  https://pbs.twimg.com/media/CfDB3aJXEAAEZNv.jpg   \n",
              "1111  724046343203856385  https://pbs.twimg.com/media/CgxUTS_XEAAC0pv.jpg   \n",
              "896   699691744225525762  https://pbs.twimg.com/media/CbXN7aPWIAE0Xt1.jpg   \n",
              "\n",
              "      img_num                 p1   p1_conf  p1_dog                  p2  \\\n",
              "1459        1            clumber  0.946718    True      cocker_spaniel   \n",
              "572         1         schipperke  0.145877    True  Labrador_retriever   \n",
              "1070        1  Yorkshire_terrier  0.430420    True       silky_terrier   \n",
              "1111        1              boxer  0.826272    True        bull_mastiff   \n",
              "896         1       hippopotamus  0.982269   False            sea_lion   \n",
              "\n",
              "       p2_conf  p2_dog          p3   p3_conf  p3_dog  \n",
              "1459  0.015950    True       Lhasa  0.006519    True  \n",
              "572   0.098354    True      kelpie  0.097393    True  \n",
              "1070  0.196769    True       cairn  0.072676    True  \n",
              "1111  0.158595    True  Great_Dane  0.011859    True  \n",
              "896   0.006295   False      dugong  0.005768   False  "
            ]
          },
          "metadata": {
            "tags": []
          },
          "execution_count": 13
        }
      ]
    },
    {
      "metadata": {
        "id": "cjqzh9tR4jZh",
        "colab_type": "code",
        "outputId": "a143ddd2-7bc7-4cdf-b86f-8f2a60358b97",
        "colab": {
          "base_uri": "https://localhost:8080/",
          "height": 34
        }
      },
      "cell_type": "code",
      "source": [
        "img_pred_df.shape"
      ],
      "execution_count": 14,
      "outputs": [
        {
          "output_type": "execute_result",
          "data": {
            "text/plain": [
              "(2075, 12)"
            ]
          },
          "metadata": {
            "tags": []
          },
          "execution_count": 14
        }
      ]
    },
    {
      "metadata": {
        "id": "ocvEaslL42Sh",
        "colab_type": "text"
      },
      "cell_type": "markdown",
      "source": [
        "#### tweets_mini_df"
      ]
    },
    {
      "metadata": {
        "id": "1rnHK9f946hB",
        "colab_type": "code",
        "outputId": "47a32c29-96cf-4536-ce03-0013253748e5",
        "colab": {
          "base_uri": "https://localhost:8080/",
          "height": 221
        }
      },
      "cell_type": "code",
      "source": [
        "tweets_mini_df.info()"
      ],
      "execution_count": 15,
      "outputs": [
        {
          "output_type": "stream",
          "text": [
            "<class 'pandas.core.frame.DataFrame'>\n",
            "Int64Index: 2339 entries, 0 to 2338\n",
            "Data columns (total 7 columns):\n",
            "tweet_id          2339 non-null object\n",
            "text              2339 non-null object\n",
            "retweet_count     2339 non-null object\n",
            "favorite_count    2339 non-null object\n",
            "retweeted         2339 non-null object\n",
            "favorited         2339 non-null object\n",
            "media_url         2339 non-null object\n",
            "dtypes: object(7)\n",
            "memory usage: 146.2+ KB\n"
          ],
          "name": "stdout"
        }
      ]
    },
    {
      "metadata": {
        "id": "8rELxq_a48D4",
        "colab_type": "code",
        "outputId": "69b452f3-904a-4558-d869-6fb04c576db4",
        "colab": {
          "base_uri": "https://localhost:8080/",
          "height": 204
        }
      },
      "cell_type": "code",
      "source": [
        "tweets_mini_df.sample(5)"
      ],
      "execution_count": 16,
      "outputs": [
        {
          "output_type": "execute_result",
          "data": {
            "text/html": [
              "<div>\n",
              "<style scoped>\n",
              "    .dataframe tbody tr th:only-of-type {\n",
              "        vertical-align: middle;\n",
              "    }\n",
              "\n",
              "    .dataframe tbody tr th {\n",
              "        vertical-align: top;\n",
              "    }\n",
              "\n",
              "    .dataframe thead th {\n",
              "        text-align: right;\n",
              "    }\n",
              "</style>\n",
              "<table border=\"1\" class=\"dataframe\">\n",
              "  <thead>\n",
              "    <tr style=\"text-align: right;\">\n",
              "      <th></th>\n",
              "      <th>tweet_id</th>\n",
              "      <th>text</th>\n",
              "      <th>retweet_count</th>\n",
              "      <th>favorite_count</th>\n",
              "      <th>retweeted</th>\n",
              "      <th>favorited</th>\n",
              "      <th>media_url</th>\n",
              "    </tr>\n",
              "  </thead>\n",
              "  <tbody>\n",
              "    <tr>\n",
              "      <th>1227</th>\n",
              "      <td>711968124745228288</td>\n",
              "      <td>Meet Winston. He's trapped in a cup of coffee....</td>\n",
              "      <td>2437</td>\n",
              "      <td>8356</td>\n",
              "      <td>False</td>\n",
              "      <td>False</td>\n",
              "      <td>https://pbs.twimg.com/media/CeFrO3qXEAADRbd.jpg</td>\n",
              "    </tr>\n",
              "    <tr>\n",
              "      <th>1669</th>\n",
              "      <td>681654059175129088</td>\n",
              "      <td>This is Toffee. He's a happy pupper. Appears d...</td>\n",
              "      <td>983</td>\n",
              "      <td>2736</td>\n",
              "      <td>False</td>\n",
              "      <td>False</td>\n",
              "      <td>https://pbs.twimg.com/media/CXW4wGHWsAE_eBD.jpg</td>\n",
              "    </tr>\n",
              "    <tr>\n",
              "      <th>1508</th>\n",
              "      <td>690597161306841088</td>\n",
              "      <td>This is Lolo. She's America af. Behind in scie...</td>\n",
              "      <td>637</td>\n",
              "      <td>2045</td>\n",
              "      <td>False</td>\n",
              "      <td>False</td>\n",
              "      <td>https://pbs.twimg.com/media/CZV-c9NVIAEWtiU.jpg</td>\n",
              "    </tr>\n",
              "    <tr>\n",
              "      <th>658</th>\n",
              "      <td>789960241177853952</td>\n",
              "      <td>RT @dog_rates: This is Buddy. His father was a...</td>\n",
              "      <td>4494</td>\n",
              "      <td>0</td>\n",
              "      <td>False</td>\n",
              "      <td>False</td>\n",
              "      <td></td>\n",
              "    </tr>\n",
              "    <tr>\n",
              "      <th>1152</th>\n",
              "      <td>721001180231503872</td>\n",
              "      <td>This is Oliver. Bath time is upon him. His fea...</td>\n",
              "      <td>646</td>\n",
              "      <td>2616</td>\n",
              "      <td>False</td>\n",
              "      <td>False</td>\n",
              "      <td>https://pbs.twimg.com/media/CgGCvxAUkAAx55r.jpg</td>\n",
              "    </tr>\n",
              "  </tbody>\n",
              "</table>\n",
              "</div>"
            ],
            "text/plain": [
              "                tweet_id                                               text  \\\n",
              "1227  711968124745228288  Meet Winston. He's trapped in a cup of coffee....   \n",
              "1669  681654059175129088  This is Toffee. He's a happy pupper. Appears d...   \n",
              "1508  690597161306841088  This is Lolo. She's America af. Behind in scie...   \n",
              "658   789960241177853952  RT @dog_rates: This is Buddy. His father was a...   \n",
              "1152  721001180231503872  This is Oliver. Bath time is upon him. His fea...   \n",
              "\n",
              "     retweet_count favorite_count retweeted favorited  \\\n",
              "1227          2437           8356     False     False   \n",
              "1669           983           2736     False     False   \n",
              "1508           637           2045     False     False   \n",
              "658           4494              0     False     False   \n",
              "1152           646           2616     False     False   \n",
              "\n",
              "                                            media_url  \n",
              "1227  https://pbs.twimg.com/media/CeFrO3qXEAADRbd.jpg  \n",
              "1669  https://pbs.twimg.com/media/CXW4wGHWsAE_eBD.jpg  \n",
              "1508  https://pbs.twimg.com/media/CZV-c9NVIAEWtiU.jpg  \n",
              "658                                                    \n",
              "1152  https://pbs.twimg.com/media/CgGCvxAUkAAx55r.jpg  "
            ]
          },
          "metadata": {
            "tags": []
          },
          "execution_count": 16
        }
      ]
    },
    {
      "metadata": {
        "id": "fJseZO0n4-a5",
        "colab_type": "code",
        "outputId": "f0d864bd-5bbd-42a1-acd9-1a59673449d2",
        "colab": {
          "base_uri": "https://localhost:8080/",
          "height": 34
        }
      },
      "cell_type": "code",
      "source": [
        "tweets_mini_df.shape"
      ],
      "execution_count": 17,
      "outputs": [
        {
          "output_type": "execute_result",
          "data": {
            "text/plain": [
              "(2339, 7)"
            ]
          },
          "metadata": {
            "tags": []
          },
          "execution_count": 17
        }
      ]
    },
    {
      "metadata": {
        "id": "lpl5Y3VI42PF",
        "colab_type": "text"
      },
      "cell_type": "markdown",
      "source": [
        "#### Cleaning data"
      ]
    },
    {
      "metadata": {
        "id": "rD1smP4iIApY",
        "colab_type": "code",
        "outputId": "3f1ceca0-0d28-451d-da53-cc7fe2f3b74c",
        "colab": {
          "base_uri": "https://localhost:8080/",
          "height": 68
        }
      },
      "cell_type": "code",
      "source": [
        "# First, I am making clean copies of each of the dataframes and leaving the originals intact\n",
        "\n",
        "tweets_df_clean = tweets_df.copy()\n",
        "img_pred_df_clean = img_pred_df.copy()\n",
        "tweets_mini_df_clean = tweets_mini_df.copy()\n",
        "\n",
        "print ('%s %d %s %d' %('Original Row Count: ', tweets_df.shape[0], 'Copy Row Count: ', tweets_df_clean.shape[0]))\n",
        "print ('%s %d %s %d' %('Original Row Count: ', img_pred_df.shape[0], 'Copy Row Count: ', img_pred_df_clean.shape[0]))\n",
        "print ('%s %d %s %d' %('Original Row Count: ', tweets_mini_df.shape[0], 'Copy Row Count: ', tweets_mini_df_clean.shape[0]))"
      ],
      "execution_count": 0,
      "outputs": [
        {
          "output_type": "stream",
          "text": [
            "Original Row Count:  2356 Copy Row Count:  2356\n",
            "Original Row Count:  2075 Copy Row Count:  2075\n",
            "Original Row Count:  2339 Copy Row Count:  2339\n"
          ],
          "name": "stdout"
        }
      ]
    },
    {
      "metadata": {
        "id": "CyXObBAe41zK",
        "colab_type": "text"
      },
      "cell_type": "markdown",
      "source": [
        "#### 1. twitter-archive-enhanced.csv\n"
      ]
    },
    {
      "metadata": {
        "colab_type": "code",
        "outputId": "eee36486-f763-4638-8c7b-e0128801b79d",
        "id": "qhQL5JV-YuKA",
        "colab": {
          "base_uri": "https://localhost:8080/",
          "height": 34
        }
      },
      "cell_type": "code",
      "source": [
        "\"\"\"\n",
        "1.1.1 Define (twitter-archive-enhanced.csv)\n",
        "There are 181 rows in this dataset that are retweets. I have identified them based non-null values in the \"retweeted_status_id\" column. \n",
        "These need to be removed from the dataset as we only want original tweets\n",
        "\"\"\"\n",
        "\n",
        "tweets_df_clean[tweets_df_clean['retweeted_status_id'].notnull()].shape[0]"
      ],
      "execution_count": 0,
      "outputs": [
        {
          "output_type": "execute_result",
          "data": {
            "text/plain": [
              "181"
            ]
          },
          "metadata": {
            "tags": []
          },
          "execution_count": 18
        }
      ]
    },
    {
      "metadata": {
        "id": "fgMT6kOsHm6g",
        "colab_type": "code",
        "colab": {}
      },
      "cell_type": "code",
      "source": [
        "\"\"\"\n",
        "1.1.1 Code\n",
        "\"\"\"\n",
        "\n",
        "tweets_df_clean.drop(tweets_df_clean[tweets_df_clean['retweeted_status_id'].notnull()].index, inplace = True)\n"
      ],
      "execution_count": 0,
      "outputs": []
    },
    {
      "metadata": {
        "id": "Pmz0B93BJZdq",
        "colab_type": "code",
        "colab": {}
      },
      "cell_type": "code",
      "source": [
        "\"\"\"\n",
        "1.1.1 Test\n",
        "Assertion: Original DF Row Count - Cleaned DF Row Count = Retweet Count\n",
        "\"\"\"\n",
        "\n",
        "assert (tweets_df.shape[0] - tweets_df_clean.shape[0] == tweets_df[tweets_df['retweeted_status_id'].notnull()].shape[0])\n",
        "# print('%s %d %s %d %s %d' % ('Org. Count: ', tweets_df.shape[0], 'New Count: ', tweets_df_clean.shape[0], 'Diff: ',  tweets_df[tweets_df['retweeted_status_id'].notnull()].shape[0]))"
      ],
      "execution_count": 0,
      "outputs": []
    },
    {
      "metadata": {
        "id": "x5vIjrtJNjDX",
        "colab_type": "code",
        "outputId": "82206f0b-f37d-4127-b2e1-b91b1e290a6f",
        "colab": {
          "base_uri": "https://localhost:8080/",
          "height": 224
        }
      },
      "cell_type": "code",
      "source": [
        "\"\"\"\n",
        "1.1.2 Define (twitter-archive-enhanced.csv)\n",
        "Remove the following columns from the dataset:\n",
        "\n",
        "in_reply_to_status_id\n",
        "in_reply_to_user_id\n",
        "retweeted_status_id\n",
        "retweeted_status_user_id\n",
        "retweeted_status_timestamp\n",
        "expanded_urls\n",
        "\"\"\"\n",
        "tweets_df_clean_drop_cols = ['in_reply_to_status_id', 'in_reply_to_user_id', 'retweeted_status_id', 'retweeted_status_user_id', 'retweeted_status_timestamp', 'expanded_urls']\n",
        "tweets_df_clean[tweets_df_clean_drop_cols].head()"
      ],
      "execution_count": 0,
      "outputs": [
        {
          "output_type": "execute_result",
          "data": {
            "text/html": [
              "<div>\n",
              "<style scoped>\n",
              "    .dataframe tbody tr th:only-of-type {\n",
              "        vertical-align: middle;\n",
              "    }\n",
              "\n",
              "    .dataframe tbody tr th {\n",
              "        vertical-align: top;\n",
              "    }\n",
              "\n",
              "    .dataframe thead th {\n",
              "        text-align: right;\n",
              "    }\n",
              "</style>\n",
              "<table border=\"1\" class=\"dataframe\">\n",
              "  <thead>\n",
              "    <tr style=\"text-align: right;\">\n",
              "      <th></th>\n",
              "      <th>in_reply_to_status_id</th>\n",
              "      <th>in_reply_to_user_id</th>\n",
              "      <th>retweeted_status_id</th>\n",
              "      <th>retweeted_status_user_id</th>\n",
              "      <th>retweeted_status_timestamp</th>\n",
              "      <th>expanded_urls</th>\n",
              "    </tr>\n",
              "  </thead>\n",
              "  <tbody>\n",
              "    <tr>\n",
              "      <th>0</th>\n",
              "      <td>NaN</td>\n",
              "      <td>NaN</td>\n",
              "      <td>NaN</td>\n",
              "      <td>NaN</td>\n",
              "      <td>NaN</td>\n",
              "      <td>https://twitter.com/dog_rates/status/892420643...</td>\n",
              "    </tr>\n",
              "    <tr>\n",
              "      <th>1</th>\n",
              "      <td>NaN</td>\n",
              "      <td>NaN</td>\n",
              "      <td>NaN</td>\n",
              "      <td>NaN</td>\n",
              "      <td>NaN</td>\n",
              "      <td>https://twitter.com/dog_rates/status/892177421...</td>\n",
              "    </tr>\n",
              "    <tr>\n",
              "      <th>2</th>\n",
              "      <td>NaN</td>\n",
              "      <td>NaN</td>\n",
              "      <td>NaN</td>\n",
              "      <td>NaN</td>\n",
              "      <td>NaN</td>\n",
              "      <td>https://twitter.com/dog_rates/status/891815181...</td>\n",
              "    </tr>\n",
              "    <tr>\n",
              "      <th>3</th>\n",
              "      <td>NaN</td>\n",
              "      <td>NaN</td>\n",
              "      <td>NaN</td>\n",
              "      <td>NaN</td>\n",
              "      <td>NaN</td>\n",
              "      <td>https://twitter.com/dog_rates/status/891689557...</td>\n",
              "    </tr>\n",
              "    <tr>\n",
              "      <th>4</th>\n",
              "      <td>NaN</td>\n",
              "      <td>NaN</td>\n",
              "      <td>NaN</td>\n",
              "      <td>NaN</td>\n",
              "      <td>NaN</td>\n",
              "      <td>https://twitter.com/dog_rates/status/891327558...</td>\n",
              "    </tr>\n",
              "  </tbody>\n",
              "</table>\n",
              "</div>"
            ],
            "text/plain": [
              "   in_reply_to_status_id  in_reply_to_user_id  retweeted_status_id  \\\n",
              "0                    NaN                  NaN                  NaN   \n",
              "1                    NaN                  NaN                  NaN   \n",
              "2                    NaN                  NaN                  NaN   \n",
              "3                    NaN                  NaN                  NaN   \n",
              "4                    NaN                  NaN                  NaN   \n",
              "\n",
              "   retweeted_status_user_id retweeted_status_timestamp  \\\n",
              "0                       NaN                        NaN   \n",
              "1                       NaN                        NaN   \n",
              "2                       NaN                        NaN   \n",
              "3                       NaN                        NaN   \n",
              "4                       NaN                        NaN   \n",
              "\n",
              "                                       expanded_urls  \n",
              "0  https://twitter.com/dog_rates/status/892420643...  \n",
              "1  https://twitter.com/dog_rates/status/892177421...  \n",
              "2  https://twitter.com/dog_rates/status/891815181...  \n",
              "3  https://twitter.com/dog_rates/status/891689557...  \n",
              "4  https://twitter.com/dog_rates/status/891327558...  "
            ]
          },
          "metadata": {
            "tags": []
          },
          "execution_count": 21
        }
      ]
    },
    {
      "metadata": {
        "id": "gnR2oHpDONzE",
        "colab_type": "code",
        "colab": {}
      },
      "cell_type": "code",
      "source": [
        "\"\"\"\n",
        "1.1.2 Code\n",
        "\"\"\"\n",
        "tweets_df_clean.drop(tweets_df_clean_drop_cols, axis = 1, inplace = True)"
      ],
      "execution_count": 0,
      "outputs": []
    },
    {
      "metadata": {
        "id": "Z6uf6YFIOdqI",
        "colab_type": "code",
        "colab": {}
      },
      "cell_type": "code",
      "source": [
        "\"\"\"\n",
        "1.1.2 Test\n",
        "\"\"\"\n",
        "\n",
        "assert not set(tweets_df_clean_drop_cols).issubset(tweets_df_clean.columns)"
      ],
      "execution_count": 0,
      "outputs": []
    },
    {
      "metadata": {
        "id": "ae_JevNSUoLP",
        "colab_type": "code",
        "outputId": "1e2cf78b-ff33-4e0c-b1eb-41b4a17d11fb",
        "colab": {
          "base_uri": "https://localhost:8080/",
          "height": 289
        }
      },
      "cell_type": "code",
      "source": [
        "\"\"\" \n",
        "1.1.3 Define (twitter-archive-enhanced.csv)\n",
        "The \"timestamp\" column is represented as a string and needs to be converted to datetime\n",
        "\"\"\"\n",
        "\n",
        "tweets_df_clean.info()"
      ],
      "execution_count": 0,
      "outputs": [
        {
          "output_type": "stream",
          "text": [
            "<class 'pandas.core.frame.DataFrame'>\n",
            "Int64Index: 2175 entries, 0 to 2355\n",
            "Data columns (total 11 columns):\n",
            "tweet_id              2175 non-null int64\n",
            "timestamp             2175 non-null object\n",
            "source                2175 non-null object\n",
            "text                  2175 non-null object\n",
            "rating_numerator      2175 non-null int64\n",
            "rating_denominator    2175 non-null int64\n",
            "name                  2175 non-null object\n",
            "doggo                 2175 non-null object\n",
            "floofer               2175 non-null object\n",
            "pupper                2175 non-null object\n",
            "puppo                 2175 non-null object\n",
            "dtypes: int64(3), object(8)\n",
            "memory usage: 203.9+ KB\n"
          ],
          "name": "stdout"
        }
      ]
    },
    {
      "metadata": {
        "id": "A7qvDlxgU3WA",
        "colab_type": "code",
        "colab": {}
      },
      "cell_type": "code",
      "source": [
        "\"\"\"\n",
        "1.1.3 Code\n",
        "\"\"\"\n",
        "\n",
        "tweets_df_clean['timestamp'] = pd.to_datetime(tweets_df_clean['timestamp'])"
      ],
      "execution_count": 0,
      "outputs": []
    },
    {
      "metadata": {
        "colab_type": "code",
        "outputId": "31078725-32e8-43e2-c882-b426370055cc",
        "id": "gjrVR3X6Yt2y",
        "colab": {
          "base_uri": "https://localhost:8080/",
          "height": 289
        }
      },
      "cell_type": "code",
      "source": [
        "\"\"\"\n",
        "1.1.3 Test\n",
        "\"\"\"\n",
        "\n",
        "tweets_df_clean.info()"
      ],
      "execution_count": 0,
      "outputs": [
        {
          "output_type": "stream",
          "text": [
            "<class 'pandas.core.frame.DataFrame'>\n",
            "Int64Index: 2175 entries, 0 to 2355\n",
            "Data columns (total 11 columns):\n",
            "tweet_id              2175 non-null int64\n",
            "timestamp             2175 non-null datetime64[ns]\n",
            "source                2175 non-null object\n",
            "text                  2175 non-null object\n",
            "rating_numerator      2175 non-null int64\n",
            "rating_denominator    2175 non-null int64\n",
            "name                  2175 non-null object\n",
            "doggo                 2175 non-null object\n",
            "floofer               2175 non-null object\n",
            "pupper                2175 non-null object\n",
            "puppo                 2175 non-null object\n",
            "dtypes: datetime64[ns](1), int64(3), object(7)\n",
            "memory usage: 203.9+ KB\n"
          ],
          "name": "stdout"
        }
      ]
    },
    {
      "metadata": {
        "id": "ysGxsJwIimX0",
        "colab_type": "code",
        "outputId": "b3c36be3-9977-44ff-c9f7-db98c7b8e3bc",
        "colab": {
          "base_uri": "https://localhost:8080/",
          "height": 230
        }
      },
      "cell_type": "code",
      "source": [
        "\"\"\"\n",
        "1.1.4 Define (twitter-archive-enhanced.csv)\n",
        "Drop all tweets with timestamps greater than 8/1/2017 as per the project requirements\n",
        "\"\"\"\n",
        "tweets_df_clean.query('timestamp > \"08/01/2017\"')"
      ],
      "execution_count": 0,
      "outputs": [
        {
          "output_type": "execute_result",
          "data": {
            "text/html": [
              "<div>\n",
              "<style scoped>\n",
              "    .dataframe tbody tr th:only-of-type {\n",
              "        vertical-align: middle;\n",
              "    }\n",
              "\n",
              "    .dataframe tbody tr th {\n",
              "        vertical-align: top;\n",
              "    }\n",
              "\n",
              "    .dataframe thead th {\n",
              "        text-align: right;\n",
              "    }\n",
              "</style>\n",
              "<table border=\"1\" class=\"dataframe\">\n",
              "  <thead>\n",
              "    <tr style=\"text-align: right;\">\n",
              "      <th></th>\n",
              "      <th>tweet_id</th>\n",
              "      <th>timestamp</th>\n",
              "      <th>source</th>\n",
              "      <th>text</th>\n",
              "      <th>rating_numerator</th>\n",
              "      <th>rating_denominator</th>\n",
              "      <th>name</th>\n",
              "      <th>doggo</th>\n",
              "      <th>floofer</th>\n",
              "      <th>pupper</th>\n",
              "      <th>puppo</th>\n",
              "    </tr>\n",
              "  </thead>\n",
              "  <tbody>\n",
              "    <tr>\n",
              "      <th>0</th>\n",
              "      <td>892420643555336193</td>\n",
              "      <td>2017-08-01 16:23:56</td>\n",
              "      <td>&lt;a href=\"http://twitter.com/download/iphone\" r...</td>\n",
              "      <td>This is Phineas. He's a mystical boy. Only eve...</td>\n",
              "      <td>13</td>\n",
              "      <td>10</td>\n",
              "      <td>Phineas</td>\n",
              "      <td>None</td>\n",
              "      <td>None</td>\n",
              "      <td>None</td>\n",
              "      <td>None</td>\n",
              "    </tr>\n",
              "    <tr>\n",
              "      <th>1</th>\n",
              "      <td>892177421306343426</td>\n",
              "      <td>2017-08-01 00:17:27</td>\n",
              "      <td>&lt;a href=\"http://twitter.com/download/iphone\" r...</td>\n",
              "      <td>This is Tilly. She's just checking pup on you....</td>\n",
              "      <td>13</td>\n",
              "      <td>10</td>\n",
              "      <td>Tilly</td>\n",
              "      <td>None</td>\n",
              "      <td>None</td>\n",
              "      <td>None</td>\n",
              "      <td>None</td>\n",
              "    </tr>\n",
              "  </tbody>\n",
              "</table>\n",
              "</div>"
            ],
            "text/plain": [
              "             tweet_id           timestamp  \\\n",
              "0  892420643555336193 2017-08-01 16:23:56   \n",
              "1  892177421306343426 2017-08-01 00:17:27   \n",
              "\n",
              "                                              source  \\\n",
              "0  <a href=\"http://twitter.com/download/iphone\" r...   \n",
              "1  <a href=\"http://twitter.com/download/iphone\" r...   \n",
              "\n",
              "                                                text  rating_numerator  \\\n",
              "0  This is Phineas. He's a mystical boy. Only eve...                13   \n",
              "1  This is Tilly. She's just checking pup on you....                13   \n",
              "\n",
              "   rating_denominator     name doggo floofer pupper puppo  \n",
              "0                  10  Phineas  None    None   None  None  \n",
              "1                  10    Tilly  None    None   None  None  "
            ]
          },
          "metadata": {
            "tags": []
          },
          "execution_count": 27
        }
      ]
    },
    {
      "metadata": {
        "id": "9BXXPQyejCJ0",
        "colab_type": "code",
        "colab": {}
      },
      "cell_type": "code",
      "source": [
        "\"\"\"\n",
        "1.1.4 Code\n",
        "\"\"\"\n",
        "\n",
        "tweets_df_clean.drop(tweets_df_clean.query('timestamp > \"08/01/2017\"').index, inplace = True)"
      ],
      "execution_count": 0,
      "outputs": []
    },
    {
      "metadata": {
        "id": "QvCe-rmijeXe",
        "colab_type": "code",
        "colab": {}
      },
      "cell_type": "code",
      "source": [
        "\"\"\"\n",
        "1.1.4 Test\n",
        "\"\"\"\n",
        "\n",
        "assert tweets_df_clean.query('timestamp > \"08/01/2017\"').shape[0] == 0"
      ],
      "execution_count": 0,
      "outputs": []
    },
    {
      "metadata": {
        "id": "dhYvpawjWQwl",
        "colab_type": "code",
        "outputId": "623a4b37-c297-46cb-f1b7-bf336f1058d9",
        "colab": {
          "base_uri": "https://localhost:8080/",
          "height": 1105
        }
      },
      "cell_type": "code",
      "source": [
        "\"\"\"\n",
        "1.1.5 & 1.2.1 Define (twitter-archive-enhanced.csv)\n",
        "Dog stages are represented in separate columns as a sparse-array matrix which is \n",
        "wasteful and also not scalable in case we identify new stages. These need to be \n",
        "converted to a single column titled \"stage\". If they are not mutually exclusive \n",
        "(meaning, if there are multiple tweets about the same dog at different points in \n",
        "time where their stages change), we can put them into a separate dataframe for \n",
        "normalization purposes\n",
        "\n",
        "Dog stages are not fully recorded and many of them contain null values or values labeled as \"None\". \n",
        "We need to scan the tweet text and see if we can extract these values for each row\n",
        "\"\"\"\n",
        "\n",
        "dog_stages = ['doggo', 'floofer', 'pupper', 'puppo']\n",
        "[tweets_df_clean[dog_stages] == 'None']"
      ],
      "execution_count": 0,
      "outputs": [
        {
          "output_type": "execute_result",
          "data": {
            "text/plain": [
              "[      doggo  floofer  pupper  puppo\n",
              " 2      True     True    True   True\n",
              " 3      True     True    True   True\n",
              " 4      True     True    True   True\n",
              " 5      True     True    True   True\n",
              " 6      True     True    True   True\n",
              " 7      True     True    True   True\n",
              " 8      True     True    True   True\n",
              " 9     False     True    True   True\n",
              " 10     True     True    True   True\n",
              " 11     True     True    True   True\n",
              " 12     True     True    True  False\n",
              " 13     True     True    True   True\n",
              " 14     True     True    True  False\n",
              " 15     True     True    True   True\n",
              " 16     True     True    True   True\n",
              " 17     True     True    True   True\n",
              " 18     True     True    True   True\n",
              " 20     True     True    True   True\n",
              " 21     True     True    True   True\n",
              " 22     True     True    True   True\n",
              " 23     True     True    True   True\n",
              " 24     True     True    True   True\n",
              " 25     True     True    True   True\n",
              " 26     True     True    True   True\n",
              " 27     True     True    True   True\n",
              " 28     True     True    True   True\n",
              " 29     True     True   False   True\n",
              " 30     True     True    True   True\n",
              " 31     True     True    True   True\n",
              " 33     True     True    True   True\n",
              " ...     ...      ...     ...    ...\n",
              " 2326   True     True    True   True\n",
              " 2327   True     True    True   True\n",
              " 2328   True     True    True   True\n",
              " 2329   True     True    True   True\n",
              " 2330   True     True    True   True\n",
              " 2331   True     True    True   True\n",
              " 2332   True     True    True   True\n",
              " 2333   True     True    True   True\n",
              " 2334   True     True    True   True\n",
              " 2335   True     True    True   True\n",
              " 2336   True     True    True   True\n",
              " 2337   True     True    True   True\n",
              " 2338   True     True    True   True\n",
              " 2339   True     True    True   True\n",
              " 2340   True     True    True   True\n",
              " 2341   True     True    True   True\n",
              " 2342   True     True    True   True\n",
              " 2343   True     True    True   True\n",
              " 2344   True     True    True   True\n",
              " 2345   True     True    True   True\n",
              " 2346   True     True    True   True\n",
              " 2347   True     True    True   True\n",
              " 2348   True     True    True   True\n",
              " 2349   True     True    True   True\n",
              " 2350   True     True    True   True\n",
              " 2351   True     True    True   True\n",
              " 2352   True     True    True   True\n",
              " 2353   True     True    True   True\n",
              " 2354   True     True    True   True\n",
              " 2355   True     True    True   True\n",
              " \n",
              " [2173 rows x 4 columns]]"
            ]
          },
          "metadata": {
            "tags": []
          },
          "execution_count": 30
        }
      ]
    },
    {
      "metadata": {
        "colab_type": "code",
        "id": "qJYZfYpmYtVp",
        "colab": {}
      },
      "cell_type": "code",
      "source": [
        "\"\"\"\n",
        "1.1.5 & 1.2.1 Code\n",
        "In this cleaning exercise, I am going to transpose the \"dog_stage columns\" to rows first to make the next steps easier\n",
        "\"\"\"\n",
        "\n",
        "dog_stage_df = pd.melt(tweets_df_clean[['tweet_id', 'text', 'doggo', 'floofer', 'pupper', 'puppo']], id_vars = ['tweet_id', 'text'], var_name = 'dog_stage_col', value_name = 'dog_stage')\n",
        "\n",
        "# Next, I am assigning the value \"doggo\" to the column 'dog_stage' in cases where the tweet text has the word \"doggo\" in it and the 'dog_stage' column has the value \"None\"\n",
        "dog_stage_df.loc[dog_stage_df[dog_stage_df['text'].str.contains('doggo ', case = False)].query('dog_stage_col == \"doggo\" and dog_stage == \"None\"').index, 'dog_stage'] = 'doggo'\n",
        "\n",
        "# Next, I am repeating the above for other 'dog_stage' values\n",
        "dog_stage_df.loc[dog_stage_df[dog_stage_df['text'].str.contains('floofer ', case = False)].query('dog_stage_col == \"floofer\" and dog_stage == \"None\"').index, 'dog_stage'] = 'floofer'\n",
        "dog_stage_df.loc[dog_stage_df[dog_stage_df['text'].str.contains('pupper ', case = False)].query('dog_stage_col == \"pupper\" and dog_stage == \"None\"').index, 'dog_stage'] = 'pupper'\n",
        "dog_stage_df.loc[dog_stage_df[dog_stage_df['text'].str.contains('puppo ', case = False)].query('dog_stage_col == \"puppo\" and dog_stage == \"None\"').index, 'dog_stage'] = 'puppo'\n"
      ],
      "execution_count": 0,
      "outputs": []
    },
    {
      "metadata": {
        "id": "cpBiq4gI5C2t",
        "colab_type": "code",
        "outputId": "c07bef26-4d54-4ea4-94b3-82fca2a77447",
        "colab": {
          "base_uri": "https://localhost:8080/",
          "height": 793
        }
      },
      "cell_type": "code",
      "source": [
        "\"\"\"\n",
        "1.1.5 & 1.2.1 Code\n",
        "The test below confirm that there are multiple dog stages tied to a single tweet id.\n",
        "This seems to indicate that a dog can go through multiple stages.\n",
        "Therefore, i am going to retain this as a separate dataset\n",
        "However, I am going to get rid of all rows where the dog stage is None even after fixing the quality\n",
        "\"\"\"\n",
        "dog_stage_df[['tweet_id', 'dog_stage']].query('dog_stage != \"None\"').groupby('tweet_id').filter(lambda x: len(x) > 1).sort_values(by=['tweet_id'])"
      ],
      "execution_count": 0,
      "outputs": [
        {
          "output_type": "execute_result",
          "data": {
            "text/html": [
              "<div>\n",
              "<style scoped>\n",
              "    .dataframe tbody tr th:only-of-type {\n",
              "        vertical-align: middle;\n",
              "    }\n",
              "\n",
              "    .dataframe tbody tr th {\n",
              "        vertical-align: top;\n",
              "    }\n",
              "\n",
              "    .dataframe thead th {\n",
              "        text-align: right;\n",
              "    }\n",
              "</style>\n",
              "<table border=\"1\" class=\"dataframe\">\n",
              "  <thead>\n",
              "    <tr style=\"text-align: right;\">\n",
              "      <th></th>\n",
              "      <th>tweet_id</th>\n",
              "      <th>dog_stage</th>\n",
              "    </tr>\n",
              "  </thead>\n",
              "  <tbody>\n",
              "    <tr>\n",
              "      <th>933</th>\n",
              "      <td>733109485275860992</td>\n",
              "      <td>doggo</td>\n",
              "    </tr>\n",
              "    <tr>\n",
              "      <th>5279</th>\n",
              "      <td>733109485275860992</td>\n",
              "      <td>pupper</td>\n",
              "    </tr>\n",
              "    <tr>\n",
              "      <th>883</th>\n",
              "      <td>741067306818797568</td>\n",
              "      <td>doggo</td>\n",
              "    </tr>\n",
              "    <tr>\n",
              "      <th>5229</th>\n",
              "      <td>741067306818797568</td>\n",
              "      <td>pupper</td>\n",
              "    </tr>\n",
              "    <tr>\n",
              "      <th>779</th>\n",
              "      <td>751583847268179968</td>\n",
              "      <td>doggo</td>\n",
              "    </tr>\n",
              "    <tr>\n",
              "      <th>5125</th>\n",
              "      <td>751583847268179968</td>\n",
              "      <td>pupper</td>\n",
              "    </tr>\n",
              "    <tr>\n",
              "      <th>720</th>\n",
              "      <td>759793422261743616</td>\n",
              "      <td>doggo</td>\n",
              "    </tr>\n",
              "    <tr>\n",
              "      <th>5066</th>\n",
              "      <td>759793422261743616</td>\n",
              "      <td>pupper</td>\n",
              "    </tr>\n",
              "    <tr>\n",
              "      <th>591</th>\n",
              "      <td>781308096455073793</td>\n",
              "      <td>doggo</td>\n",
              "    </tr>\n",
              "    <tr>\n",
              "      <th>4937</th>\n",
              "      <td>781308096455073793</td>\n",
              "      <td>pupper</td>\n",
              "    </tr>\n",
              "    <tr>\n",
              "      <th>565</th>\n",
              "      <td>785639753186217984</td>\n",
              "      <td>doggo</td>\n",
              "    </tr>\n",
              "    <tr>\n",
              "      <th>4911</th>\n",
              "      <td>785639753186217984</td>\n",
              "      <td>pupper</td>\n",
              "    </tr>\n",
              "    <tr>\n",
              "      <th>472</th>\n",
              "      <td>801115127852503040</td>\n",
              "      <td>doggo</td>\n",
              "    </tr>\n",
              "    <tr>\n",
              "      <th>4818</th>\n",
              "      <td>801115127852503040</td>\n",
              "      <td>pupper</td>\n",
              "    </tr>\n",
              "    <tr>\n",
              "      <th>465</th>\n",
              "      <td>802265048156610565</td>\n",
              "      <td>doggo</td>\n",
              "    </tr>\n",
              "    <tr>\n",
              "      <th>4811</th>\n",
              "      <td>802265048156610565</td>\n",
              "      <td>pupper</td>\n",
              "    </tr>\n",
              "    <tr>\n",
              "      <th>440</th>\n",
              "      <td>808106460588765185</td>\n",
              "      <td>doggo</td>\n",
              "    </tr>\n",
              "    <tr>\n",
              "      <th>4786</th>\n",
              "      <td>808106460588765185</td>\n",
              "      <td>pupper</td>\n",
              "    </tr>\n",
              "    <tr>\n",
              "      <th>4726</th>\n",
              "      <td>817777686764523521</td>\n",
              "      <td>pupper</td>\n",
              "    </tr>\n",
              "    <tr>\n",
              "      <th>380</th>\n",
              "      <td>817777686764523521</td>\n",
              "      <td>doggo</td>\n",
              "    </tr>\n",
              "    <tr>\n",
              "      <th>170</th>\n",
              "      <td>854010172552949760</td>\n",
              "      <td>doggo</td>\n",
              "    </tr>\n",
              "    <tr>\n",
              "      <th>2343</th>\n",
              "      <td>854010172552949760</td>\n",
              "      <td>floofer</td>\n",
              "    </tr>\n",
              "    <tr>\n",
              "      <th>163</th>\n",
              "      <td>855851453814013952</td>\n",
              "      <td>doggo</td>\n",
              "    </tr>\n",
              "    <tr>\n",
              "      <th>6682</th>\n",
              "      <td>855851453814013952</td>\n",
              "      <td>puppo</td>\n",
              "    </tr>\n",
              "  </tbody>\n",
              "</table>\n",
              "</div>"
            ],
            "text/plain": [
              "                tweet_id dog_stage\n",
              "933   733109485275860992     doggo\n",
              "5279  733109485275860992    pupper\n",
              "883   741067306818797568     doggo\n",
              "5229  741067306818797568    pupper\n",
              "779   751583847268179968     doggo\n",
              "5125  751583847268179968    pupper\n",
              "720   759793422261743616     doggo\n",
              "5066  759793422261743616    pupper\n",
              "591   781308096455073793     doggo\n",
              "4937  781308096455073793    pupper\n",
              "565   785639753186217984     doggo\n",
              "4911  785639753186217984    pupper\n",
              "472   801115127852503040     doggo\n",
              "4818  801115127852503040    pupper\n",
              "465   802265048156610565     doggo\n",
              "4811  802265048156610565    pupper\n",
              "440   808106460588765185     doggo\n",
              "4786  808106460588765185    pupper\n",
              "4726  817777686764523521    pupper\n",
              "380   817777686764523521     doggo\n",
              "170   854010172552949760     doggo\n",
              "2343  854010172552949760   floofer\n",
              "163   855851453814013952     doggo\n",
              "6682  855851453814013952     puppo"
            ]
          },
          "metadata": {
            "tags": []
          },
          "execution_count": 32
        }
      ]
    },
    {
      "metadata": {
        "id": "V9LONoTO-QUk",
        "colab_type": "code",
        "outputId": "2c92e1f6-c17e-452b-cf02-72d32d6fd866",
        "colab": {
          "base_uri": "https://localhost:8080/",
          "height": 136
        }
      },
      "cell_type": "code",
      "source": [
        "\"\"\"\n",
        "1.1.5 & 1.2.1 Code\n",
        "We will begin with dropping the unnecessary columns\n",
        "\"\"\"\n",
        "dog_stage_df.drop(['text', 'dog_stage_col'], axis = 1, inplace = True)\n",
        "dog_stage_df.info()\n",
        "\n",
        "\"\"\"\n",
        "Next, we will drop all rows where the dog_stage column contains the value \"None\"\n",
        "\"\"\"\n",
        "\n",
        "dog_stage_df.drop(dog_stage_df.query('dog_stage == \"None\"').index, inplace = True)\n"
      ],
      "execution_count": 0,
      "outputs": [
        {
          "output_type": "stream",
          "text": [
            "<class 'pandas.core.frame.DataFrame'>\n",
            "RangeIndex: 8692 entries, 0 to 8691\n",
            "Data columns (total 2 columns):\n",
            "tweet_id     8692 non-null int64\n",
            "dog_stage    8692 non-null object\n",
            "dtypes: int64(1), object(1)\n",
            "memory usage: 135.9+ KB\n"
          ],
          "name": "stdout"
        }
      ]
    },
    {
      "metadata": {
        "id": "W-9Kqa3LZjfj",
        "colab_type": "code",
        "colab": {}
      },
      "cell_type": "code",
      "source": [
        "\"\"\"\n",
        "1.1.5 & 1.2.1 Test 1\n",
        "\"\"\"\n",
        "\n",
        "assert dog_stage_df.query('dog_stage == \"None\"').shape[0] == 0"
      ],
      "execution_count": 0,
      "outputs": []
    },
    {
      "metadata": {
        "id": "qnLTux9t48Ae",
        "colab_type": "code",
        "colab": {}
      },
      "cell_type": "code",
      "source": [
        "\"\"\"\n",
        "1.1.5 & 1.2.1 Code\n",
        "We can now drop the individual dog stage columns from the \"tweets_df_clean\" dataset\n",
        "\"\"\"\n",
        "tweets_df_clean.drop(dog_stages, axis = 1, inplace = True)"
      ],
      "execution_count": 0,
      "outputs": []
    },
    {
      "metadata": {
        "id": "Fr6vNzgj5Oy_",
        "colab_type": "code",
        "colab": {}
      },
      "cell_type": "code",
      "source": [
        "\"\"\"\n",
        "1.1.5 & 1.2.1 Test 2\n",
        "\"\"\"\n",
        "\n",
        "assert not set(dog_stages).issubset(tweets_df_clean.columns)"
      ],
      "execution_count": 0,
      "outputs": []
    },
    {
      "metadata": {
        "id": "uP3AGSnoYNNm",
        "colab_type": "code",
        "outputId": "2e8abf8a-945e-4593-dd31-1b570b934ebe",
        "colab": {
          "base_uri": "https://localhost:8080/",
          "height": 241
        }
      },
      "cell_type": "code",
      "source": [
        "\"\"\"\n",
        "2.1.1 Define (image-predictions.tsv)\n",
        "In the case of this dataset, we will deal with the tidiness issues first before we deal with data quality issues. \n",
        "There is a specific reason for it - there are three breed predictions in this dataset with a percentage of confidence \n",
        "against each and a boolean flag indicating whether the image prediction is actually canine or not. \n",
        "That makes it a total of 9 columns. I would like to reduce them to three columns to begin with: breed, prediction_confidence, is_canine. \n",
        "Addressing this tidiness issue will make it easier to fix the data quality issues identified below. \n",
        "We will begin with separating breed predictions to its own dataframe so that we can work on the data quality issues later\n",
        "\"\"\"\n",
        "\n",
        "img_pred_df_clean.sample(5)"
      ],
      "execution_count": 0,
      "outputs": [
        {
          "output_type": "execute_result",
          "data": {
            "text/html": [
              "<div>\n",
              "<style scoped>\n",
              "    .dataframe tbody tr th:only-of-type {\n",
              "        vertical-align: middle;\n",
              "    }\n",
              "\n",
              "    .dataframe tbody tr th {\n",
              "        vertical-align: top;\n",
              "    }\n",
              "\n",
              "    .dataframe thead th {\n",
              "        text-align: right;\n",
              "    }\n",
              "</style>\n",
              "<table border=\"1\" class=\"dataframe\">\n",
              "  <thead>\n",
              "    <tr style=\"text-align: right;\">\n",
              "      <th></th>\n",
              "      <th>tweet_id</th>\n",
              "      <th>jpg_url</th>\n",
              "      <th>img_num</th>\n",
              "      <th>p1</th>\n",
              "      <th>p1_conf</th>\n",
              "      <th>p1_dog</th>\n",
              "      <th>p2</th>\n",
              "      <th>p2_conf</th>\n",
              "      <th>p2_dog</th>\n",
              "      <th>p3</th>\n",
              "      <th>p3_conf</th>\n",
              "      <th>p3_dog</th>\n",
              "    </tr>\n",
              "  </thead>\n",
              "  <tbody>\n",
              "    <tr>\n",
              "      <th>483</th>\n",
              "      <td>675432746517426176</td>\n",
              "      <td>https://pbs.twimg.com/media/CV-ef64WoAAbh0I.jpg</td>\n",
              "      <td>1</td>\n",
              "      <td>Labrador_retriever</td>\n",
              "      <td>0.986548</td>\n",
              "      <td>True</td>\n",
              "      <td>golden_retriever</td>\n",
              "      <td>0.008862</td>\n",
              "      <td>True</td>\n",
              "      <td>Chihuahua</td>\n",
              "      <td>0.000694</td>\n",
              "      <td>True</td>\n",
              "    </tr>\n",
              "    <tr>\n",
              "      <th>1766</th>\n",
              "      <td>826848821049180160</td>\n",
              "      <td>https://pbs.twimg.com/media/C3mOnZ_XUAAjr2V.jpg</td>\n",
              "      <td>4</td>\n",
              "      <td>Great_Pyrenees</td>\n",
              "      <td>0.858764</td>\n",
              "      <td>True</td>\n",
              "      <td>golden_retriever</td>\n",
              "      <td>0.023526</td>\n",
              "      <td>True</td>\n",
              "      <td>Pekinese</td>\n",
              "      <td>0.017104</td>\n",
              "      <td>True</td>\n",
              "    </tr>\n",
              "    <tr>\n",
              "      <th>1798</th>\n",
              "      <td>831650051525054464</td>\n",
              "      <td>https://pbs.twimg.com/media/C4qdThOWAAI3WX3.jpg</td>\n",
              "      <td>1</td>\n",
              "      <td>Eskimo_dog</td>\n",
              "      <td>0.530416</td>\n",
              "      <td>True</td>\n",
              "      <td>Siberian_husky</td>\n",
              "      <td>0.180335</td>\n",
              "      <td>True</td>\n",
              "      <td>Norwegian_elkhound</td>\n",
              "      <td>0.104314</td>\n",
              "      <td>True</td>\n",
              "    </tr>\n",
              "    <tr>\n",
              "      <th>692</th>\n",
              "      <td>684222868335505415</td>\n",
              "      <td>https://pbs.twimg.com/media/CX7Y_ByWwAEJdUy.jpg</td>\n",
              "      <td>1</td>\n",
              "      <td>soft-coated_wheaten_terrier</td>\n",
              "      <td>0.791182</td>\n",
              "      <td>True</td>\n",
              "      <td>cocker_spaniel</td>\n",
              "      <td>0.072444</td>\n",
              "      <td>True</td>\n",
              "      <td>teddy</td>\n",
              "      <td>0.071486</td>\n",
              "      <td>False</td>\n",
              "    </tr>\n",
              "    <tr>\n",
              "      <th>1471</th>\n",
              "      <td>779377524342161408</td>\n",
              "      <td>https://pbs.twimg.com/ext_tw_video_thumb/77937...</td>\n",
              "      <td>1</td>\n",
              "      <td>sundial</td>\n",
              "      <td>0.170921</td>\n",
              "      <td>False</td>\n",
              "      <td>cash_machine</td>\n",
              "      <td>0.060359</td>\n",
              "      <td>False</td>\n",
              "      <td>maze</td>\n",
              "      <td>0.054981</td>\n",
              "      <td>False</td>\n",
              "    </tr>\n",
              "  </tbody>\n",
              "</table>\n",
              "</div>"
            ],
            "text/plain": [
              "                tweet_id                                            jpg_url  \\\n",
              "483   675432746517426176    https://pbs.twimg.com/media/CV-ef64WoAAbh0I.jpg   \n",
              "1766  826848821049180160    https://pbs.twimg.com/media/C3mOnZ_XUAAjr2V.jpg   \n",
              "1798  831650051525054464    https://pbs.twimg.com/media/C4qdThOWAAI3WX3.jpg   \n",
              "692   684222868335505415    https://pbs.twimg.com/media/CX7Y_ByWwAEJdUy.jpg   \n",
              "1471  779377524342161408  https://pbs.twimg.com/ext_tw_video_thumb/77937...   \n",
              "\n",
              "      img_num                           p1   p1_conf  p1_dog  \\\n",
              "483         1           Labrador_retriever  0.986548    True   \n",
              "1766        4               Great_Pyrenees  0.858764    True   \n",
              "1798        1                   Eskimo_dog  0.530416    True   \n",
              "692         1  soft-coated_wheaten_terrier  0.791182    True   \n",
              "1471        1                      sundial  0.170921   False   \n",
              "\n",
              "                    p2   p2_conf  p2_dog                  p3   p3_conf  p3_dog  \n",
              "483   golden_retriever  0.008862    True           Chihuahua  0.000694    True  \n",
              "1766  golden_retriever  0.023526    True            Pekinese  0.017104    True  \n",
              "1798    Siberian_husky  0.180335    True  Norwegian_elkhound  0.104314    True  \n",
              "692     cocker_spaniel  0.072444    True               teddy  0.071486   False  \n",
              "1471      cash_machine  0.060359   False                maze  0.054981   False  "
            ]
          },
          "metadata": {
            "tags": []
          },
          "execution_count": 37
        }
      ]
    },
    {
      "metadata": {
        "id": "oMz698VwYvob",
        "colab_type": "text"
      },
      "cell_type": "markdown",
      "source": [
        "#### 2. image-predictions.tsv\n"
      ]
    },
    {
      "metadata": {
        "id": "hlAAfxGGZY0_",
        "colab_type": "code",
        "colab": {}
      },
      "cell_type": "code",
      "source": [
        "\"\"\"\n",
        "2.1.1 Code\n",
        "\"\"\"\n",
        "\n",
        "img_pred_df_p1 = img_pred_df_clean[['tweet_id', 'p1', 'p1_conf', 'p1_dog']].copy()\n",
        "img_pred_df_p1.columns = ['tweet_id', 'breed', 'prediction_confidence', 'is_canine']\n",
        "\n",
        "img_pred_df_p2 = img_pred_df_clean[['tweet_id', 'p2', 'p2_conf', 'p2_dog']].copy()\n",
        "img_pred_df_p2.columns = ['tweet_id', 'breed', 'prediction_confidence', 'is_canine']\n",
        "\n",
        "img_pred_df_p3 = img_pred_df_clean[['tweet_id', 'p3', 'p3_conf', 'p3_dog']].copy()\n",
        "img_pred_df_p3.columns = ['tweet_id', 'breed', 'prediction_confidence', 'is_canine']\n",
        "\n",
        "img_pred_df_breed = img_pred_df_p1.append(img_pred_df_p2.append(img_pred_df_p3)).copy()\n"
      ],
      "execution_count": 0,
      "outputs": []
    },
    {
      "metadata": {
        "id": "GfDLC2dwhje4",
        "colab_type": "code",
        "outputId": "733b218f-6dba-474e-8fd3-10ae8818dc78",
        "colab": {
          "base_uri": "https://localhost:8080/",
          "height": 204
        }
      },
      "cell_type": "code",
      "source": [
        "\"\"\"\n",
        "2.1.1 Test\n",
        "\"\"\"\n",
        "\n",
        "img_pred_df_breed.sort_values(by = 'tweet_id').head(5)\n"
      ],
      "execution_count": 0,
      "outputs": [
        {
          "output_type": "execute_result",
          "data": {
            "text/html": [
              "<div>\n",
              "<style scoped>\n",
              "    .dataframe tbody tr th:only-of-type {\n",
              "        vertical-align: middle;\n",
              "    }\n",
              "\n",
              "    .dataframe tbody tr th {\n",
              "        vertical-align: top;\n",
              "    }\n",
              "\n",
              "    .dataframe thead th {\n",
              "        text-align: right;\n",
              "    }\n",
              "</style>\n",
              "<table border=\"1\" class=\"dataframe\">\n",
              "  <thead>\n",
              "    <tr style=\"text-align: right;\">\n",
              "      <th></th>\n",
              "      <th>tweet_id</th>\n",
              "      <th>breed</th>\n",
              "      <th>prediction_confidence</th>\n",
              "      <th>is_canine</th>\n",
              "    </tr>\n",
              "  </thead>\n",
              "  <tbody>\n",
              "    <tr>\n",
              "      <th>0</th>\n",
              "      <td>666020888022790149</td>\n",
              "      <td>Welsh_springer_spaniel</td>\n",
              "      <td>0.465074</td>\n",
              "      <td>True</td>\n",
              "    </tr>\n",
              "    <tr>\n",
              "      <th>0</th>\n",
              "      <td>666020888022790149</td>\n",
              "      <td>Shetland_sheepdog</td>\n",
              "      <td>0.061428</td>\n",
              "      <td>True</td>\n",
              "    </tr>\n",
              "    <tr>\n",
              "      <th>0</th>\n",
              "      <td>666020888022790149</td>\n",
              "      <td>collie</td>\n",
              "      <td>0.156665</td>\n",
              "      <td>True</td>\n",
              "    </tr>\n",
              "    <tr>\n",
              "      <th>1</th>\n",
              "      <td>666029285002620928</td>\n",
              "      <td>redbone</td>\n",
              "      <td>0.506826</td>\n",
              "      <td>True</td>\n",
              "    </tr>\n",
              "    <tr>\n",
              "      <th>1</th>\n",
              "      <td>666029285002620928</td>\n",
              "      <td>Rhodesian_ridgeback</td>\n",
              "      <td>0.072010</td>\n",
              "      <td>True</td>\n",
              "    </tr>\n",
              "  </tbody>\n",
              "</table>\n",
              "</div>"
            ],
            "text/plain": [
              "             tweet_id                   breed  prediction_confidence  \\\n",
              "0  666020888022790149  Welsh_springer_spaniel               0.465074   \n",
              "0  666020888022790149       Shetland_sheepdog               0.061428   \n",
              "0  666020888022790149                  collie               0.156665   \n",
              "1  666029285002620928                 redbone               0.506826   \n",
              "1  666029285002620928     Rhodesian_ridgeback               0.072010   \n",
              "\n",
              "   is_canine  \n",
              "0       True  \n",
              "0       True  \n",
              "0       True  \n",
              "1       True  \n",
              "1       True  "
            ]
          },
          "metadata": {
            "tags": []
          },
          "execution_count": 39
        }
      ]
    },
    {
      "metadata": {
        "id": "vBEKZVXsYIdx",
        "colab_type": "code",
        "outputId": "0cec7838-10aa-404c-9dd6-df0708b98f4f",
        "colab": {
          "base_uri": "https://localhost:8080/",
          "height": 359
        }
      },
      "cell_type": "code",
      "source": [
        "\"\"\"\n",
        "2.2.1 Define  (image-predictions.tsv)\n",
        "Once we address the tidiness issue above and spin off the breed predictions to their own dataframe, we will eliminate all predictions where the \"is_canine\" flag is false. \n",
        "We will then pick the prediction with the highest percentage of confidence and retain them as the only breed predictions (assuming that each dog can be classified into a \n",
        "single breed) and drop the ones with lower prediction confidence scores\n",
        "\n",
        "\"\"\"\n",
        "img_pred_df_breed.sort_values(['tweet_id', 'prediction_confidence'], ascending = [True, False]).head(10)"
      ],
      "execution_count": 0,
      "outputs": [
        {
          "output_type": "execute_result",
          "data": {
            "text/html": [
              "<div>\n",
              "<style scoped>\n",
              "    .dataframe tbody tr th:only-of-type {\n",
              "        vertical-align: middle;\n",
              "    }\n",
              "\n",
              "    .dataframe tbody tr th {\n",
              "        vertical-align: top;\n",
              "    }\n",
              "\n",
              "    .dataframe thead th {\n",
              "        text-align: right;\n",
              "    }\n",
              "</style>\n",
              "<table border=\"1\" class=\"dataframe\">\n",
              "  <thead>\n",
              "    <tr style=\"text-align: right;\">\n",
              "      <th></th>\n",
              "      <th>tweet_id</th>\n",
              "      <th>breed</th>\n",
              "      <th>prediction_confidence</th>\n",
              "      <th>is_canine</th>\n",
              "    </tr>\n",
              "  </thead>\n",
              "  <tbody>\n",
              "    <tr>\n",
              "      <th>0</th>\n",
              "      <td>666020888022790149</td>\n",
              "      <td>Welsh_springer_spaniel</td>\n",
              "      <td>0.465074</td>\n",
              "      <td>True</td>\n",
              "    </tr>\n",
              "    <tr>\n",
              "      <th>0</th>\n",
              "      <td>666020888022790149</td>\n",
              "      <td>collie</td>\n",
              "      <td>0.156665</td>\n",
              "      <td>True</td>\n",
              "    </tr>\n",
              "    <tr>\n",
              "      <th>0</th>\n",
              "      <td>666020888022790149</td>\n",
              "      <td>Shetland_sheepdog</td>\n",
              "      <td>0.061428</td>\n",
              "      <td>True</td>\n",
              "    </tr>\n",
              "    <tr>\n",
              "      <th>1</th>\n",
              "      <td>666029285002620928</td>\n",
              "      <td>redbone</td>\n",
              "      <td>0.506826</td>\n",
              "      <td>True</td>\n",
              "    </tr>\n",
              "    <tr>\n",
              "      <th>1</th>\n",
              "      <td>666029285002620928</td>\n",
              "      <td>miniature_pinscher</td>\n",
              "      <td>0.074192</td>\n",
              "      <td>True</td>\n",
              "    </tr>\n",
              "    <tr>\n",
              "      <th>1</th>\n",
              "      <td>666029285002620928</td>\n",
              "      <td>Rhodesian_ridgeback</td>\n",
              "      <td>0.072010</td>\n",
              "      <td>True</td>\n",
              "    </tr>\n",
              "    <tr>\n",
              "      <th>2</th>\n",
              "      <td>666033412701032449</td>\n",
              "      <td>German_shepherd</td>\n",
              "      <td>0.596461</td>\n",
              "      <td>True</td>\n",
              "    </tr>\n",
              "    <tr>\n",
              "      <th>2</th>\n",
              "      <td>666033412701032449</td>\n",
              "      <td>malinois</td>\n",
              "      <td>0.138584</td>\n",
              "      <td>True</td>\n",
              "    </tr>\n",
              "    <tr>\n",
              "      <th>2</th>\n",
              "      <td>666033412701032449</td>\n",
              "      <td>bloodhound</td>\n",
              "      <td>0.116197</td>\n",
              "      <td>True</td>\n",
              "    </tr>\n",
              "    <tr>\n",
              "      <th>3</th>\n",
              "      <td>666044226329800704</td>\n",
              "      <td>Rhodesian_ridgeback</td>\n",
              "      <td>0.408143</td>\n",
              "      <td>True</td>\n",
              "    </tr>\n",
              "  </tbody>\n",
              "</table>\n",
              "</div>"
            ],
            "text/plain": [
              "             tweet_id                   breed  prediction_confidence  \\\n",
              "0  666020888022790149  Welsh_springer_spaniel               0.465074   \n",
              "0  666020888022790149                  collie               0.156665   \n",
              "0  666020888022790149       Shetland_sheepdog               0.061428   \n",
              "1  666029285002620928                 redbone               0.506826   \n",
              "1  666029285002620928      miniature_pinscher               0.074192   \n",
              "1  666029285002620928     Rhodesian_ridgeback               0.072010   \n",
              "2  666033412701032449         German_shepherd               0.596461   \n",
              "2  666033412701032449                malinois               0.138584   \n",
              "2  666033412701032449              bloodhound               0.116197   \n",
              "3  666044226329800704     Rhodesian_ridgeback               0.408143   \n",
              "\n",
              "   is_canine  \n",
              "0       True  \n",
              "0       True  \n",
              "0       True  \n",
              "1       True  \n",
              "1       True  \n",
              "1       True  \n",
              "2       True  \n",
              "2       True  \n",
              "2       True  \n",
              "3       True  "
            ]
          },
          "metadata": {
            "tags": []
          },
          "execution_count": 40
        }
      ]
    },
    {
      "metadata": {
        "id": "xqJxdX_Baq_4",
        "colab_type": "code",
        "colab": {}
      },
      "cell_type": "code",
      "source": [
        "\"\"\"\n",
        "2.2.1 Code\n",
        "\"\"\"\n",
        "img_pred_df_breed = img_pred_df_breed.query('is_canine')\n",
        "img_pred_df_breed = img_pred_df_breed[img_pred_df_breed.groupby(['tweet_id'])['prediction_confidence'].transform(max) == img_pred_df_breed['prediction_confidence']]\n"
      ],
      "execution_count": 0,
      "outputs": []
    },
    {
      "metadata": {
        "id": "oH3Ed8P8bhGq",
        "colab_type": "code",
        "colab": {}
      },
      "cell_type": "code",
      "source": [
        "\"\"\"\n",
        "2.2.1 Test\n",
        "\"\"\"\n",
        "assert img_pred_df_breed.groupby('tweet_id').filter(lambda x: len(x) > 1).shape[0] == 0"
      ],
      "execution_count": 0,
      "outputs": []
    },
    {
      "metadata": {
        "id": "sNLKLwrzcg26",
        "colab_type": "code",
        "outputId": "7fd5bde1-ac8a-4864-93f3-e37f9f98dc4e",
        "colab": {
          "base_uri": "https://localhost:8080/",
          "height": 224
        }
      },
      "cell_type": "code",
      "source": [
        "\"\"\"\n",
        "2.2.2 Define (image-predictions.tsv)\n",
        "We can then merge this dataset back to the original dataset\n",
        "\n",
        "\"\"\"\n",
        "img_pred_df_clean.head(5)"
      ],
      "execution_count": 0,
      "outputs": [
        {
          "output_type": "execute_result",
          "data": {
            "text/html": [
              "<div>\n",
              "<style scoped>\n",
              "    .dataframe tbody tr th:only-of-type {\n",
              "        vertical-align: middle;\n",
              "    }\n",
              "\n",
              "    .dataframe tbody tr th {\n",
              "        vertical-align: top;\n",
              "    }\n",
              "\n",
              "    .dataframe thead th {\n",
              "        text-align: right;\n",
              "    }\n",
              "</style>\n",
              "<table border=\"1\" class=\"dataframe\">\n",
              "  <thead>\n",
              "    <tr style=\"text-align: right;\">\n",
              "      <th></th>\n",
              "      <th>tweet_id</th>\n",
              "      <th>jpg_url</th>\n",
              "      <th>img_num</th>\n",
              "      <th>p1</th>\n",
              "      <th>p1_conf</th>\n",
              "      <th>p1_dog</th>\n",
              "      <th>p2</th>\n",
              "      <th>p2_conf</th>\n",
              "      <th>p2_dog</th>\n",
              "      <th>p3</th>\n",
              "      <th>p3_conf</th>\n",
              "      <th>p3_dog</th>\n",
              "    </tr>\n",
              "  </thead>\n",
              "  <tbody>\n",
              "    <tr>\n",
              "      <th>0</th>\n",
              "      <td>666020888022790149</td>\n",
              "      <td>https://pbs.twimg.com/media/CT4udn0WwAA0aMy.jpg</td>\n",
              "      <td>1</td>\n",
              "      <td>Welsh_springer_spaniel</td>\n",
              "      <td>0.465074</td>\n",
              "      <td>True</td>\n",
              "      <td>collie</td>\n",
              "      <td>0.156665</td>\n",
              "      <td>True</td>\n",
              "      <td>Shetland_sheepdog</td>\n",
              "      <td>0.061428</td>\n",
              "      <td>True</td>\n",
              "    </tr>\n",
              "    <tr>\n",
              "      <th>1</th>\n",
              "      <td>666029285002620928</td>\n",
              "      <td>https://pbs.twimg.com/media/CT42GRgUYAA5iDo.jpg</td>\n",
              "      <td>1</td>\n",
              "      <td>redbone</td>\n",
              "      <td>0.506826</td>\n",
              "      <td>True</td>\n",
              "      <td>miniature_pinscher</td>\n",
              "      <td>0.074192</td>\n",
              "      <td>True</td>\n",
              "      <td>Rhodesian_ridgeback</td>\n",
              "      <td>0.072010</td>\n",
              "      <td>True</td>\n",
              "    </tr>\n",
              "    <tr>\n",
              "      <th>2</th>\n",
              "      <td>666033412701032449</td>\n",
              "      <td>https://pbs.twimg.com/media/CT4521TWwAEvMyu.jpg</td>\n",
              "      <td>1</td>\n",
              "      <td>German_shepherd</td>\n",
              "      <td>0.596461</td>\n",
              "      <td>True</td>\n",
              "      <td>malinois</td>\n",
              "      <td>0.138584</td>\n",
              "      <td>True</td>\n",
              "      <td>bloodhound</td>\n",
              "      <td>0.116197</td>\n",
              "      <td>True</td>\n",
              "    </tr>\n",
              "    <tr>\n",
              "      <th>3</th>\n",
              "      <td>666044226329800704</td>\n",
              "      <td>https://pbs.twimg.com/media/CT5Dr8HUEAA-lEu.jpg</td>\n",
              "      <td>1</td>\n",
              "      <td>Rhodesian_ridgeback</td>\n",
              "      <td>0.408143</td>\n",
              "      <td>True</td>\n",
              "      <td>redbone</td>\n",
              "      <td>0.360687</td>\n",
              "      <td>True</td>\n",
              "      <td>miniature_pinscher</td>\n",
              "      <td>0.222752</td>\n",
              "      <td>True</td>\n",
              "    </tr>\n",
              "    <tr>\n",
              "      <th>4</th>\n",
              "      <td>666049248165822465</td>\n",
              "      <td>https://pbs.twimg.com/media/CT5IQmsXIAAKY4A.jpg</td>\n",
              "      <td>1</td>\n",
              "      <td>miniature_pinscher</td>\n",
              "      <td>0.560311</td>\n",
              "      <td>True</td>\n",
              "      <td>Rottweiler</td>\n",
              "      <td>0.243682</td>\n",
              "      <td>True</td>\n",
              "      <td>Doberman</td>\n",
              "      <td>0.154629</td>\n",
              "      <td>True</td>\n",
              "    </tr>\n",
              "  </tbody>\n",
              "</table>\n",
              "</div>"
            ],
            "text/plain": [
              "             tweet_id                                          jpg_url  \\\n",
              "0  666020888022790149  https://pbs.twimg.com/media/CT4udn0WwAA0aMy.jpg   \n",
              "1  666029285002620928  https://pbs.twimg.com/media/CT42GRgUYAA5iDo.jpg   \n",
              "2  666033412701032449  https://pbs.twimg.com/media/CT4521TWwAEvMyu.jpg   \n",
              "3  666044226329800704  https://pbs.twimg.com/media/CT5Dr8HUEAA-lEu.jpg   \n",
              "4  666049248165822465  https://pbs.twimg.com/media/CT5IQmsXIAAKY4A.jpg   \n",
              "\n",
              "   img_num                      p1   p1_conf  p1_dog                  p2  \\\n",
              "0        1  Welsh_springer_spaniel  0.465074    True              collie   \n",
              "1        1                 redbone  0.506826    True  miniature_pinscher   \n",
              "2        1         German_shepherd  0.596461    True            malinois   \n",
              "3        1     Rhodesian_ridgeback  0.408143    True             redbone   \n",
              "4        1      miniature_pinscher  0.560311    True          Rottweiler   \n",
              "\n",
              "    p2_conf  p2_dog                   p3   p3_conf  p3_dog  \n",
              "0  0.156665    True    Shetland_sheepdog  0.061428    True  \n",
              "1  0.074192    True  Rhodesian_ridgeback  0.072010    True  \n",
              "2  0.138584    True           bloodhound  0.116197    True  \n",
              "3  0.360687    True   miniature_pinscher  0.222752    True  \n",
              "4  0.243682    True             Doberman  0.154629    True  "
            ]
          },
          "metadata": {
            "tags": []
          },
          "execution_count": 43
        }
      ]
    },
    {
      "metadata": {
        "id": "K-kndDTBc-BF",
        "colab_type": "code",
        "colab": {}
      },
      "cell_type": "code",
      "source": [
        "\"\"\"\n",
        "2.2.2 Code\n",
        "\"\"\"\n",
        "\n",
        "img_pred_df_clean = img_pred_df_clean.merge(img_pred_df_breed, on = 'tweet_id', how = 'left')"
      ],
      "execution_count": 0,
      "outputs": []
    },
    {
      "metadata": {
        "id": "OO8lEwPreK7-",
        "colab_type": "code",
        "outputId": "a565700d-1298-457f-9472-a171d49e20ef",
        "colab": {
          "base_uri": "https://localhost:8080/",
          "height": 272
        }
      },
      "cell_type": "code",
      "source": [
        "\"\"\"\n",
        "2.2.2 Test\n",
        "\"\"\"\n",
        "# assert set(['breed', 'prediction_confidence', 'is_canine']).issubset(img_pred_df_clean.columns)\n",
        "list(img_pred_df_clean)"
      ],
      "execution_count": 0,
      "outputs": [
        {
          "output_type": "execute_result",
          "data": {
            "text/plain": [
              "['tweet_id',\n",
              " 'jpg_url',\n",
              " 'img_num',\n",
              " 'p1',\n",
              " 'p1_conf',\n",
              " 'p1_dog',\n",
              " 'p2',\n",
              " 'p2_conf',\n",
              " 'p2_dog',\n",
              " 'p3',\n",
              " 'p3_conf',\n",
              " 'p3_dog',\n",
              " 'breed',\n",
              " 'prediction_confidence',\n",
              " 'is_canine']"
            ]
          },
          "metadata": {
            "tags": []
          },
          "execution_count": 45
        }
      ]
    },
    {
      "metadata": {
        "id": "TSdXAhCBiCeR",
        "colab_type": "code",
        "colab": {}
      },
      "cell_type": "code",
      "source": [
        "\"\"\"\n",
        "2.2.3 Define (image-predictions.tsv)\n",
        "After merging, we will drop the following columns as they are no longer needed:\n",
        "\n",
        "* jpg_url (we have obtained the media_url using the Twitter API and we will retain that in case it needs to be used)\n",
        "* img_num (don't see how this information will be useful)\n",
        "* p1\n",
        "* p1_conf\n",
        "* p1_dog\n",
        "* p2\n",
        "* p2_conf\n",
        "* p2_dog\n",
        "* p3\n",
        "* p3_conf\n",
        "* p3_dog\n",
        "\n",
        "\"\"\"\n",
        "\n",
        "img_pred_df_clean_dropped_columns = ['jpg_url', 'img_num', 'p1', 'p1_conf', 'p1_dog', 'p2', 'p2_conf', 'p2_dog', 'p3', 'p3_conf', 'p3_dog', 'is_canine']"
      ],
      "execution_count": 0,
      "outputs": []
    },
    {
      "metadata": {
        "id": "vapLrci0jTZ_",
        "colab_type": "code",
        "colab": {}
      },
      "cell_type": "code",
      "source": [
        "\"\"\"\n",
        "2.2.3 Code\n",
        "\"\"\"\n",
        "img_pred_df_clean.drop(img_pred_df_clean_dropped_columns, axis = 1, inplace = True)"
      ],
      "execution_count": 0,
      "outputs": []
    },
    {
      "metadata": {
        "id": "5YXps3Sgjrl6",
        "colab_type": "code",
        "outputId": "ad634e63-305f-4f92-a676-8360a1367640",
        "colab": {
          "base_uri": "https://localhost:8080/",
          "height": 204
        }
      },
      "cell_type": "code",
      "source": [
        "\"\"\"\n",
        "2.2.3 Test\n",
        "\"\"\"\n",
        "\n",
        "assert not set(img_pred_df_clean_dropped_columns).issubset(img_pred_df_clean.columns)\n",
        "img_pred_df_clean.head()"
      ],
      "execution_count": 0,
      "outputs": [
        {
          "output_type": "execute_result",
          "data": {
            "text/html": [
              "<div>\n",
              "<style scoped>\n",
              "    .dataframe tbody tr th:only-of-type {\n",
              "        vertical-align: middle;\n",
              "    }\n",
              "\n",
              "    .dataframe tbody tr th {\n",
              "        vertical-align: top;\n",
              "    }\n",
              "\n",
              "    .dataframe thead th {\n",
              "        text-align: right;\n",
              "    }\n",
              "</style>\n",
              "<table border=\"1\" class=\"dataframe\">\n",
              "  <thead>\n",
              "    <tr style=\"text-align: right;\">\n",
              "      <th></th>\n",
              "      <th>tweet_id</th>\n",
              "      <th>breed</th>\n",
              "      <th>prediction_confidence</th>\n",
              "    </tr>\n",
              "  </thead>\n",
              "  <tbody>\n",
              "    <tr>\n",
              "      <th>0</th>\n",
              "      <td>666020888022790149</td>\n",
              "      <td>Welsh_springer_spaniel</td>\n",
              "      <td>0.465074</td>\n",
              "    </tr>\n",
              "    <tr>\n",
              "      <th>1</th>\n",
              "      <td>666029285002620928</td>\n",
              "      <td>redbone</td>\n",
              "      <td>0.506826</td>\n",
              "    </tr>\n",
              "    <tr>\n",
              "      <th>2</th>\n",
              "      <td>666033412701032449</td>\n",
              "      <td>German_shepherd</td>\n",
              "      <td>0.596461</td>\n",
              "    </tr>\n",
              "    <tr>\n",
              "      <th>3</th>\n",
              "      <td>666044226329800704</td>\n",
              "      <td>Rhodesian_ridgeback</td>\n",
              "      <td>0.408143</td>\n",
              "    </tr>\n",
              "    <tr>\n",
              "      <th>4</th>\n",
              "      <td>666049248165822465</td>\n",
              "      <td>miniature_pinscher</td>\n",
              "      <td>0.560311</td>\n",
              "    </tr>\n",
              "  </tbody>\n",
              "</table>\n",
              "</div>"
            ],
            "text/plain": [
              "             tweet_id                   breed  prediction_confidence\n",
              "0  666020888022790149  Welsh_springer_spaniel               0.465074\n",
              "1  666029285002620928                 redbone               0.506826\n",
              "2  666033412701032449         German_shepherd               0.596461\n",
              "3  666044226329800704     Rhodesian_ridgeback               0.408143\n",
              "4  666049248165822465      miniature_pinscher               0.560311"
            ]
          },
          "metadata": {
            "tags": []
          },
          "execution_count": 48
        }
      ]
    },
    {
      "metadata": {
        "id": "1TOTRnZuiJLG",
        "colab_type": "text"
      },
      "cell_type": "markdown",
      "source": [
        "#### 3. tweet_mini_df\n"
      ]
    },
    {
      "metadata": {
        "id": "UCAwagUDj9dG",
        "colab_type": "code",
        "outputId": "30e125c7-9c41-49d7-ef5e-0831343d431f",
        "colab": {
          "base_uri": "https://localhost:8080/",
          "height": 204
        }
      },
      "cell_type": "code",
      "source": [
        "\"\"\"\n",
        "3.1.1 Define (tweets_mini_df)\n",
        "We need to drop all the tweets in this dataset that were originally marked as retweets in the \"twitter-archive-enhanced\" dataset as we are only interested in original tweets\n",
        "\"\"\"\n",
        "\n",
        "tweets_mini_df_clean = tweets_mini_df.copy()\n",
        "\n",
        "retweets = tweets_df[tweets_df['retweeted_status_id'].notnull()]['tweet_id'].to_frame(name = 'tweet_id')\n",
        "retweets.head()"
      ],
      "execution_count": 0,
      "outputs": [
        {
          "output_type": "execute_result",
          "data": {
            "text/html": [
              "<div>\n",
              "<style scoped>\n",
              "    .dataframe tbody tr th:only-of-type {\n",
              "        vertical-align: middle;\n",
              "    }\n",
              "\n",
              "    .dataframe tbody tr th {\n",
              "        vertical-align: top;\n",
              "    }\n",
              "\n",
              "    .dataframe thead th {\n",
              "        text-align: right;\n",
              "    }\n",
              "</style>\n",
              "<table border=\"1\" class=\"dataframe\">\n",
              "  <thead>\n",
              "    <tr style=\"text-align: right;\">\n",
              "      <th></th>\n",
              "      <th>tweet_id</th>\n",
              "    </tr>\n",
              "  </thead>\n",
              "  <tbody>\n",
              "    <tr>\n",
              "      <th>19</th>\n",
              "      <td>888202515573088257</td>\n",
              "    </tr>\n",
              "    <tr>\n",
              "      <th>32</th>\n",
              "      <td>886054160059072513</td>\n",
              "    </tr>\n",
              "    <tr>\n",
              "      <th>36</th>\n",
              "      <td>885311592912609280</td>\n",
              "    </tr>\n",
              "    <tr>\n",
              "      <th>68</th>\n",
              "      <td>879130579576475649</td>\n",
              "    </tr>\n",
              "    <tr>\n",
              "      <th>73</th>\n",
              "      <td>878404777348136964</td>\n",
              "    </tr>\n",
              "  </tbody>\n",
              "</table>\n",
              "</div>"
            ],
            "text/plain": [
              "              tweet_id\n",
              "19  888202515573088257\n",
              "32  886054160059072513\n",
              "36  885311592912609280\n",
              "68  879130579576475649\n",
              "73  878404777348136964"
            ]
          },
          "metadata": {
            "tags": []
          },
          "execution_count": 49
        }
      ]
    },
    {
      "metadata": {
        "id": "Uo-ervsFlKqd",
        "colab_type": "code",
        "colab": {}
      },
      "cell_type": "code",
      "source": [
        "\"\"\"\n",
        "3.1.1 Code\n",
        "\"\"\"\n",
        "\n",
        "tweets_mini_df_clean = tweets_mini_df_clean.merge(retweets, on = 'tweet_id', how = 'left', indicator = True)\n",
        "tweets_mini_df_clean.drop(tweets_mini_df_clean.query('_merge == \"both\"').index, inplace = True)\n",
        "tweets_mini_df_clean.drop(['_merge'], axis = 1, inplace = True)\n"
      ],
      "execution_count": 0,
      "outputs": []
    },
    {
      "metadata": {
        "id": "h4fABmB6sB1c",
        "colab_type": "code",
        "outputId": "671cc6af-2879-4b0b-a865-945e45a52e6c",
        "colab": {
          "base_uri": "https://localhost:8080/",
          "height": 49
        }
      },
      "cell_type": "code",
      "source": [
        "\"\"\"\n",
        "3.1.1 Test\n",
        "\"\"\"\n",
        "\n",
        "tweets_mini_df_clean.merge(retweets, on = 'tweet_id', how = 'inner')"
      ],
      "execution_count": 0,
      "outputs": [
        {
          "output_type": "execute_result",
          "data": {
            "text/html": [
              "<div>\n",
              "<style scoped>\n",
              "    .dataframe tbody tr th:only-of-type {\n",
              "        vertical-align: middle;\n",
              "    }\n",
              "\n",
              "    .dataframe tbody tr th {\n",
              "        vertical-align: top;\n",
              "    }\n",
              "\n",
              "    .dataframe thead th {\n",
              "        text-align: right;\n",
              "    }\n",
              "</style>\n",
              "<table border=\"1\" class=\"dataframe\">\n",
              "  <thead>\n",
              "    <tr style=\"text-align: right;\">\n",
              "      <th></th>\n",
              "      <th>tweet_id</th>\n",
              "      <th>text</th>\n",
              "      <th>retweet_count</th>\n",
              "      <th>favorite_count</th>\n",
              "      <th>retweeted</th>\n",
              "      <th>favorited</th>\n",
              "      <th>media_url</th>\n",
              "    </tr>\n",
              "  </thead>\n",
              "  <tbody>\n",
              "  </tbody>\n",
              "</table>\n",
              "</div>"
            ],
            "text/plain": [
              "Empty DataFrame\n",
              "Columns: [tweet_id, text, retweet_count, favorite_count, retweeted, favorited, media_url]\n",
              "Index: []"
            ]
          },
          "metadata": {
            "tags": []
          },
          "execution_count": 51
        }
      ]
    },
    {
      "metadata": {
        "id": "naE039ZR78bP",
        "colab_type": "code",
        "colab": {}
      },
      "cell_type": "code",
      "source": [
        "\"\"\"\n",
        "3.1.2 Define\n",
        "We will also drop the \"text\", \"retweeted\" and \"favorited\" columns as we no longer need this (3.1.2)\n",
        "\"\"\"\n",
        "tweets_mini_df_drop_cols = ['text', 'retweeted', 'favorited']"
      ],
      "execution_count": 0,
      "outputs": []
    },
    {
      "metadata": {
        "id": "LKrLnaFI8sdl",
        "colab_type": "code",
        "colab": {}
      },
      "cell_type": "code",
      "source": [
        "\"\"\"\n",
        "3.1.2 Code\n",
        "\"\"\"\n",
        "\n",
        "tweets_mini_df_clean.drop(tweets_mini_df_drop_cols, axis = 1, inplace = True)"
      ],
      "execution_count": 0,
      "outputs": []
    },
    {
      "metadata": {
        "id": "WD-3pLfi84ZO",
        "colab_type": "code",
        "colab": {}
      },
      "cell_type": "code",
      "source": [
        "\"\"\"\n",
        "3.1.2. Test\n",
        "\"\"\"\n",
        "assert not set(tweets_mini_df_drop_cols).issubset(tweets_mini_df_clean.columns)"
      ],
      "execution_count": 0,
      "outputs": []
    },
    {
      "metadata": {
        "id": "sFLzQ8n_nWRh",
        "colab_type": "text"
      },
      "cell_type": "markdown",
      "source": [
        "#### 4. Tidiness Issues: combining data from all the datasets\n"
      ]
    },
    {
      "metadata": {
        "id": "a8ixccQYz-hP",
        "colab_type": "text"
      },
      "cell_type": "markdown",
      "source": [
        "4. Define\n",
        "\n",
        "Having addressed the data quality and tidiness issues at the level of individual datasets, \n",
        "we can now merge the data in these datasets into one. Since the data granularity in each \n",
        "of these datasets is at the \"tweet_id\" level, we will use it to combine the data into a \n",
        "single dataset and persist it to a file called \"twitter_archive_master.csv\". \n",
        "\n",
        "We will use \"inner joins\" to merge these datasets thus eliminating any rows for whcih \n",
        "no valid information is available online. For example, there are 17 tweet ids in the \n",
        "original \"twitter-archive-enhanced\" dataset for which the Twitter API returned errors \n",
        "and these will be eliminated during the merging process.\n",
        "\n",
        "Inputs:\n",
        " - tweets_df_clean\n",
        " - img_pred_df_clean\n",
        " - tweets_mini_df_clean\n",
        "\n",
        "Merged into:\n",
        " - twitter_archive_master_df\n",
        " \n",
        "Additional files:\n",
        " - Since dog stages seem to have a one-to-many relationship with tweets, they will be \n",
        "   stored in their own file\n"
      ]
    },
    {
      "metadata": {
        "id": "Fprn2jow6gNN",
        "colab_type": "code",
        "colab": {}
      },
      "cell_type": "code",
      "source": [
        "\"\"\"\n",
        "4. Code\n",
        "\"\"\"\n",
        "twitter_archive_master_df = tweets_df_clean.merge(img_pred_df_clean, on = 'tweet_id', how = 'inner').merge(tweets_mini_df_clean, on = 'tweet_id', how = 'inner')\n"
      ],
      "execution_count": 0,
      "outputs": []
    },
    {
      "metadata": {
        "id": "TJRu6LaD9qUb",
        "colab_type": "code",
        "outputId": "5dd67eec-dff0-450b-eb7f-b2770ef5fe8a",
        "colab": {
          "base_uri": "https://localhost:8080/",
          "height": 581
        }
      },
      "cell_type": "code",
      "source": [
        "\"\"\"\n",
        "4. Test\n",
        "\"\"\"\n",
        "\n",
        "twitter_archive_master_df.head()"
      ],
      "execution_count": 0,
      "outputs": [
        {
          "output_type": "execute_result",
          "data": {
            "text/html": [
              "<div>\n",
              "<style scoped>\n",
              "    .dataframe tbody tr th:only-of-type {\n",
              "        vertical-align: middle;\n",
              "    }\n",
              "\n",
              "    .dataframe tbody tr th {\n",
              "        vertical-align: top;\n",
              "    }\n",
              "\n",
              "    .dataframe thead th {\n",
              "        text-align: right;\n",
              "    }\n",
              "</style>\n",
              "<table border=\"1\" class=\"dataframe\">\n",
              "  <thead>\n",
              "    <tr style=\"text-align: right;\">\n",
              "      <th></th>\n",
              "      <th>tweet_id</th>\n",
              "      <th>timestamp</th>\n",
              "      <th>source</th>\n",
              "      <th>text</th>\n",
              "      <th>rating_numerator</th>\n",
              "      <th>rating_denominator</th>\n",
              "      <th>name</th>\n",
              "      <th>breed</th>\n",
              "      <th>prediction_confidence</th>\n",
              "      <th>retweet_count</th>\n",
              "      <th>favorite_count</th>\n",
              "      <th>media_url</th>\n",
              "    </tr>\n",
              "  </thead>\n",
              "  <tbody>\n",
              "    <tr>\n",
              "      <th>0</th>\n",
              "      <td>891815181378084864</td>\n",
              "      <td>2017-07-31 00:18:03</td>\n",
              "      <td>&lt;a href=\"http://twitter.com/download/iphone\" r...</td>\n",
              "      <td>This is Archie. He is a rare Norwegian Pouncin...</td>\n",
              "      <td>12</td>\n",
              "      <td>10</td>\n",
              "      <td>Archie</td>\n",
              "      <td>Chihuahua</td>\n",
              "      <td>0.716012</td>\n",
              "      <td>4023</td>\n",
              "      <td>24408</td>\n",
              "      <td></td>\n",
              "    </tr>\n",
              "    <tr>\n",
              "      <th>1</th>\n",
              "      <td>891689557279858688</td>\n",
              "      <td>2017-07-30 15:58:51</td>\n",
              "      <td>&lt;a href=\"http://twitter.com/download/iphone\" r...</td>\n",
              "      <td>This is Darla. She commenced a snooze mid meal...</td>\n",
              "      <td>13</td>\n",
              "      <td>10</td>\n",
              "      <td>Darla</td>\n",
              "      <td>Labrador_retriever</td>\n",
              "      <td>0.168086</td>\n",
              "      <td>8369</td>\n",
              "      <td>41060</td>\n",
              "      <td>https://pbs.twimg.com/media/DF_q7IAWsAEuuN8.jpg</td>\n",
              "    </tr>\n",
              "    <tr>\n",
              "      <th>2</th>\n",
              "      <td>891327558926688256</td>\n",
              "      <td>2017-07-29 16:00:24</td>\n",
              "      <td>&lt;a href=\"http://twitter.com/download/iphone\" r...</td>\n",
              "      <td>This is Franklin. He would like you to stop ca...</td>\n",
              "      <td>12</td>\n",
              "      <td>10</td>\n",
              "      <td>Franklin</td>\n",
              "      <td>basset</td>\n",
              "      <td>0.555712</td>\n",
              "      <td>9082</td>\n",
              "      <td>39252</td>\n",
              "      <td></td>\n",
              "    </tr>\n",
              "    <tr>\n",
              "      <th>3</th>\n",
              "      <td>891087950875897856</td>\n",
              "      <td>2017-07-29 00:08:17</td>\n",
              "      <td>&lt;a href=\"http://twitter.com/download/iphone\" r...</td>\n",
              "      <td>Here we have a majestic great white breaching ...</td>\n",
              "      <td>13</td>\n",
              "      <td>10</td>\n",
              "      <td>None</td>\n",
              "      <td>Chesapeake_Bay_retriever</td>\n",
              "      <td>0.425595</td>\n",
              "      <td>3008</td>\n",
              "      <td>19740</td>\n",
              "      <td></td>\n",
              "    </tr>\n",
              "    <tr>\n",
              "      <th>4</th>\n",
              "      <td>890971913173991426</td>\n",
              "      <td>2017-07-28 16:27:12</td>\n",
              "      <td>&lt;a href=\"http://twitter.com/download/iphone\" r...</td>\n",
              "      <td>Meet Jax. He enjoys ice cream so much he gets ...</td>\n",
              "      <td>13</td>\n",
              "      <td>10</td>\n",
              "      <td>Jax</td>\n",
              "      <td>Appenzeller</td>\n",
              "      <td>0.341703</td>\n",
              "      <td>1991</td>\n",
              "      <td>11543</td>\n",
              "      <td></td>\n",
              "    </tr>\n",
              "  </tbody>\n",
              "</table>\n",
              "</div>"
            ],
            "text/plain": [
              "             tweet_id           timestamp  \\\n",
              "0  891815181378084864 2017-07-31 00:18:03   \n",
              "1  891689557279858688 2017-07-30 15:58:51   \n",
              "2  891327558926688256 2017-07-29 16:00:24   \n",
              "3  891087950875897856 2017-07-29 00:08:17   \n",
              "4  890971913173991426 2017-07-28 16:27:12   \n",
              "\n",
              "                                              source  \\\n",
              "0  <a href=\"http://twitter.com/download/iphone\" r...   \n",
              "1  <a href=\"http://twitter.com/download/iphone\" r...   \n",
              "2  <a href=\"http://twitter.com/download/iphone\" r...   \n",
              "3  <a href=\"http://twitter.com/download/iphone\" r...   \n",
              "4  <a href=\"http://twitter.com/download/iphone\" r...   \n",
              "\n",
              "                                                text  rating_numerator  \\\n",
              "0  This is Archie. He is a rare Norwegian Pouncin...                12   \n",
              "1  This is Darla. She commenced a snooze mid meal...                13   \n",
              "2  This is Franklin. He would like you to stop ca...                12   \n",
              "3  Here we have a majestic great white breaching ...                13   \n",
              "4  Meet Jax. He enjoys ice cream so much he gets ...                13   \n",
              "\n",
              "   rating_denominator      name                     breed  \\\n",
              "0                  10    Archie                 Chihuahua   \n",
              "1                  10     Darla        Labrador_retriever   \n",
              "2                  10  Franklin                    basset   \n",
              "3                  10      None  Chesapeake_Bay_retriever   \n",
              "4                  10       Jax               Appenzeller   \n",
              "\n",
              "   prediction_confidence retweet_count favorite_count  \\\n",
              "0               0.716012          4023          24408   \n",
              "1               0.168086          8369          41060   \n",
              "2               0.555712          9082          39252   \n",
              "3               0.425595          3008          19740   \n",
              "4               0.341703          1991          11543   \n",
              "\n",
              "                                         media_url  \n",
              "0                                                   \n",
              "1  https://pbs.twimg.com/media/DF_q7IAWsAEuuN8.jpg  \n",
              "2                                                   \n",
              "3                                                   \n",
              "4                                                   "
            ]
          },
          "metadata": {
            "tags": []
          },
          "execution_count": 56
        }
      ]
    },
    {
      "metadata": {
        "id": "n5l5ttO09zrn",
        "colab_type": "code",
        "colab": {}
      },
      "cell_type": "code",
      "source": [
        "# Write the dataframes to files\n",
        "twitter_archive_master_df.to_csv(twitter_archive_master_file)\n"
      ],
      "execution_count": 0,
      "outputs": []
    },
    {
      "metadata": {
        "id": "ByUD2LXr-y3k",
        "colab_type": "code",
        "colab": {}
      },
      "cell_type": "code",
      "source": [
        "assert os.path.isfile(twitter_archive_master_file)"
      ],
      "execution_count": 0,
      "outputs": []
    },
    {
      "metadata": {
        "id": "wmb3CJOs_CbW",
        "colab_type": "code",
        "colab": {}
      },
      "cell_type": "code",
      "source": [
        "dog_stage_df.to_csv(dog_stage_file)\n"
      ],
      "execution_count": 0,
      "outputs": []
    },
    {
      "metadata": {
        "id": "MAK5dslp_GlG",
        "colab_type": "code",
        "colab": {}
      },
      "cell_type": "code",
      "source": [
        "assert os.path.isfile(dog_stage_file)"
      ],
      "execution_count": 0,
      "outputs": []
    }
  ]
}