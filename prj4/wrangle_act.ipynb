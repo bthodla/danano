{
  "nbformat": 4,
  "nbformat_minor": 0,
  "metadata": {
    "colab": {
      "name": "wrangle_act.ipynb",
      "version": "0.3.2",
      "provenance": [],
      "collapsed_sections": [],
      "include_colab_link": true
    },
    "kernelspec": {
      "name": "python3",
      "display_name": "Python 3"
    }
  },
  "cells": [
    {
      "cell_type": "markdown",
      "metadata": {
        "id": "view-in-github",
        "colab_type": "text"
      },
      "source": [
        "<a href=\"https://colab.research.google.com/github/bthodla/danano/blob/master/prj4/wrangle_act.ipynb\" target=\"_parent\"><img src=\"https://colab.research.google.com/assets/colab-badge.svg\" alt=\"Open In Colab\"/></a>"
      ]
    },
    {
      "metadata": {
        "id": "6MHgHyKUt_Uj",
        "colab_type": "text"
      },
      "cell_type": "markdown",
      "source": [
        "### Data to be gathered\n",
        "\n",
        "1.   Load the \"twitter-archive-enhanced.csv\" into a dataframe\n",
        "2.   Load the \"image_predictions.tsv\" (the Tweet image predictions) hosted on Udacity servers programmatically using the \"requests\" library (URL: https://d17h27t6h515a5.cloudfront.net/topher/2017/August/599fd2ad_image-predictions/image-predictions.tsv)\n",
        "3. Using tweet ids from (1) above and the Twitter API, load information such as \"retweet count\" and \"favorite count\" and any other interesting data items and store the entire set of data relating to a tweet in a JSON file called \"tweet_json.txt\"; then read this file line by line into a data frame and include tweet id, retweet count, favorite count and any other data items of interest\n",
        "4. Consumer API keys: \n",
        "    \n",
        "    Z22dLMPEOtCL2ayqnPTbFg3sK (API key)\n",
        "    \n",
        "    SuaxZay016BTIpzrYszo9Dbo0jQd38FZ8SUi0bDyy8hU6jMKdj (API secret key)\n",
        "    \n",
        "    Access token & access token secret\n",
        "\n",
        "    14299634-DHvEoZI9bR2D5WOZWf82MjHX6vEnPRIosIrli6ueb (Access token)\n",
        "\n",
        "    nvba5wXGFrEcYKmQjztu40wsr0vG2pXnQShE2ZQv6I313 (Access token secret)\n",
        "\n",
        "    Read and write (Access level)\n",
        "\n",
        "\n"
      ]
    },
    {
      "metadata": {
        "id": "CLeZDiDMhHv6",
        "colab_type": "code",
        "colab": {}
      },
      "cell_type": "code",
      "source": [
        "# Import the necessary libraries\n",
        "import pandas as pd\n",
        "import numpy as np\n",
        "import requests\n",
        "import io\n",
        "import tweepy\n",
        "import json"
      ],
      "execution_count": 0,
      "outputs": []
    },
    {
      "metadata": {
        "id": "6C3qa35miEux",
        "colab_type": "code",
        "outputId": "cf197eea-afb6-4559-8edd-4b13f8a7c880",
        "colab": {
          "base_uri": "https://localhost:8080/",
          "height": 391
        }
      },
      "cell_type": "code",
      "source": [
        "# 1. Load the file \"twitter-archive-enhanced.csv\" into a dataframe\n",
        "twitter_archive_file_url = 'https://raw.githubusercontent.com/bthodla/danano/master/prj4/twitter-archive-enhanced.csv'\n",
        "\n",
        "tweets_df = pd.read_csv(twitter_archive_file_url)\n",
        "\n",
        "tweets_df.info()"
      ],
      "execution_count": 10,
      "outputs": [
        {
          "output_type": "stream",
          "text": [
            "<class 'pandas.core.frame.DataFrame'>\n",
            "RangeIndex: 2356 entries, 0 to 2355\n",
            "Data columns (total 17 columns):\n",
            "tweet_id                      2356 non-null int64\n",
            "in_reply_to_status_id         78 non-null float64\n",
            "in_reply_to_user_id           78 non-null float64\n",
            "timestamp                     2356 non-null object\n",
            "source                        2356 non-null object\n",
            "text                          2356 non-null object\n",
            "retweeted_status_id           181 non-null float64\n",
            "retweeted_status_user_id      181 non-null float64\n",
            "retweeted_status_timestamp    181 non-null object\n",
            "expanded_urls                 2297 non-null object\n",
            "rating_numerator              2356 non-null int64\n",
            "rating_denominator            2356 non-null int64\n",
            "name                          2356 non-null object\n",
            "doggo                         2356 non-null object\n",
            "floofer                       2356 non-null object\n",
            "pupper                        2356 non-null object\n",
            "puppo                         2356 non-null object\n",
            "dtypes: float64(4), int64(3), object(10)\n",
            "memory usage: 313.0+ KB\n"
          ],
          "name": "stdout"
        }
      ]
    },
    {
      "metadata": {
        "id": "YXfHmi0ene-L",
        "colab_type": "code",
        "outputId": "ea833081-a629-4c89-89ce-6f07cb50c442",
        "colab": {
          "base_uri": "https://localhost:8080/",
          "height": 306
        }
      },
      "cell_type": "code",
      "source": [
        "# 2. Load the \"image_predictions.tsv\" (the Tweet image predictions) hosted on Udacity servers programmatically using the \"requests\" library\n",
        "\n",
        "image_predictions_file_url = 'https://d17h27t6h515a5.cloudfront.net/topher/2017/August/599fd2ad_image-predictions/image-predictions.tsv'\n",
        "\n",
        "url_data = requests.get(image_predictions_file_url).content\n",
        "\n",
        "img_pred_df = pd.read_csv(io.StringIO(url_data.decode('utf-8')), sep = '\\t')\n",
        "\n",
        "img_pred_df.info()"
      ],
      "execution_count": 9,
      "outputs": [
        {
          "output_type": "stream",
          "text": [
            "<class 'pandas.core.frame.DataFrame'>\n",
            "RangeIndex: 2075 entries, 0 to 2074\n",
            "Data columns (total 12 columns):\n",
            "tweet_id    2075 non-null int64\n",
            "jpg_url     2075 non-null object\n",
            "img_num     2075 non-null int64\n",
            "p1          2075 non-null object\n",
            "p1_conf     2075 non-null float64\n",
            "p1_dog      2075 non-null bool\n",
            "p2          2075 non-null object\n",
            "p2_conf     2075 non-null float64\n",
            "p2_dog      2075 non-null bool\n",
            "p3          2075 non-null object\n",
            "p3_conf     2075 non-null float64\n",
            "p3_dog      2075 non-null bool\n",
            "dtypes: bool(3), float64(3), int64(2), object(4)\n",
            "memory usage: 152.1+ KB\n"
          ],
          "name": "stdout"
        }
      ]
    },
    {
      "metadata": {
        "id": "uXGoehx6nemP",
        "colab_type": "code",
        "outputId": "42f2880e-2f94-4c40-e322-8586bd4ef537",
        "colab": {
          "base_uri": "https://localhost:8080/",
          "height": 1771
        }
      },
      "cell_type": "code",
      "source": [
        "\"\"\" 3. Using tweet ids from tweet_df and the Twitter API, load information such as \"retweet count\" and \"favorite count\" and any other interesting data items \n",
        "and store the entire set of data relating to a tweet in a JSON file called \"tweet_json.txt\"; \n",
        "then read this file line by line into a data frame and include tweet id, retweet count, favorite count and any other data items of interest\n",
        "\"\"\"\n",
        "\n",
        "consumer_key = 'Z22dLMPEOtCL2ayqnPTbFg3sK'\n",
        "consumer_secret = 'SuaxZay016BTIpzrYszo9Dbo0jQd38FZ8SUi0bDyy8hU6jMKdj'\n",
        "\n",
        "access_token = '14299634-DHvEoZI9bR2D5WOZWf82MjHX6vEnPRIosIrli6ueb'\n",
        "access_token_secret = 'nvba5wXGFrEcYKmQjztu40wsr0vG2pXnQShE2ZQv6I313'\n",
        "\n",
        "auth = tweepy.OAuthHandler(consumer_key, consumer_secret)\n",
        "auth.set_access_token(access_token, access_token_secret)\n",
        "\n",
        "api = tweepy.API(auth)\n",
        "\n",
        "\"\"\"\n",
        "public_tweets = api.home_timeline()\n",
        "for tweet in public_tweets:\n",
        "    print(tweet.text)\n",
        "\n",
        "print(user.screen_name)\n",
        "print(user.followers_count)\n",
        "for friend in user.friends():\n",
        "   print(friend.screen_name)\n",
        "\n",
        "\n",
        "\"\"\" \n",
        "count = 0\n",
        "error_tweets = {}\n",
        "for i in tweets_df['tweet_id']:\n",
        "    try:\n",
        "        tweet = api.get_status(i)\n",
        "        print ('%s %d %s %d' % ('Retweets: ', tweet.retweet_count, 'Favorites: ', tweet.favorite_count))\n",
        "        count += 1\n",
        "        if count > 100:\n",
        "            break\n",
        "    except tweepy.TweepError as e:\n",
        "        error_tweets[i] = e\n",
        "\n",
        "print(error_tweets)        \n"
      ],
      "execution_count": 35,
      "outputs": [
        {
          "output_type": "stream",
          "text": [
            "Retweets:  8232 Favorites:  37782\n",
            "Retweets:  6083 Favorites:  32453\n",
            "Retweets:  4027 Favorites:  24435\n",
            "Retweets:  8382 Favorites:  41113\n",
            "Retweets:  9088 Favorites:  39323\n",
            "Retweets:  3013 Favorites:  19769\n",
            "Retweets:  1992 Favorites:  11555\n",
            "Retweets:  18299 Favorites:  63719\n",
            "Retweets:  4142 Favorites:  27160\n",
            "Retweets:  7152 Favorites:  31144\n",
            "Retweets:  7112 Favorites:  29937\n",
            "Retweets:  4825 Favorites:  27151\n",
            "Retweets:  9734 Favorites:  46928\n",
            "Retweets:  4393 Favorites:  26468\n",
            "Retweets:  2184 Favorites:  14759\n",
            "Retweets:  5209 Favorites:  24631\n",
            "Retweets:  4367 Favorites:  28424\n",
            "Retweets:  4153 Favorites:  24940\n",
            "Retweets:  3432 Favorites:  19350\n",
            "Retweets:  3387 Favorites:  21232\n",
            "Retweets:  5222 Favorites:  29480\n",
            "Retweets:  11349 Favorites:  45162\n",
            "Retweets:  17630 Favorites:  67319\n",
            "Retweets:  10115 Favorites:  32869\n",
            "Retweets:  5786 Favorites:  29838\n",
            "Retweets:  7535 Favorites:  34276\n",
            "Retweets:  3173 Favorites:  11760\n",
            "Retweets:  4328 Favorites:  21906\n",
            "Retweets:  3105 Favorites:  20675\n",
            "Retweets:  4 Favorites:  116\n",
            "Retweets:  6110 Favorites:  27319\n",
            "Retweets:  104 Favorites:  0\n",
            "Retweets:  6563 Favorites:  31841\n",
            "Retweets:  6235 Favorites:  35086\n",
            "Retweets:  3641 Favorites:  19952\n",
            "Retweets:  17993 Favorites:  0\n",
            "Retweets:  4257 Favorites:  21381\n",
            "Retweets:  17716 Favorites:  75452\n",
            "Retweets:  5453 Favorites:  27236\n",
            "Retweets:  4554 Favorites:  23697\n",
            "Retweets:  5497 Favorites:  26359\n",
            "Retweets:  19914 Favorites:  71211\n",
            "Retweets:  2893 Favorites:  19867\n",
            "Retweets:  3349 Favorites:  21364\n",
            "Retweets:  9642 Favorites:  44797\n",
            "Retweets:  3600 Favorites:  22146\n",
            "Retweets:  6473 Favorites:  36278\n",
            "Retweets:  3810 Favorites:  23374\n",
            "Retweets:  4762 Favorites:  27626\n",
            "Retweets:  5915 Favorites:  27281\n",
            "Retweets:  11260 Favorites:  43854\n",
            "Retweets:  4816 Favorites:  28629\n",
            "Retweets:  3302 Favorites:  23748\n",
            "Retweets:  10375 Favorites:  49396\n",
            "Retweets:  7 Favorites:  124\n",
            "Retweets:  15508 Favorites:  48249\n",
            "Retweets:  5036 Favorites:  22564\n",
            "Retweets:  2706 Favorites:  16641\n",
            "Retweets:  3724 Favorites:  20758\n",
            "Retweets:  6104 Favorites:  27859\n",
            "Retweets:  4099 Favorites:  26380\n",
            "Retweets:  4221 Favorites:  26965\n",
            "Retweets:  3402 Favorites:  21817\n",
            "Retweets:  10 Favorites:  302\n",
            "Retweets:  3094 Favorites:  22875\n",
            "Retweets:  43066 Favorites:  103342\n",
            "Retweets:  3026 Favorites:  16404\n",
            "Retweets:  6633 Favorites:  0\n",
            "Retweets:  4581 Favorites:  22028\n",
            "Retweets:  2622 Favorites:  18545\n",
            "Retweets:  4018 Favorites:  18956\n",
            "Retweets:  7010 Favorites:  29555\n",
            "Retweets:  1252 Favorites:  0\n",
            "Retweets:  6474 Favorites:  0\n",
            "Retweets:  1252 Favorites:  7560\n",
            "Retweets:  6633 Favorites:  41063\n",
            "Retweets:  18601 Favorites:  77820\n",
            "Retweets:  78 Favorites:  0\n",
            "Retweets:  3702 Favorites:  22207\n",
            "Retweets:  5054 Favorites:  26765\n",
            "Retweets:  5438 Favorites:  26504\n",
            "Retweets:  3254 Favorites:  20227\n",
            "Retweets:  4527 Favorites:  23019\n",
            "Retweets:  2334 Favorites:  18344\n",
            "Retweets:  4571 Favorites:  27317\n",
            "Retweets:  4185 Favorites:  24639\n",
            "Retweets:  4819 Favorites:  21454\n",
            "Retweets:  5911 Favorites:  26815\n",
            "Retweets:  4613 Favorites:  24924\n",
            "Retweets:  4537 Favorites:  27227\n",
            "Retweets:  14379 Favorites:  0\n",
            "Retweets:  4016 Favorites:  25507\n",
            "Retweets:  3870 Favorites:  22227\n",
            "Retweets:  10182 Favorites:  33806\n",
            "Retweets:  3852 Favorites:  23710\n",
            "Retweets:  1552 Favorites:  0\n",
            "Retweets:  1552 Favorites:  7085\n",
            "Retweets:  5308 Favorites:  26780\n",
            "Retweets:  3626 Favorites:  14444\n",
            "Retweets:  3625 Favorites:  20379\n",
            "Retweets:  8860 Favorites:  39912\n",
            "{888202515573088257: TweepError([{'code': 144, 'message': 'No status found with that ID.'}],), 873697596434513921: TweepError([{'code': 144, 'message': 'No status found with that ID.'}],), 872668790621863937: TweepError([{'code': 144, 'message': 'No status found with that ID.'}],)}\n"
          ],
          "name": "stdout"
        }
      ]
    }
  ]
}