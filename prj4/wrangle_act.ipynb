{
  "nbformat": 4,
  "nbformat_minor": 0,
  "metadata": {
    "colab": {
      "name": "wrangle_act.ipynb",
      "version": "0.3.2",
      "provenance": [],
      "collapsed_sections": [],
      "include_colab_link": true
    },
    "kernelspec": {
      "name": "python3",
      "display_name": "Python 3"
    }
  },
  "cells": [
    {
      "cell_type": "markdown",
      "metadata": {
        "id": "view-in-github",
        "colab_type": "text"
      },
      "source": [
        "<a href=\"https://colab.research.google.com/github/bthodla/danano/blob/master/prj4/wrangle_act.ipynb\" target=\"_parent\"><img src=\"https://colab.research.google.com/assets/colab-badge.svg\" alt=\"Open In Colab\"/></a>"
      ]
    },
    {
      "metadata": {
        "id": "6MHgHyKUt_Uj",
        "colab_type": "text"
      },
      "cell_type": "markdown",
      "source": [
        "### Gathering data\n",
        "\n",
        "1.   Load the \"twitter-archive-enhanced.csv\" into a dataframe\n",
        "2.   Load the \"image_predictions.tsv\" (the Tweet image predictions) hosted on Udacity servers programmatically using the \"requests\" library (URL: https://d17h27t6h515a5.cloudfront.net/topher/2017/August/599fd2ad_image-predictions/image-predictions.tsv)\n",
        "3. Using tweet ids from (1) above and the Twitter API, load information such as \"retweet count\" and \"favorite count\" and any other interesting data items and store the entire set of data relating to a tweet in a JSON file called \"tweet_json.txt\"; then read this file line by line into a data frame and include tweet id, retweet count, favorite count and any other data items of interest\n",
        "4. Consumer API keys: \n",
        "    \n",
        "    Z22dLMPEOtCL2ayqnPTbFg3sK (API key)\n",
        "    \n",
        "    SuaxZay016BTIpzrYszo9Dbo0jQd38FZ8SUi0bDyy8hU6jMKdj (API secret key)\n",
        "    \n",
        "    Access token & access token secret\n",
        "\n",
        "    14299634-DHvEoZI9bR2D5WOZWf82MjHX6vEnPRIosIrli6ueb (Access token)\n",
        "\n",
        "    nvba5wXGFrEcYKmQjztu40wsr0vG2pXnQShE2ZQv6I313 (Access token secret)\n",
        "\n",
        "    Read and write (Access level)\n",
        "\n",
        "\n"
      ]
    },
    {
      "metadata": {
        "id": "CLeZDiDMhHv6",
        "colab_type": "code",
        "colab": {}
      },
      "cell_type": "code",
      "source": [
        "# Import the necessary libraries\n",
        "import pandas as pd\n",
        "import numpy as np\n",
        "import requests\n",
        "import io\n",
        "import tweepy\n",
        "import json\n",
        "from google.colab import drive\n",
        "import yaml\n",
        "import time\n",
        "import os\n"
      ],
      "execution_count": 0,
      "outputs": []
    },
    {
      "metadata": {
        "id": "0M0qep9Flhtx",
        "colab_type": "code",
        "colab": {}
      },
      "cell_type": "code",
      "source": [
        "def load_yaml_file(filename: str) -> dict:\n",
        "    twitter_keys = {}\n",
        "\n",
        "    with open(filename, 'r') as ymlfile:\n",
        "        cfg = yaml.safe_load(ymlfile)\n",
        "    \n",
        "    twitter_keys['consumer_key'] = cfg['twitter']['consumer']['key']\n",
        "    twitter_keys['consumer_secret'] = cfg['twitter']['consumer']['secret']\n",
        "    twitter_keys['access_token'] = cfg['twitter']['access']['token']\n",
        "    twitter_keys['access_token_secret'] = cfg['twitter']['access']['token-secret']\n",
        "\n",
        "    return twitter_keys"
      ],
      "execution_count": 0,
      "outputs": []
    },
    {
      "metadata": {
        "id": "bbUVJeB4p56h",
        "colab_type": "code",
        "colab": {}
      },
      "cell_type": "code",
      "source": [
        "def print_file(file_name, lines = 10):\n",
        "    with open(file_name, 'r') as f:\n",
        "        for _ in range(lines):\n",
        "            print (f.readline())\n",
        "        "
      ],
      "execution_count": 0,
      "outputs": []
    },
    {
      "metadata": {
        "id": "OAAc2CBNljDo",
        "colab_type": "code",
        "outputId": "40294b19-b582-415f-9b60-e025d378f434",
        "colab": {
          "base_uri": "https://localhost:8080/",
          "height": 71
        }
      },
      "cell_type": "code",
      "source": [
        "drive.mount('/content/gdrive')\n",
        "twitter_keys_yaml_file = '/content/gdrive/My Drive/Colab Notebooks/twitter_keys.yaml'\n",
        "tweet_json_file = '/content/gdrive/My Drive/Colab Notebooks/tweet_json.txt'\n",
        "twitter_archive_master_file = '/content/gdrive/My Drive/Colab Notebooks/twitter_archive_master.csv'\n",
        "dog_stage_file = '/content/gdrive/My Drive/Colab Notebooks/dog_stage.csv'\n",
        "\n",
        "\"\"\"\n",
        "with open(twitter_keys_yaml_file, encoding='utf-8') as file:\n",
        "    line = file.readline()\n",
        "    while line:\n",
        "        line = file.readline()\n",
        "        print(line)\n",
        "\"\"\"\n",
        "print(load_yaml_file(twitter_keys_yaml_file))\n"
      ],
      "execution_count": 238,
      "outputs": [
        {
          "output_type": "stream",
          "text": [
            "Drive already mounted at /content/gdrive; to attempt to forcibly remount, call drive.mount(\"/content/gdrive\", force_remount=True).\n",
            "{'consumer_key': 'Z22dLMPEOtCL2ayqnPTbFg3sK', 'consumer_secret': 'SuaxZay016BTIpzrYszo9Dbo0jQd38FZ8SUi0bDyy8hU6jMKdj', 'access_token': '14299634-DHvEoZI9bR2D5WOZWf82MjHX6vEnPRIosIrli6ueb', 'access_token_secret': 'nvba5wXGFrEcYKmQjztu40wsr0vG2pXnQShE2ZQv6I313'}\n"
          ],
          "name": "stdout"
        }
      ]
    },
    {
      "metadata": {
        "id": "6C3qa35miEux",
        "colab_type": "code",
        "outputId": "a8f6ee88-a29b-4781-c39c-64811c2a72df",
        "colab": {
          "base_uri": "https://localhost:8080/",
          "height": 34
        }
      },
      "cell_type": "code",
      "source": [
        "# 1. Load the file \"twitter-archive-enhanced.csv\" into a dataframe\n",
        "twitter_archive_file_url = 'https://raw.githubusercontent.com/bthodla/danano/master/prj4/twitter-archive-enhanced.csv'\n",
        "\n",
        "tweets_df = pd.read_csv(twitter_archive_file_url)\n",
        "\n",
        "tweet_count = tweets_df.shape[0]\n",
        "print ('%s %d' % ('Tweet Count: ', tweet_count))"
      ],
      "execution_count": 169,
      "outputs": [
        {
          "output_type": "stream",
          "text": [
            "Tweet Count:  2356\n"
          ],
          "name": "stdout"
        }
      ]
    },
    {
      "metadata": {
        "id": "YXfHmi0ene-L",
        "colab_type": "code",
        "colab": {}
      },
      "cell_type": "code",
      "source": [
        "# 2. Load the \"image_predictions.tsv\" (the Tweet image predictions) hosted on Udacity servers programmatically using the \"requests\" library\n",
        "\n",
        "image_predictions_file_url = 'https://d17h27t6h515a5.cloudfront.net/topher/2017/August/599fd2ad_image-predictions/image-predictions.tsv'\n",
        "\n",
        "url_data = requests.get(image_predictions_file_url).content\n",
        "\n",
        "img_pred_df = pd.read_csv(io.StringIO(url_data.decode('utf-8')), sep = '\\t')\n"
      ],
      "execution_count": 0,
      "outputs": []
    },
    {
      "metadata": {
        "id": "uXGoehx6nemP",
        "colab_type": "code",
        "outputId": "a2047b72-a5d7-4f3f-f15e-a548ebfc1df2",
        "colab": {
          "base_uri": "https://localhost:8080/",
          "height": 51
        }
      },
      "cell_type": "code",
      "source": [
        "\"\"\" 3. Using tweet ids from tweet_df and the Twitter API, load information such as \"retweet count\" and \"favorite count\" and any other interesting data items \n",
        "and store the entire set of data relating to a tweet in a JSON file called \"tweet_json.txt\"; then read this file line by line into a data frame and include \n",
        "tweet id, retweet count, favorite count and any other data items of interest\n",
        "\"\"\"\n",
        "\n",
        "twitter_keys = load_yaml_file(twitter_keys_yaml_file)\n",
        "consumer_key = twitter_keys['consumer_key']\n",
        "consumer_secret = twitter_keys['consumer_secret']\n",
        "access_token = twitter_keys['access_token']\n",
        "access_token_secret = twitter_keys['access_token_secret']\n",
        "\n",
        "auth = tweepy.OAuthHandler(consumer_key, consumer_secret)\n",
        "auth.set_access_token(access_token, access_token_secret)\n",
        "\n",
        "api = tweepy.API(auth, wait_on_rate_limit = True, wait_on_rate_limit_notify = True)\n",
        "\n",
        "error_tweets = {}\n",
        "tweet_offset = 0\n",
        "tweet_batch = 100\n",
        "tweets_remaining = 0\n",
        "\n",
        "# Delete the file first so that each run can add content fresh\n",
        "if os.path.isfile(tweet_json_file):\n",
        "    os.remove(tweet_json_file)\n",
        "\n",
        "with open(tweet_json_file, mode = 'a', encoding = 'utf-8') as f:\n",
        "    while tweet_batch:\n",
        "        tweet_ids = tweets_df[tweet_offset:tweet_offset + tweet_batch]['tweet_id']\n",
        "        for tweet_id in tweet_ids:\n",
        "            try:\n",
        "                status = api.get_status(tweet_id)\n",
        "                f.write(json.dumps(status._json) + '\\n')\n",
        "\n",
        "            except tweepy.TweepError as e:\n",
        "                error_tweets[status.id] = e\n",
        "            \n",
        "        tweets_remaining = tweet_count - tweet_offset\n",
        "        tweet_batch = tweet_batch if tweet_batch < tweets_remaining else tweets_remaining\n",
        "        tweet_offset += tweet_batch\n",
        "        # print ('%s %d %s %d' % ('Tweets Remaining: ', tweets_remaining, 'Tweet Offset: ', tweet_offset))\n",
        "        # time.sleep(1 * 5)\n"
      ],
      "execution_count": 0,
      "outputs": [
        {
          "output_type": "stream",
          "text": [
            "Rate limit reached. Sleeping for: 765\n",
            "Rate limit reached. Sleeping for: 768\n"
          ],
          "name": "stderr"
        }
      ]
    },
    {
      "metadata": {
        "id": "tafWMMk53G23",
        "colab_type": "code",
        "colab": {}
      },
      "cell_type": "code",
      "source": [
        "with open(tweet_json_file, mode = 'r', encoding = 'utf-8') as f:\n",
        "    print('%s %d %s %d' % ('Valid tweet count: ', len(f.readlines()), 'Error tweet count: ', len(error_tweets)))"
      ],
      "execution_count": 0,
      "outputs": []
    },
    {
      "metadata": {
        "id": "dAgIUK19TShf",
        "colab_type": "code",
        "colab": {}
      },
      "cell_type": "code",
      "source": [
        "# Read \"tweet_json.txt\" file line by line into a data frame and include tweet id, retweet count, favorite count and any other data items of interest\n",
        "\n",
        "columns = ['tweet_id', 'text', 'retweet_count', 'favorite_count', 'retweeted', 'favorited', 'media_url']\n",
        "tweets_mini_df = pd.DataFrame(columns = columns)\n",
        "\n",
        "index = 0\n",
        "with open(tweet_json_file, mode = 'r', encoding = 'utf-8') as f:\n",
        "    for tweet in f:\n",
        "        tweet_json = json.loads(tweet)\n",
        "        tweet_id = tweet_json['id']\n",
        "        text = tweet_json['text']\n",
        "        retweet_count = tweet_json['retweet_count']\n",
        "        favorite_count = tweet_json['favorite_count']\n",
        "        retweeted = tweet_json['retweeted']\n",
        "        favorited = tweet_json['favorited']\n",
        "        try:\n",
        "            media_url = tweet_json['entities']['media'][0]['media_url_https']\n",
        "        except KeyError as e:\n",
        "            media_url = ''\n",
        "\n",
        "        tweets_mini_df.loc[index] = pd.Series({'tweet_id': tweet_id, \n",
        "                                        'text': text, \n",
        "                                        'retweet_count': retweet_count, \n",
        "                                        'favorite_count': favorite_count,\n",
        "                                        'retweeted': retweeted,\n",
        "                                        'favorited': favorited,\n",
        "                                        'media_url': media_url})\n",
        "        index +=1\n"
      ],
      "execution_count": 0,
      "outputs": []
    },
    {
      "metadata": {
        "id": "tj0ikwBvF_qT",
        "colab_type": "text"
      },
      "cell_type": "markdown",
      "source": [
        "### Assessing data\n",
        "\n",
        "Key Points\n",
        "\n",
        "* You only want original ratings (no retweets) that have images. Though there are 5000+ tweets in the dataset, not all are dog ratings and some are retweets.\n",
        "\n",
        "* Assessing and cleaning the entire dataset completely would require a lot of time, and is not necessary to practice and demonstrate your skills in data wrangling. Therefore, the requirements of this project are only to assess and clean at least 8 quality issues and at least 2 tidiness issues in this dataset.\n",
        "\n",
        "* Cleaning includes merging individual pieces of data according to the rules of tidy data.\n",
        "\n",
        "* The fact that the rating numerators are greater than the denominators does not need to be cleaned. This unique rating system is a big part of the popularity of WeRateDogs.\n",
        "\n",
        "* You do not need to gather the tweets beyond August 1st, 2017. You can, but note that you won't be able to gather the image predictions for these tweets since you don't have access to the algorithm used.\n"
      ]
    },
    {
      "metadata": {
        "id": "YXffn4IMdRRe",
        "colab_type": "text"
      },
      "cell_type": "markdown",
      "source": [
        "#### twitter-archive-enhanced.csv"
      ]
    },
    {
      "metadata": {
        "id": "KVAIX-cR3sq_",
        "colab_type": "code",
        "outputId": "3d70aad5-621e-4347-c574-c09d58fe4186",
        "colab": {
          "base_uri": "https://localhost:8080/",
          "height": 391
        }
      },
      "cell_type": "code",
      "source": [
        "tweets_df.info()"
      ],
      "execution_count": 171,
      "outputs": [
        {
          "output_type": "stream",
          "text": [
            "<class 'pandas.core.frame.DataFrame'>\n",
            "RangeIndex: 2356 entries, 0 to 2355\n",
            "Data columns (total 17 columns):\n",
            "tweet_id                      2356 non-null int64\n",
            "in_reply_to_status_id         78 non-null float64\n",
            "in_reply_to_user_id           78 non-null float64\n",
            "timestamp                     2356 non-null object\n",
            "source                        2356 non-null object\n",
            "text                          2356 non-null object\n",
            "retweeted_status_id           181 non-null float64\n",
            "retweeted_status_user_id      181 non-null float64\n",
            "retweeted_status_timestamp    181 non-null object\n",
            "expanded_urls                 2297 non-null object\n",
            "rating_numerator              2356 non-null int64\n",
            "rating_denominator            2356 non-null int64\n",
            "name                          2356 non-null object\n",
            "doggo                         2356 non-null object\n",
            "floofer                       2356 non-null object\n",
            "pupper                        2356 non-null object\n",
            "puppo                         2356 non-null object\n",
            "dtypes: float64(4), int64(3), object(10)\n",
            "memory usage: 313.0+ KB\n"
          ],
          "name": "stdout"
        }
      ]
    },
    {
      "metadata": {
        "id": "RnzdB2c43u_n",
        "colab_type": "code",
        "outputId": "c1fa6273-3196-42e7-c490-c31479b3162c",
        "colab": {
          "base_uri": "https://localhost:8080/",
          "height": 598
        }
      },
      "cell_type": "code",
      "source": [
        "tweets_df.query('name == \"None\"').sample(5)"
      ],
      "execution_count": 172,
      "outputs": [
        {
          "output_type": "execute_result",
          "data": {
            "text/html": [
              "<div>\n",
              "<style scoped>\n",
              "    .dataframe tbody tr th:only-of-type {\n",
              "        vertical-align: middle;\n",
              "    }\n",
              "\n",
              "    .dataframe tbody tr th {\n",
              "        vertical-align: top;\n",
              "    }\n",
              "\n",
              "    .dataframe thead th {\n",
              "        text-align: right;\n",
              "    }\n",
              "</style>\n",
              "<table border=\"1\" class=\"dataframe\">\n",
              "  <thead>\n",
              "    <tr style=\"text-align: right;\">\n",
              "      <th></th>\n",
              "      <th>tweet_id</th>\n",
              "      <th>in_reply_to_status_id</th>\n",
              "      <th>in_reply_to_user_id</th>\n",
              "      <th>timestamp</th>\n",
              "      <th>source</th>\n",
              "      <th>text</th>\n",
              "      <th>retweeted_status_id</th>\n",
              "      <th>retweeted_status_user_id</th>\n",
              "      <th>retweeted_status_timestamp</th>\n",
              "      <th>expanded_urls</th>\n",
              "      <th>rating_numerator</th>\n",
              "      <th>rating_denominator</th>\n",
              "      <th>name</th>\n",
              "      <th>doggo</th>\n",
              "      <th>floofer</th>\n",
              "      <th>pupper</th>\n",
              "      <th>puppo</th>\n",
              "    </tr>\n",
              "  </thead>\n",
              "  <tbody>\n",
              "    <tr>\n",
              "      <th>5</th>\n",
              "      <td>891087950875897856</td>\n",
              "      <td>NaN</td>\n",
              "      <td>NaN</td>\n",
              "      <td>2017-07-29 00:08:17 +0000</td>\n",
              "      <td>&lt;a href=\"http://twitter.com/download/iphone\" r...</td>\n",
              "      <td>Here we have a majestic great white breaching ...</td>\n",
              "      <td>NaN</td>\n",
              "      <td>NaN</td>\n",
              "      <td>NaN</td>\n",
              "      <td>https://twitter.com/dog_rates/status/891087950...</td>\n",
              "      <td>13</td>\n",
              "      <td>10</td>\n",
              "      <td>None</td>\n",
              "      <td>None</td>\n",
              "      <td>None</td>\n",
              "      <td>None</td>\n",
              "      <td>None</td>\n",
              "    </tr>\n",
              "    <tr>\n",
              "      <th>1717</th>\n",
              "      <td>680191257256136705</td>\n",
              "      <td>NaN</td>\n",
              "      <td>NaN</td>\n",
              "      <td>2015-12-25 01:00:07 +0000</td>\n",
              "      <td>&lt;a href=\"http://twitter.com/download/iphone\" r...</td>\n",
              "      <td>Here's a sleepy Christmas pupper 11/10 https:/...</td>\n",
              "      <td>NaN</td>\n",
              "      <td>NaN</td>\n",
              "      <td>NaN</td>\n",
              "      <td>https://twitter.com/dog_rates/status/680191257...</td>\n",
              "      <td>11</td>\n",
              "      <td>10</td>\n",
              "      <td>None</td>\n",
              "      <td>None</td>\n",
              "      <td>None</td>\n",
              "      <td>pupper</td>\n",
              "      <td>None</td>\n",
              "    </tr>\n",
              "    <tr>\n",
              "      <th>990</th>\n",
              "      <td>748705597323898880</td>\n",
              "      <td>NaN</td>\n",
              "      <td>NaN</td>\n",
              "      <td>2016-07-01 02:31:39 +0000</td>\n",
              "      <td>&lt;a href=\"http://twitter.com\" rel=\"nofollow\"&gt;Tw...</td>\n",
              "      <td>#BarkWeek is getting rather heckin terrifying ...</td>\n",
              "      <td>NaN</td>\n",
              "      <td>NaN</td>\n",
              "      <td>NaN</td>\n",
              "      <td>https://twitter.com/dog_rates/status/748705597...</td>\n",
              "      <td>13</td>\n",
              "      <td>10</td>\n",
              "      <td>None</td>\n",
              "      <td>None</td>\n",
              "      <td>None</td>\n",
              "      <td>None</td>\n",
              "      <td>None</td>\n",
              "    </tr>\n",
              "    <tr>\n",
              "      <th>1051</th>\n",
              "      <td>742534281772302336</td>\n",
              "      <td>NaN</td>\n",
              "      <td>NaN</td>\n",
              "      <td>2016-06-14 01:49:03 +0000</td>\n",
              "      <td>&lt;a href=\"http://vine.co\" rel=\"nofollow\"&gt;Vine -...</td>\n",
              "      <td>For anyone who's wondering, this is what happe...</td>\n",
              "      <td>NaN</td>\n",
              "      <td>NaN</td>\n",
              "      <td>NaN</td>\n",
              "      <td>https://vine.co/v/iLTZmtE1FTB</td>\n",
              "      <td>11</td>\n",
              "      <td>10</td>\n",
              "      <td>None</td>\n",
              "      <td>doggo</td>\n",
              "      <td>None</td>\n",
              "      <td>None</td>\n",
              "      <td>None</td>\n",
              "    </tr>\n",
              "    <tr>\n",
              "      <th>1882</th>\n",
              "      <td>674999807681908736</td>\n",
              "      <td>6.747934e+17</td>\n",
              "      <td>4.196984e+09</td>\n",
              "      <td>2015-12-10 17:11:09 +0000</td>\n",
              "      <td>&lt;a href=\"http://twitter.com/download/iphone\" r...</td>\n",
              "      <td>Ok last one of these. I may try to make some m...</td>\n",
              "      <td>NaN</td>\n",
              "      <td>NaN</td>\n",
              "      <td>NaN</td>\n",
              "      <td>https://twitter.com/dog_rates/status/674999807...</td>\n",
              "      <td>13</td>\n",
              "      <td>10</td>\n",
              "      <td>None</td>\n",
              "      <td>None</td>\n",
              "      <td>None</td>\n",
              "      <td>None</td>\n",
              "      <td>None</td>\n",
              "    </tr>\n",
              "  </tbody>\n",
              "</table>\n",
              "</div>"
            ],
            "text/plain": [
              "                tweet_id  in_reply_to_status_id  in_reply_to_user_id  \\\n",
              "5     891087950875897856                    NaN                  NaN   \n",
              "1717  680191257256136705                    NaN                  NaN   \n",
              "990   748705597323898880                    NaN                  NaN   \n",
              "1051  742534281772302336                    NaN                  NaN   \n",
              "1882  674999807681908736           6.747934e+17         4.196984e+09   \n",
              "\n",
              "                      timestamp  \\\n",
              "5     2017-07-29 00:08:17 +0000   \n",
              "1717  2015-12-25 01:00:07 +0000   \n",
              "990   2016-07-01 02:31:39 +0000   \n",
              "1051  2016-06-14 01:49:03 +0000   \n",
              "1882  2015-12-10 17:11:09 +0000   \n",
              "\n",
              "                                                 source  \\\n",
              "5     <a href=\"http://twitter.com/download/iphone\" r...   \n",
              "1717  <a href=\"http://twitter.com/download/iphone\" r...   \n",
              "990   <a href=\"http://twitter.com\" rel=\"nofollow\">Tw...   \n",
              "1051  <a href=\"http://vine.co\" rel=\"nofollow\">Vine -...   \n",
              "1882  <a href=\"http://twitter.com/download/iphone\" r...   \n",
              "\n",
              "                                                   text  retweeted_status_id  \\\n",
              "5     Here we have a majestic great white breaching ...                  NaN   \n",
              "1717  Here's a sleepy Christmas pupper 11/10 https:/...                  NaN   \n",
              "990   #BarkWeek is getting rather heckin terrifying ...                  NaN   \n",
              "1051  For anyone who's wondering, this is what happe...                  NaN   \n",
              "1882  Ok last one of these. I may try to make some m...                  NaN   \n",
              "\n",
              "      retweeted_status_user_id retweeted_status_timestamp  \\\n",
              "5                          NaN                        NaN   \n",
              "1717                       NaN                        NaN   \n",
              "990                        NaN                        NaN   \n",
              "1051                       NaN                        NaN   \n",
              "1882                       NaN                        NaN   \n",
              "\n",
              "                                          expanded_urls  rating_numerator  \\\n",
              "5     https://twitter.com/dog_rates/status/891087950...                13   \n",
              "1717  https://twitter.com/dog_rates/status/680191257...                11   \n",
              "990   https://twitter.com/dog_rates/status/748705597...                13   \n",
              "1051                      https://vine.co/v/iLTZmtE1FTB                11   \n",
              "1882  https://twitter.com/dog_rates/status/674999807...                13   \n",
              "\n",
              "      rating_denominator  name  doggo floofer  pupper puppo  \n",
              "5                     10  None   None    None    None  None  \n",
              "1717                  10  None   None    None  pupper  None  \n",
              "990                   10  None   None    None    None  None  \n",
              "1051                  10  None  doggo    None    None  None  \n",
              "1882                  10  None   None    None    None  None  "
            ]
          },
          "metadata": {
            "tags": []
          },
          "execution_count": 172
        }
      ]
    },
    {
      "metadata": {
        "id": "1QUPyIRj3yNo",
        "colab_type": "code",
        "outputId": "b8a984fc-b30d-4bb8-f943-be99971bd35b",
        "colab": {
          "base_uri": "https://localhost:8080/",
          "height": 34
        }
      },
      "cell_type": "code",
      "source": [
        "tweets_df.query('name == \"None\"').shape"
      ],
      "execution_count": 173,
      "outputs": [
        {
          "output_type": "execute_result",
          "data": {
            "text/plain": [
              "(745, 17)"
            ]
          },
          "metadata": {
            "tags": []
          },
          "execution_count": 173
        }
      ]
    },
    {
      "metadata": {
        "id": "i0Z6HA0Q4JUK",
        "colab_type": "text"
      },
      "cell_type": "markdown",
      "source": [
        "#### image_predictions.tsv"
      ]
    },
    {
      "metadata": {
        "id": "Qmy2GffK4ZN0",
        "colab_type": "code",
        "outputId": "9656c556-999c-4a36-97e7-15ec866b93e9",
        "colab": {
          "base_uri": "https://localhost:8080/",
          "height": 306
        }
      },
      "cell_type": "code",
      "source": [
        "img_pred_df.info()"
      ],
      "execution_count": 175,
      "outputs": [
        {
          "output_type": "stream",
          "text": [
            "<class 'pandas.core.frame.DataFrame'>\n",
            "RangeIndex: 2075 entries, 0 to 2074\n",
            "Data columns (total 12 columns):\n",
            "tweet_id    2075 non-null int64\n",
            "jpg_url     2075 non-null object\n",
            "img_num     2075 non-null int64\n",
            "p1          2075 non-null object\n",
            "p1_conf     2075 non-null float64\n",
            "p1_dog      2075 non-null bool\n",
            "p2          2075 non-null object\n",
            "p2_conf     2075 non-null float64\n",
            "p2_dog      2075 non-null bool\n",
            "p3          2075 non-null object\n",
            "p3_conf     2075 non-null float64\n",
            "p3_dog      2075 non-null bool\n",
            "dtypes: bool(3), float64(3), int64(2), object(4)\n",
            "memory usage: 152.1+ KB\n"
          ],
          "name": "stdout"
        }
      ]
    },
    {
      "metadata": {
        "id": "XsdTrDXq4hjL",
        "colab_type": "code",
        "outputId": "f80f792e-2074-4633-e332-b4aaa9033f6b",
        "colab": {
          "base_uri": "https://localhost:8080/",
          "height": 204
        }
      },
      "cell_type": "code",
      "source": [
        "img_pred_df.sample(5)"
      ],
      "execution_count": 176,
      "outputs": [
        {
          "output_type": "execute_result",
          "data": {
            "text/html": [
              "<div>\n",
              "<style scoped>\n",
              "    .dataframe tbody tr th:only-of-type {\n",
              "        vertical-align: middle;\n",
              "    }\n",
              "\n",
              "    .dataframe tbody tr th {\n",
              "        vertical-align: top;\n",
              "    }\n",
              "\n",
              "    .dataframe thead th {\n",
              "        text-align: right;\n",
              "    }\n",
              "</style>\n",
              "<table border=\"1\" class=\"dataframe\">\n",
              "  <thead>\n",
              "    <tr style=\"text-align: right;\">\n",
              "      <th></th>\n",
              "      <th>tweet_id</th>\n",
              "      <th>jpg_url</th>\n",
              "      <th>img_num</th>\n",
              "      <th>p1</th>\n",
              "      <th>p1_conf</th>\n",
              "      <th>p1_dog</th>\n",
              "      <th>p2</th>\n",
              "      <th>p2_conf</th>\n",
              "      <th>p2_dog</th>\n",
              "      <th>p3</th>\n",
              "      <th>p3_conf</th>\n",
              "      <th>p3_dog</th>\n",
              "    </tr>\n",
              "  </thead>\n",
              "  <tbody>\n",
              "    <tr>\n",
              "      <th>368</th>\n",
              "      <td>672968025906282496</td>\n",
              "      <td>https://pbs.twimg.com/media/CVbc2V2WsAE3-kn.jpg</td>\n",
              "      <td>1</td>\n",
              "      <td>toy_poodle</td>\n",
              "      <td>0.678046</td>\n",
              "      <td>True</td>\n",
              "      <td>miniature_poodle</td>\n",
              "      <td>0.160273</td>\n",
              "      <td>True</td>\n",
              "      <td>Airedale</td>\n",
              "      <td>0.065649</td>\n",
              "      <td>True</td>\n",
              "    </tr>\n",
              "    <tr>\n",
              "      <th>1147</th>\n",
              "      <td>730924654643314689</td>\n",
              "      <td>https://pbs.twimg.com/media/CiTEFjDXAAAqU6I.jpg</td>\n",
              "      <td>1</td>\n",
              "      <td>polecat</td>\n",
              "      <td>0.185382</td>\n",
              "      <td>False</td>\n",
              "      <td>mink</td>\n",
              "      <td>0.105282</td>\n",
              "      <td>False</td>\n",
              "      <td>Newfoundland</td>\n",
              "      <td>0.086241</td>\n",
              "      <td>True</td>\n",
              "    </tr>\n",
              "    <tr>\n",
              "      <th>1127</th>\n",
              "      <td>727644517743104000</td>\n",
              "      <td>https://pbs.twimg.com/media/Chkc1BQUoAAa96R.jpg</td>\n",
              "      <td>2</td>\n",
              "      <td>Great_Pyrenees</td>\n",
              "      <td>0.457164</td>\n",
              "      <td>True</td>\n",
              "      <td>kuvasz</td>\n",
              "      <td>0.391710</td>\n",
              "      <td>True</td>\n",
              "      <td>Labrador_retriever</td>\n",
              "      <td>0.094523</td>\n",
              "      <td>True</td>\n",
              "    </tr>\n",
              "    <tr>\n",
              "      <th>988</th>\n",
              "      <td>707776935007539200</td>\n",
              "      <td>https://pbs.twimg.com/media/CdKHWimWoAABs08.jpg</td>\n",
              "      <td>1</td>\n",
              "      <td>miniature_pinscher</td>\n",
              "      <td>0.890426</td>\n",
              "      <td>True</td>\n",
              "      <td>toy_terrier</td>\n",
              "      <td>0.051335</td>\n",
              "      <td>True</td>\n",
              "      <td>Chihuahua</td>\n",
              "      <td>0.018015</td>\n",
              "      <td>True</td>\n",
              "    </tr>\n",
              "    <tr>\n",
              "      <th>2057</th>\n",
              "      <td>888804989199671297</td>\n",
              "      <td>https://pbs.twimg.com/media/DFWra-3VYAA2piG.jpg</td>\n",
              "      <td>1</td>\n",
              "      <td>golden_retriever</td>\n",
              "      <td>0.469760</td>\n",
              "      <td>True</td>\n",
              "      <td>Labrador_retriever</td>\n",
              "      <td>0.184172</td>\n",
              "      <td>True</td>\n",
              "      <td>English_setter</td>\n",
              "      <td>0.073482</td>\n",
              "      <td>True</td>\n",
              "    </tr>\n",
              "  </tbody>\n",
              "</table>\n",
              "</div>"
            ],
            "text/plain": [
              "                tweet_id                                          jpg_url  \\\n",
              "368   672968025906282496  https://pbs.twimg.com/media/CVbc2V2WsAE3-kn.jpg   \n",
              "1147  730924654643314689  https://pbs.twimg.com/media/CiTEFjDXAAAqU6I.jpg   \n",
              "1127  727644517743104000  https://pbs.twimg.com/media/Chkc1BQUoAAa96R.jpg   \n",
              "988   707776935007539200  https://pbs.twimg.com/media/CdKHWimWoAABs08.jpg   \n",
              "2057  888804989199671297  https://pbs.twimg.com/media/DFWra-3VYAA2piG.jpg   \n",
              "\n",
              "      img_num                  p1   p1_conf  p1_dog                  p2  \\\n",
              "368         1          toy_poodle  0.678046    True    miniature_poodle   \n",
              "1147        1             polecat  0.185382   False                mink   \n",
              "1127        2      Great_Pyrenees  0.457164    True              kuvasz   \n",
              "988         1  miniature_pinscher  0.890426    True         toy_terrier   \n",
              "2057        1    golden_retriever  0.469760    True  Labrador_retriever   \n",
              "\n",
              "       p2_conf  p2_dog                  p3   p3_conf  p3_dog  \n",
              "368   0.160273    True            Airedale  0.065649    True  \n",
              "1147  0.105282   False        Newfoundland  0.086241    True  \n",
              "1127  0.391710    True  Labrador_retriever  0.094523    True  \n",
              "988   0.051335    True           Chihuahua  0.018015    True  \n",
              "2057  0.184172    True      English_setter  0.073482    True  "
            ]
          },
          "metadata": {
            "tags": []
          },
          "execution_count": 176
        }
      ]
    },
    {
      "metadata": {
        "id": "cjqzh9tR4jZh",
        "colab_type": "code",
        "outputId": "d3e53d21-5764-4415-e069-3f06fd5638a4",
        "colab": {
          "base_uri": "https://localhost:8080/",
          "height": 221
        }
      },
      "cell_type": "code",
      "source": [
        "list(img_pred_df)"
      ],
      "execution_count": 177,
      "outputs": [
        {
          "output_type": "execute_result",
          "data": {
            "text/plain": [
              "['tweet_id',\n",
              " 'jpg_url',\n",
              " 'img_num',\n",
              " 'p1',\n",
              " 'p1_conf',\n",
              " 'p1_dog',\n",
              " 'p2',\n",
              " 'p2_conf',\n",
              " 'p2_dog',\n",
              " 'p3',\n",
              " 'p3_conf',\n",
              " 'p3_dog']"
            ]
          },
          "metadata": {
            "tags": []
          },
          "execution_count": 177
        }
      ]
    },
    {
      "metadata": {
        "id": "ocvEaslL42Sh",
        "colab_type": "text"
      },
      "cell_type": "markdown",
      "source": [
        "#### tweets_mini_df"
      ]
    },
    {
      "metadata": {
        "id": "1rnHK9f946hB",
        "colab_type": "code",
        "outputId": "99beafd8-79a8-4086-c243-ebe99966d0a2",
        "colab": {
          "base_uri": "https://localhost:8080/",
          "height": 221
        }
      },
      "cell_type": "code",
      "source": [
        "tweets_mini_df.info()"
      ],
      "execution_count": 178,
      "outputs": [
        {
          "output_type": "stream",
          "text": [
            "<class 'pandas.core.frame.DataFrame'>\n",
            "Int64Index: 2339 entries, 0 to 2338\n",
            "Data columns (total 7 columns):\n",
            "tweet_id          2339 non-null object\n",
            "text              2339 non-null object\n",
            "retweet_count     2339 non-null object\n",
            "favorite_count    2339 non-null object\n",
            "retweeted         2339 non-null object\n",
            "favorited         2339 non-null object\n",
            "media_url         2339 non-null object\n",
            "dtypes: object(7)\n",
            "memory usage: 146.2+ KB\n"
          ],
          "name": "stdout"
        }
      ]
    },
    {
      "metadata": {
        "id": "8rELxq_a48D4",
        "colab_type": "code",
        "outputId": "36ffb153-6e67-4f66-fad4-4fc44c179cd2",
        "colab": {
          "base_uri": "https://localhost:8080/",
          "height": 204
        }
      },
      "cell_type": "code",
      "source": [
        "tweets_mini_df.sample(5)"
      ],
      "execution_count": 179,
      "outputs": [
        {
          "output_type": "execute_result",
          "data": {
            "text/html": [
              "<div>\n",
              "<style scoped>\n",
              "    .dataframe tbody tr th:only-of-type {\n",
              "        vertical-align: middle;\n",
              "    }\n",
              "\n",
              "    .dataframe tbody tr th {\n",
              "        vertical-align: top;\n",
              "    }\n",
              "\n",
              "    .dataframe thead th {\n",
              "        text-align: right;\n",
              "    }\n",
              "</style>\n",
              "<table border=\"1\" class=\"dataframe\">\n",
              "  <thead>\n",
              "    <tr style=\"text-align: right;\">\n",
              "      <th></th>\n",
              "      <th>tweet_id</th>\n",
              "      <th>text</th>\n",
              "      <th>retweet_count</th>\n",
              "      <th>favorite_count</th>\n",
              "      <th>retweeted</th>\n",
              "      <th>favorited</th>\n",
              "      <th>media_url</th>\n",
              "    </tr>\n",
              "  </thead>\n",
              "  <tbody>\n",
              "    <tr>\n",
              "      <th>282</th>\n",
              "      <td>838085839343206401</td>\n",
              "      <td>@bragg6of8 @Andy_Pace_ we are still looking fo...</td>\n",
              "      <td>0</td>\n",
              "      <td>147</td>\n",
              "      <td>False</td>\n",
              "      <td>False</td>\n",
              "      <td></td>\n",
              "    </tr>\n",
              "    <tr>\n",
              "      <th>1463</th>\n",
              "      <td>693582294167244802</td>\n",
              "      <td>Personally I'd give him an 11/10. Not sure why...</td>\n",
              "      <td>270</td>\n",
              "      <td>1711</td>\n",
              "      <td>False</td>\n",
              "      <td>False</td>\n",
              "      <td></td>\n",
              "    </tr>\n",
              "    <tr>\n",
              "      <th>1261</th>\n",
              "      <td>709042156699303936</td>\n",
              "      <td>This is Klevin. He's addicted to sandwiches (y...</td>\n",
              "      <td>1724</td>\n",
              "      <td>4936</td>\n",
              "      <td>False</td>\n",
              "      <td>False</td>\n",
              "      <td>https://pbs.twimg.com/media/CdcGBB3WwAAGBuU.jpg</td>\n",
              "    </tr>\n",
              "    <tr>\n",
              "      <th>883</th>\n",
              "      <td>758854675097526272</td>\n",
              "      <td>This is Lilli Bee &amp;amp; Honey Bear. Unfortunat...</td>\n",
              "      <td>958</td>\n",
              "      <td>3724</td>\n",
              "      <td>False</td>\n",
              "      <td>False</td>\n",
              "      <td>https://pbs.twimg.com/media/Cof-SuqUsAU8fp-.jpg</td>\n",
              "    </tr>\n",
              "    <tr>\n",
              "      <th>900</th>\n",
              "      <td>757354760399941633</td>\n",
              "      <td>This is Devón (pronounced \"Eric\"). He forgot h...</td>\n",
              "      <td>1523</td>\n",
              "      <td>4733</td>\n",
              "      <td>False</td>\n",
              "      <td>False</td>\n",
              "      <td>https://pbs.twimg.com/media/CoKqIndWgAAattd.jpg</td>\n",
              "    </tr>\n",
              "  </tbody>\n",
              "</table>\n",
              "</div>"
            ],
            "text/plain": [
              "                tweet_id                                               text  \\\n",
              "282   838085839343206401  @bragg6of8 @Andy_Pace_ we are still looking fo...   \n",
              "1463  693582294167244802  Personally I'd give him an 11/10. Not sure why...   \n",
              "1261  709042156699303936  This is Klevin. He's addicted to sandwiches (y...   \n",
              "883   758854675097526272  This is Lilli Bee &amp; Honey Bear. Unfortunat...   \n",
              "900   757354760399941633  This is Devón (pronounced \"Eric\"). He forgot h...   \n",
              "\n",
              "     retweet_count favorite_count retweeted favorited  \\\n",
              "282              0            147     False     False   \n",
              "1463           270           1711     False     False   \n",
              "1261          1724           4936     False     False   \n",
              "883            958           3724     False     False   \n",
              "900           1523           4733     False     False   \n",
              "\n",
              "                                            media_url  \n",
              "282                                                    \n",
              "1463                                                   \n",
              "1261  https://pbs.twimg.com/media/CdcGBB3WwAAGBuU.jpg  \n",
              "883   https://pbs.twimg.com/media/Cof-SuqUsAU8fp-.jpg  \n",
              "900   https://pbs.twimg.com/media/CoKqIndWgAAattd.jpg  "
            ]
          },
          "metadata": {
            "tags": []
          },
          "execution_count": 179
        }
      ]
    },
    {
      "metadata": {
        "id": "fJseZO0n4-a5",
        "colab_type": "code",
        "outputId": "b6467327-56e7-444f-8fd2-2d1618b2218f",
        "colab": {
          "base_uri": "https://localhost:8080/",
          "height": 153
        }
      },
      "cell_type": "code",
      "source": [
        "tweets_mini_df.isnull().sum()"
      ],
      "execution_count": 180,
      "outputs": [
        {
          "output_type": "execute_result",
          "data": {
            "text/plain": [
              "tweet_id          0\n",
              "text              0\n",
              "retweet_count     0\n",
              "favorite_count    0\n",
              "retweeted         0\n",
              "favorited         0\n",
              "media_url         0\n",
              "dtype: int64"
            ]
          },
          "metadata": {
            "tags": []
          },
          "execution_count": 180
        }
      ]
    },
    {
      "metadata": {
        "id": "lpl5Y3VI42PF",
        "colab_type": "text"
      },
      "cell_type": "markdown",
      "source": [
        "#### Cleaning data"
      ]
    },
    {
      "metadata": {
        "id": "CyXObBAe41zK",
        "colab_type": "text"
      },
      "cell_type": "markdown",
      "source": [
        "#### 1. twitter-archive-enhanced.csv\n",
        "##### 1.1 Data Quality Issues:\n",
        "\n",
        "1. There are 181 rows in this dataset that are retweets. I have identified them based non-null values in the \"retweeted_status_id\" column. These need to be removed from the dataset as we only want original tweets (1.1.1)\n",
        "\n",
        "2. Remove the following columns from the dataset. I don't think that we need these columns for our analysis (1.1.2)\n",
        "\n",
        "    *  in_reply_to_status_id\n",
        "    *  in_reply_to_user_id\n",
        "    *  retweeted_status_id\n",
        "    *  retweeted_status_user_id\n",
        "    *  retweeted_status_timestamp\n",
        "    *  expanded_urls\n",
        "\n",
        "3. The \"timestamp\" column is represented as a string and needs to be converted to datetime (1.1.3)\n",
        "4. Drop all tweets with timestamps greater than 8/1/2017 as per the project requirements (1.1.4)\n",
        "5. Dog stages are not fully recorded and many of them contain null values or values labeled as \"None\". We need to scan the tweet text and see if we can extract these values for each row (1.1.5)\n",
        "6. *** Not Addressed *** There are 745 rows in this dataset where the name is marked as \"None\". I am not addressing this issue right now since I don't have sufficient data to obtain this information (1.1.6)\n",
        "\n",
        "##### 1.2 Tidiness Issues:\n",
        "1. Dog stages are represented in separate columns as a sparse-array matrix which is wasteful and also not scalable in case we identify new stages. These need to be converted to a single column titled \"stage\". If they are not mutually exclusive (meaning, if there are multiple tweets about the same dog at different points in time where their stages change), we can put them into a separate dataframe for normalization purposes (1.2.1)\n"
      ]
    },
    {
      "metadata": {
        "id": "oMz698VwYvob",
        "colab_type": "text"
      },
      "cell_type": "markdown",
      "source": [
        "#### 2. image-predictions.tsv\n",
        "\n",
        "##### 2.1 Tidiness Issues:\n",
        "\n",
        "1. In the case of this dataset, we will deal with the tidiness issues first before we deal with data quality issues. There is a specific reason for it - there are three breed predictions in this dataset with a percentage of confidence against each and a boolean flag indicating whether the image prediction is actually canine or not. That makes it a total of 9 columns. I would like to reduce them to three columns to begin with: breed, prediction_confidence, is_canine. Addressing this tidiness issue will make it easier to fix the data quality issues identified below. We will begin with separating breed predictions to its own dataframe so that we can work on the data quality issues later (2.1.1)\n",
        "\n",
        "##### 2.2 Data Quality Issues:\n",
        "\n",
        "1. Once we address the tidiness issue above and spin off the breed predictions to their own dataframe, we will eliminate all predictions where the \"is_canine\" flag is false. We will then pick the prediction with the higher percentage of confidence and retain them as the only breed predictions (assuming that each dog can be classified into a single breed) and drop the ones with lower prediction confidence scores (2.2.1)\n",
        "2. We can then merge this dataset back to the original dataset (2.2.2)\n",
        "3. After merging, we will drop the following columns as they are no longer needed (2.2.3): \n",
        "    *  jpg_url (we have obtained the media_url using the Twitter API and we will retain that in case it needs to be used)\n",
        "    *  img_num (don't see how this information will be useful)\n",
        "    *  p1\n",
        "    *  p1_conf\n",
        "    *  p1_dog\n",
        "    *  p2\n",
        "    *  p2_conf\n",
        "    *  p2_dog\n",
        "    *  p3\n",
        "    *  p3_conf\n",
        "    *  p3_dog\n",
        "\n",
        "\n"
      ]
    },
    {
      "metadata": {
        "id": "1TOTRnZuiJLG",
        "colab_type": "text"
      },
      "cell_type": "markdown",
      "source": [
        "#### 3. tweet_mini_df\n",
        "\n",
        "##### 3.1 Data Quality Issues\n",
        "1. We need to drop all the tweets in this dataset that were originally marked as retweets in the \"twitter-archive-enhanced\" dataset as we are only interested in original tweets (3.1.1)\n",
        "\n",
        "2. We will also drop the \"text\" column as we no longer need this (3.1.2)\n"
      ]
    },
    {
      "metadata": {
        "id": "sFLzQ8n_nWRh",
        "colab_type": "text"
      },
      "cell_type": "markdown",
      "source": [
        "#### 4. Tidiness Issues: combining data from all the datasets\n",
        "\n",
        "##### 4.1 Tidiness\n",
        "\n",
        "1. Having addressed the data quality and tidiness issues at the level of individual datasets, we can now merge the data in these datasets into one. Since the data granularity in each of these datasets is at the \"tweet_id\" level, we will use it to combine the data into a single dataset and persist it to a file (4.1.1)\n",
        "\n",
        "##### 4.2 Data Quality\n",
        "\n",
        "1. We will use \"inner joins\" to merge these datasets thus eliminating any rows for whcih no valid information is available online. For example, there are 17 tweet ids in the original \"twitter-archive-enhanced\" dataset for which the Twitter API returned errors and these will be eliminated during the merging process. (4.2.1)"
      ]
    },
    {
      "metadata": {
        "id": "rD1smP4iIApY",
        "colab_type": "code",
        "outputId": "227450a6-e73e-4d49-dfef-876bdd4d62d7",
        "colab": {
          "base_uri": "https://localhost:8080/",
          "height": 68
        }
      },
      "cell_type": "code",
      "source": [
        "# First, I am making clean copies of each of the dataframes and leaving the originals intact\n",
        "\n",
        "tweets_df_clean = tweets_df.copy()\n",
        "img_pred_df_clean = img_pred_df.copy()\n",
        "tweets_mini_df_clean = tweets_mini_df.copy()\n",
        "\n",
        "print ('%s %d %s %d' %('Original Row Count: ', tweets_df.shape[0], 'Copy Row Count: ', tweets_df_clean.shape[0]))\n",
        "print ('%s %d %s %d' %('Original Row Count: ', img_pred_df.shape[0], 'Copy Row Count: ', img_pred_df_clean.shape[0]))\n",
        "print ('%s %d %s %d' %('Original Row Count: ', tweets_mini_df.shape[0], 'Copy Row Count: ', tweets_mini_df_clean.shape[0]))"
      ],
      "execution_count": 181,
      "outputs": [
        {
          "output_type": "stream",
          "text": [
            "Original Row Count:  2356 Copy Row Count:  2356\n",
            "Original Row Count:  2075 Copy Row Count:  2075\n",
            "Original Row Count:  2339 Copy Row Count:  2339\n"
          ],
          "name": "stdout"
        }
      ]
    },
    {
      "metadata": {
        "colab_type": "code",
        "outputId": "e7a407fa-156a-4bfd-8b54-131a9ee82393",
        "id": "qhQL5JV-YuKA",
        "colab": {
          "base_uri": "https://localhost:8080/",
          "height": 34
        }
      },
      "cell_type": "code",
      "source": [
        "\"\"\"\n",
        "1.1.1 Define (twitter-archive-enhanced.csv)\n",
        "There are 181 rows in this dataset that are retweets. I have identified them based non-null values in the \"retweeted_status_id\" column. \n",
        "These need to be removed from the dataset as we only want original tweets\n",
        "\"\"\"\n",
        "\n",
        "tweets_df_clean[tweets_df_clean['retweeted_status_id'].notnull()].shape[0]"
      ],
      "execution_count": 182,
      "outputs": [
        {
          "output_type": "execute_result",
          "data": {
            "text/plain": [
              "181"
            ]
          },
          "metadata": {
            "tags": []
          },
          "execution_count": 182
        }
      ]
    },
    {
      "metadata": {
        "id": "fgMT6kOsHm6g",
        "colab_type": "code",
        "colab": {}
      },
      "cell_type": "code",
      "source": [
        "\"\"\"\n",
        "1.1.1 Code\n",
        "\"\"\"\n",
        "\n",
        "tweets_df_clean.drop(tweets_df_clean[tweets_df_clean['retweeted_status_id'].notnull()].index, inplace = True)\n"
      ],
      "execution_count": 0,
      "outputs": []
    },
    {
      "metadata": {
        "id": "Pmz0B93BJZdq",
        "colab_type": "code",
        "colab": {}
      },
      "cell_type": "code",
      "source": [
        "\"\"\"\n",
        "1.1.1 Test\n",
        "Assertion: Original DF Row Count - Cleaned DF Row Count = Retweet Count\n",
        "\"\"\"\n",
        "\n",
        "assert (tweets_df.shape[0] - tweets_df_clean.shape[0] == tweets_df[tweets_df['retweeted_status_id'].notnull()].shape[0])\n",
        "# print('%s %d %s %d %s %d' % ('Org. Count: ', tweets_df.shape[0], 'New Count: ', tweets_df_clean.shape[0], 'Diff: ',  tweets_df[tweets_df['retweeted_status_id'].notnull()].shape[0]))"
      ],
      "execution_count": 0,
      "outputs": []
    },
    {
      "metadata": {
        "id": "x5vIjrtJNjDX",
        "colab_type": "code",
        "outputId": "fd81591d-8985-41ae-cc58-28d7b73c3664",
        "colab": {
          "base_uri": "https://localhost:8080/",
          "height": 204
        }
      },
      "cell_type": "code",
      "source": [
        "\"\"\"\n",
        "1.1.2 Define (twitter-archive-enhanced.csv)\n",
        "Remove the following columns from the dataset:\n",
        "\n",
        "in_reply_to_status_id\n",
        "in_reply_to_user_id\n",
        "retweeted_status_id\n",
        "retweeted_status_user_id\n",
        "retweeted_status_timestamp\n",
        "expanded_urls\n",
        "\"\"\"\n",
        "tweets_df_clean_drop_cols = ['in_reply_to_status_id', 'in_reply_to_user_id', 'retweeted_status_id', 'retweeted_status_user_id', 'retweeted_status_timestamp', 'expanded_urls']\n",
        "tweets_df_clean[tweets_df_clean_drop_cols].head()"
      ],
      "execution_count": 185,
      "outputs": [
        {
          "output_type": "execute_result",
          "data": {
            "text/html": [
              "<div>\n",
              "<style scoped>\n",
              "    .dataframe tbody tr th:only-of-type {\n",
              "        vertical-align: middle;\n",
              "    }\n",
              "\n",
              "    .dataframe tbody tr th {\n",
              "        vertical-align: top;\n",
              "    }\n",
              "\n",
              "    .dataframe thead th {\n",
              "        text-align: right;\n",
              "    }\n",
              "</style>\n",
              "<table border=\"1\" class=\"dataframe\">\n",
              "  <thead>\n",
              "    <tr style=\"text-align: right;\">\n",
              "      <th></th>\n",
              "      <th>in_reply_to_status_id</th>\n",
              "      <th>in_reply_to_user_id</th>\n",
              "      <th>retweeted_status_id</th>\n",
              "      <th>retweeted_status_user_id</th>\n",
              "      <th>retweeted_status_timestamp</th>\n",
              "      <th>expanded_urls</th>\n",
              "    </tr>\n",
              "  </thead>\n",
              "  <tbody>\n",
              "    <tr>\n",
              "      <th>0</th>\n",
              "      <td>NaN</td>\n",
              "      <td>NaN</td>\n",
              "      <td>NaN</td>\n",
              "      <td>NaN</td>\n",
              "      <td>NaN</td>\n",
              "      <td>https://twitter.com/dog_rates/status/892420643...</td>\n",
              "    </tr>\n",
              "    <tr>\n",
              "      <th>1</th>\n",
              "      <td>NaN</td>\n",
              "      <td>NaN</td>\n",
              "      <td>NaN</td>\n",
              "      <td>NaN</td>\n",
              "      <td>NaN</td>\n",
              "      <td>https://twitter.com/dog_rates/status/892177421...</td>\n",
              "    </tr>\n",
              "    <tr>\n",
              "      <th>2</th>\n",
              "      <td>NaN</td>\n",
              "      <td>NaN</td>\n",
              "      <td>NaN</td>\n",
              "      <td>NaN</td>\n",
              "      <td>NaN</td>\n",
              "      <td>https://twitter.com/dog_rates/status/891815181...</td>\n",
              "    </tr>\n",
              "    <tr>\n",
              "      <th>3</th>\n",
              "      <td>NaN</td>\n",
              "      <td>NaN</td>\n",
              "      <td>NaN</td>\n",
              "      <td>NaN</td>\n",
              "      <td>NaN</td>\n",
              "      <td>https://twitter.com/dog_rates/status/891689557...</td>\n",
              "    </tr>\n",
              "    <tr>\n",
              "      <th>4</th>\n",
              "      <td>NaN</td>\n",
              "      <td>NaN</td>\n",
              "      <td>NaN</td>\n",
              "      <td>NaN</td>\n",
              "      <td>NaN</td>\n",
              "      <td>https://twitter.com/dog_rates/status/891327558...</td>\n",
              "    </tr>\n",
              "  </tbody>\n",
              "</table>\n",
              "</div>"
            ],
            "text/plain": [
              "   in_reply_to_status_id  in_reply_to_user_id  retweeted_status_id  \\\n",
              "0                    NaN                  NaN                  NaN   \n",
              "1                    NaN                  NaN                  NaN   \n",
              "2                    NaN                  NaN                  NaN   \n",
              "3                    NaN                  NaN                  NaN   \n",
              "4                    NaN                  NaN                  NaN   \n",
              "\n",
              "   retweeted_status_user_id retweeted_status_timestamp  \\\n",
              "0                       NaN                        NaN   \n",
              "1                       NaN                        NaN   \n",
              "2                       NaN                        NaN   \n",
              "3                       NaN                        NaN   \n",
              "4                       NaN                        NaN   \n",
              "\n",
              "                                       expanded_urls  \n",
              "0  https://twitter.com/dog_rates/status/892420643...  \n",
              "1  https://twitter.com/dog_rates/status/892177421...  \n",
              "2  https://twitter.com/dog_rates/status/891815181...  \n",
              "3  https://twitter.com/dog_rates/status/891689557...  \n",
              "4  https://twitter.com/dog_rates/status/891327558...  "
            ]
          },
          "metadata": {
            "tags": []
          },
          "execution_count": 185
        }
      ]
    },
    {
      "metadata": {
        "id": "gnR2oHpDONzE",
        "colab_type": "code",
        "colab": {}
      },
      "cell_type": "code",
      "source": [
        "\"\"\"\n",
        "1.1.2 Code\n",
        "\"\"\"\n",
        "tweets_df_clean.drop(tweets_df_clean_drop_cols, axis = 1, inplace = True)"
      ],
      "execution_count": 0,
      "outputs": []
    },
    {
      "metadata": {
        "id": "Z6uf6YFIOdqI",
        "colab_type": "code",
        "colab": {}
      },
      "cell_type": "code",
      "source": [
        "\"\"\"\n",
        "1.1.2 Test\n",
        "\"\"\"\n",
        "\n",
        "assert not set(tweets_df_clean_drop_cols).issubset(tweets_df_clean.columns)"
      ],
      "execution_count": 0,
      "outputs": []
    },
    {
      "metadata": {
        "id": "ae_JevNSUoLP",
        "colab_type": "code",
        "outputId": "0f8da051-63b7-466c-f148-94eb81a5c031",
        "colab": {
          "base_uri": "https://localhost:8080/",
          "height": 289
        }
      },
      "cell_type": "code",
      "source": [
        "\"\"\" \n",
        "1.1.3 Define (twitter-archive-enhanced.csv)\n",
        "The \"timestamp\" column is represented as a string and needs to be converted to datetime\n",
        "\"\"\"\n",
        "\n",
        "tweets_df_clean.info()"
      ],
      "execution_count": 188,
      "outputs": [
        {
          "output_type": "stream",
          "text": [
            "<class 'pandas.core.frame.DataFrame'>\n",
            "Int64Index: 2175 entries, 0 to 2355\n",
            "Data columns (total 11 columns):\n",
            "tweet_id              2175 non-null int64\n",
            "timestamp             2175 non-null object\n",
            "source                2175 non-null object\n",
            "text                  2175 non-null object\n",
            "rating_numerator      2175 non-null int64\n",
            "rating_denominator    2175 non-null int64\n",
            "name                  2175 non-null object\n",
            "doggo                 2175 non-null object\n",
            "floofer               2175 non-null object\n",
            "pupper                2175 non-null object\n",
            "puppo                 2175 non-null object\n",
            "dtypes: int64(3), object(8)\n",
            "memory usage: 203.9+ KB\n"
          ],
          "name": "stdout"
        }
      ]
    },
    {
      "metadata": {
        "id": "A7qvDlxgU3WA",
        "colab_type": "code",
        "colab": {}
      },
      "cell_type": "code",
      "source": [
        "\"\"\"\n",
        "1.1.3 Code\n",
        "\"\"\"\n",
        "\n",
        "tweets_df_clean['timestamp'] = pd.to_datetime(tweets_df_clean['timestamp'])"
      ],
      "execution_count": 0,
      "outputs": []
    },
    {
      "metadata": {
        "colab_type": "code",
        "outputId": "37fead6f-7ef8-411a-bacb-9b52898f4697",
        "id": "gjrVR3X6Yt2y",
        "colab": {
          "base_uri": "https://localhost:8080/",
          "height": 289
        }
      },
      "cell_type": "code",
      "source": [
        "\"\"\"\n",
        "1.1.3 Test\n",
        "\"\"\"\n",
        "\n",
        "tweets_df_clean.info()"
      ],
      "execution_count": 190,
      "outputs": [
        {
          "output_type": "stream",
          "text": [
            "<class 'pandas.core.frame.DataFrame'>\n",
            "Int64Index: 2175 entries, 0 to 2355\n",
            "Data columns (total 11 columns):\n",
            "tweet_id              2175 non-null int64\n",
            "timestamp             2175 non-null datetime64[ns]\n",
            "source                2175 non-null object\n",
            "text                  2175 non-null object\n",
            "rating_numerator      2175 non-null int64\n",
            "rating_denominator    2175 non-null int64\n",
            "name                  2175 non-null object\n",
            "doggo                 2175 non-null object\n",
            "floofer               2175 non-null object\n",
            "pupper                2175 non-null object\n",
            "puppo                 2175 non-null object\n",
            "dtypes: datetime64[ns](1), int64(3), object(7)\n",
            "memory usage: 203.9+ KB\n"
          ],
          "name": "stdout"
        }
      ]
    },
    {
      "metadata": {
        "id": "ysGxsJwIimX0",
        "colab_type": "code",
        "outputId": "1c3ba035-d6c4-4aea-b52d-460b68c60102",
        "colab": {
          "base_uri": "https://localhost:8080/",
          "height": 111
        }
      },
      "cell_type": "code",
      "source": [
        "\"\"\"\n",
        "1.1.4 Define (twitter-archive-enhanced.csv)\n",
        "Drop all tweets with timestamps greater than 8/1/2017 as per the project requirements\n",
        "\"\"\"\n",
        "tweets_df_clean.query('timestamp > \"08/01/2017\"')"
      ],
      "execution_count": 191,
      "outputs": [
        {
          "output_type": "execute_result",
          "data": {
            "text/html": [
              "<div>\n",
              "<style scoped>\n",
              "    .dataframe tbody tr th:only-of-type {\n",
              "        vertical-align: middle;\n",
              "    }\n",
              "\n",
              "    .dataframe tbody tr th {\n",
              "        vertical-align: top;\n",
              "    }\n",
              "\n",
              "    .dataframe thead th {\n",
              "        text-align: right;\n",
              "    }\n",
              "</style>\n",
              "<table border=\"1\" class=\"dataframe\">\n",
              "  <thead>\n",
              "    <tr style=\"text-align: right;\">\n",
              "      <th></th>\n",
              "      <th>tweet_id</th>\n",
              "      <th>timestamp</th>\n",
              "      <th>source</th>\n",
              "      <th>text</th>\n",
              "      <th>rating_numerator</th>\n",
              "      <th>rating_denominator</th>\n",
              "      <th>name</th>\n",
              "      <th>doggo</th>\n",
              "      <th>floofer</th>\n",
              "      <th>pupper</th>\n",
              "      <th>puppo</th>\n",
              "    </tr>\n",
              "  </thead>\n",
              "  <tbody>\n",
              "    <tr>\n",
              "      <th>0</th>\n",
              "      <td>892420643555336193</td>\n",
              "      <td>2017-08-01 16:23:56</td>\n",
              "      <td>&lt;a href=\"http://twitter.com/download/iphone\" r...</td>\n",
              "      <td>This is Phineas. He's a mystical boy. Only eve...</td>\n",
              "      <td>13</td>\n",
              "      <td>10</td>\n",
              "      <td>Phineas</td>\n",
              "      <td>None</td>\n",
              "      <td>None</td>\n",
              "      <td>None</td>\n",
              "      <td>None</td>\n",
              "    </tr>\n",
              "    <tr>\n",
              "      <th>1</th>\n",
              "      <td>892177421306343426</td>\n",
              "      <td>2017-08-01 00:17:27</td>\n",
              "      <td>&lt;a href=\"http://twitter.com/download/iphone\" r...</td>\n",
              "      <td>This is Tilly. She's just checking pup on you....</td>\n",
              "      <td>13</td>\n",
              "      <td>10</td>\n",
              "      <td>Tilly</td>\n",
              "      <td>None</td>\n",
              "      <td>None</td>\n",
              "      <td>None</td>\n",
              "      <td>None</td>\n",
              "    </tr>\n",
              "  </tbody>\n",
              "</table>\n",
              "</div>"
            ],
            "text/plain": [
              "             tweet_id           timestamp  \\\n",
              "0  892420643555336193 2017-08-01 16:23:56   \n",
              "1  892177421306343426 2017-08-01 00:17:27   \n",
              "\n",
              "                                              source  \\\n",
              "0  <a href=\"http://twitter.com/download/iphone\" r...   \n",
              "1  <a href=\"http://twitter.com/download/iphone\" r...   \n",
              "\n",
              "                                                text  rating_numerator  \\\n",
              "0  This is Phineas. He's a mystical boy. Only eve...                13   \n",
              "1  This is Tilly. She's just checking pup on you....                13   \n",
              "\n",
              "   rating_denominator     name doggo floofer pupper puppo  \n",
              "0                  10  Phineas  None    None   None  None  \n",
              "1                  10    Tilly  None    None   None  None  "
            ]
          },
          "metadata": {
            "tags": []
          },
          "execution_count": 191
        }
      ]
    },
    {
      "metadata": {
        "id": "9BXXPQyejCJ0",
        "colab_type": "code",
        "colab": {}
      },
      "cell_type": "code",
      "source": [
        "\"\"\"\n",
        "1.1.4 Code\n",
        "\"\"\"\n",
        "\n",
        "tweets_df_clean.drop(tweets_df_clean.query('timestamp > \"08/01/2017\"').index, inplace = True)"
      ],
      "execution_count": 0,
      "outputs": []
    },
    {
      "metadata": {
        "id": "QvCe-rmijeXe",
        "colab_type": "code",
        "colab": {}
      },
      "cell_type": "code",
      "source": [
        "\"\"\"\n",
        "1.1.4 Test\n",
        "\"\"\"\n",
        "\n",
        "assert tweets_df_clean.query('timestamp > \"08/01/2017\"').shape[0] == 0"
      ],
      "execution_count": 0,
      "outputs": []
    },
    {
      "metadata": {
        "id": "dhYvpawjWQwl",
        "colab_type": "code",
        "outputId": "f3650b5d-7905-41ab-942b-35b9eef11c07",
        "colab": {
          "base_uri": "https://localhost:8080/",
          "height": 1105
        }
      },
      "cell_type": "code",
      "source": [
        "\"\"\"\n",
        "1.1.5 & 1.2.1 Define (twitter-archive-enhanced.csv)\n",
        "Dog stages are represented in separate columns as a sparse-array matrix which is \n",
        "wasteful and also not scalable in case we identify new stages. These need to be \n",
        "converted to a single column titled \"stage\". If they are not mutually exclusive \n",
        "(meaning, if there are multiple tweets about the same dog at different points in \n",
        "time where their stages change), we can put them into a separate dataframe for \n",
        "normalization purposes\n",
        "\n",
        "Dog stages are not fully recorded and many of them contain null values or values labeled as \"None\". \n",
        "We need to scan the tweet text and see if we can extract these values for each row\n",
        "\"\"\"\n",
        "\n",
        "dog_stages = ['doggo', 'floofer', 'pupper', 'puppo']\n",
        "[tweets_df_clean[dog_stages] == 'None']"
      ],
      "execution_count": 194,
      "outputs": [
        {
          "output_type": "execute_result",
          "data": {
            "text/plain": [
              "[      doggo  floofer  pupper  puppo\n",
              " 2      True     True    True   True\n",
              " 3      True     True    True   True\n",
              " 4      True     True    True   True\n",
              " 5      True     True    True   True\n",
              " 6      True     True    True   True\n",
              " 7      True     True    True   True\n",
              " 8      True     True    True   True\n",
              " 9     False     True    True   True\n",
              " 10     True     True    True   True\n",
              " 11     True     True    True   True\n",
              " 12     True     True    True  False\n",
              " 13     True     True    True   True\n",
              " 14     True     True    True  False\n",
              " 15     True     True    True   True\n",
              " 16     True     True    True   True\n",
              " 17     True     True    True   True\n",
              " 18     True     True    True   True\n",
              " 20     True     True    True   True\n",
              " 21     True     True    True   True\n",
              " 22     True     True    True   True\n",
              " 23     True     True    True   True\n",
              " 24     True     True    True   True\n",
              " 25     True     True    True   True\n",
              " 26     True     True    True   True\n",
              " 27     True     True    True   True\n",
              " 28     True     True    True   True\n",
              " 29     True     True   False   True\n",
              " 30     True     True    True   True\n",
              " 31     True     True    True   True\n",
              " 33     True     True    True   True\n",
              " ...     ...      ...     ...    ...\n",
              " 2326   True     True    True   True\n",
              " 2327   True     True    True   True\n",
              " 2328   True     True    True   True\n",
              " 2329   True     True    True   True\n",
              " 2330   True     True    True   True\n",
              " 2331   True     True    True   True\n",
              " 2332   True     True    True   True\n",
              " 2333   True     True    True   True\n",
              " 2334   True     True    True   True\n",
              " 2335   True     True    True   True\n",
              " 2336   True     True    True   True\n",
              " 2337   True     True    True   True\n",
              " 2338   True     True    True   True\n",
              " 2339   True     True    True   True\n",
              " 2340   True     True    True   True\n",
              " 2341   True     True    True   True\n",
              " 2342   True     True    True   True\n",
              " 2343   True     True    True   True\n",
              " 2344   True     True    True   True\n",
              " 2345   True     True    True   True\n",
              " 2346   True     True    True   True\n",
              " 2347   True     True    True   True\n",
              " 2348   True     True    True   True\n",
              " 2349   True     True    True   True\n",
              " 2350   True     True    True   True\n",
              " 2351   True     True    True   True\n",
              " 2352   True     True    True   True\n",
              " 2353   True     True    True   True\n",
              " 2354   True     True    True   True\n",
              " 2355   True     True    True   True\n",
              " \n",
              " [2173 rows x 4 columns]]"
            ]
          },
          "metadata": {
            "tags": []
          },
          "execution_count": 194
        }
      ]
    },
    {
      "metadata": {
        "colab_type": "code",
        "id": "qJYZfYpmYtVp",
        "colab": {}
      },
      "cell_type": "code",
      "source": [
        "\"\"\"\n",
        "1.1.5 & 1.2.1 Code\n",
        "In this cleaning exercise, I am going to transpose the \"dog_stage columns\" to rows first to make the next steps easier\n",
        "\"\"\"\n",
        "\n",
        "dog_stage_df = pd.melt(tweets_df_clean[['tweet_id', 'text', 'doggo', 'floofer', 'pupper', 'puppo']], id_vars = ['tweet_id', 'text'], var_name = 'dog_stage_col', value_name = 'dog_stage')\n",
        "\n",
        "# Next, I am assigning the value \"doggo\" to the column 'dog_stage' in cases where the tweet text has the word \"doggo\" in it and the 'dog_stage' column has the value \"None\"\n",
        "dog_stage_df.loc[dog_stage_df[dog_stage_df['text'].str.contains('doggo ', case = False)].query('dog_stage_col == \"doggo\" and dog_stage == \"None\"').index, 'dog_stage'] = 'doggo'\n",
        "\n",
        "# Next, I am repeating the above for other 'dog_stage' values\n",
        "dog_stage_df.loc[dog_stage_df[dog_stage_df['text'].str.contains('floofer ', case = False)].query('dog_stage_col == \"floofer\" and dog_stage == \"None\"').index, 'dog_stage'] = 'floofer'\n",
        "dog_stage_df.loc[dog_stage_df[dog_stage_df['text'].str.contains('pupper ', case = False)].query('dog_stage_col == \"pupper\" and dog_stage == \"None\"').index, 'dog_stage'] = 'pupper'\n",
        "dog_stage_df.loc[dog_stage_df[dog_stage_df['text'].str.contains('puppo ', case = False)].query('dog_stage_col == \"puppo\" and dog_stage == \"None\"').index, 'dog_stage'] = 'puppo'\n"
      ],
      "execution_count": 0,
      "outputs": []
    },
    {
      "metadata": {
        "id": "cpBiq4gI5C2t",
        "colab_type": "code",
        "outputId": "6ada972a-89e2-47aa-f4b5-ea3582990d74",
        "colab": {
          "base_uri": "https://localhost:8080/",
          "height": 793
        }
      },
      "cell_type": "code",
      "source": [
        "\"\"\"\n",
        "1.1.5 & 1.2.1 Code\n",
        "The test below confirm that there are multiple dog stages tied to a single tweet id.\n",
        "This seems to indicate that a dog can go through multiple stages.\n",
        "Therefore, i am going to retain this as a separate dataset\n",
        "However, I am going to get rid of all rows where the dog stage is None even after fixing the quality\n",
        "\"\"\"\n",
        "dog_stage_df[['tweet_id', 'dog_stage']].query('dog_stage != \"None\"').groupby('tweet_id').filter(lambda x: len(x) > 1).sort_values(by=['tweet_id'])"
      ],
      "execution_count": 196,
      "outputs": [
        {
          "output_type": "execute_result",
          "data": {
            "text/html": [
              "<div>\n",
              "<style scoped>\n",
              "    .dataframe tbody tr th:only-of-type {\n",
              "        vertical-align: middle;\n",
              "    }\n",
              "\n",
              "    .dataframe tbody tr th {\n",
              "        vertical-align: top;\n",
              "    }\n",
              "\n",
              "    .dataframe thead th {\n",
              "        text-align: right;\n",
              "    }\n",
              "</style>\n",
              "<table border=\"1\" class=\"dataframe\">\n",
              "  <thead>\n",
              "    <tr style=\"text-align: right;\">\n",
              "      <th></th>\n",
              "      <th>tweet_id</th>\n",
              "      <th>dog_stage</th>\n",
              "    </tr>\n",
              "  </thead>\n",
              "  <tbody>\n",
              "    <tr>\n",
              "      <th>933</th>\n",
              "      <td>733109485275860992</td>\n",
              "      <td>doggo</td>\n",
              "    </tr>\n",
              "    <tr>\n",
              "      <th>5279</th>\n",
              "      <td>733109485275860992</td>\n",
              "      <td>pupper</td>\n",
              "    </tr>\n",
              "    <tr>\n",
              "      <th>883</th>\n",
              "      <td>741067306818797568</td>\n",
              "      <td>doggo</td>\n",
              "    </tr>\n",
              "    <tr>\n",
              "      <th>5229</th>\n",
              "      <td>741067306818797568</td>\n",
              "      <td>pupper</td>\n",
              "    </tr>\n",
              "    <tr>\n",
              "      <th>779</th>\n",
              "      <td>751583847268179968</td>\n",
              "      <td>doggo</td>\n",
              "    </tr>\n",
              "    <tr>\n",
              "      <th>5125</th>\n",
              "      <td>751583847268179968</td>\n",
              "      <td>pupper</td>\n",
              "    </tr>\n",
              "    <tr>\n",
              "      <th>720</th>\n",
              "      <td>759793422261743616</td>\n",
              "      <td>doggo</td>\n",
              "    </tr>\n",
              "    <tr>\n",
              "      <th>5066</th>\n",
              "      <td>759793422261743616</td>\n",
              "      <td>pupper</td>\n",
              "    </tr>\n",
              "    <tr>\n",
              "      <th>591</th>\n",
              "      <td>781308096455073793</td>\n",
              "      <td>doggo</td>\n",
              "    </tr>\n",
              "    <tr>\n",
              "      <th>4937</th>\n",
              "      <td>781308096455073793</td>\n",
              "      <td>pupper</td>\n",
              "    </tr>\n",
              "    <tr>\n",
              "      <th>565</th>\n",
              "      <td>785639753186217984</td>\n",
              "      <td>doggo</td>\n",
              "    </tr>\n",
              "    <tr>\n",
              "      <th>4911</th>\n",
              "      <td>785639753186217984</td>\n",
              "      <td>pupper</td>\n",
              "    </tr>\n",
              "    <tr>\n",
              "      <th>472</th>\n",
              "      <td>801115127852503040</td>\n",
              "      <td>doggo</td>\n",
              "    </tr>\n",
              "    <tr>\n",
              "      <th>4818</th>\n",
              "      <td>801115127852503040</td>\n",
              "      <td>pupper</td>\n",
              "    </tr>\n",
              "    <tr>\n",
              "      <th>465</th>\n",
              "      <td>802265048156610565</td>\n",
              "      <td>doggo</td>\n",
              "    </tr>\n",
              "    <tr>\n",
              "      <th>4811</th>\n",
              "      <td>802265048156610565</td>\n",
              "      <td>pupper</td>\n",
              "    </tr>\n",
              "    <tr>\n",
              "      <th>440</th>\n",
              "      <td>808106460588765185</td>\n",
              "      <td>doggo</td>\n",
              "    </tr>\n",
              "    <tr>\n",
              "      <th>4786</th>\n",
              "      <td>808106460588765185</td>\n",
              "      <td>pupper</td>\n",
              "    </tr>\n",
              "    <tr>\n",
              "      <th>4726</th>\n",
              "      <td>817777686764523521</td>\n",
              "      <td>pupper</td>\n",
              "    </tr>\n",
              "    <tr>\n",
              "      <th>380</th>\n",
              "      <td>817777686764523521</td>\n",
              "      <td>doggo</td>\n",
              "    </tr>\n",
              "    <tr>\n",
              "      <th>170</th>\n",
              "      <td>854010172552949760</td>\n",
              "      <td>doggo</td>\n",
              "    </tr>\n",
              "    <tr>\n",
              "      <th>2343</th>\n",
              "      <td>854010172552949760</td>\n",
              "      <td>floofer</td>\n",
              "    </tr>\n",
              "    <tr>\n",
              "      <th>163</th>\n",
              "      <td>855851453814013952</td>\n",
              "      <td>doggo</td>\n",
              "    </tr>\n",
              "    <tr>\n",
              "      <th>6682</th>\n",
              "      <td>855851453814013952</td>\n",
              "      <td>puppo</td>\n",
              "    </tr>\n",
              "  </tbody>\n",
              "</table>\n",
              "</div>"
            ],
            "text/plain": [
              "                tweet_id dog_stage\n",
              "933   733109485275860992     doggo\n",
              "5279  733109485275860992    pupper\n",
              "883   741067306818797568     doggo\n",
              "5229  741067306818797568    pupper\n",
              "779   751583847268179968     doggo\n",
              "5125  751583847268179968    pupper\n",
              "720   759793422261743616     doggo\n",
              "5066  759793422261743616    pupper\n",
              "591   781308096455073793     doggo\n",
              "4937  781308096455073793    pupper\n",
              "565   785639753186217984     doggo\n",
              "4911  785639753186217984    pupper\n",
              "472   801115127852503040     doggo\n",
              "4818  801115127852503040    pupper\n",
              "465   802265048156610565     doggo\n",
              "4811  802265048156610565    pupper\n",
              "440   808106460588765185     doggo\n",
              "4786  808106460588765185    pupper\n",
              "4726  817777686764523521    pupper\n",
              "380   817777686764523521     doggo\n",
              "170   854010172552949760     doggo\n",
              "2343  854010172552949760   floofer\n",
              "163   855851453814013952     doggo\n",
              "6682  855851453814013952     puppo"
            ]
          },
          "metadata": {
            "tags": []
          },
          "execution_count": 196
        }
      ]
    },
    {
      "metadata": {
        "id": "V9LONoTO-QUk",
        "colab_type": "code",
        "outputId": "1bdeddf0-380a-41e7-c5ed-b296d985374c",
        "colab": {
          "base_uri": "https://localhost:8080/",
          "height": 136
        }
      },
      "cell_type": "code",
      "source": [
        "\"\"\"\n",
        "1.1.5 & 1.2.1 Code\n",
        "We will begin with dropping the unnecessary columns\n",
        "\"\"\"\n",
        "dog_stage_df.drop(['text', 'dog_stage_col'], axis = 1, inplace = True)\n",
        "dog_stage_df.info()\n",
        "\n",
        "\"\"\"\n",
        "Next, we will drop all rows where the dog_stage column contains the value \"None\"\n",
        "\"\"\"\n",
        "\n",
        "dog_stage_df.drop(dog_stage_df.query('dog_stage == \"None\"').index, inplace = True)\n"
      ],
      "execution_count": 197,
      "outputs": [
        {
          "output_type": "stream",
          "text": [
            "<class 'pandas.core.frame.DataFrame'>\n",
            "RangeIndex: 8692 entries, 0 to 8691\n",
            "Data columns (total 2 columns):\n",
            "tweet_id     8692 non-null int64\n",
            "dog_stage    8692 non-null object\n",
            "dtypes: int64(1), object(1)\n",
            "memory usage: 135.9+ KB\n"
          ],
          "name": "stdout"
        }
      ]
    },
    {
      "metadata": {
        "id": "W-9Kqa3LZjfj",
        "colab_type": "code",
        "colab": {}
      },
      "cell_type": "code",
      "source": [
        "\"\"\"\n",
        "1.1.5 & 1.2.1 Test 1\n",
        "\"\"\"\n",
        "\n",
        "assert dog_stage_df.query('dog_stage == \"None\"').shape[0] == 0"
      ],
      "execution_count": 0,
      "outputs": []
    },
    {
      "metadata": {
        "id": "qnLTux9t48Ae",
        "colab_type": "code",
        "colab": {}
      },
      "cell_type": "code",
      "source": [
        "\"\"\"\n",
        "1.1.5 & 1.2.1 Code\n",
        "We can now drop the individual dog stage columns from the \"tweets_df_clean\" dataset\n",
        "\"\"\"\n",
        "tweets_df_clean.drop(dog_stages, axis = 1, inplace = True)"
      ],
      "execution_count": 0,
      "outputs": []
    },
    {
      "metadata": {
        "id": "Fr6vNzgj5Oy_",
        "colab_type": "code",
        "colab": {}
      },
      "cell_type": "code",
      "source": [
        "\"\"\"\n",
        "1.1.5 & 1.2.1 Test 2\n",
        "\"\"\"\n",
        "\n",
        "assert not set(dog_stages).issubset(tweets_df_clean.columns)"
      ],
      "execution_count": 0,
      "outputs": []
    },
    {
      "metadata": {
        "id": "uP3AGSnoYNNm",
        "colab_type": "code",
        "outputId": "08347f80-651d-42d2-82d2-ef40fd4c1d14",
        "colab": {
          "base_uri": "https://localhost:8080/",
          "height": 204
        }
      },
      "cell_type": "code",
      "source": [
        "\"\"\"\n",
        "2.1.1 Define (image-predictions.tsv)\n",
        "In the case of this dataset, we will deal with the tidiness issues first before we deal with data quality issues. \n",
        "There is a specific reason for it - there are three breed predictions in this dataset with a percentage of confidence \n",
        "against each and a boolean flag indicating whether the image prediction is actually canine or not. \n",
        "That makes it a total of 9 columns. I would like to reduce them to three columns to begin with: breed, prediction_confidence, is_canine. \n",
        "Addressing this tidiness issue will make it easier to fix the data quality issues identified below. \n",
        "We will begin with separating breed predictions to its own dataframe so that we can work on the data quality issues later\n",
        "\"\"\"\n",
        "\n",
        "img_pred_df_clean.sample(5)"
      ],
      "execution_count": 203,
      "outputs": [
        {
          "output_type": "execute_result",
          "data": {
            "text/html": [
              "<div>\n",
              "<style scoped>\n",
              "    .dataframe tbody tr th:only-of-type {\n",
              "        vertical-align: middle;\n",
              "    }\n",
              "\n",
              "    .dataframe tbody tr th {\n",
              "        vertical-align: top;\n",
              "    }\n",
              "\n",
              "    .dataframe thead th {\n",
              "        text-align: right;\n",
              "    }\n",
              "</style>\n",
              "<table border=\"1\" class=\"dataframe\">\n",
              "  <thead>\n",
              "    <tr style=\"text-align: right;\">\n",
              "      <th></th>\n",
              "      <th>tweet_id</th>\n",
              "      <th>jpg_url</th>\n",
              "      <th>img_num</th>\n",
              "      <th>p1</th>\n",
              "      <th>p1_conf</th>\n",
              "      <th>p1_dog</th>\n",
              "      <th>p2</th>\n",
              "      <th>p2_conf</th>\n",
              "      <th>p2_dog</th>\n",
              "      <th>p3</th>\n",
              "      <th>p3_conf</th>\n",
              "      <th>p3_dog</th>\n",
              "    </tr>\n",
              "  </thead>\n",
              "  <tbody>\n",
              "    <tr>\n",
              "      <th>143</th>\n",
              "      <td>668620235289837568</td>\n",
              "      <td>https://pbs.twimg.com/media/CUdqjvAWUAANfoU.jpg</td>\n",
              "      <td>1</td>\n",
              "      <td>crash_helmet</td>\n",
              "      <td>0.757942</td>\n",
              "      <td>False</td>\n",
              "      <td>toaster</td>\n",
              "      <td>0.037497</td>\n",
              "      <td>False</td>\n",
              "      <td>mouse</td>\n",
              "      <td>0.027271</td>\n",
              "      <td>False</td>\n",
              "    </tr>\n",
              "    <tr>\n",
              "      <th>2049</th>\n",
              "      <td>887101392804085760</td>\n",
              "      <td>https://pbs.twimg.com/media/DE-eAq6UwAA-jaE.jpg</td>\n",
              "      <td>1</td>\n",
              "      <td>Samoyed</td>\n",
              "      <td>0.733942</td>\n",
              "      <td>True</td>\n",
              "      <td>Eskimo_dog</td>\n",
              "      <td>0.035029</td>\n",
              "      <td>True</td>\n",
              "      <td>Staffordshire_bullterrier</td>\n",
              "      <td>0.029705</td>\n",
              "      <td>True</td>\n",
              "    </tr>\n",
              "    <tr>\n",
              "      <th>1088</th>\n",
              "      <td>718971898235854848</td>\n",
              "      <td>https://pbs.twimg.com/media/CfpNGTHUIAAA8XC.jpg</td>\n",
              "      <td>1</td>\n",
              "      <td>golden_retriever</td>\n",
              "      <td>0.140394</td>\n",
              "      <td>True</td>\n",
              "      <td>Saint_Bernard</td>\n",
              "      <td>0.118769</td>\n",
              "      <td>True</td>\n",
              "      <td>Labrador_retriever</td>\n",
              "      <td>0.075492</td>\n",
              "      <td>True</td>\n",
              "    </tr>\n",
              "    <tr>\n",
              "      <th>253</th>\n",
              "      <td>670727704916926465</td>\n",
              "      <td>https://pbs.twimg.com/media/CU7nSZEW4AA6r5u.jpg</td>\n",
              "      <td>1</td>\n",
              "      <td>wood_rabbit</td>\n",
              "      <td>0.368562</td>\n",
              "      <td>False</td>\n",
              "      <td>tabby</td>\n",
              "      <td>0.309675</td>\n",
              "      <td>False</td>\n",
              "      <td>Egyptian_cat</td>\n",
              "      <td>0.154914</td>\n",
              "      <td>False</td>\n",
              "    </tr>\n",
              "    <tr>\n",
              "      <th>1388</th>\n",
              "      <td>766313316352462849</td>\n",
              "      <td>https://pbs.twimg.com/media/CqJ95SRWgAATPK_.jpg</td>\n",
              "      <td>1</td>\n",
              "      <td>toy_poodle</td>\n",
              "      <td>0.966896</td>\n",
              "      <td>True</td>\n",
              "      <td>miniature_poodle</td>\n",
              "      <td>0.016424</td>\n",
              "      <td>True</td>\n",
              "      <td>cocker_spaniel</td>\n",
              "      <td>0.010227</td>\n",
              "      <td>True</td>\n",
              "    </tr>\n",
              "  </tbody>\n",
              "</table>\n",
              "</div>"
            ],
            "text/plain": [
              "                tweet_id                                          jpg_url  \\\n",
              "143   668620235289837568  https://pbs.twimg.com/media/CUdqjvAWUAANfoU.jpg   \n",
              "2049  887101392804085760  https://pbs.twimg.com/media/DE-eAq6UwAA-jaE.jpg   \n",
              "1088  718971898235854848  https://pbs.twimg.com/media/CfpNGTHUIAAA8XC.jpg   \n",
              "253   670727704916926465  https://pbs.twimg.com/media/CU7nSZEW4AA6r5u.jpg   \n",
              "1388  766313316352462849  https://pbs.twimg.com/media/CqJ95SRWgAATPK_.jpg   \n",
              "\n",
              "      img_num                p1   p1_conf  p1_dog                p2   p2_conf  \\\n",
              "143         1      crash_helmet  0.757942   False           toaster  0.037497   \n",
              "2049        1           Samoyed  0.733942    True        Eskimo_dog  0.035029   \n",
              "1088        1  golden_retriever  0.140394    True     Saint_Bernard  0.118769   \n",
              "253         1       wood_rabbit  0.368562   False             tabby  0.309675   \n",
              "1388        1        toy_poodle  0.966896    True  miniature_poodle  0.016424   \n",
              "\n",
              "      p2_dog                         p3   p3_conf  p3_dog  \n",
              "143    False                      mouse  0.027271   False  \n",
              "2049    True  Staffordshire_bullterrier  0.029705    True  \n",
              "1088    True         Labrador_retriever  0.075492    True  \n",
              "253    False               Egyptian_cat  0.154914   False  \n",
              "1388    True             cocker_spaniel  0.010227    True  "
            ]
          },
          "metadata": {
            "tags": []
          },
          "execution_count": 203
        }
      ]
    },
    {
      "metadata": {
        "id": "hlAAfxGGZY0_",
        "colab_type": "code",
        "colab": {}
      },
      "cell_type": "code",
      "source": [
        "\"\"\"\n",
        "2.1.1 Code\n",
        "\"\"\"\n",
        "\n",
        "img_pred_df_p1 = img_pred_df_clean[['tweet_id', 'p1', 'p1_conf', 'p1_dog']].copy()\n",
        "img_pred_df_p1.columns = ['tweet_id', 'breed', 'prediction_confidence', 'is_canine']\n",
        "\n",
        "img_pred_df_p2 = img_pred_df_clean[['tweet_id', 'p2', 'p2_conf', 'p2_dog']].copy()\n",
        "img_pred_df_p2.columns = ['tweet_id', 'breed', 'prediction_confidence', 'is_canine']\n",
        "\n",
        "img_pred_df_p3 = img_pred_df_clean[['tweet_id', 'p3', 'p3_conf', 'p3_dog']].copy()\n",
        "img_pred_df_p3.columns = ['tweet_id', 'breed', 'prediction_confidence', 'is_canine']\n",
        "\n",
        "img_pred_df_breed = img_pred_df_p1.append(img_pred_df_p2.append(img_pred_df_p3)).copy()\n"
      ],
      "execution_count": 0,
      "outputs": []
    },
    {
      "metadata": {
        "id": "GfDLC2dwhje4",
        "colab_type": "code",
        "outputId": "35446cba-9e0a-42ac-9093-fa7410f23867",
        "colab": {
          "base_uri": "https://localhost:8080/",
          "height": 204
        }
      },
      "cell_type": "code",
      "source": [
        "\"\"\"\n",
        "2.1.1 Test\n",
        "\"\"\"\n",
        "\n",
        "img_pred_df_breed.sort_values(by = 'tweet_id').head(5)\n"
      ],
      "execution_count": 205,
      "outputs": [
        {
          "output_type": "execute_result",
          "data": {
            "text/html": [
              "<div>\n",
              "<style scoped>\n",
              "    .dataframe tbody tr th:only-of-type {\n",
              "        vertical-align: middle;\n",
              "    }\n",
              "\n",
              "    .dataframe tbody tr th {\n",
              "        vertical-align: top;\n",
              "    }\n",
              "\n",
              "    .dataframe thead th {\n",
              "        text-align: right;\n",
              "    }\n",
              "</style>\n",
              "<table border=\"1\" class=\"dataframe\">\n",
              "  <thead>\n",
              "    <tr style=\"text-align: right;\">\n",
              "      <th></th>\n",
              "      <th>tweet_id</th>\n",
              "      <th>breed</th>\n",
              "      <th>prediction_confidence</th>\n",
              "      <th>is_canine</th>\n",
              "    </tr>\n",
              "  </thead>\n",
              "  <tbody>\n",
              "    <tr>\n",
              "      <th>0</th>\n",
              "      <td>666020888022790149</td>\n",
              "      <td>Welsh_springer_spaniel</td>\n",
              "      <td>0.465074</td>\n",
              "      <td>True</td>\n",
              "    </tr>\n",
              "    <tr>\n",
              "      <th>0</th>\n",
              "      <td>666020888022790149</td>\n",
              "      <td>Shetland_sheepdog</td>\n",
              "      <td>0.061428</td>\n",
              "      <td>True</td>\n",
              "    </tr>\n",
              "    <tr>\n",
              "      <th>0</th>\n",
              "      <td>666020888022790149</td>\n",
              "      <td>collie</td>\n",
              "      <td>0.156665</td>\n",
              "      <td>True</td>\n",
              "    </tr>\n",
              "    <tr>\n",
              "      <th>1</th>\n",
              "      <td>666029285002620928</td>\n",
              "      <td>redbone</td>\n",
              "      <td>0.506826</td>\n",
              "      <td>True</td>\n",
              "    </tr>\n",
              "    <tr>\n",
              "      <th>1</th>\n",
              "      <td>666029285002620928</td>\n",
              "      <td>Rhodesian_ridgeback</td>\n",
              "      <td>0.072010</td>\n",
              "      <td>True</td>\n",
              "    </tr>\n",
              "  </tbody>\n",
              "</table>\n",
              "</div>"
            ],
            "text/plain": [
              "             tweet_id                   breed  prediction_confidence  \\\n",
              "0  666020888022790149  Welsh_springer_spaniel               0.465074   \n",
              "0  666020888022790149       Shetland_sheepdog               0.061428   \n",
              "0  666020888022790149                  collie               0.156665   \n",
              "1  666029285002620928                 redbone               0.506826   \n",
              "1  666029285002620928     Rhodesian_ridgeback               0.072010   \n",
              "\n",
              "   is_canine  \n",
              "0       True  \n",
              "0       True  \n",
              "0       True  \n",
              "1       True  \n",
              "1       True  "
            ]
          },
          "metadata": {
            "tags": []
          },
          "execution_count": 205
        }
      ]
    },
    {
      "metadata": {
        "id": "vBEKZVXsYIdx",
        "colab_type": "code",
        "outputId": "975876ad-c05b-4962-f8c7-19110c75ca8b",
        "colab": {
          "base_uri": "https://localhost:8080/",
          "height": 359
        }
      },
      "cell_type": "code",
      "source": [
        "\"\"\"\n",
        "2.2.1 Define  (image-predictions.tsv)\n",
        "Once we address the tidiness issue above and spin off the breed predictions to their own dataframe, we will eliminate all predictions where the \"is_canine\" flag is false. \n",
        "We will then pick the prediction with the highest percentage of confidence and retain them as the only breed predictions (assuming that each dog can be classified into a \n",
        "single breed) and drop the ones with lower prediction confidence scores\n",
        "\n",
        "\"\"\"\n",
        "img_pred_df_breed.sort_values(['tweet_id', 'prediction_confidence'], ascending = [True, False]).head(10)"
      ],
      "execution_count": 206,
      "outputs": [
        {
          "output_type": "execute_result",
          "data": {
            "text/html": [
              "<div>\n",
              "<style scoped>\n",
              "    .dataframe tbody tr th:only-of-type {\n",
              "        vertical-align: middle;\n",
              "    }\n",
              "\n",
              "    .dataframe tbody tr th {\n",
              "        vertical-align: top;\n",
              "    }\n",
              "\n",
              "    .dataframe thead th {\n",
              "        text-align: right;\n",
              "    }\n",
              "</style>\n",
              "<table border=\"1\" class=\"dataframe\">\n",
              "  <thead>\n",
              "    <tr style=\"text-align: right;\">\n",
              "      <th></th>\n",
              "      <th>tweet_id</th>\n",
              "      <th>breed</th>\n",
              "      <th>prediction_confidence</th>\n",
              "      <th>is_canine</th>\n",
              "    </tr>\n",
              "  </thead>\n",
              "  <tbody>\n",
              "    <tr>\n",
              "      <th>0</th>\n",
              "      <td>666020888022790149</td>\n",
              "      <td>Welsh_springer_spaniel</td>\n",
              "      <td>0.465074</td>\n",
              "      <td>True</td>\n",
              "    </tr>\n",
              "    <tr>\n",
              "      <th>0</th>\n",
              "      <td>666020888022790149</td>\n",
              "      <td>collie</td>\n",
              "      <td>0.156665</td>\n",
              "      <td>True</td>\n",
              "    </tr>\n",
              "    <tr>\n",
              "      <th>0</th>\n",
              "      <td>666020888022790149</td>\n",
              "      <td>Shetland_sheepdog</td>\n",
              "      <td>0.061428</td>\n",
              "      <td>True</td>\n",
              "    </tr>\n",
              "    <tr>\n",
              "      <th>1</th>\n",
              "      <td>666029285002620928</td>\n",
              "      <td>redbone</td>\n",
              "      <td>0.506826</td>\n",
              "      <td>True</td>\n",
              "    </tr>\n",
              "    <tr>\n",
              "      <th>1</th>\n",
              "      <td>666029285002620928</td>\n",
              "      <td>miniature_pinscher</td>\n",
              "      <td>0.074192</td>\n",
              "      <td>True</td>\n",
              "    </tr>\n",
              "    <tr>\n",
              "      <th>1</th>\n",
              "      <td>666029285002620928</td>\n",
              "      <td>Rhodesian_ridgeback</td>\n",
              "      <td>0.072010</td>\n",
              "      <td>True</td>\n",
              "    </tr>\n",
              "    <tr>\n",
              "      <th>2</th>\n",
              "      <td>666033412701032449</td>\n",
              "      <td>German_shepherd</td>\n",
              "      <td>0.596461</td>\n",
              "      <td>True</td>\n",
              "    </tr>\n",
              "    <tr>\n",
              "      <th>2</th>\n",
              "      <td>666033412701032449</td>\n",
              "      <td>malinois</td>\n",
              "      <td>0.138584</td>\n",
              "      <td>True</td>\n",
              "    </tr>\n",
              "    <tr>\n",
              "      <th>2</th>\n",
              "      <td>666033412701032449</td>\n",
              "      <td>bloodhound</td>\n",
              "      <td>0.116197</td>\n",
              "      <td>True</td>\n",
              "    </tr>\n",
              "    <tr>\n",
              "      <th>3</th>\n",
              "      <td>666044226329800704</td>\n",
              "      <td>Rhodesian_ridgeback</td>\n",
              "      <td>0.408143</td>\n",
              "      <td>True</td>\n",
              "    </tr>\n",
              "  </tbody>\n",
              "</table>\n",
              "</div>"
            ],
            "text/plain": [
              "             tweet_id                   breed  prediction_confidence  \\\n",
              "0  666020888022790149  Welsh_springer_spaniel               0.465074   \n",
              "0  666020888022790149                  collie               0.156665   \n",
              "0  666020888022790149       Shetland_sheepdog               0.061428   \n",
              "1  666029285002620928                 redbone               0.506826   \n",
              "1  666029285002620928      miniature_pinscher               0.074192   \n",
              "1  666029285002620928     Rhodesian_ridgeback               0.072010   \n",
              "2  666033412701032449         German_shepherd               0.596461   \n",
              "2  666033412701032449                malinois               0.138584   \n",
              "2  666033412701032449              bloodhound               0.116197   \n",
              "3  666044226329800704     Rhodesian_ridgeback               0.408143   \n",
              "\n",
              "   is_canine  \n",
              "0       True  \n",
              "0       True  \n",
              "0       True  \n",
              "1       True  \n",
              "1       True  \n",
              "1       True  \n",
              "2       True  \n",
              "2       True  \n",
              "2       True  \n",
              "3       True  "
            ]
          },
          "metadata": {
            "tags": []
          },
          "execution_count": 206
        }
      ]
    },
    {
      "metadata": {
        "id": "xqJxdX_Baq_4",
        "colab_type": "code",
        "colab": {}
      },
      "cell_type": "code",
      "source": [
        "\"\"\"\n",
        "2.2.1 Code\n",
        "\"\"\"\n",
        "img_pred_df_breed = img_pred_df_breed.query('is_canine')\n",
        "img_pred_df_breed = img_pred_df_breed[img_pred_df_breed.groupby(['tweet_id'])['prediction_confidence'].transform(max) == img_pred_df_breed['prediction_confidence']]\n"
      ],
      "execution_count": 0,
      "outputs": []
    },
    {
      "metadata": {
        "id": "oH3Ed8P8bhGq",
        "colab_type": "code",
        "colab": {}
      },
      "cell_type": "code",
      "source": [
        "\"\"\"\n",
        "2.2.1 Test\n",
        "\"\"\"\n",
        "assert img_pred_df_breed.groupby('tweet_id').filter(lambda x: len(x) > 1).shape[0] == 0"
      ],
      "execution_count": 0,
      "outputs": []
    },
    {
      "metadata": {
        "id": "sNLKLwrzcg26",
        "colab_type": "code",
        "outputId": "153cee35-198d-472c-b368-928e1e54dad4",
        "colab": {
          "base_uri": "https://localhost:8080/",
          "height": 204
        }
      },
      "cell_type": "code",
      "source": [
        "\"\"\"\n",
        "2.2.2 Define (image-predictions.tsv)\n",
        "We can then merge this dataset back to the original dataset\n",
        "\n",
        "\"\"\"\n",
        "img_pred_df_clean.head(5)"
      ],
      "execution_count": 209,
      "outputs": [
        {
          "output_type": "execute_result",
          "data": {
            "text/html": [
              "<div>\n",
              "<style scoped>\n",
              "    .dataframe tbody tr th:only-of-type {\n",
              "        vertical-align: middle;\n",
              "    }\n",
              "\n",
              "    .dataframe tbody tr th {\n",
              "        vertical-align: top;\n",
              "    }\n",
              "\n",
              "    .dataframe thead th {\n",
              "        text-align: right;\n",
              "    }\n",
              "</style>\n",
              "<table border=\"1\" class=\"dataframe\">\n",
              "  <thead>\n",
              "    <tr style=\"text-align: right;\">\n",
              "      <th></th>\n",
              "      <th>tweet_id</th>\n",
              "      <th>jpg_url</th>\n",
              "      <th>img_num</th>\n",
              "      <th>p1</th>\n",
              "      <th>p1_conf</th>\n",
              "      <th>p1_dog</th>\n",
              "      <th>p2</th>\n",
              "      <th>p2_conf</th>\n",
              "      <th>p2_dog</th>\n",
              "      <th>p3</th>\n",
              "      <th>p3_conf</th>\n",
              "      <th>p3_dog</th>\n",
              "    </tr>\n",
              "  </thead>\n",
              "  <tbody>\n",
              "    <tr>\n",
              "      <th>0</th>\n",
              "      <td>666020888022790149</td>\n",
              "      <td>https://pbs.twimg.com/media/CT4udn0WwAA0aMy.jpg</td>\n",
              "      <td>1</td>\n",
              "      <td>Welsh_springer_spaniel</td>\n",
              "      <td>0.465074</td>\n",
              "      <td>True</td>\n",
              "      <td>collie</td>\n",
              "      <td>0.156665</td>\n",
              "      <td>True</td>\n",
              "      <td>Shetland_sheepdog</td>\n",
              "      <td>0.061428</td>\n",
              "      <td>True</td>\n",
              "    </tr>\n",
              "    <tr>\n",
              "      <th>1</th>\n",
              "      <td>666029285002620928</td>\n",
              "      <td>https://pbs.twimg.com/media/CT42GRgUYAA5iDo.jpg</td>\n",
              "      <td>1</td>\n",
              "      <td>redbone</td>\n",
              "      <td>0.506826</td>\n",
              "      <td>True</td>\n",
              "      <td>miniature_pinscher</td>\n",
              "      <td>0.074192</td>\n",
              "      <td>True</td>\n",
              "      <td>Rhodesian_ridgeback</td>\n",
              "      <td>0.072010</td>\n",
              "      <td>True</td>\n",
              "    </tr>\n",
              "    <tr>\n",
              "      <th>2</th>\n",
              "      <td>666033412701032449</td>\n",
              "      <td>https://pbs.twimg.com/media/CT4521TWwAEvMyu.jpg</td>\n",
              "      <td>1</td>\n",
              "      <td>German_shepherd</td>\n",
              "      <td>0.596461</td>\n",
              "      <td>True</td>\n",
              "      <td>malinois</td>\n",
              "      <td>0.138584</td>\n",
              "      <td>True</td>\n",
              "      <td>bloodhound</td>\n",
              "      <td>0.116197</td>\n",
              "      <td>True</td>\n",
              "    </tr>\n",
              "    <tr>\n",
              "      <th>3</th>\n",
              "      <td>666044226329800704</td>\n",
              "      <td>https://pbs.twimg.com/media/CT5Dr8HUEAA-lEu.jpg</td>\n",
              "      <td>1</td>\n",
              "      <td>Rhodesian_ridgeback</td>\n",
              "      <td>0.408143</td>\n",
              "      <td>True</td>\n",
              "      <td>redbone</td>\n",
              "      <td>0.360687</td>\n",
              "      <td>True</td>\n",
              "      <td>miniature_pinscher</td>\n",
              "      <td>0.222752</td>\n",
              "      <td>True</td>\n",
              "    </tr>\n",
              "    <tr>\n",
              "      <th>4</th>\n",
              "      <td>666049248165822465</td>\n",
              "      <td>https://pbs.twimg.com/media/CT5IQmsXIAAKY4A.jpg</td>\n",
              "      <td>1</td>\n",
              "      <td>miniature_pinscher</td>\n",
              "      <td>0.560311</td>\n",
              "      <td>True</td>\n",
              "      <td>Rottweiler</td>\n",
              "      <td>0.243682</td>\n",
              "      <td>True</td>\n",
              "      <td>Doberman</td>\n",
              "      <td>0.154629</td>\n",
              "      <td>True</td>\n",
              "    </tr>\n",
              "  </tbody>\n",
              "</table>\n",
              "</div>"
            ],
            "text/plain": [
              "             tweet_id                                          jpg_url  \\\n",
              "0  666020888022790149  https://pbs.twimg.com/media/CT4udn0WwAA0aMy.jpg   \n",
              "1  666029285002620928  https://pbs.twimg.com/media/CT42GRgUYAA5iDo.jpg   \n",
              "2  666033412701032449  https://pbs.twimg.com/media/CT4521TWwAEvMyu.jpg   \n",
              "3  666044226329800704  https://pbs.twimg.com/media/CT5Dr8HUEAA-lEu.jpg   \n",
              "4  666049248165822465  https://pbs.twimg.com/media/CT5IQmsXIAAKY4A.jpg   \n",
              "\n",
              "   img_num                      p1   p1_conf  p1_dog                  p2  \\\n",
              "0        1  Welsh_springer_spaniel  0.465074    True              collie   \n",
              "1        1                 redbone  0.506826    True  miniature_pinscher   \n",
              "2        1         German_shepherd  0.596461    True            malinois   \n",
              "3        1     Rhodesian_ridgeback  0.408143    True             redbone   \n",
              "4        1      miniature_pinscher  0.560311    True          Rottweiler   \n",
              "\n",
              "    p2_conf  p2_dog                   p3   p3_conf  p3_dog  \n",
              "0  0.156665    True    Shetland_sheepdog  0.061428    True  \n",
              "1  0.074192    True  Rhodesian_ridgeback  0.072010    True  \n",
              "2  0.138584    True           bloodhound  0.116197    True  \n",
              "3  0.360687    True   miniature_pinscher  0.222752    True  \n",
              "4  0.243682    True             Doberman  0.154629    True  "
            ]
          },
          "metadata": {
            "tags": []
          },
          "execution_count": 209
        }
      ]
    },
    {
      "metadata": {
        "id": "K-kndDTBc-BF",
        "colab_type": "code",
        "colab": {}
      },
      "cell_type": "code",
      "source": [
        "\"\"\"\n",
        "2.2.2 Code\n",
        "\"\"\"\n",
        "\n",
        "img_pred_df_clean = img_pred_df_clean.merge(img_pred_df_breed, on = 'tweet_id', how = 'left')"
      ],
      "execution_count": 0,
      "outputs": []
    },
    {
      "metadata": {
        "id": "OO8lEwPreK7-",
        "colab_type": "code",
        "outputId": "235d29d8-6319-4c29-ebbc-9ddd799f0be5",
        "colab": {
          "base_uri": "https://localhost:8080/",
          "height": 272
        }
      },
      "cell_type": "code",
      "source": [
        "\"\"\"\n",
        "2.2.2 Test\n",
        "\"\"\"\n",
        "# assert set(['breed', 'prediction_confidence', 'is_canine']).issubset(img_pred_df_clean.columns)\n",
        "list(img_pred_df_clean)"
      ],
      "execution_count": 211,
      "outputs": [
        {
          "output_type": "execute_result",
          "data": {
            "text/plain": [
              "['tweet_id',\n",
              " 'jpg_url',\n",
              " 'img_num',\n",
              " 'p1',\n",
              " 'p1_conf',\n",
              " 'p1_dog',\n",
              " 'p2',\n",
              " 'p2_conf',\n",
              " 'p2_dog',\n",
              " 'p3',\n",
              " 'p3_conf',\n",
              " 'p3_dog',\n",
              " 'breed',\n",
              " 'prediction_confidence',\n",
              " 'is_canine']"
            ]
          },
          "metadata": {
            "tags": []
          },
          "execution_count": 211
        }
      ]
    },
    {
      "metadata": {
        "id": "TSdXAhCBiCeR",
        "colab_type": "code",
        "colab": {}
      },
      "cell_type": "code",
      "source": [
        "\"\"\"\n",
        "2.2.3 Define (image-predictions.tsv)\n",
        "After merging, we will drop the following columns as they are no longer needed:\n",
        "\n",
        "* jpg_url (we have obtained the media_url using the Twitter API and we will retain that in case it needs to be used)\n",
        "* img_num (don't see how this information will be useful)\n",
        "* p1\n",
        "* p1_conf\n",
        "* p1_dog\n",
        "* p2\n",
        "* p2_conf\n",
        "* p2_dog\n",
        "* p3\n",
        "* p3_conf\n",
        "* p3_dog\n",
        "\n",
        "\"\"\"\n",
        "\n",
        "img_pred_df_clean_dropped_columns = ['jpg_url', 'img_num', 'p1', 'p1_conf', 'p1_dog', 'p2', 'p2_conf', 'p2_dog', 'p3', 'p3_conf', 'p3_dog', 'is_canine']"
      ],
      "execution_count": 0,
      "outputs": []
    },
    {
      "metadata": {
        "id": "vapLrci0jTZ_",
        "colab_type": "code",
        "colab": {}
      },
      "cell_type": "code",
      "source": [
        "\"\"\"\n",
        "2.2.3 Code\n",
        "\"\"\"\n",
        "img_pred_df_clean.drop(img_pred_df_clean_dropped_columns, axis = 1, inplace = True)"
      ],
      "execution_count": 0,
      "outputs": []
    },
    {
      "metadata": {
        "id": "5YXps3Sgjrl6",
        "colab_type": "code",
        "colab": {
          "base_uri": "https://localhost:8080/",
          "height": 204
        },
        "outputId": "e95c81df-8096-4ab9-a96e-272d0d0b1723"
      },
      "cell_type": "code",
      "source": [
        "\"\"\"\n",
        "2.2.3 Test\n",
        "\"\"\"\n",
        "\n",
        "assert not set(img_pred_df_clean_dropped_columns).issubset(img_pred_df_clean.columns)\n",
        "img_pred_df_clean.head()"
      ],
      "execution_count": 214,
      "outputs": [
        {
          "output_type": "execute_result",
          "data": {
            "text/html": [
              "<div>\n",
              "<style scoped>\n",
              "    .dataframe tbody tr th:only-of-type {\n",
              "        vertical-align: middle;\n",
              "    }\n",
              "\n",
              "    .dataframe tbody tr th {\n",
              "        vertical-align: top;\n",
              "    }\n",
              "\n",
              "    .dataframe thead th {\n",
              "        text-align: right;\n",
              "    }\n",
              "</style>\n",
              "<table border=\"1\" class=\"dataframe\">\n",
              "  <thead>\n",
              "    <tr style=\"text-align: right;\">\n",
              "      <th></th>\n",
              "      <th>tweet_id</th>\n",
              "      <th>breed</th>\n",
              "      <th>prediction_confidence</th>\n",
              "    </tr>\n",
              "  </thead>\n",
              "  <tbody>\n",
              "    <tr>\n",
              "      <th>0</th>\n",
              "      <td>666020888022790149</td>\n",
              "      <td>Welsh_springer_spaniel</td>\n",
              "      <td>0.465074</td>\n",
              "    </tr>\n",
              "    <tr>\n",
              "      <th>1</th>\n",
              "      <td>666029285002620928</td>\n",
              "      <td>redbone</td>\n",
              "      <td>0.506826</td>\n",
              "    </tr>\n",
              "    <tr>\n",
              "      <th>2</th>\n",
              "      <td>666033412701032449</td>\n",
              "      <td>German_shepherd</td>\n",
              "      <td>0.596461</td>\n",
              "    </tr>\n",
              "    <tr>\n",
              "      <th>3</th>\n",
              "      <td>666044226329800704</td>\n",
              "      <td>Rhodesian_ridgeback</td>\n",
              "      <td>0.408143</td>\n",
              "    </tr>\n",
              "    <tr>\n",
              "      <th>4</th>\n",
              "      <td>666049248165822465</td>\n",
              "      <td>miniature_pinscher</td>\n",
              "      <td>0.560311</td>\n",
              "    </tr>\n",
              "  </tbody>\n",
              "</table>\n",
              "</div>"
            ],
            "text/plain": [
              "             tweet_id                   breed  prediction_confidence\n",
              "0  666020888022790149  Welsh_springer_spaniel               0.465074\n",
              "1  666029285002620928                 redbone               0.506826\n",
              "2  666033412701032449         German_shepherd               0.596461\n",
              "3  666044226329800704     Rhodesian_ridgeback               0.408143\n",
              "4  666049248165822465      miniature_pinscher               0.560311"
            ]
          },
          "metadata": {
            "tags": []
          },
          "execution_count": 214
        }
      ]
    },
    {
      "metadata": {
        "id": "UCAwagUDj9dG",
        "colab_type": "code",
        "colab": {
          "base_uri": "https://localhost:8080/",
          "height": 204
        },
        "outputId": "309ec0a1-3ce3-418d-9ff9-664c9f06a73d"
      },
      "cell_type": "code",
      "source": [
        "\"\"\"\n",
        "3.1.1 Define (tweets_mini_df)\n",
        "We need to drop all the tweets in this dataset that were originally marked as retweets in the \"twitter-archive-enhanced\" dataset as we are only interested in original tweets\n",
        "\"\"\"\n",
        "\n",
        "tweets_mini_df_clean = tweets_mini_df.copy()\n",
        "\n",
        "retweets = tweets_df[tweets_df['retweeted_status_id'].notnull()]['tweet_id'].to_frame(name = 'tweet_id')\n",
        "retweets.head()"
      ],
      "execution_count": 215,
      "outputs": [
        {
          "output_type": "execute_result",
          "data": {
            "text/html": [
              "<div>\n",
              "<style scoped>\n",
              "    .dataframe tbody tr th:only-of-type {\n",
              "        vertical-align: middle;\n",
              "    }\n",
              "\n",
              "    .dataframe tbody tr th {\n",
              "        vertical-align: top;\n",
              "    }\n",
              "\n",
              "    .dataframe thead th {\n",
              "        text-align: right;\n",
              "    }\n",
              "</style>\n",
              "<table border=\"1\" class=\"dataframe\">\n",
              "  <thead>\n",
              "    <tr style=\"text-align: right;\">\n",
              "      <th></th>\n",
              "      <th>tweet_id</th>\n",
              "    </tr>\n",
              "  </thead>\n",
              "  <tbody>\n",
              "    <tr>\n",
              "      <th>19</th>\n",
              "      <td>888202515573088257</td>\n",
              "    </tr>\n",
              "    <tr>\n",
              "      <th>32</th>\n",
              "      <td>886054160059072513</td>\n",
              "    </tr>\n",
              "    <tr>\n",
              "      <th>36</th>\n",
              "      <td>885311592912609280</td>\n",
              "    </tr>\n",
              "    <tr>\n",
              "      <th>68</th>\n",
              "      <td>879130579576475649</td>\n",
              "    </tr>\n",
              "    <tr>\n",
              "      <th>73</th>\n",
              "      <td>878404777348136964</td>\n",
              "    </tr>\n",
              "  </tbody>\n",
              "</table>\n",
              "</div>"
            ],
            "text/plain": [
              "              tweet_id\n",
              "19  888202515573088257\n",
              "32  886054160059072513\n",
              "36  885311592912609280\n",
              "68  879130579576475649\n",
              "73  878404777348136964"
            ]
          },
          "metadata": {
            "tags": []
          },
          "execution_count": 215
        }
      ]
    },
    {
      "metadata": {
        "id": "Uo-ervsFlKqd",
        "colab_type": "code",
        "colab": {}
      },
      "cell_type": "code",
      "source": [
        "\"\"\"\n",
        "3.1.1 Code\n",
        "\"\"\"\n",
        "\n",
        "tweets_mini_df_clean = tweets_mini_df_clean.merge(retweets, on = 'tweet_id', how = 'left', indicator = True)\n",
        "tweets_mini_df_clean.drop(tweets_mini_df_clean.query('_merge == \"both\"').index, inplace = True)\n",
        "tweets_mini_df_clean.drop(['_merge'], axis = 1, inplace = True)\n"
      ],
      "execution_count": 0,
      "outputs": []
    },
    {
      "metadata": {
        "id": "h4fABmB6sB1c",
        "colab_type": "code",
        "colab": {
          "base_uri": "https://localhost:8080/",
          "height": 49
        },
        "outputId": "792582f7-0ce5-4f18-fda5-07adb4d130f0"
      },
      "cell_type": "code",
      "source": [
        "\"\"\"\n",
        "3.1.1 Test\n",
        "\"\"\"\n",
        "\n",
        "tweets_mini_df_clean.merge(retweets, on = 'tweet_id', how = 'inner')"
      ],
      "execution_count": 217,
      "outputs": [
        {
          "output_type": "execute_result",
          "data": {
            "text/html": [
              "<div>\n",
              "<style scoped>\n",
              "    .dataframe tbody tr th:only-of-type {\n",
              "        vertical-align: middle;\n",
              "    }\n",
              "\n",
              "    .dataframe tbody tr th {\n",
              "        vertical-align: top;\n",
              "    }\n",
              "\n",
              "    .dataframe thead th {\n",
              "        text-align: right;\n",
              "    }\n",
              "</style>\n",
              "<table border=\"1\" class=\"dataframe\">\n",
              "  <thead>\n",
              "    <tr style=\"text-align: right;\">\n",
              "      <th></th>\n",
              "      <th>tweet_id</th>\n",
              "      <th>text</th>\n",
              "      <th>retweet_count</th>\n",
              "      <th>favorite_count</th>\n",
              "      <th>retweeted</th>\n",
              "      <th>favorited</th>\n",
              "      <th>media_url</th>\n",
              "    </tr>\n",
              "  </thead>\n",
              "  <tbody>\n",
              "  </tbody>\n",
              "</table>\n",
              "</div>"
            ],
            "text/plain": [
              "Empty DataFrame\n",
              "Columns: [tweet_id, text, retweet_count, favorite_count, retweeted, favorited, media_url]\n",
              "Index: []"
            ]
          },
          "metadata": {
            "tags": []
          },
          "execution_count": 217
        }
      ]
    },
    {
      "metadata": {
        "id": "naE039ZR78bP",
        "colab_type": "code",
        "colab": {}
      },
      "cell_type": "code",
      "source": [
        "\"\"\"\n",
        "3.1.2 Define\n",
        "We will also drop the \"text\", \"retweeted\" and \"favorited\" columns as we no longer need this (3.1.2)\n",
        "\"\"\"\n",
        "tweets_mini_df_drop_cols = ['text', 'retweeted', 'favorited']"
      ],
      "execution_count": 0,
      "outputs": []
    },
    {
      "metadata": {
        "id": "LKrLnaFI8sdl",
        "colab_type": "code",
        "colab": {}
      },
      "cell_type": "code",
      "source": [
        "\"\"\"\n",
        "3.1.2 Code\n",
        "\"\"\"\n",
        "\n",
        "tweets_mini_df_clean.drop(tweets_mini_df_drop_cols, axis = 1, inplace = True)"
      ],
      "execution_count": 0,
      "outputs": []
    },
    {
      "metadata": {
        "id": "WD-3pLfi84ZO",
        "colab_type": "code",
        "colab": {}
      },
      "cell_type": "code",
      "source": [
        "\"\"\"\n",
        "3.1.2. Test\n",
        "\"\"\"\n",
        "assert not set(tweets_mini_df_drop_cols).issubset(tweets_mini_df_clean.columns)"
      ],
      "execution_count": 0,
      "outputs": []
    },
    {
      "metadata": {
        "id": "a8ixccQYz-hP",
        "colab_type": "code",
        "colab": {
          "base_uri": "https://localhost:8080/",
          "height": 54
        },
        "outputId": "6d9f499f-9d72-4eaa-d599-664d26b3dc7f"
      },
      "cell_type": "code",
      "source": [
        "\"\"\"\n",
        "4. Define\n",
        "\n",
        "Having addressed the data quality and tidiness issues at the level of individual datasets, \n",
        "we can now merge the data in these datasets into one. Since the data granularity in each \n",
        "of these datasets is at the \"tweet_id\" level, we will use it to combine the data into a \n",
        "single dataset and persist it to a file called \"twitter_archive_master.csv\". \n",
        "\n",
        "We will use \"inner joins\" to merge these datasets thus eliminating any rows for whcih \n",
        "no valid information is available online. For example, there are 17 tweet ids in the \n",
        "original \"twitter-archive-enhanced\" dataset for which the Twitter API returned errors \n",
        "and these will be eliminated during the merging process.\n",
        "\n",
        "Inputs:\n",
        " - tweets_df_clean\n",
        " - img_pred_df_clean\n",
        " - tweets_mini_df_clean\n",
        "\n",
        "Merged into:\n",
        " - twitter_archive_master_df\n",
        " \n",
        "Additional files:\n",
        " - Since dog stages seem to have a one-to-many relationship with tweets, they will be \n",
        "   stored in their own file\n",
        "\n",
        "\"\"\"\n"
      ],
      "execution_count": 221,
      "outputs": [
        {
          "output_type": "execute_result",
          "data": {
            "text/plain": [
              "'\\n4. Define\\n\\nHaving addressed the data quality and tidiness issues at the level of individual datasets, \\nwe can now merge the data in these datasets into one. Since the data granularity in each \\nof these datasets is at the \"tweet_id\" level, we will use it to combine the data into a \\nsingle dataset and persist it to a file called \"twitter_archive_master.csv\". \\n\\nWe will use \"inner joins\" to merge these datasets thus eliminating any rows for whcih \\nno valid information is available online. For example, there are 17 tweet ids in the \\noriginal \"twitter-archive-enhanced\" dataset for which the Twitter API returned errors \\nand these will be eliminated during the merging process.\\n\\nInputs:\\n - tweets_df_clean\\n - img_pred_df_clean\\n - tweets_mini_df_clean\\n\\nMerged into:\\n - twitter_archive_master_df\\n \\nAdditional files:\\n - Since dog stages seem to have a one-to-many relationship with tweets, they will be \\n   stored in their own file\\n\\n'"
            ]
          },
          "metadata": {
            "tags": []
          },
          "execution_count": 221
        }
      ]
    },
    {
      "metadata": {
        "id": "Fprn2jow6gNN",
        "colab_type": "code",
        "colab": {}
      },
      "cell_type": "code",
      "source": [
        "\"\"\"\n",
        "4. Code\n",
        "\"\"\"\n",
        "twitter_archive_master_df = tweets_df_clean.merge(img_pred_df_clean, on = 'tweet_id', how = 'inner').merge(tweets_mini_df_clean, on = 'tweet_id', how = 'inner')\n"
      ],
      "execution_count": 0,
      "outputs": []
    },
    {
      "metadata": {
        "id": "TJRu6LaD9qUb",
        "colab_type": "code",
        "colab": {
          "base_uri": "https://localhost:8080/",
          "height": 581
        },
        "outputId": "14f81204-7ed9-4570-80b5-0489d5c8a2a6"
      },
      "cell_type": "code",
      "source": [
        "\"\"\"\n",
        "4. Test\n",
        "\"\"\"\n",
        "\n",
        "twitter_archive_master_df.head()"
      ],
      "execution_count": 234,
      "outputs": [
        {
          "output_type": "execute_result",
          "data": {
            "text/html": [
              "<div>\n",
              "<style scoped>\n",
              "    .dataframe tbody tr th:only-of-type {\n",
              "        vertical-align: middle;\n",
              "    }\n",
              "\n",
              "    .dataframe tbody tr th {\n",
              "        vertical-align: top;\n",
              "    }\n",
              "\n",
              "    .dataframe thead th {\n",
              "        text-align: right;\n",
              "    }\n",
              "</style>\n",
              "<table border=\"1\" class=\"dataframe\">\n",
              "  <thead>\n",
              "    <tr style=\"text-align: right;\">\n",
              "      <th></th>\n",
              "      <th>tweet_id</th>\n",
              "      <th>timestamp</th>\n",
              "      <th>source</th>\n",
              "      <th>text</th>\n",
              "      <th>rating_numerator</th>\n",
              "      <th>rating_denominator</th>\n",
              "      <th>name</th>\n",
              "      <th>breed</th>\n",
              "      <th>prediction_confidence</th>\n",
              "      <th>retweet_count</th>\n",
              "      <th>favorite_count</th>\n",
              "      <th>media_url</th>\n",
              "    </tr>\n",
              "  </thead>\n",
              "  <tbody>\n",
              "    <tr>\n",
              "      <th>0</th>\n",
              "      <td>891815181378084864</td>\n",
              "      <td>2017-07-31 00:18:03</td>\n",
              "      <td>&lt;a href=\"http://twitter.com/download/iphone\" r...</td>\n",
              "      <td>This is Archie. He is a rare Norwegian Pouncin...</td>\n",
              "      <td>12</td>\n",
              "      <td>10</td>\n",
              "      <td>Archie</td>\n",
              "      <td>Chihuahua</td>\n",
              "      <td>0.716012</td>\n",
              "      <td>4023</td>\n",
              "      <td>24408</td>\n",
              "      <td></td>\n",
              "    </tr>\n",
              "    <tr>\n",
              "      <th>1</th>\n",
              "      <td>891689557279858688</td>\n",
              "      <td>2017-07-30 15:58:51</td>\n",
              "      <td>&lt;a href=\"http://twitter.com/download/iphone\" r...</td>\n",
              "      <td>This is Darla. She commenced a snooze mid meal...</td>\n",
              "      <td>13</td>\n",
              "      <td>10</td>\n",
              "      <td>Darla</td>\n",
              "      <td>Labrador_retriever</td>\n",
              "      <td>0.168086</td>\n",
              "      <td>8369</td>\n",
              "      <td>41060</td>\n",
              "      <td>https://pbs.twimg.com/media/DF_q7IAWsAEuuN8.jpg</td>\n",
              "    </tr>\n",
              "    <tr>\n",
              "      <th>2</th>\n",
              "      <td>891327558926688256</td>\n",
              "      <td>2017-07-29 16:00:24</td>\n",
              "      <td>&lt;a href=\"http://twitter.com/download/iphone\" r...</td>\n",
              "      <td>This is Franklin. He would like you to stop ca...</td>\n",
              "      <td>12</td>\n",
              "      <td>10</td>\n",
              "      <td>Franklin</td>\n",
              "      <td>basset</td>\n",
              "      <td>0.555712</td>\n",
              "      <td>9082</td>\n",
              "      <td>39252</td>\n",
              "      <td></td>\n",
              "    </tr>\n",
              "    <tr>\n",
              "      <th>3</th>\n",
              "      <td>891087950875897856</td>\n",
              "      <td>2017-07-29 00:08:17</td>\n",
              "      <td>&lt;a href=\"http://twitter.com/download/iphone\" r...</td>\n",
              "      <td>Here we have a majestic great white breaching ...</td>\n",
              "      <td>13</td>\n",
              "      <td>10</td>\n",
              "      <td>None</td>\n",
              "      <td>Chesapeake_Bay_retriever</td>\n",
              "      <td>0.425595</td>\n",
              "      <td>3008</td>\n",
              "      <td>19740</td>\n",
              "      <td></td>\n",
              "    </tr>\n",
              "    <tr>\n",
              "      <th>4</th>\n",
              "      <td>890971913173991426</td>\n",
              "      <td>2017-07-28 16:27:12</td>\n",
              "      <td>&lt;a href=\"http://twitter.com/download/iphone\" r...</td>\n",
              "      <td>Meet Jax. He enjoys ice cream so much he gets ...</td>\n",
              "      <td>13</td>\n",
              "      <td>10</td>\n",
              "      <td>Jax</td>\n",
              "      <td>Appenzeller</td>\n",
              "      <td>0.341703</td>\n",
              "      <td>1991</td>\n",
              "      <td>11543</td>\n",
              "      <td></td>\n",
              "    </tr>\n",
              "  </tbody>\n",
              "</table>\n",
              "</div>"
            ],
            "text/plain": [
              "             tweet_id           timestamp  \\\n",
              "0  891815181378084864 2017-07-31 00:18:03   \n",
              "1  891689557279858688 2017-07-30 15:58:51   \n",
              "2  891327558926688256 2017-07-29 16:00:24   \n",
              "3  891087950875897856 2017-07-29 00:08:17   \n",
              "4  890971913173991426 2017-07-28 16:27:12   \n",
              "\n",
              "                                              source  \\\n",
              "0  <a href=\"http://twitter.com/download/iphone\" r...   \n",
              "1  <a href=\"http://twitter.com/download/iphone\" r...   \n",
              "2  <a href=\"http://twitter.com/download/iphone\" r...   \n",
              "3  <a href=\"http://twitter.com/download/iphone\" r...   \n",
              "4  <a href=\"http://twitter.com/download/iphone\" r...   \n",
              "\n",
              "                                                text  rating_numerator  \\\n",
              "0  This is Archie. He is a rare Norwegian Pouncin...                12   \n",
              "1  This is Darla. She commenced a snooze mid meal...                13   \n",
              "2  This is Franklin. He would like you to stop ca...                12   \n",
              "3  Here we have a majestic great white breaching ...                13   \n",
              "4  Meet Jax. He enjoys ice cream so much he gets ...                13   \n",
              "\n",
              "   rating_denominator      name                     breed  \\\n",
              "0                  10    Archie                 Chihuahua   \n",
              "1                  10     Darla        Labrador_retriever   \n",
              "2                  10  Franklin                    basset   \n",
              "3                  10      None  Chesapeake_Bay_retriever   \n",
              "4                  10       Jax               Appenzeller   \n",
              "\n",
              "   prediction_confidence retweet_count favorite_count  \\\n",
              "0               0.716012          4023          24408   \n",
              "1               0.168086          8369          41060   \n",
              "2               0.555712          9082          39252   \n",
              "3               0.425595          3008          19740   \n",
              "4               0.341703          1991          11543   \n",
              "\n",
              "                                         media_url  \n",
              "0                                                   \n",
              "1  https://pbs.twimg.com/media/DF_q7IAWsAEuuN8.jpg  \n",
              "2                                                   \n",
              "3                                                   \n",
              "4                                                   "
            ]
          },
          "metadata": {
            "tags": []
          },
          "execution_count": 234
        }
      ]
    },
    {
      "metadata": {
        "id": "n5l5ttO09zrn",
        "colab_type": "code",
        "colab": {}
      },
      "cell_type": "code",
      "source": [
        "# Write the dataframes to files\n",
        "twitter_archive_master_df.to_csv(twitter_archive_master_file)\n"
      ],
      "execution_count": 0,
      "outputs": []
    },
    {
      "metadata": {
        "id": "ByUD2LXr-y3k",
        "colab_type": "code",
        "colab": {}
      },
      "cell_type": "code",
      "source": [
        "assert os.path.isfile(twitter_archive_master_file)"
      ],
      "execution_count": 0,
      "outputs": []
    },
    {
      "metadata": {
        "id": "wmb3CJOs_CbW",
        "colab_type": "code",
        "colab": {}
      },
      "cell_type": "code",
      "source": [
        "dog_stage_df.to_csv(dog_stage_file)\n"
      ],
      "execution_count": 0,
      "outputs": []
    },
    {
      "metadata": {
        "id": "MAK5dslp_GlG",
        "colab_type": "code",
        "colab": {}
      },
      "cell_type": "code",
      "source": [
        "assert os.path.isfile(dog_stage_file)"
      ],
      "execution_count": 0,
      "outputs": []
    }
  ]
}