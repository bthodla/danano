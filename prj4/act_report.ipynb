{
  "nbformat": 4,
  "nbformat_minor": 0,
  "metadata": {
    "colab": {
      "name": "act_report.ipynb",
      "version": "0.3.2",
      "provenance": [],
      "collapsed_sections": [],
      "include_colab_link": true
    },
    "kernelspec": {
      "name": "python3",
      "display_name": "Python 3"
    }
  },
  "cells": [
    {
      "cell_type": "markdown",
      "metadata": {
        "id": "view-in-github",
        "colab_type": "text"
      },
      "source": [
        "<a href=\"https://colab.research.google.com/github/bthodla/danano/blob/master/prj4/act_report.ipynb\" target=\"_parent\"><img src=\"https://colab.research.google.com/assets/colab-badge.svg\" alt=\"Open In Colab\"/></a>"
      ]
    },
    {
      "metadata": {
        "id": "8yZAnLe9sHWI",
        "colab_type": "text"
      },
      "cell_type": "markdown",
      "source": [
        "The data that we put together in the \"wrangle_act.ipynb\" notebook provides some interesting possibilities for insights. For example:\n",
        "\n",
        "1. Top 10 tweets by Retweet counts (Bar Chart)\n",
        "2. Highest rated dogs by rating_numerator (Bar Chart)\n",
        "3. Relationship between Rating and Retweet counts (Scatter Plot)\n",
        "4. Retweets by dog stages (Pie Chart)\n",
        "5. Most popular breeds by Tweet counts (Bar Chart)\n",
        "6. Most popular breeds by Retweet counts (Bar Chart)\n",
        "7. Tweet count time graph by month (Trend Line)\n",
        "\n",
        "In the following sections, I am going to provide this information both as a table and as a chart of some kind."
      ]
    },
    {
      "metadata": {
        "id": "ub2CzSHNMhoH",
        "colab_type": "code",
        "colab": {}
      },
      "cell_type": "code",
      "source": [
        "# Import the necessary libraries\n",
        "import pandas as pd\n",
        "import numpy as np\n",
        "from google.colab import drive\n",
        "import matplotlib.pyplot as plt\n",
        "import matplotlib.image as mpimg\n",
        "import seaborn as sns\n",
        "% matplotlib inline\n",
        "\n",
        "\n",
        "# To supporess high integer values from being returned in exponential format\n",
        "pd.options.display.float_format = '{:20,.2f}'.format"
      ],
      "execution_count": 0,
      "outputs": []
    },
    {
      "metadata": {
        "id": "09T9CchoMweH",
        "colab_type": "code",
        "colab": {
          "base_uri": "https://localhost:8080/",
          "height": 34
        },
        "outputId": "57c2c4b5-bfa0-4ed4-efb8-82a3221cbaab"
      },
      "cell_type": "code",
      "source": [
        "# First, let us load the data that we saved into files earlier into dataframes\n",
        "drive.mount('/content/gdrive')\n",
        "twitter_archive_master_file = '/content/gdrive/My Drive/Colab Notebooks/twitter_archive_master.csv'\n",
        "dog_stage_file = '/content/gdrive/My Drive/Colab Notebooks/dog_stage.csv'\n",
        "\n",
        "twitter_archive_master_df = pd.read_csv(twitter_archive_master_file)\n",
        "dog_stage_df = pd.read_csv(dog_stage_file)"
      ],
      "execution_count": 2,
      "outputs": [
        {
          "output_type": "stream",
          "text": [
            "Drive already mounted at /content/gdrive; to attempt to forcibly remount, call drive.mount(\"/content/gdrive\", force_remount=True).\n"
          ],
          "name": "stdout"
        }
      ]
    },
    {
      "metadata": {
        "id": "3oXwx1xEN4hn",
        "colab_type": "code",
        "colab": {
          "base_uri": "https://localhost:8080/",
          "height": 323
        },
        "outputId": "4af4467b-0110-4926-f87d-38180e12afc7"
      },
      "cell_type": "code",
      "source": [
        "twitter_archive_master_df.info()"
      ],
      "execution_count": 4,
      "outputs": [
        {
          "output_type": "stream",
          "text": [
            "<class 'pandas.core.frame.DataFrame'>\n",
            "RangeIndex: 1989 entries, 0 to 1988\n",
            "Data columns (total 13 columns):\n",
            "Unnamed: 0               1989 non-null int64\n",
            "tweet_id                 1989 non-null int64\n",
            "timestamp                1989 non-null object\n",
            "source                   1989 non-null object\n",
            "text                     1989 non-null object\n",
            "rating_numerator         1989 non-null int64\n",
            "rating_denominator       1989 non-null int64\n",
            "name                     1989 non-null object\n",
            "breed                    1682 non-null object\n",
            "prediction_confidence    1682 non-null float64\n",
            "retweet_count            1989 non-null int64\n",
            "favorite_count           1989 non-null int64\n",
            "media_url                1746 non-null object\n",
            "dtypes: float64(1), int64(6), object(6)\n",
            "memory usage: 202.1+ KB\n"
          ],
          "name": "stdout"
        }
      ]
    },
    {
      "metadata": {
        "id": "IU3Vi0nhOvVt",
        "colab_type": "code",
        "colab": {
          "base_uri": "https://localhost:8080/",
          "height": 153
        },
        "outputId": "770a6698-8c7a-49e6-9df1-fbe5663e602c"
      },
      "cell_type": "code",
      "source": [
        "dog_stage_df.info()"
      ],
      "execution_count": 14,
      "outputs": [
        {
          "output_type": "stream",
          "text": [
            "<class 'pandas.core.frame.DataFrame'>\n",
            "RangeIndex: 356 entries, 0 to 355\n",
            "Data columns (total 3 columns):\n",
            "Unnamed: 0    356 non-null int64\n",
            "tweet_id      356 non-null int64\n",
            "dog_stage     356 non-null object\n",
            "dtypes: int64(2), object(1)\n",
            "memory usage: 8.4+ KB\n"
          ],
          "name": "stdout"
        }
      ]
    },
    {
      "metadata": {
        "id": "g3W-jai5ojC4",
        "colab_type": "code",
        "outputId": "8e27a43b-9c68-419f-ee21-bb3f7b6e81bc",
        "colab": {
          "base_uri": "https://localhost:8080/",
          "height": 359
        }
      },
      "cell_type": "code",
      "source": [
        "# 1. Top 10 tweets by Retweet counts\n",
        "top10_tweets_by_retweets = twitter_archive_master_df[['tweet_id', 'text', 'name', 'breed', 'retweet_count']].sort_values(by = 'retweet_count', ascending = False).head(10)\n",
        "\n",
        "top10_tweets_by_retweets\n"
      ],
      "execution_count": 51,
      "outputs": [
        {
          "output_type": "execute_result",
          "data": {
            "text/html": [
              "<div>\n",
              "<style scoped>\n",
              "    .dataframe tbody tr th:only-of-type {\n",
              "        vertical-align: middle;\n",
              "    }\n",
              "\n",
              "    .dataframe tbody tr th {\n",
              "        vertical-align: top;\n",
              "    }\n",
              "\n",
              "    .dataframe thead th {\n",
              "        text-align: right;\n",
              "    }\n",
              "</style>\n",
              "<table border=\"1\" class=\"dataframe\">\n",
              "  <thead>\n",
              "    <tr style=\"text-align: right;\">\n",
              "      <th></th>\n",
              "      <th>tweet_id</th>\n",
              "      <th>text</th>\n",
              "      <th>name</th>\n",
              "      <th>breed</th>\n",
              "      <th>retweet_count</th>\n",
              "    </tr>\n",
              "  </thead>\n",
              "  <tbody>\n",
              "    <tr>\n",
              "      <th>771</th>\n",
              "      <td>744234799360020481</td>\n",
              "      <td>Here's a doggo realizing you can stand in a po...</td>\n",
              "      <td>None</td>\n",
              "      <td>Labrador_retriever</td>\n",
              "      <td>82878</td>\n",
              "    </tr>\n",
              "    <tr>\n",
              "      <th>806</th>\n",
              "      <td>739238157791694849</td>\n",
              "      <td>Here's a doggo blowing bubbles. It's downright...</td>\n",
              "      <td>None</td>\n",
              "      <td>Eskimo_dog</td>\n",
              "      <td>61372</td>\n",
              "    </tr>\n",
              "    <tr>\n",
              "      <th>397</th>\n",
              "      <td>807106840509214720</td>\n",
              "      <td>This is Stephan. He just wants to help. 13/10 ...</td>\n",
              "      <td>Stephan</td>\n",
              "      <td>Chihuahua</td>\n",
              "      <td>60425</td>\n",
              "    </tr>\n",
              "    <tr>\n",
              "      <th>306</th>\n",
              "      <td>822872901745569793</td>\n",
              "      <td>Here's a super supportive puppo participating ...</td>\n",
              "      <td>None</td>\n",
              "      <td>Lakeland_terrier</td>\n",
              "      <td>47238</td>\n",
              "    </tr>\n",
              "    <tr>\n",
              "      <th>56</th>\n",
              "      <td>879415818425184262</td>\n",
              "      <td>This is Duddles. He did an attempt. 13/10 some...</td>\n",
              "      <td>Duddles</td>\n",
              "      <td>English_springer</td>\n",
              "      <td>43025</td>\n",
              "    </tr>\n",
              "    <tr>\n",
              "      <th>330</th>\n",
              "      <td>819004803107983360</td>\n",
              "      <td>This is Bo. He was a very good First Doggo. 14...</td>\n",
              "      <td>Bo</td>\n",
              "      <td>standard_poodle</td>\n",
              "      <td>39746</td>\n",
              "    </tr>\n",
              "    <tr>\n",
              "      <th>399</th>\n",
              "      <td>806629075125202948</td>\n",
              "      <td>\"Good afternoon class today we're going to lea...</td>\n",
              "      <td>None</td>\n",
              "      <td>cocker_spaniel</td>\n",
              "      <td>37837</td>\n",
              "    </tr>\n",
              "    <tr>\n",
              "      <th>105</th>\n",
              "      <td>866450705531457537</td>\n",
              "      <td>This is Jamesy. He gives a kiss to every other...</td>\n",
              "      <td>Jamesy</td>\n",
              "      <td>French_bulldog</td>\n",
              "      <td>35125</td>\n",
              "    </tr>\n",
              "    <tr>\n",
              "      <th>1419</th>\n",
              "      <td>678399652199309312</td>\n",
              "      <td>This made my day. 12/10 please enjoy https://t...</td>\n",
              "      <td>None</td>\n",
              "      <td>Bedlington_terrier</td>\n",
              "      <td>33456</td>\n",
              "    </tr>\n",
              "    <tr>\n",
              "      <th>1477</th>\n",
              "      <td>676219687039057920</td>\n",
              "      <td>This is Kenneth. He's stuck in a bubble. 10/10...</td>\n",
              "      <td>Kenneth</td>\n",
              "      <td>whippet</td>\n",
              "      <td>32404</td>\n",
              "    </tr>\n",
              "  </tbody>\n",
              "</table>\n",
              "</div>"
            ],
            "text/plain": [
              "                tweet_id                                               text  \\\n",
              "771   744234799360020481  Here's a doggo realizing you can stand in a po...   \n",
              "806   739238157791694849  Here's a doggo blowing bubbles. It's downright...   \n",
              "397   807106840509214720  This is Stephan. He just wants to help. 13/10 ...   \n",
              "306   822872901745569793  Here's a super supportive puppo participating ...   \n",
              "56    879415818425184262  This is Duddles. He did an attempt. 13/10 some...   \n",
              "330   819004803107983360  This is Bo. He was a very good First Doggo. 14...   \n",
              "399   806629075125202948  \"Good afternoon class today we're going to lea...   \n",
              "105   866450705531457537  This is Jamesy. He gives a kiss to every other...   \n",
              "1419  678399652199309312  This made my day. 12/10 please enjoy https://t...   \n",
              "1477  676219687039057920  This is Kenneth. He's stuck in a bubble. 10/10...   \n",
              "\n",
              "         name               breed  retweet_count  \n",
              "771      None  Labrador_retriever          82878  \n",
              "806      None          Eskimo_dog          61372  \n",
              "397   Stephan           Chihuahua          60425  \n",
              "306      None    Lakeland_terrier          47238  \n",
              "56    Duddles    English_springer          43025  \n",
              "330        Bo     standard_poodle          39746  \n",
              "399      None      cocker_spaniel          37837  \n",
              "105    Jamesy      French_bulldog          35125  \n",
              "1419     None  Bedlington_terrier          33456  \n",
              "1477  Kenneth             whippet          32404  "
            ]
          },
          "metadata": {
            "tags": []
          },
          "execution_count": 51
        }
      ]
    },
    {
      "metadata": {
        "id": "qmgNkzoZUi0G",
        "colab_type": "code",
        "colab": {
          "base_uri": "https://localhost:8080/",
          "height": 294
        },
        "outputId": "4a69c034-5216-4570-dd94-54e4aa837a36"
      },
      "cell_type": "code",
      "source": [
        "x_axis = top10_tweets_by_retweets['text']\n",
        "y_pos = np.arange(len(x_axis))\n",
        "performance = top10_tweets_by_retweets['retweet_count'].sort_values()\n",
        " \n",
        "plt.barh(y_pos, performance, align='center', alpha=0.5)\n",
        "plt.yticks(y_pos, x_axis)\n",
        "plt.xlabel('Retweets')\n",
        "plt.title('Tweet popularity by retweet count')\n",
        " \n",
        "plt.show()"
      ],
      "execution_count": 34,
      "outputs": [
        {
          "output_type": "display_data",
          "data": {
            "image/png": "[encoded data removed]",
            "text/plain": [
              "<Figure size 432x288 with 1 Axes>"
            ]
          },
          "metadata": {
            "tags": []
          }
        }
      ]
    },
    {
      "metadata": {
        "id": "UkTBgJKtppr7",
        "colab_type": "code",
        "outputId": "d7e5f2e6-9f03-4fa1-9bbc-b027dc83c985",
        "colab": {
          "base_uri": "https://localhost:8080/",
          "height": 359
        }
      },
      "cell_type": "code",
      "source": [
        "# 2. Highest rated dogs by rating_numerator\n",
        "hr_dogs_df = twitter_archive_master_df[['tweet_id', 'text', 'rating_numerator', 'breed']].sort_values(by = 'rating_numerator', ascending = False).head(10)\n",
        "hr_dogs_df"
      ],
      "execution_count": 49,
      "outputs": [
        {
          "output_type": "execute_result",
          "data": {
            "text/html": [
              "<div>\n",
              "<style scoped>\n",
              "    .dataframe tbody tr th:only-of-type {\n",
              "        vertical-align: middle;\n",
              "    }\n",
              "\n",
              "    .dataframe tbody tr th {\n",
              "        vertical-align: top;\n",
              "    }\n",
              "\n",
              "    .dataframe thead th {\n",
              "        text-align: right;\n",
              "    }\n",
              "</style>\n",
              "<table border=\"1\" class=\"dataframe\">\n",
              "  <thead>\n",
              "    <tr style=\"text-align: right;\">\n",
              "      <th></th>\n",
              "      <th>tweet_id</th>\n",
              "      <th>text</th>\n",
              "      <th>rating_numerator</th>\n",
              "      <th>breed</th>\n",
              "    </tr>\n",
              "  </thead>\n",
              "  <tbody>\n",
              "    <tr>\n",
              "      <th>722</th>\n",
              "      <td>749981277374128128</td>\n",
              "      <td>This is Atticus. He's quite simply America af....</td>\n",
              "      <td>1776</td>\n",
              "      <td>NaN</td>\n",
              "    </tr>\n",
              "    <tr>\n",
              "      <th>1713</th>\n",
              "      <td>670842764863651840</td>\n",
              "      <td>After so many requests... here you go.\\n\\nGood...</td>\n",
              "      <td>420</td>\n",
              "      <td>NaN</td>\n",
              "    </tr>\n",
              "    <tr>\n",
              "      <th>844</th>\n",
              "      <td>731156023742988288</td>\n",
              "      <td>Say hello to this unbelievably well behaved sq...</td>\n",
              "      <td>204</td>\n",
              "      <td>NaN</td>\n",
              "    </tr>\n",
              "    <tr>\n",
              "      <th>659</th>\n",
              "      <td>758467244762497024</td>\n",
              "      <td>Why does this never happen at my front door......</td>\n",
              "      <td>165</td>\n",
              "      <td>Labrador_retriever</td>\n",
              "    </tr>\n",
              "    <tr>\n",
              "      <th>1430</th>\n",
              "      <td>677716515794329600</td>\n",
              "      <td>IT'S PUPPERGEDDON. Total of 144/120 ...I think...</td>\n",
              "      <td>144</td>\n",
              "      <td>chow</td>\n",
              "    </tr>\n",
              "    <tr>\n",
              "      <th>1298</th>\n",
              "      <td>684225744407494656</td>\n",
              "      <td>Two sneaky puppers were not initially seen, mo...</td>\n",
              "      <td>143</td>\n",
              "      <td>golden_retriever</td>\n",
              "    </tr>\n",
              "    <tr>\n",
              "      <th>1299</th>\n",
              "      <td>684222868335505415</td>\n",
              "      <td>Someone help the girl is being mugged. Several...</td>\n",
              "      <td>121</td>\n",
              "      <td>soft-coated_wheaten_terrier</td>\n",
              "    </tr>\n",
              "    <tr>\n",
              "      <th>942</th>\n",
              "      <td>713900603437621249</td>\n",
              "      <td>Happy Saturday here's 9 puppers on a bench. 99...</td>\n",
              "      <td>99</td>\n",
              "      <td>golden_retriever</td>\n",
              "    </tr>\n",
              "    <tr>\n",
              "      <th>1489</th>\n",
              "      <td>675853064436391936</td>\n",
              "      <td>Here we have an entire platoon of puppers. Tot...</td>\n",
              "      <td>88</td>\n",
              "      <td>Labrador_retriever</td>\n",
              "    </tr>\n",
              "    <tr>\n",
              "      <th>320</th>\n",
              "      <td>820690176645140481</td>\n",
              "      <td>The floofs have been released I repeat the flo...</td>\n",
              "      <td>84</td>\n",
              "      <td>West_Highland_white_terrier</td>\n",
              "    </tr>\n",
              "  </tbody>\n",
              "</table>\n",
              "</div>"
            ],
            "text/plain": [
              "                tweet_id                                               text  \\\n",
              "722   749981277374128128  This is Atticus. He's quite simply America af....   \n",
              "1713  670842764863651840  After so many requests... here you go.\\n\\nGood...   \n",
              "844   731156023742988288  Say hello to this unbelievably well behaved sq...   \n",
              "659   758467244762497024  Why does this never happen at my front door......   \n",
              "1430  677716515794329600  IT'S PUPPERGEDDON. Total of 144/120 ...I think...   \n",
              "1298  684225744407494656  Two sneaky puppers were not initially seen, mo...   \n",
              "1299  684222868335505415  Someone help the girl is being mugged. Several...   \n",
              "942   713900603437621249  Happy Saturday here's 9 puppers on a bench. 99...   \n",
              "1489  675853064436391936  Here we have an entire platoon of puppers. Tot...   \n",
              "320   820690176645140481  The floofs have been released I repeat the flo...   \n",
              "\n",
              "      rating_numerator                        breed  \n",
              "722               1776                          NaN  \n",
              "1713               420                          NaN  \n",
              "844                204                          NaN  \n",
              "659                165           Labrador_retriever  \n",
              "1430               144                         chow  \n",
              "1298               143             golden_retriever  \n",
              "1299               121  soft-coated_wheaten_terrier  \n",
              "942                 99             golden_retriever  \n",
              "1489                88           Labrador_retriever  \n",
              "320                 84  West_Highland_white_terrier  "
            ]
          },
          "metadata": {
            "tags": []
          },
          "execution_count": 49
        }
      ]
    },
    {
      "metadata": {
        "id": "d1Ys78UQ3lrh",
        "colab_type": "code",
        "colab": {
          "base_uri": "https://localhost:8080/",
          "height": 294
        },
        "outputId": "2f1b9ea7-6e15-4f92-e07b-1a9990b98e6d"
      },
      "cell_type": "code",
      "source": [
        "x_axis = hr_dogs_df['text']\n",
        "y_pos = np.arange(len(x_axis))\n",
        "performance = hr_dogs_df['rating_numerator'].sort_values()\n",
        " \n",
        "plt.barh(y_pos, performance, align='center', alpha=0.5)\n",
        "plt.yticks(y_pos, x_axis)\n",
        "plt.xlabel('Rating')\n",
        "plt.title('Name')\n",
        " \n",
        "plt.show()"
      ],
      "execution_count": 50,
      "outputs": [
        {
          "output_type": "display_data",
          "data": {
            "image/png": "[encoded data removed]",
            "text/plain": [
              "<Figure size 432x288 with 1 Axes>"
            ]
          },
          "metadata": {
            "tags": []
          }
        }
      ]
    },
    {
      "metadata": {
        "id": "wS_YtzLU-Wcn",
        "colab_type": "code",
        "colab": {
          "base_uri": "https://localhost:8080/",
          "height": 359
        },
        "outputId": "5654507e-d6d6-4e23-9591-f1fdb026a0b4"
      },
      "cell_type": "code",
      "source": [
        "# 3. Relationship between Rating and Retweet counts for the top 100 ratings\n",
        "\n",
        "rating_retweet_df = twitter_archive_master_df[['tweet_id', 'text', 'rating_numerator', 'retweet_count']].sort_values(by = 'rating_numerator', ascending = False).head(100)\n",
        "rating_retweet_df.head(10)"
      ],
      "execution_count": 63,
      "outputs": [
        {
          "output_type": "execute_result",
          "data": {
            "text/html": [
              "<div>\n",
              "<style scoped>\n",
              "    .dataframe tbody tr th:only-of-type {\n",
              "        vertical-align: middle;\n",
              "    }\n",
              "\n",
              "    .dataframe tbody tr th {\n",
              "        vertical-align: top;\n",
              "    }\n",
              "\n",
              "    .dataframe thead th {\n",
              "        text-align: right;\n",
              "    }\n",
              "</style>\n",
              "<table border=\"1\" class=\"dataframe\">\n",
              "  <thead>\n",
              "    <tr style=\"text-align: right;\">\n",
              "      <th></th>\n",
              "      <th>tweet_id</th>\n",
              "      <th>text</th>\n",
              "      <th>rating_numerator</th>\n",
              "      <th>retweet_count</th>\n",
              "    </tr>\n",
              "  </thead>\n",
              "  <tbody>\n",
              "    <tr>\n",
              "      <th>722</th>\n",
              "      <td>749981277374128128</td>\n",
              "      <td>This is Atticus. He's quite simply America af....</td>\n",
              "      <td>1776</td>\n",
              "      <td>2610</td>\n",
              "    </tr>\n",
              "    <tr>\n",
              "      <th>1713</th>\n",
              "      <td>670842764863651840</td>\n",
              "      <td>After so many requests... here you go.\\n\\nGood...</td>\n",
              "      <td>420</td>\n",
              "      <td>8879</td>\n",
              "    </tr>\n",
              "    <tr>\n",
              "      <th>844</th>\n",
              "      <td>731156023742988288</td>\n",
              "      <td>Say hello to this unbelievably well behaved sq...</td>\n",
              "      <td>204</td>\n",
              "      <td>1342</td>\n",
              "    </tr>\n",
              "    <tr>\n",
              "      <th>659</th>\n",
              "      <td>758467244762497024</td>\n",
              "      <td>Why does this never happen at my front door......</td>\n",
              "      <td>165</td>\n",
              "      <td>2377</td>\n",
              "    </tr>\n",
              "    <tr>\n",
              "      <th>1430</th>\n",
              "      <td>677716515794329600</td>\n",
              "      <td>IT'S PUPPERGEDDON. Total of 144/120 ...I think...</td>\n",
              "      <td>144</td>\n",
              "      <td>1015</td>\n",
              "    </tr>\n",
              "    <tr>\n",
              "      <th>1298</th>\n",
              "      <td>684225744407494656</td>\n",
              "      <td>Two sneaky puppers were not initially seen, mo...</td>\n",
              "      <td>143</td>\n",
              "      <td>226</td>\n",
              "    </tr>\n",
              "    <tr>\n",
              "      <th>1299</th>\n",
              "      <td>684222868335505415</td>\n",
              "      <td>Someone help the girl is being mugged. Several...</td>\n",
              "      <td>121</td>\n",
              "      <td>1457</td>\n",
              "    </tr>\n",
              "    <tr>\n",
              "      <th>942</th>\n",
              "      <td>713900603437621249</td>\n",
              "      <td>Happy Saturday here's 9 puppers on a bench. 99...</td>\n",
              "      <td>99</td>\n",
              "      <td>775</td>\n",
              "    </tr>\n",
              "    <tr>\n",
              "      <th>1489</th>\n",
              "      <td>675853064436391936</td>\n",
              "      <td>Here we have an entire platoon of puppers. Tot...</td>\n",
              "      <td>88</td>\n",
              "      <td>1351</td>\n",
              "    </tr>\n",
              "    <tr>\n",
              "      <th>320</th>\n",
              "      <td>820690176645140481</td>\n",
              "      <td>The floofs have been released I repeat the flo...</td>\n",
              "      <td>84</td>\n",
              "      <td>3475</td>\n",
              "    </tr>\n",
              "  </tbody>\n",
              "</table>\n",
              "</div>"
            ],
            "text/plain": [
              "                tweet_id                                               text  \\\n",
              "722   749981277374128128  This is Atticus. He's quite simply America af....   \n",
              "1713  670842764863651840  After so many requests... here you go.\\n\\nGood...   \n",
              "844   731156023742988288  Say hello to this unbelievably well behaved sq...   \n",
              "659   758467244762497024  Why does this never happen at my front door......   \n",
              "1430  677716515794329600  IT'S PUPPERGEDDON. Total of 144/120 ...I think...   \n",
              "1298  684225744407494656  Two sneaky puppers were not initially seen, mo...   \n",
              "1299  684222868335505415  Someone help the girl is being mugged. Several...   \n",
              "942   713900603437621249  Happy Saturday here's 9 puppers on a bench. 99...   \n",
              "1489  675853064436391936  Here we have an entire platoon of puppers. Tot...   \n",
              "320   820690176645140481  The floofs have been released I repeat the flo...   \n",
              "\n",
              "      rating_numerator  retweet_count  \n",
              "722               1776           2610  \n",
              "1713               420           8879  \n",
              "844                204           1342  \n",
              "659                165           2377  \n",
              "1430               144           1015  \n",
              "1298               143            226  \n",
              "1299               121           1457  \n",
              "942                 99            775  \n",
              "1489                88           1351  \n",
              "320                 84           3475  "
            ]
          },
          "metadata": {
            "tags": []
          },
          "execution_count": 63
        }
      ]
    },
    {
      "metadata": {
        "id": "mCBH05zvAshG",
        "colab_type": "code",
        "colab": {
          "base_uri": "https://localhost:8080/",
          "height": 265
        },
        "outputId": "0b4d8a96-f403-499d-e381-9e892acb5c59"
      },
      "cell_type": "code",
      "source": [
        "# Fixing random state for reproducibility\n",
        "np.random.seed(97)\n",
        "\n",
        "rcount = 100\n",
        "x = rating_retweet_df['rating_numerator']\n",
        "y = rating_retweet_df['retweet_count']\n",
        "colors = np.random.rand(rcount)\n",
        "area = (30 * np.random.rand(rcount))**2  # 0 to 15 point radii\n",
        "\n",
        "plt.scatter(x, y, s=area, c=colors, alpha=0.5)\n",
        "plt.show()"
      ],
      "execution_count": 74,
      "outputs": [
        {
          "output_type": "display_data",
          "data": {
            "image/png": "[encoded data removed]",
            "text/plain": [
              "<Figure size 432x288 with 1 Axes>"
            ]
          },
          "metadata": {
            "tags": []
          }
        }
      ]
    },
    {
      "metadata": {
        "id": "XzQ-TTwGEhOM",
        "colab_type": "text"
      },
      "cell_type": "markdown",
      "source": [
        "The above scatter plot proves that higher rating doesn't usually imply higher retweet counts."
      ]
    },
    {
      "metadata": {
        "id": "_tVNCh1nEvvb",
        "colab_type": "code",
        "colab": {
          "base_uri": "https://localhost:8080/",
          "height": 204
        },
        "outputId": "31d35154-12d5-4b5e-8641-be7bc6e2977e"
      },
      "cell_type": "code",
      "source": [
        "# 4. Tweets by dog stages\n",
        "\n",
        "dog_stage_tweets_df = twitter_archive_master_df['tweet_id'].to_frame().merge(dog_stage_df, on = 'tweet_id', how = 'inner')\n",
        "\n",
        "dog_stage_tweets_df.head()"
      ],
      "execution_count": 116,
      "outputs": [
        {
          "output_type": "execute_result",
          "data": {
            "text/html": [
              "<div>\n",
              "<style scoped>\n",
              "    .dataframe tbody tr th:only-of-type {\n",
              "        vertical-align: middle;\n",
              "    }\n",
              "\n",
              "    .dataframe tbody tr th {\n",
              "        vertical-align: top;\n",
              "    }\n",
              "\n",
              "    .dataframe thead th {\n",
              "        text-align: right;\n",
              "    }\n",
              "</style>\n",
              "<table border=\"1\" class=\"dataframe\">\n",
              "  <thead>\n",
              "    <tr style=\"text-align: right;\">\n",
              "      <th></th>\n",
              "      <th>tweet_id</th>\n",
              "      <th>Unnamed: 0</th>\n",
              "      <th>dog_stage</th>\n",
              "    </tr>\n",
              "  </thead>\n",
              "  <tbody>\n",
              "    <tr>\n",
              "      <th>0</th>\n",
              "      <td>890240255349198849</td>\n",
              "      <td>7</td>\n",
              "      <td>doggo</td>\n",
              "    </tr>\n",
              "    <tr>\n",
              "      <th>1</th>\n",
              "      <td>889665388333682689</td>\n",
              "      <td>6529</td>\n",
              "      <td>puppo</td>\n",
              "    </tr>\n",
              "    <tr>\n",
              "      <th>2</th>\n",
              "      <td>889531135344209921</td>\n",
              "      <td>6531</td>\n",
              "      <td>puppo</td>\n",
              "    </tr>\n",
              "    <tr>\n",
              "      <th>3</th>\n",
              "      <td>886366144734445568</td>\n",
              "      <td>4372</td>\n",
              "      <td>pupper</td>\n",
              "    </tr>\n",
              "    <tr>\n",
              "      <th>4</th>\n",
              "      <td>884162670584377345</td>\n",
              "      <td>38</td>\n",
              "      <td>doggo</td>\n",
              "    </tr>\n",
              "  </tbody>\n",
              "</table>\n",
              "</div>"
            ],
            "text/plain": [
              "             tweet_id  Unnamed: 0 dog_stage\n",
              "0  890240255349198849           7     doggo\n",
              "1  889665388333682689        6529     puppo\n",
              "2  889531135344209921        6531     puppo\n",
              "3  886366144734445568        4372    pupper\n",
              "4  884162670584377345          38     doggo"
            ]
          },
          "metadata": {
            "tags": []
          },
          "execution_count": 116
        }
      ]
    },
    {
      "metadata": {
        "id": "lNfnYtL-FlIH",
        "colab_type": "code",
        "colab": {
          "base_uri": "https://localhost:8080/",
          "height": 250
        },
        "outputId": "3fa93300-3ec1-4984-d550-9de7c4ea68ca"
      },
      "cell_type": "code",
      "source": [
        "labels = dog_stage_tweets_df['dog_stage'].unique()\n",
        "sizes = dog_stage_tweets_df.groupby('dog_stage').count()['tweet_id']\n",
        "explode = (0, 0, 0.1, 0)\n",
        "\n",
        "fig1, ax1 = plt.subplots()\n",
        "ax1.pie(sizes, explode=explode, labels=labels, autopct='%1.1f%%',\n",
        "        shadow=True, startangle=90)\n",
        "ax1.axis('equal')  # Equal aspect ratio ensures that pie is drawn as a circle.\n",
        "\n",
        "plt.show()"
      ],
      "execution_count": 126,
      "outputs": [
        {
          "output_type": "display_data",
          "data": {
            "image/png": "[encoded data removed]",
            "text/plain": [
              "<Figure size 432x288 with 1 Axes>"
            ]
          },
          "metadata": {
            "tags": []
          }
        }
      ]
    },
    {
      "metadata": {
        "id": "-z1UP7JbOz5d",
        "colab_type": "code",
        "colab": {
          "base_uri": "https://localhost:8080/",
          "height": 221
        },
        "outputId": "d8c5d785-1eb5-4a67-8b8b-8e47e23b9adc"
      },
      "cell_type": "code",
      "source": [
        "# 5. Most popular breeds by Tweet counts\n",
        "\n",
        "popular_breeds = twitter_archive_master_df.groupby('breed')[['tweet_id']].count().sort_values(by = 'tweet_id', ascending = False).head(10)\n",
        "popular_breeds.tweet_id\n"
      ],
      "execution_count": 177,
      "outputs": [
        {
          "output_type": "execute_result",
          "data": {
            "text/plain": [
              "breed\n",
              "golden_retriever      158\n",
              "Labrador_retriever    107\n",
              "Pembroke               95\n",
              "Chihuahua              90\n",
              "pug                    62\n",
              "toy_poodle             51\n",
              "chow                   48\n",
              "Pomeranian             42\n",
              "Samoyed                41\n",
              "malamute               33\n",
              "Name: tweet_id, dtype: int64"
            ]
          },
          "metadata": {
            "tags": []
          },
          "execution_count": 177
        }
      ]
    },
    {
      "metadata": {
        "id": "SScE8JXQPh-U",
        "colab_type": "code",
        "colab": {
          "base_uri": "https://localhost:8080/",
          "height": 294
        },
        "outputId": "9b42b9a1-c35e-4549-cd15-7f4effcc6940"
      },
      "cell_type": "code",
      "source": [
        "x_axis = popular_breeds.index\n",
        "y_pos = np.arange(len(x_axis))\n",
        "performance = popular_breeds.tweet_id\n",
        " \n",
        "plt.barh(y_pos, performance, align='center', alpha=0.5)\n",
        "plt.yticks(y_pos, x_axis)\n",
        "plt.xlabel('Breed')\n",
        "plt.title('Popular Breeds')\n",
        " \n",
        "plt.show()"
      ],
      "execution_count": 181,
      "outputs": [
        {
          "output_type": "display_data",
          "data": {
            "image/png": "[encoded data removed]",
            "text/plain": [
              "<Figure size 432x288 with 1 Axes>"
            ]
          },
          "metadata": {
            "tags": []
          }
        }
      ]
    },
    {
      "metadata": {
        "id": "GmnwnHeFZ4XY",
        "colab_type": "code",
        "colab": {
          "base_uri": "https://localhost:8080/",
          "height": 390
        },
        "outputId": "da3308e6-35eb-4e43-c02f-7888ded3c381"
      },
      "cell_type": "code",
      "source": [
        "# 6. Most popular breeds by Retweet counts\n",
        "\n",
        "popular_breeds_rt = twitter_archive_master_df.groupby('breed')[['retweet_count']].sum().sort_values(by = 'retweet_count', ascending = False).head(10)\n",
        "popular_breeds_rt"
      ],
      "execution_count": 182,
      "outputs": [
        {
          "output_type": "execute_result",
          "data": {
            "text/html": [
              "<div>\n",
              "<style scoped>\n",
              "    .dataframe tbody tr th:only-of-type {\n",
              "        vertical-align: middle;\n",
              "    }\n",
              "\n",
              "    .dataframe tbody tr th {\n",
              "        vertical-align: top;\n",
              "    }\n",
              "\n",
              "    .dataframe thead th {\n",
              "        text-align: right;\n",
              "    }\n",
              "</style>\n",
              "<table border=\"1\" class=\"dataframe\">\n",
              "  <thead>\n",
              "    <tr style=\"text-align: right;\">\n",
              "      <th></th>\n",
              "      <th>retweet_count</th>\n",
              "    </tr>\n",
              "    <tr>\n",
              "      <th>breed</th>\n",
              "      <th></th>\n",
              "    </tr>\n",
              "  </thead>\n",
              "  <tbody>\n",
              "    <tr>\n",
              "      <th>golden_retriever</th>\n",
              "      <td>555307</td>\n",
              "    </tr>\n",
              "    <tr>\n",
              "      <th>Labrador_retriever</th>\n",
              "      <td>382240</td>\n",
              "    </tr>\n",
              "    <tr>\n",
              "      <th>Pembroke</th>\n",
              "      <td>275237</td>\n",
              "    </tr>\n",
              "    <tr>\n",
              "      <th>Chihuahua</th>\n",
              "      <td>240408</td>\n",
              "    </tr>\n",
              "    <tr>\n",
              "      <th>Samoyed</th>\n",
              "      <td>181615</td>\n",
              "    </tr>\n",
              "    <tr>\n",
              "      <th>French_bulldog</th>\n",
              "      <td>153407</td>\n",
              "    </tr>\n",
              "    <tr>\n",
              "      <th>cocker_spaniel</th>\n",
              "      <td>138607</td>\n",
              "    </tr>\n",
              "    <tr>\n",
              "      <th>chow</th>\n",
              "      <td>124980</td>\n",
              "    </tr>\n",
              "    <tr>\n",
              "      <th>pug</th>\n",
              "      <td>110497</td>\n",
              "    </tr>\n",
              "    <tr>\n",
              "      <th>toy_poodle</th>\n",
              "      <td>108290</td>\n",
              "    </tr>\n",
              "  </tbody>\n",
              "</table>\n",
              "</div>"
            ],
            "text/plain": [
              "                    retweet_count\n",
              "breed                            \n",
              "golden_retriever           555307\n",
              "Labrador_retriever         382240\n",
              "Pembroke                   275237\n",
              "Chihuahua                  240408\n",
              "Samoyed                    181615\n",
              "French_bulldog             153407\n",
              "cocker_spaniel             138607\n",
              "chow                       124980\n",
              "pug                        110497\n",
              "toy_poodle                 108290"
            ]
          },
          "metadata": {
            "tags": []
          },
          "execution_count": 182
        }
      ]
    },
    {
      "metadata": {
        "id": "5C4fTH8UaQrN",
        "colab_type": "code",
        "colab": {
          "base_uri": "https://localhost:8080/",
          "height": 294
        },
        "outputId": "1c595d62-1d7b-4997-ef3d-9ff45e09d54e"
      },
      "cell_type": "code",
      "source": [
        "x_axis = popular_breeds_rt.index\n",
        "y_pos = np.arange(len(x_axis))\n",
        "performance = popular_breeds_rt.retweet_count\n",
        " \n",
        "plt.barh(y_pos, performance, align='center', alpha=0.5)\n",
        "plt.yticks(y_pos, x_axis)\n",
        "plt.xlabel('Breed')\n",
        "plt.title('Popular Breeds by Retweet Count')\n",
        " \n",
        "plt.show()"
      ],
      "execution_count": 183,
      "outputs": [
        {
          "output_type": "display_data",
          "data": {
            "image/png": "[encoded data removed]",
            "text/plain": [
              "<Figure size 432x288 with 1 Axes>"
            ]
          },
          "metadata": {
            "tags": []
          }
        }
      ]
    },
    {
      "metadata": {
        "id": "48vjmmo_al68",
        "colab_type": "code",
        "colab": {
          "base_uri": "https://localhost:8080/",
          "height": 731
        },
        "outputId": "d6c928ea-4cb1-449a-a182-44162ac23f00"
      },
      "cell_type": "code",
      "source": [
        "# 7. Tweet count time graph by month\n",
        "\n",
        "\"\"\"\n",
        "tweets_by_month_df = twitter_archive_master_df[['timestamp', 'tweet_id']].copy()\n",
        "tweets_by_month_df['timestamp'] = pd.to_datetime(tweets_by_month_df['timestamp'])\n",
        "tweets_by_month_df['year_month'] = tweets_by_month_df['timestamp'].map(lambda x: x.year + x.month)\n",
        "\n",
        "tweets_by_month_df.groupby('year_month')[['tweet_id']].count()\n",
        "\n",
        "\"\"\"\n",
        "\n",
        "tweets_by_month_df = twitter_archive_master_df[['timestamp', 'tweet_id']].copy()\n",
        "tweets_by_month_df['timestamp'] = pd.to_datetime(tweets_by_month_df['timestamp'])\n",
        "tweets_by_month_df['year_month'] = tweets_by_month_df['timestamp'].map(lambda x: 100 * x.year + x.month)\n",
        "tweets_by_month_df = tweets_by_month_df.groupby('year_month')[['tweet_id']].count()\n",
        "\n",
        "tweets_by_month_df.sort_values(by = 'tweet_id', ascending = False)"
      ],
      "execution_count": 220,
      "outputs": [
        {
          "output_type": "execute_result",
          "data": {
            "text/html": [
              "<div>\n",
              "<style scoped>\n",
              "    .dataframe tbody tr th:only-of-type {\n",
              "        vertical-align: middle;\n",
              "    }\n",
              "\n",
              "    .dataframe tbody tr th {\n",
              "        vertical-align: top;\n",
              "    }\n",
              "\n",
              "    .dataframe thead th {\n",
              "        text-align: right;\n",
              "    }\n",
              "</style>\n",
              "<table border=\"1\" class=\"dataframe\">\n",
              "  <thead>\n",
              "    <tr style=\"text-align: right;\">\n",
              "      <th></th>\n",
              "      <th>tweet_id</th>\n",
              "    </tr>\n",
              "    <tr>\n",
              "      <th>year_month</th>\n",
              "      <th></th>\n",
              "    </tr>\n",
              "  </thead>\n",
              "  <tbody>\n",
              "    <tr>\n",
              "      <th>201512</th>\n",
              "      <td>366</td>\n",
              "    </tr>\n",
              "    <tr>\n",
              "      <th>201511</th>\n",
              "      <td>296</td>\n",
              "    </tr>\n",
              "    <tr>\n",
              "      <th>201601</th>\n",
              "      <td>169</td>\n",
              "    </tr>\n",
              "    <tr>\n",
              "      <th>201603</th>\n",
              "      <td>120</td>\n",
              "    </tr>\n",
              "    <tr>\n",
              "      <th>201602</th>\n",
              "      <td>111</td>\n",
              "    </tr>\n",
              "    <tr>\n",
              "      <th>201607</th>\n",
              "      <td>87</td>\n",
              "    </tr>\n",
              "    <tr>\n",
              "      <th>201606</th>\n",
              "      <td>81</td>\n",
              "    </tr>\n",
              "    <tr>\n",
              "      <th>201701</th>\n",
              "      <td>66</td>\n",
              "    </tr>\n",
              "    <tr>\n",
              "      <th>201610</th>\n",
              "      <td>65</td>\n",
              "    </tr>\n",
              "    <tr>\n",
              "      <th>201702</th>\n",
              "      <td>64</td>\n",
              "    </tr>\n",
              "    <tr>\n",
              "      <th>201609</th>\n",
              "      <td>63</td>\n",
              "    </tr>\n",
              "    <tr>\n",
              "      <th>201608</th>\n",
              "      <td>59</td>\n",
              "    </tr>\n",
              "    <tr>\n",
              "      <th>201605</th>\n",
              "      <td>57</td>\n",
              "    </tr>\n",
              "    <tr>\n",
              "      <th>201612</th>\n",
              "      <td>54</td>\n",
              "    </tr>\n",
              "    <tr>\n",
              "      <th>201604</th>\n",
              "      <td>54</td>\n",
              "    </tr>\n",
              "    <tr>\n",
              "      <th>201611</th>\n",
              "      <td>53</td>\n",
              "    </tr>\n",
              "    <tr>\n",
              "      <th>201707</th>\n",
              "      <td>49</td>\n",
              "    </tr>\n",
              "    <tr>\n",
              "      <th>201703</th>\n",
              "      <td>48</td>\n",
              "    </tr>\n",
              "    <tr>\n",
              "      <th>201705</th>\n",
              "      <td>43</td>\n",
              "    </tr>\n",
              "    <tr>\n",
              "      <th>201706</th>\n",
              "      <td>43</td>\n",
              "    </tr>\n",
              "    <tr>\n",
              "      <th>201704</th>\n",
              "      <td>41</td>\n",
              "    </tr>\n",
              "  </tbody>\n",
              "</table>\n",
              "</div>"
            ],
            "text/plain": [
              "            tweet_id\n",
              "year_month          \n",
              "201512           366\n",
              "201511           296\n",
              "201601           169\n",
              "201603           120\n",
              "201602           111\n",
              "201607            87\n",
              "201606            81\n",
              "201701            66\n",
              "201610            65\n",
              "201702            64\n",
              "201609            63\n",
              "201608            59\n",
              "201605            57\n",
              "201612            54\n",
              "201604            54\n",
              "201611            53\n",
              "201707            49\n",
              "201703            48\n",
              "201705            43\n",
              "201706            43\n",
              "201704            41"
            ]
          },
          "metadata": {
            "tags": []
          },
          "execution_count": 220
        }
      ]
    },
    {
      "metadata": {
        "id": "vDKJibJpdO4M",
        "colab_type": "code",
        "colab": {
          "base_uri": "https://localhost:8080/",
          "height": 265
        },
        "outputId": "8c5bb2aa-4787-48fa-96a8-d814edfce007"
      },
      "cell_type": "code",
      "source": [
        "import datetime\n",
        "import matplotlib.dates as mdates\n",
        "import matplotlib.cbook as cbook\n",
        "\n",
        "years = mdates.YearLocator()   # every year\n",
        "months = mdates.MonthLocator()  # every month\n",
        "yearsFmt = mdates.DateFormatter('%Y')\n",
        "\n",
        "fig, ax = plt.subplots()\n",
        "ax.plot(tweets_by_month_df.index, tweets_by_month_df.tweet_id)\n",
        "\n",
        "plt.show()"
      ],
      "execution_count": 224,
      "outputs": [
        {
          "output_type": "display_data",
          "data": {
            "image/png": "[encoded data removed]",
            "text/plain": [
              "<Figure size 432x288 with 1 Axes>"
            ]
          },
          "metadata": {
            "tags": []
          }
        }
      ]
    }
  ]
}