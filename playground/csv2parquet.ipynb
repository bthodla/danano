{
 "cells": [
  {
   "cell_type": "code",
   "execution_count": 118,
   "metadata": {},
   "outputs": [],
   "source": [
    "import pandas as pd\n",
    "import numpy as np\n",
    "\n",
    "# To supporess budget and revenue values from being returned in exponential format\n",
    "pd.options.display.float_format = '{:20,.2f}'.format\n",
    "sales_data_path = '/mnt/EnterprisePlatforms/Qlik/Hackathon/qs_test_data/'"
   ]
  },
  {
   "cell_type": "code",
   "execution_count": 12,
   "metadata": {},
   "outputs": [
    {
     "name": "stdout",
     "output_type": "stream",
     "text": [
      "<class 'pandas.core.frame.DataFrame'>\n",
      "Int64Index: 3876 entries, 0 to 3875\n",
      "Data columns (total 3 columns):\n",
      "customer_id      3876 non-null int64\n",
      "customer_name    3876 non-null object\n",
      "category         3876 non-null object\n",
      "dtypes: int64(1), object(2)\n",
      "memory usage: 121.1+ KB\n"
     ]
    }
   ],
   "source": [
    "df_customer = pd.read_csv(sales_data_path + 'customer.csv')\n",
    "df_customer.to_parquet(sales_data_path + 'customer_parquet', engine='auto', compression='snappy')\n",
    "dfp_customer = pd.read_parquet(sales_data_path + 'customer_parquet')\n",
    "dfp_customer.info()"
   ]
  },
  {
   "cell_type": "code",
   "execution_count": 93,
   "metadata": {},
   "outputs": [
    {
     "name": "stdout",
     "output_type": "stream",
     "text": [
      "<class 'pandas.core.frame.DataFrame'>\n",
      "Int64Index: 210024 entries, 0 to 210023\n",
      "Data columns (total 12 columns):\n",
      "contact_id     210024 non-null int64\n",
      "first_name     210024 non-null object\n",
      "last_name      210024 non-null object\n",
      "city           210024 non-null object\n",
      "state_code     210024 non-null object\n",
      "zip            210024 non-null object\n",
      "country        210024 non-null object\n",
      "latitude       210024 non-null float64\n",
      "longitude      210024 non-null float64\n",
      "customer_id    210024 non-null int64\n",
      "status         210024 non-null object\n",
      "opportunity    210024 non-null float64\n",
      "dtypes: float64(3), int64(2), object(7)\n",
      "memory usage: 20.8+ MB\n"
     ]
    }
   ],
   "source": [
    "df_contact = pd.read_csv(sales_data_path + 'contact.csv', encoding = \"ISO-8859-1\", dtype={\"zip\": object})\n",
    "df_contact.to_parquet(sales_data_path + 'contact_parquet', engine='auto', compression='snappy')\n",
    "dfp_contact = pd.read_parquet(sales_data_path + 'contact_parquet')\n",
    "dfp_contact.info()"
   ]
  },
  {
   "cell_type": "code",
   "execution_count": 107,
   "metadata": {},
   "outputs": [
    {
     "data": {
      "text/html": [
       "<div>\n",
       "<style scoped>\n",
       "    .dataframe tbody tr th:only-of-type {\n",
       "        vertical-align: middle;\n",
       "    }\n",
       "\n",
       "    .dataframe tbody tr th {\n",
       "        vertical-align: top;\n",
       "    }\n",
       "\n",
       "    .dataframe thead th {\n",
       "        text-align: right;\n",
       "    }\n",
       "</style>\n",
       "<table border=\"1\" class=\"dataframe\">\n",
       "  <thead>\n",
       "    <tr style=\"text-align: right;\">\n",
       "      <th></th>\n",
       "      <th>product_id</th>\n",
       "      <th>product_name</th>\n",
       "      <th>tna</th>\n",
       "      <th>ms_rating</th>\n",
       "      <th>exp_ratio</th>\n",
       "      <th>market_cap</th>\n",
       "    </tr>\n",
       "  </thead>\n",
       "  <tbody>\n",
       "    <tr>\n",
       "      <th>0</th>\n",
       "      <td>VFIAX</td>\n",
       "      <td>Vanguard 500 Index Admiral</td>\n",
       "      <td>163,456,368,456.00</td>\n",
       "      <td>5.00</td>\n",
       "      <td>0.05</td>\n",
       "      <td>Giant</td>\n",
       "    </tr>\n",
       "    <tr>\n",
       "      <th>1</th>\n",
       "      <td>VTSAX</td>\n",
       "      <td>Vanguard Total Stock Mkt Idx Adm</td>\n",
       "      <td>136,131,758,268.00</td>\n",
       "      <td>4.00</td>\n",
       "      <td>0.05</td>\n",
       "      <td>Giant</td>\n",
       "    </tr>\n",
       "    <tr>\n",
       "      <th>2</th>\n",
       "      <td>VINIX</td>\n",
       "      <td>Vanguard Institutional Index I</td>\n",
       "      <td>110,407,917,518.00</td>\n",
       "      <td>5.00</td>\n",
       "      <td>0.04</td>\n",
       "      <td>Giant</td>\n",
       "    </tr>\n",
       "    <tr>\n",
       "      <th>3</th>\n",
       "      <td>VTSMX</td>\n",
       "      <td>Vanguard Total Stock Mkt Idx Inv</td>\n",
       "      <td>98,869,371,846.00</td>\n",
       "      <td>4.00</td>\n",
       "      <td>0.16</td>\n",
       "      <td>Giant</td>\n",
       "    </tr>\n",
       "    <tr>\n",
       "      <th>4</th>\n",
       "      <td>VIIIX</td>\n",
       "      <td>Vanguard Institutional Index Instl Pl</td>\n",
       "      <td>93,192,353,649.00</td>\n",
       "      <td>5.00</td>\n",
       "      <td>0.02</td>\n",
       "      <td>Giant</td>\n",
       "    </tr>\n",
       "  </tbody>\n",
       "</table>\n",
       "</div>"
      ],
      "text/plain": [
       "  product_id                           product_name                  tna  \\\n",
       "0      VFIAX             Vanguard 500 Index Admiral   163,456,368,456.00   \n",
       "1      VTSAX       Vanguard Total Stock Mkt Idx Adm   136,131,758,268.00   \n",
       "2      VINIX         Vanguard Institutional Index I   110,407,917,518.00   \n",
       "3      VTSMX       Vanguard Total Stock Mkt Idx Inv    98,869,371,846.00   \n",
       "4      VIIIX  Vanguard Institutional Index Instl Pl    93,192,353,649.00   \n",
       "\n",
       "             ms_rating            exp_ratio market_cap  \n",
       "0                 5.00                 0.05      Giant  \n",
       "1                 4.00                 0.05      Giant  \n",
       "2                 5.00                 0.04      Giant  \n",
       "3                 4.00                 0.16      Giant  \n",
       "4                 5.00                 0.02      Giant  "
      ]
     },
     "execution_count": 107,
     "metadata": {},
     "output_type": "execute_result"
    }
   ],
   "source": [
    "df_product = pd.read_csv(sales_data_path + 'product.csv', encoding = \"ISO-8859-1\")\n",
    "df_product.to_parquet(sales_data_path + 'product_parquet', engine='auto', compression='snappy')\n",
    "dfp_product = pd.read_parquet(sales_data_path + 'product_parquet')\n",
    "dfp_product.head()"
   ]
  },
  {
   "cell_type": "code",
   "execution_count": 108,
   "metadata": {},
   "outputs": [
    {
     "data": {
      "text/html": [
       "<div>\n",
       "<style scoped>\n",
       "    .dataframe tbody tr th:only-of-type {\n",
       "        vertical-align: middle;\n",
       "    }\n",
       "\n",
       "    .dataframe tbody tr th {\n",
       "        vertical-align: top;\n",
       "    }\n",
       "\n",
       "    .dataframe thead th {\n",
       "        text-align: right;\n",
       "    }\n",
       "</style>\n",
       "<table border=\"1\" class=\"dataframe\">\n",
       "  <thead>\n",
       "    <tr style=\"text-align: right;\">\n",
       "      <th></th>\n",
       "      <th>state_code</th>\n",
       "      <th>state</th>\n",
       "      <th>region</th>\n",
       "    </tr>\n",
       "  </thead>\n",
       "  <tbody>\n",
       "    <tr>\n",
       "      <th>0</th>\n",
       "      <td>AL</td>\n",
       "      <td>Alabama</td>\n",
       "      <td>Southern</td>\n",
       "    </tr>\n",
       "    <tr>\n",
       "      <th>1</th>\n",
       "      <td>AK</td>\n",
       "      <td>Alaska</td>\n",
       "      <td>Pacific</td>\n",
       "    </tr>\n",
       "    <tr>\n",
       "      <th>2</th>\n",
       "      <td>AZ</td>\n",
       "      <td>Arizona</td>\n",
       "      <td>Pacific</td>\n",
       "    </tr>\n",
       "    <tr>\n",
       "      <th>3</th>\n",
       "      <td>AR</td>\n",
       "      <td>Arkansas</td>\n",
       "      <td>Southern</td>\n",
       "    </tr>\n",
       "    <tr>\n",
       "      <th>4</th>\n",
       "      <td>CA</td>\n",
       "      <td>California</td>\n",
       "      <td>Pacific</td>\n",
       "    </tr>\n",
       "  </tbody>\n",
       "</table>\n",
       "</div>"
      ],
      "text/plain": [
       "  state_code       state    region\n",
       "0         AL     Alabama  Southern\n",
       "1         AK      Alaska   Pacific\n",
       "2         AZ     Arizona   Pacific\n",
       "3         AR    Arkansas  Southern\n",
       "4         CA  California   Pacific"
      ]
     },
     "execution_count": 108,
     "metadata": {},
     "output_type": "execute_result"
    }
   ],
   "source": [
    "df_state = pd.read_csv(sales_data_path + 'state.csv', encoding = \"ISO-8859-1\")\n",
    "df_state.to_parquet(sales_data_path + 'state_parquet', engine='auto', compression='snappy')\n",
    "dfp_state = pd.read_parquet(sales_data_path + 'state_parquet')\n",
    "dfp_state.head()"
   ]
  },
  {
   "cell_type": "code",
   "execution_count": 116,
   "metadata": {},
   "outputs": [
    {
     "name": "stdout",
     "output_type": "stream",
     "text": [
      "<class 'pandas.core.frame.DataFrame'>\n",
      "Int64Index: 16974 entries, 0 to 16973\n",
      "Data columns (total 5 columns):\n",
      "contact_id    16974 non-null int64\n",
      "txn_id        16974 non-null int64\n",
      "txn_date      16974 non-null datetime64[ns]\n",
      "product_id    16974 non-null object\n",
      "touch_type    16974 non-null object\n",
      "dtypes: datetime64[ns](1), int64(2), object(2)\n",
      "memory usage: 795.7+ KB\n"
     ]
    }
   ],
   "source": [
    "df_touch = pd.read_csv(sales_data_path + 'touch.csv', encoding = \"ISO-8859-1\")\n",
    "df_touch['txn_date'] = pd.to_datetime(df_touch['txn_date'])\n",
    "df_touch.to_parquet(sales_data_path + 'touch_parquet', engine='auto', compression='snappy')\n",
    "dfp_touch = pd.read_parquet(sales_data_path + 'touch_parquet')\n",
    "dfp_touch.info()"
   ]
  },
  {
   "cell_type": "code",
   "execution_count": 117,
   "metadata": {},
   "outputs": [
    {
     "name": "stdout",
     "output_type": "stream",
     "text": [
      "<class 'pandas.core.frame.DataFrame'>\n",
      "Int64Index: 90010 entries, 0 to 90009\n",
      "Data columns (total 6 columns):\n",
      "contact_id     90010 non-null int64\n",
      "txn_id         90010 non-null int64\n",
      "txn_date       90010 non-null datetime64[ns]\n",
      "product_id     90010 non-null object\n",
      "sales          90010 non-null float64\n",
      "redemptions    90010 non-null float64\n",
      "dtypes: datetime64[ns](1), float64(2), int64(2), object(1)\n",
      "memory usage: 4.8+ MB\n"
     ]
    }
   ],
   "source": [
    "df_txn = pd.read_csv(sales_data_path + 'txn.csv', encoding = \"ISO-8859-1\")\n",
    "df_txn['txn_date'] = pd.to_datetime(df_txn['txn_date'])\n",
    "df_txn.to_parquet(sales_data_path + 'txn_parquet', engine='auto', compression='snappy')\n",
    "dfp_txn = pd.read_parquet(sales_data_path + 'txn_parquet')\n",
    "dfp_txn.info()"
   ]
  },
  {
   "cell_type": "code",
   "execution_count": 122,
   "metadata": {},
   "outputs": [
    {
     "name": "stdout",
     "output_type": "stream",
     "text": [
      "<class 'pandas.core.frame.DataFrame'>\n",
      "Int64Index: 16974 entries, 0 to 16973\n",
      "Data columns (total 5 columns):\n",
      "contact_id    16974 non-null int64\n",
      "txn_id        16974 non-null int64\n",
      "txn_date      16974 non-null datetime64[ns]\n",
      "product_id    16974 non-null object\n",
      "touch_type    16974 non-null object\n",
      "dtypes: datetime64[ns](1), int64(2), object(2)\n",
      "memory usage: 795.7+ KB\n"
     ]
    }
   ],
   "source": [
    "dfp_touch = pd.read_parquet(sales_data_path + 'touch_parquet')\n",
    "dfp_touch.info()"
   ]
  }
 ],
 "metadata": {
  "kernelspec": {
   "display_name": "Python 3",
   "language": "python",
   "name": "python3"
  },
  "language_info": {
   "codemirror_mode": {
    "name": "ipython",
    "version": 3
   },
   "file_extension": ".py",
   "mimetype": "text/x-python",
   "name": "python",
   "nbconvert_exporter": "python",
   "pygments_lexer": "ipython3",
   "version": "3.6.8"
  }
 },
 "nbformat": 4,
 "nbformat_minor": 2
}
