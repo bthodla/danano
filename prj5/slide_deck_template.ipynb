{
  "nbformat": 4,
  "nbformat_minor": 0,
  "metadata": {
    "colab": {
      "name": "slide_deck_template.ipynb",
      "version": "0.3.2",
      "provenance": [],
      "collapsed_sections": [],
      "include_colab_link": true
    },
    "language_info": {
      "codemirror_mode": {
        "name": "ipython",
        "version": 3
      },
      "file_extension": ".py",
      "mimetype": "text/x-python",
      "name": "python",
      "nbconvert_exporter": "python",
      "pygments_lexer": "ipython3",
      "version": "3.5.3"
    },
    "kernelspec": {
      "display_name": "Python [default]",
      "language": "python",
      "name": "python3"
    }
  },
  "cells": [
    {
      "cell_type": "markdown",
      "metadata": {
        "id": "view-in-github",
        "colab_type": "text"
      },
      "source": [
        "<a href=\"https://colab.research.google.com/github/bthodla/danano/blob/master/prj5/slide_deck_template.ipynb\" target=\"_parent\"><img src=\"https://colab.research.google.com/assets/colab-badge.svg\" alt=\"Open In Colab\"/></a>"
      ]
    },
    {
      "cell_type": "markdown",
      "metadata": {
        "id": "VaOFEbecGPuY",
        "colab_type": "text"
      },
      "source": [
        "# An Analysis of Prosper Loan Data\n",
        "## by Bhasker Thodla"
      ]
    },
    {
      "cell_type": "markdown",
      "metadata": {
        "id": "kDFgEjHoGPuZ",
        "colab_type": "text"
      },
      "source": [
        "## Investigation Overview\n",
        "\n",
        "> My goal is to present my analysis of the Prosper Loan data focusing on the efficacy of the loan strategy in terms of the health of loans granted, their recoverability and demographics\n",
        "\n",
        "## Dataset Overview\n",
        "\n",
        "> The dataset includes about 114,000 loan records from Prosper Loans, a company founded in 2005 to facilitate peer-to-peer lending in the US. The loan data is duly obfuscated to hide the identities of both borrowers and lenders and contains no peronally identifiable information (PII) to protect the privacy of the participants.\n",
        "\n",
        "> The loan data provided ranges over a period from Nov 2005 to Mar 2014 (by loan origination date)\n",
        "\n",
        "> The data is mostly clean although there are missing values in several fields"
      ]
    },
    {
      "cell_type": "code",
      "metadata": {
        "id": "d1uWEAaKGPub",
        "colab_type": "code",
        "colab": {}
      },
      "source": [
        "# import all packages and set plots to be embedded inline\n",
        "import numpy as np\n",
        "import pandas as pd\n",
        "import matplotlib.pyplot as plt\n",
        "import seaborn as sb\n",
        "from google.colab import drive\n",
        "\n",
        "%matplotlib inline\n",
        "\n",
        "# suppress warnings from final output\n",
        "import warnings\n",
        "warnings.simplefilter(\"ignore\")\n",
        "\n",
        "# To suppress numeric values from being returned in exponential format\n",
        "pd.options.display.float_format = '{:20,.2f}'.format\n",
        "\n",
        "# To display all charts against a white background\n",
        "plt.style.use('seaborn-whitegrid')"
      ],
      "execution_count": 0,
      "outputs": []
    },
    {
      "cell_type": "code",
      "metadata": {
        "id": "Iuwyj5spGPue",
        "colab_type": "code",
        "colab": {
          "base_uri": "https://localhost:8080/",
          "height": 34
        },
        "outputId": "4aaae3d9-d980-4c37-88af-9e13ceab4a1d"
      },
      "source": [
        "# load in the dataset into a pandas dataframe\n",
        "# Loading the Prosper Loan data saved in Google Drive\n",
        "# from google.colab import drive\n",
        "\n",
        "drive.mount('/content/gdrive')\n",
        "data_folder = '/content/gdrive/My Drive/Colab Notebooks/data_visualization/prj5/'\n",
        "prosper_loan_data_file = data_folder + 'prosperLoanDataAdj.csv'\n",
        "pld_df = pd.read_csv(prosper_loan_data_file)\n",
        "\n",
        "# We will set the order of Nominal Variables to represent the correct order in visualizations\n",
        "loan_status_order = pld_df['LoanStatus'].value_counts().index\n",
        "listing_category_order = pld_df['ListingCategoryStr'].value_counts().index\n",
        "borrower_state_order = pld_df['BorrowerState'].value_counts().index\n",
        "comb_credit_rating_order = ['NC', 'HR', 'E', 'D', 'C', 'B', 'A', 'AA']\n",
        "income_range_order = ['$0', '$1-24,999', '$25,000-49,999', '$50,000-74,999', '$75,000-99,999', '$100,000+', 'Not displayed', 'Not employed']\n",
        "\n",
        "# Finally, we will create separate dataframes for aggregate groupings - one by Income Range and another by Loan Origination Year\n",
        "pld_df_ir = pld_df.groupby('IncomeRange').sum()[['LoanOriginalAmount', 'AmountDelinquent', 'LP_NetPrincipalLoss']].reset_index()\n",
        "pld_df_year = pld_df.groupby('LoanOriginationYear').sum()[['LoanOriginalAmount', 'AmountDelinquent', 'LP_NetPrincipalLoss']].reset_index()\n"
      ],
      "execution_count": 5,
      "outputs": [
        {
          "output_type": "stream",
          "text": [
            "Drive already mounted at /content/gdrive; to attempt to forcibly remount, call drive.mount(\"/content/gdrive\", force_remount=True).\n"
          ],
          "name": "stdout"
        }
      ]
    },
    {
      "cell_type": "code",
      "metadata": {
        "id": "Qv2r3W7ic6WB",
        "colab_type": "code",
        "colab": {
          "base_uri": "https://localhost:8080/",
          "height": 204
        },
        "outputId": "bcc0ce6f-db0f-4fe9-9df5-2564d838c756"
      },
      "source": [
        "pld_df_year.head()"
      ],
      "execution_count": 7,
      "outputs": [
        {
          "output_type": "execute_result",
          "data": {
            "text/html": [
              "<div>\n",
              "<style scoped>\n",
              "    .dataframe tbody tr th:only-of-type {\n",
              "        vertical-align: middle;\n",
              "    }\n",
              "\n",
              "    .dataframe tbody tr th {\n",
              "        vertical-align: top;\n",
              "    }\n",
              "\n",
              "    .dataframe thead th {\n",
              "        text-align: right;\n",
              "    }\n",
              "</style>\n",
              "<table border=\"1\" class=\"dataframe\">\n",
              "  <thead>\n",
              "    <tr style=\"text-align: right;\">\n",
              "      <th></th>\n",
              "      <th>LoanOriginationYear</th>\n",
              "      <th>LoanOriginalAmount</th>\n",
              "      <th>AmountDelinquent</th>\n",
              "      <th>LP_NetPrincipalLoss</th>\n",
              "    </tr>\n",
              "  </thead>\n",
              "  <tbody>\n",
              "    <tr>\n",
              "      <th>0</th>\n",
              "      <td>2005</td>\n",
              "      <td>78687</td>\n",
              "      <td>0.00</td>\n",
              "      <td>0.00</td>\n",
              "    </tr>\n",
              "    <tr>\n",
              "      <th>1</th>\n",
              "      <td>2006</td>\n",
              "      <td>28132199</td>\n",
              "      <td>0.00</td>\n",
              "      <td>7,238,617.32</td>\n",
              "    </tr>\n",
              "    <tr>\n",
              "      <th>2</th>\n",
              "      <td>2007</td>\n",
              "      <td>80787786</td>\n",
              "      <td>14,127,473.00</td>\n",
              "      <td>23,048,548.36</td>\n",
              "    </tr>\n",
              "    <tr>\n",
              "      <th>3</th>\n",
              "      <td>2008</td>\n",
              "      <td>69561850</td>\n",
              "      <td>9,807,577.00</td>\n",
              "      <td>16,130,235.49</td>\n",
              "    </tr>\n",
              "    <tr>\n",
              "      <th>4</th>\n",
              "      <td>2009</td>\n",
              "      <td>8914396</td>\n",
              "      <td>887,316.00</td>\n",
              "      <td>800,158.90</td>\n",
              "    </tr>\n",
              "  </tbody>\n",
              "</table>\n",
              "</div>"
            ],
            "text/plain": [
              "   LoanOriginationYear  ...  LP_NetPrincipalLoss\n",
              "0                 2005  ...                 0.00\n",
              "1                 2006  ...         7,238,617.32\n",
              "2                 2007  ...        23,048,548.36\n",
              "3                 2008  ...        16,130,235.49\n",
              "4                 2009  ...           800,158.90\n",
              "\n",
              "[5 rows x 4 columns]"
            ]
          },
          "metadata": {
            "tags": []
          },
          "execution_count": 7
        }
      ]
    },
    {
      "cell_type": "markdown",
      "metadata": {
        "id": "JIdfY_pbGPuh",
        "colab_type": "text"
      },
      "source": [
        "> Note that the above cells have been set as \"Skip\"-type slides. That means\n",
        "that when the notebook is rendered as http slides, those cells won't show up."
      ]
    },
    {
      "cell_type": "markdown",
      "metadata": {
        "id": "tQ54ljM2GPui",
        "colab_type": "text"
      },
      "source": [
        "\n",
        "\n",
        "```\n",
        "# This is formatted as code\n",
        "```\n",
        "\n",
        "## 1. Year-over-year trend of Original Loan Amounts, Delinquencies and Net Principal Losses\n",
        "\n",
        "> This visualization provides the following insights:\n",
        ">> In general, yearly totals of Loan Amounts showed an increasing trend with some exceptions. For example, 2009 and 2014\n",
        ">> However, Loan Delinquencies and Net Princial Losses were mostly flat indicating that they didn't rise correspondingly\n",
        ">> In the years 2005 and 2007, Net Princial Losses were higher than Loan Delinquencies \n",
        "\n",
        "### Conclusion\n",
        "> This shows that, in general, assessment of Borrowers' ability to repay (in other words, Loan Strategy)  was sound."
      ]
    },
    {
      "cell_type": "code",
      "metadata": {
        "id": "IGEStZbuGPuj",
        "colab_type": "code",
        "colab": {
          "base_uri": "https://localhost:8080/",
          "height": 400
        },
        "outputId": "4df894f5-3fc5-4a4b-c816-63116304fc80"
      },
      "source": [
        "plt.figure(figsize=(12,6))\n",
        "\n",
        "plt.plot(pld_df_year.LoanOriginationYear, pld_df_year.LoanOriginalAmount, color='green')\n",
        "plt.plot(pld_df_year.LoanOriginationYear, pld_df_year.AmountDelinquent, color='blue')\n",
        "plt.plot(pld_df_year.LoanOriginationYear, pld_df_year.LP_NetPrincipalLoss, color='red')\n",
        "plt.xlabel('Origination Year')\n",
        "plt.ylabel('Amounts')\n",
        "plt.title('Trends in Loans, Delinquencies and Principal Losses over years')\n",
        "plt.show()"
      ],
      "execution_count": 10,
      "outputs": [
        {
          "output_type": "display_data",
          "data": {
            "image/png": "[encoded data removed]",
            "text/plain": [
              "<Figure size 864x432 with 1 Axes>"
            ]
          },
          "metadata": {
            "tags": []
          }
        }
      ]
    },
    {
      "cell_type": "markdown",
      "metadata": {
        "collapsed": true,
        "id": "ok98EsdxGPum",
        "colab_type": "text"
      },
      "source": [
        "## (Visualization 2)\n",
        "\n",
        "> You should have at least three visualizations in your presentation,\n",
        "but feel free to add more if you'd like!"
      ]
    },
    {
      "cell_type": "code",
      "metadata": {
        "id": "anvp8ytEGPun",
        "colab_type": "code",
        "colab": {}
      },
      "source": [
        ""
      ],
      "execution_count": 0,
      "outputs": []
    },
    {
      "cell_type": "markdown",
      "metadata": {
        "id": "Q8grfjQcGPuq",
        "colab_type": "text"
      },
      "source": [
        "## (Visualization 3)\n",
        "\n"
      ]
    },
    {
      "cell_type": "code",
      "metadata": {
        "id": "6sdvHlIAGPur",
        "colab_type": "code",
        "colab": {}
      },
      "source": [
        ""
      ],
      "execution_count": 0,
      "outputs": []
    },
    {
      "cell_type": "markdown",
      "metadata": {
        "id": "Xgj7_LgEGPuv",
        "colab_type": "text"
      },
      "source": [
        "> Once you're ready to finish your presentation, check your output by using\n",
        "nbconvert to export the notebook and set up a server for the slides. From the\n",
        "terminal or command line, use the following expression:\n",
        "> > `jupyter nbconvert <file_name>.ipynb --to slides --post serve --template output_toggle`\n",
        "\n",
        "> This should open a tab in your web browser where you can scroll through your\n",
        "presentation. Sub-slides can be accessed by pressing 'down' when viewing its parent\n",
        "slide. Make sure you remove all of the quote-formatted guide notes like this one\n",
        "before you finish your presentation!"
      ]
    },
    {
      "cell_type": "code",
      "metadata": {
        "id": "YFZs9hw-GPuw",
        "colab_type": "code",
        "colab": {}
      },
      "source": [
        ""
      ],
      "execution_count": 0,
      "outputs": []
    }
  ]
}