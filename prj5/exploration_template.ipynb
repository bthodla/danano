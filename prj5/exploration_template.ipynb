{
 "cells": [
  {
   "cell_type": "markdown",
   "metadata": {
    "colab_type": "text",
    "id": "60clQlWAYeFa"
   },
   "source": [
    "# Prosper Loan Data\n",
    "## by Bhasker Thodla\n",
    "\n",
    "## Preliminary Wrangling\n",
    "\n",
    "> The dataset includes about 114,000 loan records from Prosper Loans, a company founded in 2005 to facilitate peer-to-peer lending in the US. The loan data is duly obfuscated to hide the identities of both borrowers and lenders and contains no peronally identifiable information (PII) to protect the privacy of the participants.\n",
    "\n",
    "> The loan data provided ranges over a period from Nov 2005 to Mar 2014 (by loan origination date)\n",
    "\n",
    "> The data is mostly clean although there are missing values in several fields\n",
    "\n",
    "> No data wrangling has been done on this data\n",
    "\n"
   ]
  },
  {
   "cell_type": "code",
   "execution_count": 90,
   "metadata": {
    "colab": {},
    "colab_type": "code",
    "id": "lSQfvTA4YeFe"
   },
   "outputs": [],
   "source": [
    "# import all packages and set plots to be embedded inline\n",
    "import numpy as np\n",
    "import pandas as pd\n",
    "import matplotlib.pyplot as plt\n",
    "import seaborn as sb\n",
    "# from google.colab import drive\n",
    "%matplotlib inline\n",
    "\n",
    "# To supporess budget and revenue values from being returned in exponential format\n",
    "pd.options.display.float_format = '{:20,.2f}'.format\n"
   ]
  },
  {
   "cell_type": "markdown",
   "metadata": {
    "colab_type": "text",
    "id": "vvnk3rGSYeFi"
   },
   "source": [
    "> Load in your dataset and describe its properties through the questions below.\n",
    "Try and motivate your exploration goals through this section."
   ]
  },
  {
   "cell_type": "code",
   "execution_count": 12,
   "metadata": {
    "colab": {
     "base_uri": "https://localhost:8080/",
     "height": 122
    },
    "colab_type": "code",
    "id": "Wr_j8dNuZMam",
    "outputId": "2a438f3c-d04f-47b8-ee4e-692aba0cb297"
   },
   "outputs": [],
   "source": [
    "# Loading the Prosper Loan data saved in Google Drive\n",
    "# from google.colab import drive\n",
    "\n",
    "# drive.mount('/content/gdrive')\n",
    "# data_folder = '/content/gdrive/My Drive/Colab Notebooks/data_visualization/prj5/prosperLoanData.csv'\n",
    "data_folder = 'C:\\\\Users\\\\bhask\\\\Google Drive\\\\Colab Notebooks\\\\data_visualization\\\\prj5\\\\'\n",
    "prosper_loan_data_file = data_folder + 'prosperLoanData.csv'\n",
    "pld_full_df = pd.read_csv(prosper_loan_data_file)"
   ]
  },
  {
   "cell_type": "code",
   "execution_count": 13,
   "metadata": {
    "colab": {},
    "colab_type": "code",
    "id": "qL9r_wBmQQyg"
   },
   "outputs": [],
   "source": [
    "# Some cleanup\n",
    "# We will begin with renaming some columns\n",
    "\n",
    "pld_full_df = pld_full_df.rename(columns = {'ProsperRating (numeric)': 'ProsperRating', 'ProsperRating (Alpha)': 'ProsperRatingStr', 'ListingCategory (numeric)': 'ListingCategory', 'TradesNeverDelinquent (percentage)': 'TradesNeverDelinquentPct'})\n",
    "\n",
    "# We will then pick a subset of columns for analysis and exclude the rest by creating a new dataframe\n",
    "sel_columns = [\n",
    "    'ListingKey',\n",
    "    'LoanStatus',\n",
    "    'ProsperRatingStr',\n",
    "    'ListingCategory',\n",
    "    'BorrowerState',\n",
    "    'CreditGrade',\n",
    "    'ProsperScore',\n",
    "    'IncomeRange',\n",
    "    'BorrowerRate',\n",
    "    'AmountDelinquent',\n",
    "    'StatedMonthlyIncome',\n",
    "    'LoanOriginalAmount',\n",
    "    'LoanOriginationDate',\n",
    "    'LP_NetPrincipalLoss',\n",
    "    'Term',\n",
    "    'CurrentDelinquencies',\n",
    "    'LoanCurrentDaysDelinquent'\n",
    "]\n",
    "\n",
    "\n",
    "pld_df = pld_full_df[sel_columns]"
   ]
  },
  {
   "cell_type": "markdown",
   "metadata": {
    "colab_type": "text",
    "id": "svCxXaBOl_dI"
   },
   "source": [
    "### What is the structure of your dataset?\n",
    "\n",
    "> After selecting a subset of columns from the dataset (after discarding some that I will not be using in my analysis) into a new dataframe, I have classified the elements in my dataset into their respective types. This classification is given below:\n",
    "\n",
    "\n",
    "# Classification of data fields\n",
    "\n",
    "Key\n",
    "* ListingKey: I am using this as the key to each row in the dataset\n",
    "\n",
    "Qualitative - Nominal (Bar Charts - descending order of values - use countplot() function)\n",
    "* LoanStatus\n",
    "* ListingCategory\n",
    "* BorrowerState\n",
    "\n",
    "Qualitative - Ordinal (Bar Charts - order of rating - use Seaborn's countplot() function)\n",
    "* CreditGrade\n",
    "* ProsperRating\n",
    "* ProsperScore\n",
    "* IncomeRange\n",
    "\n",
    "Quantitative - Continuous (Histograms - use hist() or distplot() functions)\n",
    "* BorrowerRate\n",
    "* AmountDelinquent\n",
    "* StatedMonthlyIncome\n",
    "* LoanOriginalAmount\n",
    "* LP_NetPrincipalLoss\n",
    "\n",
    "Quantitative - Discrete (Bar Charts - use  countplot() function)\n",
    "* Term\n",
    "* CurrentDelinquencies\n",
    "* LoanCurrentDaysDelinquent\n",
    "\n",
    "Quantitative - Interval (Line plots using errorbar() function)\n",
    "* LoanOriginationDate"
   ]
  },
  {
   "cell_type": "markdown",
   "metadata": {
    "colab_type": "text",
    "id": "owL3LF3VQNLo"
   },
   "source": [
    "### What is/are the main feature(s) of interest in your dataset?\n",
    "\n",
    "> Distribution of Loan/Delinquent Loan/Net Principal Loss/Borrower Rate by\n",
    ">* Geographic location (State)\n",
    ">* Income Range\n",
    ">* Listing Category\n",
    "\n",
    "> Aggregation of Loan/Delinquent Loan/Net Principal Loss by \n",
    ">* Rating\n",
    ">* Credit Score\n",
    ">* Loan Status\n"
   ]
  },
  {
   "cell_type": "code",
   "execution_count": 14,
   "metadata": {
    "colab": {
     "base_uri": "https://localhost:8080/",
     "height": 34
    },
    "colab_type": "code",
    "id": "9bl0VuN3yWW4",
    "outputId": "d6c9746d-8bab-40fb-939f-95c25ae39d91"
   },
   "outputs": [
    {
     "name": "stdout",
     "output_type": "stream",
     "text": [
      "Number of rows and columns:  (113937, 17)\n"
     ]
    }
   ],
   "source": [
    "# Some preliminary statistics about the data\n",
    "print ('%s %s' % ('Number of rows and columns: ', pld_df.shape))\n",
    "# print (pld_df.describe())"
   ]
  },
  {
   "cell_type": "code",
   "execution_count": 15,
   "metadata": {
    "colab": {},
    "colab_type": "code",
    "id": "eMCsx8IaZMXX"
   },
   "outputs": [
    {
     "data": {
      "text/plain": [
       "LoanStatus\n",
       "Cancelled                     5\n",
       "Chargedoff                11992\n",
       "Completed                 38074\n",
       "Current                   56576\n",
       "Defaulted                  5018\n",
       "FinalPaymentInProgress      205\n",
       "Past Due (1-15 days)        806\n",
       "Past Due (16-30 days)       265\n",
       "Past Due (31-60 days)       363\n",
       "Past Due (61-90 days)       313\n",
       "Past Due (91-120 days)      304\n",
       "Past Due (>120 days)         16\n",
       "dtype: int64"
      ]
     },
     "execution_count": 15,
     "metadata": {},
     "output_type": "execute_result"
    }
   ],
   "source": [
    "pld_df.groupby('LoanStatus').size()"
   ]
  },
  {
   "cell_type": "code",
   "execution_count": 16,
   "metadata": {
    "colab": {},
    "colab_type": "code",
    "id": "IZwC5eNbZMDF"
   },
   "outputs": [
    {
     "data": {
      "text/plain": [
       "ProsperRatingStr\n",
       "A     14551\n",
       "AA     5372\n",
       "B     15581\n",
       "C     18345\n",
       "D     14274\n",
       "E      9795\n",
       "HR     6935\n",
       "dtype: int64"
      ]
     },
     "execution_count": 16,
     "metadata": {},
     "output_type": "execute_result"
    }
   ],
   "source": [
    "pld_df.groupby('ProsperRatingStr').size()"
   ]
  },
  {
   "cell_type": "code",
   "execution_count": 17,
   "metadata": {
    "colab": {},
    "colab_type": "code",
    "id": "ek2KbOOxYeFi"
   },
   "outputs": [
    {
     "name": "stderr",
     "output_type": "stream",
     "text": [
      "C:\\Users\\bhask\\Anaconda3\\lib\\site-packages\\ipykernel_launcher.py:22: SettingWithCopyWarning: \n",
      "A value is trying to be set on a copy of a slice from a DataFrame.\n",
      "Try using .loc[row_indexer,col_indexer] = value instead\n",
      "\n",
      "See the caveats in the documentation: http://pandas.pydata.org/pandas-docs/stable/indexing.html#indexing-view-versus-copy\n"
     ]
    },
    {
     "data": {
      "text/plain": [
       "Debt Consolidation    58308\n",
       "Not Available         16965\n",
       "Other                 10494\n",
       "Home Improvement       7433\n",
       "Business               7189\n",
       "Auto                   2572\n",
       "Personal Loan          2395\n",
       "Household Expenses     1996\n",
       "Medical/Dental         1522\n",
       "Taxes                   885\n",
       "Large Purchases         876\n",
       "Wedding Loans           771\n",
       "Vacation                768\n",
       "Student Use             756\n",
       "Motorcycle              304\n",
       "Engagement Ring         217\n",
       "Baby&Adoption           199\n",
       "Cosmetic Procedure       91\n",
       "Boat                     85\n",
       "Green Loans              59\n",
       "RV                       52\n",
       "Name: ListingCategoryStr, dtype: int64"
      ]
     },
     "execution_count": 17,
     "metadata": {},
     "output_type": "execute_result"
    }
   ],
   "source": [
    "pld_df['ListingCategoryStr'] = pld_df['ListingCategory'].map({\n",
    "        0: 'Not Available', \n",
    "        1: 'Debt Consolidation', \n",
    "        2: 'Home Improvement', \n",
    "        3: 'Business', \n",
    "        4: 'Personal Loan', \n",
    "        5: 'Student Use', \n",
    "        6: 'Auto', \n",
    "        7: 'Other', \n",
    "        8: 'Baby&Adoption', \n",
    "        9: 'Boat', \n",
    "        10: 'Cosmetic Procedure', \n",
    "        11: 'Engagement Ring', \n",
    "        12: 'Green Loans', \n",
    "        13: 'Household Expenses', \n",
    "        14: 'Large Purchases', \n",
    "        15: 'Medical/Dental', \n",
    "        16: 'Motorcycle', \n",
    "        17: 'RV', \n",
    "        18: 'Taxes', \n",
    "        19: 'Vacation', \n",
    "        20: 'Wedding Loans'})\n",
    "\n",
    "pld_df['ListingCategoryStr'].value_counts()"
   ]
  },
  {
   "cell_type": "code",
   "execution_count": 18,
   "metadata": {},
   "outputs": [
    {
     "name": "stderr",
     "output_type": "stream",
     "text": [
      "C:\\Users\\bhask\\Anaconda3\\lib\\site-packages\\ipykernel_launcher.py:1: SettingWithCopyWarning: \n",
      "A value is trying to be set on a copy of a slice from a DataFrame.\n",
      "Try using .loc[row_indexer,col_indexer] = value instead\n",
      "\n",
      "See the caveats in the documentation: http://pandas.pydata.org/pandas-docs/stable/indexing.html#indexing-view-versus-copy\n",
      "  \"\"\"Entry point for launching an IPython kernel.\n"
     ]
    }
   ],
   "source": [
    "pld_df['CombCreditRating'] = pld_df['CreditGrade'].fillna(pld_df['ProsperRatingStr'])"
   ]
  },
  {
   "cell_type": "code",
   "execution_count": 19,
   "metadata": {},
   "outputs": [
    {
     "data": {
      "text/plain": [
       "ProsperScore\n",
       "1.0       992\n",
       "2.0      5766\n",
       "3.0      7642\n",
       "4.0     12595\n",
       "5.0      9813\n",
       "6.0     12278\n",
       "7.0     10597\n",
       "8.0     12053\n",
       "9.0      6911\n",
       "10.0     4750\n",
       "11.0     1456\n",
       "dtype: int64"
      ]
     },
     "execution_count": 19,
     "metadata": {},
     "output_type": "execute_result"
    }
   ],
   "source": [
    "pld_df.groupby('ProsperScore').size()"
   ]
  },
  {
   "cell_type": "code",
   "execution_count": 20,
   "metadata": {},
   "outputs": [
    {
     "data": {
      "text/plain": [
       "IncomeRange\n",
       "$0                  621\n",
       "$1-24,999          7274\n",
       "$100,000+         17337\n",
       "$25,000-49,999    32192\n",
       "$50,000-74,999    31050\n",
       "$75,000-99,999    16916\n",
       "Not displayed      7741\n",
       "Not employed        806\n",
       "dtype: int64"
      ]
     },
     "execution_count": 20,
     "metadata": {},
     "output_type": "execute_result"
    }
   ],
   "source": [
    "pld_df.groupby('IncomeRange').size()"
   ]
  },
  {
   "cell_type": "code",
   "execution_count": 33,
   "metadata": {},
   "outputs": [
    {
     "data": {
      "text/plain": [
       "BorrowerRate\n",
       "0.0000       8\n",
       "0.0001       1\n",
       "0.0005       1\n",
       "0.0021       1\n",
       "0.0050       1\n",
       "0.0099       1\n",
       "0.0100      11\n",
       "0.0115       1\n",
       "0.0150       1\n",
       "0.0295       1\n",
       "0.0300       8\n",
       "0.0345       1\n",
       "0.0350       1\n",
       "0.0395       1\n",
       "0.0400      12\n",
       "0.0423       1\n",
       "0.0425       2\n",
       "0.0435       1\n",
       "0.0440       1\n",
       "0.0450       2\n",
       "0.0480       1\n",
       "0.0481       1\n",
       "0.0489       1\n",
       "0.0490       1\n",
       "0.0495       2\n",
       "0.0498       1\n",
       "0.0499      46\n",
       "0.0500      59\n",
       "0.0509       1\n",
       "0.0510       1\n",
       "          ... \n",
       "0.3461       1\n",
       "0.3464       1\n",
       "0.3465       3\n",
       "0.3470       4\n",
       "0.3475      14\n",
       "0.3476       1\n",
       "0.3478       1\n",
       "0.3480      11\n",
       "0.3484       3\n",
       "0.3485       8\n",
       "0.3487       1\n",
       "0.3489       1\n",
       "0.3490       7\n",
       "0.3492       6\n",
       "0.3494       6\n",
       "0.3495      37\n",
       "0.3496       1\n",
       "0.3497       2\n",
       "0.3498       4\n",
       "0.3499      27\n",
       "0.3500    1905\n",
       "0.3530       1\n",
       "0.3570       2\n",
       "0.3575      21\n",
       "0.3600      17\n",
       "0.3750       1\n",
       "0.4000       2\n",
       "0.4500       3\n",
       "0.4800       1\n",
       "0.4975       2\n",
       "Length: 2294, dtype: int64"
      ]
     },
     "execution_count": 33,
     "metadata": {},
     "output_type": "execute_result"
    }
   ],
   "source": [
    "pld_df.groupby('BorrowerRate').size()"
   ]
  },
  {
   "cell_type": "markdown",
   "metadata": {
    "colab_type": "text",
    "id": "Lw5j1sIEYeFl"
   },
   "source": [
    "### What features in the dataset do you think will help support your investigation into your feature(s) of interest?\n",
    "\n",
    "* The large volumne of data (about 114k loan records)\n",
    "* The following features of borrowers\n",
    "    * Geographic distribution\n",
    "    * Income range\n",
    "    * Rating\n",
    "    * Credit Score\n",
    "* The following features of the loans themselves\n",
    "    * "
   ]
  },
  {
   "cell_type": "markdown",
   "metadata": {
    "colab_type": "text",
    "id": "hW2XyfxvYeFm"
   },
   "source": [
    "## Univariate Exploration\n",
    "\n",
    "> In this section, investigate distributions of individual variables. If\n",
    "you see unusual points or outliers, take a deeper look to clean things up\n",
    "and prepare yourself to look at relationships between variables."
   ]
  },
  {
   "cell_type": "code",
   "execution_count": 21,
   "metadata": {
    "colab": {},
    "colab_type": "code",
    "id": "jpmL-rVzYeFn"
   },
   "outputs": [
    {
     "data": {
      "image/png": "[encoded data removed]",
      "text/plain": [
       "<Figure size 432x288 with 1 Axes>"
      ]
     },
     "metadata": {
      "needs_background": "light"
     },
     "output_type": "display_data"
    }
   ],
   "source": [
    "# Distribution of Loan Status\n",
    "gen_order = pld_df['LoanStatus'].value_counts().index\n",
    "fig = plt.figure()\n",
    "ax = fig.add_axes([.125, .125, 1.0, 1.0])\n",
    "base_color = sb.color_palette()[0]\n",
    "sb.countplot(data = pld_df, x = 'LoanStatus', color = base_color, ax = ax, order = gen_order)\n",
    "plt.xticks(rotation = 30);\n"
   ]
  },
  {
   "cell_type": "code",
   "execution_count": 22,
   "metadata": {},
   "outputs": [
    {
     "data": {
      "image/png": "[encoded data removed]",
      "text/plain": [
       "<Figure size 842.4x595.44 with 1 Axes>"
      ]
     },
     "metadata": {
      "needs_background": "light"
     },
     "output_type": "display_data"
    }
   ],
   "source": [
    "# Distribution of Listing Category\n",
    "gen_order = pld_df['ListingCategoryStr'].value_counts().index\n",
    "fig = plt.figure()\n",
    "ax = fig.add_axes([.125, .125, 1.0, 1.0])\n",
    "base_color = sb.color_palette()[0]\n",
    "fig.set_size_inches(11.7, 8.27)\n",
    "sb.countplot(data = pld_df, y = 'ListingCategoryStr', color = base_color, ax = ax, order = gen_order)\n",
    "plt.xticks(rotation = 30);"
   ]
  },
  {
   "cell_type": "code",
   "execution_count": 23,
   "metadata": {},
   "outputs": [
    {
     "data": {
      "text/plain": [
       "<matplotlib.axes._axes.Axes at 0x2398c62ee80>"
      ]
     },
     "execution_count": 23,
     "metadata": {},
     "output_type": "execute_result"
    },
    {
     "data": {
      "image/png": "[encoded data removed]",
      "text/plain": [
       "<Figure size 842.4x595.44 with 1 Axes>"
      ]
     },
     "metadata": {
      "needs_background": "light"
     },
     "output_type": "display_data"
    }
   ],
   "source": [
    "# Distribution of Borrower State\n",
    "gen_order = pld_df['BorrowerState'].value_counts().index\n",
    "fig = plt.figure()\n",
    "ax = fig.add_axes([.125, .125, 1.0, 1.0])\n",
    "base_color = sb.color_palette()[0]\n",
    "fig.set_size_inches(11.7, 8.27)\n",
    "sb.countplot(data = pld_df, y = 'BorrowerState', color = base_color, ax = ax, order = gen_order)\n",
    "# plt.xticks(rotation = 90);"
   ]
  },
  {
   "cell_type": "code",
   "execution_count": 26,
   "metadata": {},
   "outputs": [
    {
     "data": {
      "image/png": "[encoded data removed]",
      "text/plain": [
       "<Figure size 432x288 with 1 Axes>"
      ]
     },
     "metadata": {
      "needs_background": "light"
     },
     "output_type": "display_data"
    }
   ],
   "source": [
    "# Distribution of Prosper Rating\n",
    "\n",
    "level_order = ['HR', 'E', 'D', 'C', 'B', 'A', 'AA']\n",
    "fig = plt.figure()\n",
    "ax = fig.add_axes([.125, .125, 1.0, 1.0])\n",
    "base_color = sb.color_palette()[0]\n",
    "sb.countplot(data = pld_df, x = 'ProsperRatingStr', color = base_color, ax = ax, order = level_order)\n",
    "plt.xticks(rotation = 30);"
   ]
  },
  {
   "cell_type": "code",
   "execution_count": 27,
   "metadata": {},
   "outputs": [
    {
     "data": {
      "image/png": "[encoded data removed]",
      "text/plain": [
       "<Figure size 432x288 with 1 Axes>"
      ]
     },
     "metadata": {
      "needs_background": "light"
     },
     "output_type": "display_data"
    }
   ],
   "source": [
    "# Distribution of Combined Credit Rating\n",
    "level_order_credit_grade = ['NC', 'HR', 'E', 'D', 'C', 'B', 'A', 'AA']\n",
    "fig = plt.figure()\n",
    "ax = fig.add_axes([.125, .125, 1.0, 1.0])\n",
    "base_color = sb.color_palette()[0]\n",
    "sb.countplot(data = pld_df, x = 'CombCreditRating', color = base_color, ax = ax, order = level_order_credit_grade)\n",
    "plt.xticks(rotation = 30);\n"
   ]
  },
  {
   "cell_type": "code",
   "execution_count": 28,
   "metadata": {},
   "outputs": [
    {
     "data": {
      "image/png": "[encoded data removed]",
      "text/plain": [
       "<Figure size 432x288 with 1 Axes>"
      ]
     },
     "metadata": {
      "needs_background": "light"
     },
     "output_type": "display_data"
    }
   ],
   "source": [
    "# Distribution of Prosper Score\n",
    "\n",
    "fig = plt.figure()\n",
    "ax = fig.add_axes([.125, .125, 1.0, 1.0])\n",
    "base_color = sb.color_palette()[0]\n",
    "sb.countplot(data = pld_df, x = 'ProsperScore', color = base_color, ax = ax)\n",
    "plt.xticks(rotation = 30);"
   ]
  },
  {
   "cell_type": "code",
   "execution_count": 31,
   "metadata": {},
   "outputs": [
    {
     "data": {
      "image/png": "[encoded data removed]",
      "text/plain": [
       "<Figure size 432x288 with 1 Axes>"
      ]
     },
     "metadata": {
      "needs_background": "light"
     },
     "output_type": "display_data"
    }
   ],
   "source": [
    "# Distribution of Income Range\n",
    "\n",
    "level_order_income_range = ['$0', '$1-24,999', '$25,000-49,999', '$50,000-74,999', '$75,000-99,999', '$100,000+', 'Not displayed', 'Not employed']\n",
    "fig = plt.figure()\n",
    "ax = fig.add_axes([.125, .125, 1.0, 1.0])\n",
    "base_color = sb.color_palette()[0]\n",
    "sb.countplot(data = pld_df, x = 'IncomeRange', color = base_color, ax = ax, order = level_order_income_range)\n",
    "plt.xticks(rotation = 30);"
   ]
  },
  {
   "cell_type": "code",
   "execution_count": 37,
   "metadata": {},
   "outputs": [
    {
     "data": {
      "image/png": "[encoded data removed]",
      "text/plain": [
       "<Figure size 432x288 with 1 Axes>"
      ]
     },
     "metadata": {
      "needs_background": "light"
     },
     "output_type": "display_data"
    }
   ],
   "source": [
    "# Plotting Borrower Rate\n",
    "\n",
    "bins = np.arange(0, pld_df['BorrowerRate'].max() + .01, .01)\n",
    "# plt.hist(data = pld_df, x = 'BorrowerRate', bins = bins);\n",
    "sb.distplot(pld_df['BorrowerRate'], kde = False);\n"
   ]
  },
  {
   "cell_type": "code",
   "execution_count": 85,
   "metadata": {},
   "outputs": [
    {
     "data": {
      "image/png": "[encoded data removed]",
      "text/plain": [
       "<Figure size 432x288 with 2 Axes>"
      ]
     },
     "metadata": {
      "needs_background": "light"
     },
     "output_type": "display_data"
    }
   ],
   "source": [
    "# Plotting AmountDelinquent\n",
    "# Before plotting, let us remove the rows where it is zero\n",
    "# pld_df_ad = pld_df.query('AmountDelinquent != 0')\n",
    "\n",
    "# left histogram: data plotted in natural units\n",
    "plt.subplot(1, 2, 1)\n",
    "bins = np.arange(pld_df['AmountDelinquent'].min(), pld_df['AmountDelinquent'].max() + 50000, 50000)\n",
    "plt.hist(data = pld_df, x = 'AmountDelinquent', bins = bins);\n",
    "\n",
    "plt.subplot(1, 2, 2)\n",
    "log_bin_edges = 10 ** np.arange(0.1, 10 + 0.1, 0.1)\n",
    "ticks = [1, 10, 100, 1000, 10000, 100000, 1000000]\n",
    "labels = ['{}'.format(v) for v in ticks]\n",
    "plt.hist(data = pld_df, x = 'AmountDelinquent', bins = log_bin_edges);\n",
    "plt.xscale('log')\n",
    "plt.xticks(ticks, labels);"
   ]
  },
  {
   "cell_type": "markdown",
   "metadata": {
    "colab_type": "text",
    "id": "adRiHnU7YeFp"
   },
   "source": [
    "> Make sure that, after every plot or related series of plots, that you\n",
    "include a Markdown cell with comments about what you observed, and what\n",
    "you plan on investigating next."
   ]
  },
  {
   "cell_type": "code",
   "execution_count": 105,
   "metadata": {
    "colab": {},
    "colab_type": "code",
    "id": "eDgxo1YyYeFq"
   },
   "outputs": [
    {
     "data": {
      "image/png": "[encoded data removed]",
      "text/plain": [
       "<Figure size 432x288 with 2 Axes>"
      ]
     },
     "metadata": {
      "needs_background": "light"
     },
     "output_type": "display_data"
    }
   ],
   "source": [
    "# Plotting AmountDelinquent\n",
    "\n",
    "# left histogram: data plotted in natural units\n",
    "plt.subplot(1, 2, 1)\n",
    "bins = np.arange(pld_df['StatedMonthlyIncome'].min(), pld_df['StatedMonthlyIncome'].max() + 5000, 5000)\n",
    "plt.hist(data = pld_df, x = 'StatedMonthlyIncome', bins = bins);\n",
    "\n",
    "plt.subplot(1, 2, 2)\n",
    "log_bin_edges = 10 ** np.arange(0.1, 10 + 0.1, 0.1)\n",
    "ticks = [1, 10, 100, 1000, 10000, 100000, 1000000, 10000000]\n",
    "labels = ['{}'.format(v) for v in ticks]\n",
    "plt.hist(data = pld_df, x = 'StatedMonthlyIncome', bins = log_bin_edges);\n",
    "plt.xscale('log')\n",
    "plt.xticks(ticks, labels);\n"
   ]
  },
  {
   "cell_type": "code",
   "execution_count": 117,
   "metadata": {},
   "outputs": [
    {
     "data": {
      "image/png": "[encoded data removed]",
      "text/plain": [
       "<Figure size 432x288 with 1 Axes>"
      ]
     },
     "metadata": {
      "needs_background": "light"
     },
     "output_type": "display_data"
    }
   ],
   "source": [
    "# Plotting LoanOriginalAmount\n",
    "\n",
    "# left histogram: data plotted in natural units\n",
    "bins = np.arange(pld_df['LoanOriginalAmount'].min(), pld_df['LoanOriginalAmount'].max() + 1000, 1000)\n",
    "plt.hist(data = pld_df, x = 'LoanOriginalAmount', bins = bins);\n"
   ]
  },
  {
   "cell_type": "code",
   "execution_count": 120,
   "metadata": {},
   "outputs": [
    {
     "data": {
      "image/png": "[encoded data removed]",
      "text/plain": [
       "<Figure size 432x288 with 2 Axes>"
      ]
     },
     "metadata": {
      "needs_background": "light"
     },
     "output_type": "display_data"
    }
   ],
   "source": [
    "# Plotting LP_NetPrincipalLoss\n",
    "\n",
    "# left histogram: data plotted in natural units\n",
    "plt.subplot(1, 2, 1)\n",
    "bins = np.arange(pld_df['LP_NetPrincipalLoss'].min(), pld_df['LP_NetPrincipalLoss'].max() + 1000, 1000)\n",
    "plt.hist(data = pld_df, x = 'LP_NetPrincipalLoss', bins = bins);\n",
    "\n",
    "# pld_df['LP_NetPrincipalLoss'].describe()\n",
    "\n",
    "plt.subplot(1, 2, 2)\n",
    "log_bin_edges = 10 ** np.arange(-1, 10 + 0.1, 0.1)\n",
    "ticks = [1, 10, 100, 1000, 10000, 100000, 1000000, 10000000]\n",
    "labels = ['{}'.format(v) for v in ticks]\n",
    "plt.hist(data = pld_df, x = 'StatedMonthlyIncome', bins = log_bin_edges);\n",
    "plt.xscale('log')\n",
    "plt.xticks(ticks, labels);\n"
   ]
  },
  {
   "cell_type": "code",
   "execution_count": 128,
   "metadata": {},
   "outputs": [
    {
     "data": {
      "image/png": "[encoded data removed]",
      "text/plain": [
       "<Figure size 432x288 with 1 Axes>"
      ]
     },
     "metadata": {
      "needs_background": "light"
     },
     "output_type": "display_data"
    }
   ],
   "source": [
    "bins = np.arange(pld_df['LoanCurrentDaysDelinquent'].min(), pld_df['LoanCurrentDaysDelinquent'].max() + 100, 100)\n",
    "plt.hist(data = pld_df, x = 'LoanCurrentDaysDelinquent', bins = bins);\n",
    "\n",
    "# pld_df['LoanCurrentDaysDelinquent'].describe()"
   ]
  },
  {
   "cell_type": "markdown",
   "metadata": {
    "colab_type": "text",
    "id": "2IDzUdClYeFs"
   },
   "source": [
    "### Discuss the distribution(s) of your variable(s) of interest. Were there any unusual points? Did you need to perform any transformations?\n",
    "\n",
    "> Your answer here!\n",
    "\n",
    "### Of the features you investigated, were there any unusual distributions? Did you perform any operations on the data to tidy, adjust, or change the form of the data? If so, why did you do this?\n",
    "\n",
    "> Your answer here!"
   ]
  },
  {
   "cell_type": "markdown",
   "metadata": {
    "colab_type": "text",
    "id": "OJbrVnVPYeFt"
   },
   "source": [
    "## Bivariate Exploration\n",
    "\n",
    "> In this section, investigate relationships between pairs of variables in your\n",
    "data. Make sure the variables that you cover here have been introduced in some\n",
    "fashion in the previous section (univariate exploration)."
   ]
  },
  {
   "cell_type": "code",
   "execution_count": 0,
   "metadata": {
    "colab": {},
    "colab_type": "code",
    "id": "ewzcpFX3YeFu"
   },
   "outputs": [],
   "source": []
  },
  {
   "cell_type": "markdown",
   "metadata": {
    "colab_type": "text",
    "id": "NDSXTppXYeFx"
   },
   "source": [
    "### Talk about some of the relationships you observed in this part of the investigation. How did the feature(s) of interest vary with other features in the dataset?\n",
    "\n",
    "> Your answer here!\n",
    "\n",
    "### Did you observe any interesting relationships between the other features (not the main feature(s) of interest)?\n",
    "\n",
    "> Your answer here!"
   ]
  },
  {
   "cell_type": "markdown",
   "metadata": {
    "colab_type": "text",
    "id": "pyfeWWkbYeFy"
   },
   "source": [
    "## Multivariate Exploration\n",
    "\n",
    "> Create plots of three or more variables to investigate your data even\n",
    "further. Make sure that your investigations are justified, and follow from\n",
    "your work in the previous sections."
   ]
  },
  {
   "cell_type": "code",
   "execution_count": 0,
   "metadata": {
    "colab": {},
    "colab_type": "code",
    "id": "nwVlEV72YeFz"
   },
   "outputs": [],
   "source": []
  },
  {
   "cell_type": "markdown",
   "metadata": {
    "colab_type": "text",
    "id": "PC8bURWhYeF2"
   },
   "source": [
    "### Talk about some of the relationships you observed in this part of the investigation. Were there features that strengthened each other in terms of looking at your feature(s) of interest?\n",
    "\n",
    "> Your answer here!\n",
    "\n",
    "### Were there any interesting or surprising interactions between features?\n",
    "\n",
    "> Your answer here!"
   ]
  },
  {
   "cell_type": "markdown",
   "metadata": {
    "colab_type": "text",
    "id": "7OiLh0JuYeF3"
   },
   "source": [
    "> At the end of your report, make sure that you export the notebook as an\n",
    "html file from the `File > Download as... > HTML` menu. Make sure you keep\n",
    "track of where the exported file goes, so you can put it in the same folder\n",
    "as this notebook for project submission. Also, make sure you remove all of\n",
    "the quote-formatted guide notes like this one before you finish your report!"
   ]
  },
  {
   "cell_type": "code",
   "execution_count": 0,
   "metadata": {
    "colab": {},
    "colab_type": "code",
    "id": "i0B8GQpVYeF5"
   },
   "outputs": [],
   "source": []
  }
 ],
 "metadata": {
  "colab": {
   "name": "Copy of exploration_template.ipynb",
   "provenance": [
    {
     "file_id": "https://github.com/bthodla/danano/blob/master/prj5/exploration_template.ipynb",
     "timestamp": 1556724445965
    }
   ],
   "version": "0.3.2"
  },
  "kernelspec": {
   "display_name": "Python 3",
   "language": "python",
   "name": "python3"
  },
  "language_info": {
   "codemirror_mode": {
    "name": "ipython",
    "version": 3
   },
   "file_extension": ".py",
   "mimetype": "text/x-python",
   "name": "python",
   "nbconvert_exporter": "python",
   "pygments_lexer": "ipython3",
   "version": "3.7.1"
  }
 },
 "nbformat": 4,
 "nbformat_minor": 1
}
