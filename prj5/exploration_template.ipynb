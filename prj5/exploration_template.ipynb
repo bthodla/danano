{
  "nbformat": 4,
  "nbformat_minor": 0,
  "metadata": {
    "colab": {
      "name": "exploration_template.ipynb",
      "version": "0.3.2",
      "provenance": [],
      "include_colab_link": true
    },
    "language_info": {
      "codemirror_mode": {
        "name": "ipython",
        "version": 3
      },
      "file_extension": ".py",
      "mimetype": "text/x-python",
      "name": "python",
      "nbconvert_exporter": "python",
      "pygments_lexer": "ipython3",
      "version": "3.5.3"
    },
    "kernelspec": {
      "display_name": "Python [default]",
      "language": "python",
      "name": "python3"
    }
  },
  "cells": [
    {
      "cell_type": "markdown",
      "metadata": {
        "id": "view-in-github",
        "colab_type": "text"
      },
      "source": [
        "<a href=\"https://colab.research.google.com/github/bthodla/danano/blob/master/prj5/exploration_template.ipynb\" target=\"_parent\"><img src=\"https://colab.research.google.com/assets/colab-badge.svg\" alt=\"Open In Colab\"/></a>"
      ]
    },
    {
      "metadata": {
        "id": "60clQlWAYeFa",
        "colab_type": "text"
      },
      "cell_type": "markdown",
      "source": [
        "# Prosper Loan Data\n",
        "## by Bhasker Thodla\n",
        "\n",
        "## Preliminary Wrangling\n",
        "\n",
        "> The dataset includes about 114,000 loan records from Prosper Loans, a company founded in 2005 to facilitate peer-to-peer lending in the US. The loan data is duly obfuscated to hide the identities of both borrowers and lenders and contains no peronally identifiable information (PII) to protect the privacy of the participants.\n",
        "\n",
        "> The loan data provided ranges over a period from Nov 2005 to Mar 2014 (by loan origination date)\n",
        "\n",
        "> The data is mostly clean although there are missing values in several fields\n",
        "\n",
        "> No data wrangling has been done on this data\n",
        "\n"
      ]
    },
    {
      "metadata": {
        "id": "lSQfvTA4YeFe",
        "colab_type": "code",
        "colab": {}
      },
      "cell_type": "code",
      "source": [
        "# import all packages and set plots to be embedded inline\n",
        "import numpy as np\n",
        "import pandas as pd\n",
        "import matplotlib.pyplot as plt\n",
        "import seaborn as sb\n",
        "from google.colab import drive\n",
        "%matplotlib inline"
      ],
      "execution_count": 0,
      "outputs": []
    },
    {
      "metadata": {
        "id": "Wr_j8dNuZMam",
        "colab_type": "code",
        "outputId": "6a43c137-0597-4376-f1c1-719a76c074d4",
        "colab": {
          "base_uri": "https://localhost:8080/",
          "height": 34
        }
      },
      "cell_type": "code",
      "source": [
        "# Loading the Prosper Loan data saved in Google Drive\n",
        "from google.colab import drive\n",
        "\n",
        "drive.mount('/content/gdrive')\n",
        "pld_full_df = pd.read_csv('/content/gdrive/My Drive/Colab Notebooks/data_visualization/prj5/prosperLoanData.csv')"
      ],
      "execution_count": 7,
      "outputs": [
        {
          "output_type": "stream",
          "text": [
            "Drive already mounted at /content/gdrive; to attempt to forcibly remount, call drive.mount(\"/content/gdrive\", force_remount=True).\n"
          ],
          "name": "stdout"
        }
      ]
    },
    {
      "metadata": {
        "id": "qL9r_wBmQQyg",
        "colab_type": "code",
        "colab": {}
      },
      "cell_type": "code",
      "source": [
        "# Some cleanup\n",
        "# We will begin with renaming some columns\n",
        "\n",
        "pld_full_df = pld_full_df.rename(columns = {'ProsperRating (numeric)': 'ProsperRating', 'ProsperRating (Alpha)': 'ProsperRatingStr', 'ListingCategory (numeric)': 'ListingCategory', 'TradesNeverDelinquent (percentage)': 'TradesNeverDelinquentPct'})\n",
        "\n",
        "# We will then pick a subset of columns for analysis and exclude the rest by creating a new dataframe\n",
        "sel_columns = [\n",
        "'ListingKey',\n",
        "'ListingCreationDate',\n",
        "'CreditGrade',\n",
        "'Term',\n",
        "'LoanStatus',\n",
        "'BorrowerAPR',\n",
        "'BorrowerRate',\n",
        "'LenderYield',\n",
        "'EstimatedEffectiveYield',\n",
        "'EstimatedLoss',\n",
        "'EstimatedReturn',\n",
        "'ProsperRating',\n",
        "'ProsperRatingStr',\n",
        "'ProsperScore',\n",
        "'ListingCategory',\n",
        "'BorrowerState',\n",
        "'Occupation',\n",
        "'EmploymentStatus',\n",
        "'EmploymentStatusDuration',\n",
        "'IsBorrowerHomeowner',\n",
        "'CreditScoreRangeLower',\n",
        "'CreditScoreRangeUpper',\n",
        "'FirstRecordedCreditLine',\n",
        "'CurrentCreditLines',\n",
        "'OpenCreditLines',\n",
        "'TotalCreditLinespast7years',\n",
        "'OpenRevolvingAccounts',\n",
        "'OpenRevolvingMonthlyPayment',\n",
        "'InquiriesLast6Months',\n",
        "'TotalInquiries',\n",
        "'CurrentDelinquencies',\n",
        "'AmountDelinquent',\n",
        "'DelinquenciesLast7Years',\n",
        "'PublicRecordsLast10Years',\n",
        "'PublicRecordsLast12Months',\n",
        "'RevolvingCreditBalance',\n",
        "'BankcardUtilization',\n",
        "'AvailableBankcardCredit',\n",
        "'TotalTrades',\n",
        "'TradesNeverDelinquentPct',\n",
        "'TradesOpenedLast6Months',\n",
        "'DebtToIncomeRatio',\n",
        "'IncomeRange',\n",
        "'StatedMonthlyIncome',\n",
        "'TotalProsperLoans',\n",
        "'TotalProsperPaymentsBilled',\n",
        "'OnTimeProsperPayments',\n",
        "'ProsperPaymentsLessThanOneMonthLate',\n",
        "'ProsperPaymentsOneMonthPlusLate',\n",
        "'ProsperPrincipalBorrowed',\n",
        "'ProsperPrincipalOutstanding',\n",
        "'LoanCurrentDaysDelinquent',\n",
        "'LoanMonthsSinceOrigination',\n",
        "'LoanOriginalAmount',\n",
        "'LoanOriginationDate',\n",
        "'LoanOriginationQuarter',\n",
        "'MonthlyLoanPayment',\n",
        "'LP_ServiceFees',\n",
        "'LP_CollectionFees',\n",
        "'LP_GrossPrincipalLoss',\n",
        "'LP_NetPrincipalLoss',\n",
        "'LP_NonPrincipalRecoverypayments',\n",
        "'Recommendations',\n",
        "'InvestmentFromFriendsCount',\n",
        "'InvestmentFromFriendsAmount',\n",
        "'Investors'\n",
        "]\n",
        "\n",
        "pld_df = pld_full_df[sel_columns]"
      ],
      "execution_count": 0,
      "outputs": []
    },
    {
      "metadata": {
        "id": "9bl0VuN3yWW4",
        "colab_type": "code",
        "outputId": "296da89f-c503-4175-c37c-c58e9702f55e",
        "colab": {
          "base_uri": "https://localhost:8080/",
          "height": 1071
        }
      },
      "cell_type": "code",
      "source": [
        "# Some preliminary statistics about the data\n",
        "print ('%s %s' % ('Number of rows and columns: ', pld_df.shape))\n",
        "print (pld_df.describe())"
      ],
      "execution_count": 12,
      "outputs": [
        {
          "output_type": "stream",
          "text": [
            "Number of rows and columns:  (113937, 66)\n",
            "                Term    BorrowerAPR   BorrowerRate    LenderYield  \\\n",
            "count  113937.000000  113912.000000  113937.000000  113937.000000   \n",
            "mean       40.830248       0.218828       0.192764       0.182701   \n",
            "std        10.436212       0.080364       0.074818       0.074516   \n",
            "min        12.000000       0.006530       0.000000      -0.010000   \n",
            "25%        36.000000       0.156290       0.134000       0.124200   \n",
            "50%        36.000000       0.209760       0.184000       0.173000   \n",
            "75%        36.000000       0.283810       0.250000       0.240000   \n",
            "max        60.000000       0.512290       0.497500       0.492500   \n",
            "\n",
            "       EstimatedEffectiveYield  EstimatedLoss  EstimatedReturn  ProsperRating  \\\n",
            "count             84853.000000   84853.000000     84853.000000   84853.000000   \n",
            "mean                  0.168661       0.080306         0.096068       4.072243   \n",
            "std                   0.068467       0.046764         0.030403       1.673227   \n",
            "min                  -0.182700       0.004900        -0.182700       1.000000   \n",
            "25%                   0.115670       0.042400         0.074080       3.000000   \n",
            "50%                   0.161500       0.072400         0.091700       4.000000   \n",
            "75%                   0.224300       0.112000         0.116600       5.000000   \n",
            "max                   0.319900       0.366000         0.283700       7.000000   \n",
            "\n",
            "       ProsperScore  ListingCategory  ...  MonthlyLoanPayment  LP_ServiceFees  \\\n",
            "count  84853.000000    113937.000000  ...       113937.000000   113937.000000   \n",
            "mean       5.950067         2.774209  ...          272.475783      -54.725641   \n",
            "std        2.376501         3.996797  ...          192.697812       60.675425   \n",
            "min        1.000000         0.000000  ...            0.000000     -664.870000   \n",
            "25%        4.000000         1.000000  ...          131.620000      -73.180000   \n",
            "50%        6.000000         1.000000  ...          217.740000      -34.440000   \n",
            "75%        8.000000         3.000000  ...          371.580000      -13.920000   \n",
            "max       11.000000        20.000000  ...         2251.510000       32.060000   \n",
            "\n",
            "       LP_CollectionFees  LP_GrossPrincipalLoss  LP_NetPrincipalLoss  \\\n",
            "count      113937.000000          113937.000000        113937.000000   \n",
            "mean          -14.242698             700.446342           681.420499   \n",
            "std           109.232758            2388.513831          2357.167068   \n",
            "min         -9274.750000             -94.200000          -954.550000   \n",
            "25%             0.000000               0.000000             0.000000   \n",
            "50%             0.000000               0.000000             0.000000   \n",
            "75%             0.000000               0.000000             0.000000   \n",
            "max             0.000000           25000.000000         25000.000000   \n",
            "\n",
            "       LP_NonPrincipalRecoverypayments  Recommendations  \\\n",
            "count                    113937.000000    113937.000000   \n",
            "mean                         25.142686         0.048027   \n",
            "std                         275.657937         0.332353   \n",
            "min                           0.000000         0.000000   \n",
            "25%                           0.000000         0.000000   \n",
            "50%                           0.000000         0.000000   \n",
            "75%                           0.000000         0.000000   \n",
            "max                       21117.900000        39.000000   \n",
            "\n",
            "       InvestmentFromFriendsCount  InvestmentFromFriendsAmount      Investors  \n",
            "count               113937.000000                113937.000000  113937.000000  \n",
            "mean                     0.023460                    16.550751      80.475228  \n",
            "std                      0.232412                   294.545422     103.239020  \n",
            "min                      0.000000                     0.000000       1.000000  \n",
            "25%                      0.000000                     0.000000       2.000000  \n",
            "50%                      0.000000                     0.000000      44.000000  \n",
            "75%                      0.000000                     0.000000     115.000000  \n",
            "max                     33.000000                 25000.000000    1189.000000  \n",
            "\n",
            "[8 rows x 53 columns]\n"
          ],
          "name": "stdout"
        }
      ]
    },
    {
      "metadata": {
        "id": "eMCsx8IaZMXX",
        "colab_type": "code",
        "colab": {}
      },
      "cell_type": "code",
      "source": [
        ""
      ],
      "execution_count": 0,
      "outputs": []
    },
    {
      "metadata": {
        "id": "IZwC5eNbZMDF",
        "colab_type": "code",
        "colab": {}
      },
      "cell_type": "code",
      "source": [
        ""
      ],
      "execution_count": 0,
      "outputs": []
    },
    {
      "metadata": {
        "id": "vvnk3rGSYeFi",
        "colab_type": "text"
      },
      "cell_type": "markdown",
      "source": [
        "> Load in your dataset and describe its properties through the questions below.\n",
        "Try and motivate your exploration goals through this section."
      ]
    },
    {
      "metadata": {
        "id": "ek2KbOOxYeFi",
        "colab_type": "code",
        "colab": {}
      },
      "cell_type": "code",
      "source": [
        ""
      ],
      "execution_count": 0,
      "outputs": []
    },
    {
      "metadata": {
        "id": "Lw5j1sIEYeFl",
        "colab_type": "text"
      },
      "cell_type": "markdown",
      "source": [
        "### What is the structure of your dataset?\n",
        "\n",
        "> Your answer here!\n",
        "\n",
        "### What is/are the main feature(s) of interest in your dataset?\n",
        "\n",
        "> Your answer here!\n",
        "\n",
        "### What features in the dataset do you think will help support your investigation into your feature(s) of interest?\n",
        "\n",
        "> Your answer here!"
      ]
    },
    {
      "metadata": {
        "id": "hW2XyfxvYeFm",
        "colab_type": "text"
      },
      "cell_type": "markdown",
      "source": [
        "## Univariate Exploration\n",
        "\n",
        "> In this section, investigate distributions of individual variables. If\n",
        "you see unusual points or outliers, take a deeper look to clean things up\n",
        "and prepare yourself to look at relationships between variables."
      ]
    },
    {
      "metadata": {
        "id": "jpmL-rVzYeFn",
        "colab_type": "code",
        "colab": {}
      },
      "cell_type": "code",
      "source": [
        ""
      ],
      "execution_count": 0,
      "outputs": []
    },
    {
      "metadata": {
        "id": "adRiHnU7YeFp",
        "colab_type": "text"
      },
      "cell_type": "markdown",
      "source": [
        "> Make sure that, after every plot or related series of plots, that you\n",
        "include a Markdown cell with comments about what you observed, and what\n",
        "you plan on investigating next."
      ]
    },
    {
      "metadata": {
        "id": "eDgxo1YyYeFq",
        "colab_type": "code",
        "colab": {}
      },
      "cell_type": "code",
      "source": [
        ""
      ],
      "execution_count": 0,
      "outputs": []
    },
    {
      "metadata": {
        "id": "2IDzUdClYeFs",
        "colab_type": "text"
      },
      "cell_type": "markdown",
      "source": [
        "### Discuss the distribution(s) of your variable(s) of interest. Were there any unusual points? Did you need to perform any transformations?\n",
        "\n",
        "> Your answer here!\n",
        "\n",
        "### Of the features you investigated, were there any unusual distributions? Did you perform any operations on the data to tidy, adjust, or change the form of the data? If so, why did you do this?\n",
        "\n",
        "> Your answer here!"
      ]
    },
    {
      "metadata": {
        "id": "OJbrVnVPYeFt",
        "colab_type": "text"
      },
      "cell_type": "markdown",
      "source": [
        "## Bivariate Exploration\n",
        "\n",
        "> In this section, investigate relationships between pairs of variables in your\n",
        "data. Make sure the variables that you cover here have been introduced in some\n",
        "fashion in the previous section (univariate exploration)."
      ]
    },
    {
      "metadata": {
        "id": "ewzcpFX3YeFu",
        "colab_type": "code",
        "colab": {}
      },
      "cell_type": "code",
      "source": [
        ""
      ],
      "execution_count": 0,
      "outputs": []
    },
    {
      "metadata": {
        "id": "NDSXTppXYeFx",
        "colab_type": "text"
      },
      "cell_type": "markdown",
      "source": [
        "### Talk about some of the relationships you observed in this part of the investigation. How did the feature(s) of interest vary with other features in the dataset?\n",
        "\n",
        "> Your answer here!\n",
        "\n",
        "### Did you observe any interesting relationships between the other features (not the main feature(s) of interest)?\n",
        "\n",
        "> Your answer here!"
      ]
    },
    {
      "metadata": {
        "id": "pyfeWWkbYeFy",
        "colab_type": "text"
      },
      "cell_type": "markdown",
      "source": [
        "## Multivariate Exploration\n",
        "\n",
        "> Create plots of three or more variables to investigate your data even\n",
        "further. Make sure that your investigations are justified, and follow from\n",
        "your work in the previous sections."
      ]
    },
    {
      "metadata": {
        "id": "nwVlEV72YeFz",
        "colab_type": "code",
        "colab": {}
      },
      "cell_type": "code",
      "source": [
        ""
      ],
      "execution_count": 0,
      "outputs": []
    },
    {
      "metadata": {
        "id": "PC8bURWhYeF2",
        "colab_type": "text"
      },
      "cell_type": "markdown",
      "source": [
        "### Talk about some of the relationships you observed in this part of the investigation. Were there features that strengthened each other in terms of looking at your feature(s) of interest?\n",
        "\n",
        "> Your answer here!\n",
        "\n",
        "### Were there any interesting or surprising interactions between features?\n",
        "\n",
        "> Your answer here!"
      ]
    },
    {
      "metadata": {
        "id": "7OiLh0JuYeF3",
        "colab_type": "text"
      },
      "cell_type": "markdown",
      "source": [
        "> At the end of your report, make sure that you export the notebook as an\n",
        "html file from the `File > Download as... > HTML` menu. Make sure you keep\n",
        "track of where the exported file goes, so you can put it in the same folder\n",
        "as this notebook for project submission. Also, make sure you remove all of\n",
        "the quote-formatted guide notes like this one before you finish your report!"
      ]
    },
    {
      "metadata": {
        "id": "i0B8GQpVYeF5",
        "colab_type": "code",
        "colab": {}
      },
      "cell_type": "code",
      "source": [
        ""
      ],
      "execution_count": 0,
      "outputs": []
    }
  ]
}