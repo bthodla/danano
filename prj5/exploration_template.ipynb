{
  "nbformat": 4,
  "nbformat_minor": 0,
  "metadata": {
    "colab": {
      "name": "exploration_template.ipynb",
      "version": "0.3.2",
      "provenance": [],
      "include_colab_link": true
    },
    "language_info": {
      "codemirror_mode": {
        "name": "ipython",
        "version": 3
      },
      "file_extension": ".py",
      "mimetype": "text/x-python",
      "name": "python",
      "nbconvert_exporter": "python",
      "pygments_lexer": "ipython3",
      "version": "3.5.3"
    },
    "kernelspec": {
      "display_name": "Python [default]",
      "language": "python",
      "name": "python3"
    }
  },
  "cells": [
    {
      "cell_type": "markdown",
      "metadata": {
        "id": "view-in-github",
        "colab_type": "text"
      },
      "source": [
        "<a href=\"https://colab.research.google.com/github/bthodla/danano/blob/master/prj5/exploration_template.ipynb\" target=\"_parent\"><img src=\"https://colab.research.google.com/assets/colab-badge.svg\" alt=\"Open In Colab\"/></a>"
      ]
    },
    {
      "metadata": {
        "id": "60clQlWAYeFa",
        "colab_type": "text"
      },
      "cell_type": "markdown",
      "source": [
        "# Prosper Loan Data\n",
        "## by Bhasker Thodla\n",
        "\n",
        "## Preliminary Wrangling\n",
        "\n",
        "> The dataset includes about 114,000 loan records from Prosper Loans, a company founded in 2005 to facilitate peer-to-peer lending in the US. The loan data is duly obfuscated to hide the identities of both borrowers and lenders and contains no peronally identifiable information (PII) to protect the privacy of the participants.\n",
        "\n",
        "> The loan data provided ranges over a period from Nov 2005 to Mar 2014 (by loan origination date)\n",
        "\n",
        "> The data is mostly clean although there are missing values in several fields\n",
        "\n",
        "> No data wrangling has been done on this data\n",
        "\n"
      ]
    },
    {
      "metadata": {
        "id": "lSQfvTA4YeFe",
        "colab_type": "code",
        "colab": {}
      },
      "cell_type": "code",
      "source": [
        "# import all packages and set plots to be embedded inline\n",
        "import numpy as np\n",
        "import pandas as pd\n",
        "import matplotlib.pyplot as plt\n",
        "import seaborn as sb\n",
        "from google.colab import drive\n",
        "%matplotlib inline"
      ],
      "execution_count": 0,
      "outputs": []
    },
    {
      "metadata": {
        "id": "vvnk3rGSYeFi",
        "colab_type": "text"
      },
      "cell_type": "markdown",
      "source": [
        "> Load in your dataset and describe its properties through the questions below.\n",
        "Try and motivate your exploration goals through this section."
      ]
    },
    {
      "metadata": {
        "id": "Wr_j8dNuZMam",
        "colab_type": "code",
        "outputId": "78e5b2cb-3593-421f-b9fc-121199b1a795",
        "colab": {
          "base_uri": "https://localhost:8080/",
          "height": 122
        }
      },
      "cell_type": "code",
      "source": [
        "# Loading the Prosper Loan data saved in Google Drive\n",
        "from google.colab import drive\n",
        "\n",
        "drive.mount('/content/gdrive')\n",
        "pld_full_df = pd.read_csv('/content/gdrive/My Drive/Colab Notebooks/data_visualization/prj5/prosperLoanData.csv')"
      ],
      "execution_count": 2,
      "outputs": [
        {
          "output_type": "stream",
          "text": [
            "Go to this URL in a browser: https://accounts.google.com/o/oauth2/auth?client_id=947318989803-6bn6qk8qdgf4n4g3pfee6491hc0brc4i.apps.googleusercontent.com&redirect_uri=urn%3Aietf%3Awg%3Aoauth%3A2.0%3Aoob&scope=email%20https%3A%2F%2Fwww.googleapis.com%2Fauth%2Fdocs.test%20https%3A%2F%2Fwww.googleapis.com%2Fauth%2Fdrive%20https%3A%2F%2Fwww.googleapis.com%2Fauth%2Fdrive.photos.readonly%20https%3A%2F%2Fwww.googleapis.com%2Fauth%2Fpeopleapi.readonly&response_type=code\n",
            "\n",
            "Enter your authorization code:\n",
            "··········\n",
            "Mounted at /content/gdrive\n"
          ],
          "name": "stdout"
        }
      ]
    },
    {
      "metadata": {
        "id": "qL9r_wBmQQyg",
        "colab_type": "code",
        "colab": {}
      },
      "cell_type": "code",
      "source": [
        "# Some cleanup\n",
        "# We will begin with renaming some columns\n",
        "\n",
        "pld_full_df = pld_full_df.rename(columns = {'ProsperRating (numeric)': 'ProsperRating', 'ProsperRating (Alpha)': 'ProsperRatingStr', 'ListingCategory (numeric)': 'ListingCategory', 'TradesNeverDelinquent (percentage)': 'TradesNeverDelinquentPct'})\n",
        "\n",
        "# We will then pick a subset of columns for analysis and exclude the rest by creating a new dataframe\n",
        "sel_columns = [\n",
        "'ListingKey',\n",
        "'ListingCreationDate',\n",
        "'CreditGrade',\n",
        "'Term',\n",
        "'LoanStatus',\n",
        "'BorrowerAPR',\n",
        "'BorrowerRate',\n",
        "'LenderYield',\n",
        "'EstimatedEffectiveYield',\n",
        "'EstimatedLoss',\n",
        "'EstimatedReturn',\n",
        "'ProsperRating',\n",
        "'ProsperRatingStr',\n",
        "'ProsperScore',\n",
        "'ListingCategory',\n",
        "'BorrowerState',\n",
        "'Occupation',\n",
        "'EmploymentStatus',\n",
        "'EmploymentStatusDuration',\n",
        "'IsBorrowerHomeowner',\n",
        "'CreditScoreRangeLower',\n",
        "'CreditScoreRangeUpper',\n",
        "'FirstRecordedCreditLine',\n",
        "'CurrentCreditLines',\n",
        "'OpenCreditLines',\n",
        "'TotalCreditLinespast7years',\n",
        "'OpenRevolvingAccounts',\n",
        "'OpenRevolvingMonthlyPayment',\n",
        "'InquiriesLast6Months',\n",
        "'TotalInquiries',\n",
        "'CurrentDelinquencies',\n",
        "'AmountDelinquent',\n",
        "'DelinquenciesLast7Years',\n",
        "'PublicRecordsLast10Years',\n",
        "'PublicRecordsLast12Months',\n",
        "'RevolvingCreditBalance',\n",
        "'BankcardUtilization',\n",
        "'AvailableBankcardCredit',\n",
        "'TotalTrades',\n",
        "'TradesNeverDelinquentPct',\n",
        "'TradesOpenedLast6Months',\n",
        "'DebtToIncomeRatio',\n",
        "'IncomeRange',\n",
        "'StatedMonthlyIncome',\n",
        "'TotalProsperLoans',\n",
        "'TotalProsperPaymentsBilled',\n",
        "'OnTimeProsperPayments',\n",
        "'ProsperPaymentsLessThanOneMonthLate',\n",
        "'ProsperPaymentsOneMonthPlusLate',\n",
        "'ProsperPrincipalBorrowed',\n",
        "'ProsperPrincipalOutstanding',\n",
        "'LoanCurrentDaysDelinquent',\n",
        "'LoanMonthsSinceOrigination',\n",
        "'LoanOriginalAmount',\n",
        "'LoanOriginationDate',\n",
        "'LoanOriginationQuarter',\n",
        "'MonthlyLoanPayment',\n",
        "'LP_ServiceFees',\n",
        "'LP_CollectionFees',\n",
        "'LP_GrossPrincipalLoss',\n",
        "'LP_NetPrincipalLoss',\n",
        "'LP_NonPrincipalRecoverypayments',\n",
        "'Recommendations',\n",
        "'InvestmentFromFriendsCount',\n",
        "'InvestmentFromFriendsAmount',\n",
        "'Investors'\n",
        "]\n",
        "\n",
        "pld_df = pld_full_df[sel_columns]"
      ],
      "execution_count": 0,
      "outputs": []
    },
    {
      "metadata": {
        "id": "svCxXaBOl_dI",
        "colab_type": "text"
      },
      "cell_type": "markdown",
      "source": [
        "### What is the structure of your dataset?\n",
        "\n",
        "> After selecting a subset of columns from the dataset (after discarding some that I will not be using in my analysis) into a new dataframe, I have classified the elements in my dataset into their respective types. This classification is given below:\n",
        "\n",
        "\n",
        "# Classification of data fields\n",
        "\n",
        "Key\n",
        "\n",
        "> ListingKey: I am using this as the key to each row in the dataset\n",
        "\n",
        "Qualitative - Nominal (Bar Charts - descending order of values - use countplot() function)\n",
        "\n",
        "> BorrowerState\n",
        "\n",
        "> EmploymentStatus\n",
        "\n",
        "> Occupation\n",
        "\n",
        "> IsBorrowerHomeowner\n",
        "\n",
        "> ListingCategory\n",
        "\n",
        "> LoanStatus\n",
        "\n",
        "> ProsperRating\n",
        "\n",
        "\n",
        "Qualitative - Ordinal (Bar Charts - order of rating - use Seaborn's countplot() function)\n",
        "\n",
        "> CreditGrade\n",
        "\n",
        "> IncomeRange\n",
        "\n",
        "> ProsperScore\n",
        "\n",
        "\n",
        "Quantitative - Continuous (Histograms - use hist() or distplot() functions)\n",
        "\n",
        "> AmountDelinquent\n",
        "\n",
        "> AvailableBankcardCredit\n",
        "\n",
        "> BankcardUtilization\n",
        "\n",
        "> BorrowerAPR\n",
        "\n",
        "> BorrowerRate\n",
        "\n",
        "> DebtToIncomeRatio\n",
        "\n",
        "> EstimatedEffectiveYield\n",
        "\n",
        "> EstimatedLoss\n",
        "\n",
        "> EstimatedReturn\n",
        "\n",
        "> FirstRecordedCreditLine\n",
        "\n",
        "> LenderYield\n",
        "\n",
        "> LoanOriginalAmount\n",
        "\n",
        "> LoanOriginationDate\n",
        "\n",
        "> LP_GrossPrincipalLoss\n",
        "\n",
        "> LP_NetPrincipalLoss\n",
        "\n",
        "> MonthlyLoanPayment\n",
        "\n",
        "> OpenRevolvingMonthlyPayment\n",
        "\n",
        "> ProsperPrincipalBorrowed\n",
        "\n",
        "> ProsperPrincipalOutstanding\n",
        "\n",
        "> RevolvingCreditBalance\n",
        "\n",
        "> StatedMonthlyIncome\n",
        "\n",
        "\n",
        "Quantitative - Discrete (Bar Charts - use  countplot() function)\n",
        "\n",
        "> CreditScoreRangeLower\n",
        "\n",
        "> CreditScoreRangeUpper\n",
        "\n",
        "> CurrentCreditLines\n",
        "\n",
        "> CurrentDelinquencies\n",
        "\n",
        "> DelinquenciesLast7Years\n",
        "\n",
        "> EmploymentStatusDuration\n",
        "\n",
        "> InquiriesLast6Months\n",
        "\n",
        "> InvestmentFromFriendsAmount\n",
        "\n",
        "> InvestmentFromFriendsCount\n",
        "\n",
        "> Investors\n",
        "\n",
        "> LoanCurrentDaysDelinquent\n",
        "\n",
        "> LoanMonthsSinceOrigination\n",
        "\n",
        "> LoanOriginationQuarter\n",
        "\n",
        "> LP_CollectionFees\n",
        "\n",
        "> LP_NonPrincipalRecoverypayments\n",
        "\n",
        "> LP_ServiceFees\n",
        "\n",
        "> OnTimeProsperPayments\n",
        "\n",
        "> OpenCreditLines\n",
        "\n",
        "> OpenRevolvingAccounts\n",
        "\n",
        "> ProsperPaymentsLessThanOneMonthLate\n",
        "\n",
        "> ProsperPaymentsOneMonthPlusLate\n",
        "\n",
        "> PublicRecordsLast10Years\n",
        "\n",
        "> PublicRecordsLast12Months\n",
        "\n",
        "> Recommendations\n",
        "\n",
        "> Term\n",
        "\n",
        "> TotalCreditLinespast7years\n",
        "\n",
        "> TotalInquiries\n",
        "\n",
        "> TotalProsperLoans\n",
        "\n",
        "> TotalProsperPaymentsBilled\n",
        "\n",
        "> TotalTrades\n",
        "\n",
        "> TradesNeverDelinquent\n",
        "\n",
        "> TradesOpenedLast6Months\n",
        "\n",
        "\n",
        "Quantitative - Interval (Line plots using errorbar() function)\n",
        "\n",
        "> ListingCreationDate"
      ]
    },
    {
      "metadata": {
        "id": "owL3LF3VQNLo",
        "colab_type": "text"
      },
      "cell_type": "markdown",
      "source": [
        "### What is/are the main feature(s) of interest in your dataset?\n",
        "\n",
        "> Your answer here!\n",
        "\n"
      ]
    },
    {
      "metadata": {
        "id": "9bl0VuN3yWW4",
        "colab_type": "code",
        "outputId": "d6c9746d-8bab-40fb-939f-95c25ae39d91",
        "colab": {
          "base_uri": "https://localhost:8080/",
          "height": 34
        }
      },
      "cell_type": "code",
      "source": [
        "# Some preliminary statistics about the data\n",
        "print ('%s %s' % ('Number of rows and columns: ', pld_df.shape))\n",
        "# print (pld_df.describe())"
      ],
      "execution_count": 4,
      "outputs": [
        {
          "output_type": "stream",
          "text": [
            "Number of rows and columns:  (113937, 66)\n"
          ],
          "name": "stdout"
        }
      ]
    },
    {
      "metadata": {
        "id": "eMCsx8IaZMXX",
        "colab_type": "code",
        "colab": {}
      },
      "cell_type": "code",
      "source": [
        ""
      ],
      "execution_count": 0,
      "outputs": []
    },
    {
      "metadata": {
        "id": "IZwC5eNbZMDF",
        "colab_type": "code",
        "colab": {}
      },
      "cell_type": "code",
      "source": [
        ""
      ],
      "execution_count": 0,
      "outputs": []
    },
    {
      "metadata": {
        "id": "ek2KbOOxYeFi",
        "colab_type": "code",
        "colab": {}
      },
      "cell_type": "code",
      "source": [
        ""
      ],
      "execution_count": 0,
      "outputs": []
    },
    {
      "metadata": {
        "id": "Lw5j1sIEYeFl",
        "colab_type": "text"
      },
      "cell_type": "markdown",
      "source": [
        "### What features in the dataset do you think will help support your investigation into your feature(s) of interest?\n",
        "\n",
        "> Your answer here!"
      ]
    },
    {
      "metadata": {
        "id": "hW2XyfxvYeFm",
        "colab_type": "text"
      },
      "cell_type": "markdown",
      "source": [
        "## Univariate Exploration\n",
        "\n",
        "> In this section, investigate distributions of individual variables. If\n",
        "you see unusual points or outliers, take a deeper look to clean things up\n",
        "and prepare yourself to look at relationships between variables."
      ]
    },
    {
      "metadata": {
        "id": "jpmL-rVzYeFn",
        "colab_type": "code",
        "colab": {}
      },
      "cell_type": "code",
      "source": [
        ""
      ],
      "execution_count": 0,
      "outputs": []
    },
    {
      "metadata": {
        "id": "adRiHnU7YeFp",
        "colab_type": "text"
      },
      "cell_type": "markdown",
      "source": [
        "> Make sure that, after every plot or related series of plots, that you\n",
        "include a Markdown cell with comments about what you observed, and what\n",
        "you plan on investigating next."
      ]
    },
    {
      "metadata": {
        "id": "eDgxo1YyYeFq",
        "colab_type": "code",
        "colab": {}
      },
      "cell_type": "code",
      "source": [
        ""
      ],
      "execution_count": 0,
      "outputs": []
    },
    {
      "metadata": {
        "id": "2IDzUdClYeFs",
        "colab_type": "text"
      },
      "cell_type": "markdown",
      "source": [
        "### Discuss the distribution(s) of your variable(s) of interest. Were there any unusual points? Did you need to perform any transformations?\n",
        "\n",
        "> Your answer here!\n",
        "\n",
        "### Of the features you investigated, were there any unusual distributions? Did you perform any operations on the data to tidy, adjust, or change the form of the data? If so, why did you do this?\n",
        "\n",
        "> Your answer here!"
      ]
    },
    {
      "metadata": {
        "id": "OJbrVnVPYeFt",
        "colab_type": "text"
      },
      "cell_type": "markdown",
      "source": [
        "## Bivariate Exploration\n",
        "\n",
        "> In this section, investigate relationships between pairs of variables in your\n",
        "data. Make sure the variables that you cover here have been introduced in some\n",
        "fashion in the previous section (univariate exploration)."
      ]
    },
    {
      "metadata": {
        "id": "ewzcpFX3YeFu",
        "colab_type": "code",
        "colab": {}
      },
      "cell_type": "code",
      "source": [
        ""
      ],
      "execution_count": 0,
      "outputs": []
    },
    {
      "metadata": {
        "id": "NDSXTppXYeFx",
        "colab_type": "text"
      },
      "cell_type": "markdown",
      "source": [
        "### Talk about some of the relationships you observed in this part of the investigation. How did the feature(s) of interest vary with other features in the dataset?\n",
        "\n",
        "> Your answer here!\n",
        "\n",
        "### Did you observe any interesting relationships between the other features (not the main feature(s) of interest)?\n",
        "\n",
        "> Your answer here!"
      ]
    },
    {
      "metadata": {
        "id": "pyfeWWkbYeFy",
        "colab_type": "text"
      },
      "cell_type": "markdown",
      "source": [
        "## Multivariate Exploration\n",
        "\n",
        "> Create plots of three or more variables to investigate your data even\n",
        "further. Make sure that your investigations are justified, and follow from\n",
        "your work in the previous sections."
      ]
    },
    {
      "metadata": {
        "id": "nwVlEV72YeFz",
        "colab_type": "code",
        "colab": {}
      },
      "cell_type": "code",
      "source": [
        ""
      ],
      "execution_count": 0,
      "outputs": []
    },
    {
      "metadata": {
        "id": "PC8bURWhYeF2",
        "colab_type": "text"
      },
      "cell_type": "markdown",
      "source": [
        "### Talk about some of the relationships you observed in this part of the investigation. Were there features that strengthened each other in terms of looking at your feature(s) of interest?\n",
        "\n",
        "> Your answer here!\n",
        "\n",
        "### Were there any interesting or surprising interactions between features?\n",
        "\n",
        "> Your answer here!"
      ]
    },
    {
      "metadata": {
        "id": "7OiLh0JuYeF3",
        "colab_type": "text"
      },
      "cell_type": "markdown",
      "source": [
        "> At the end of your report, make sure that you export the notebook as an\n",
        "html file from the `File > Download as... > HTML` menu. Make sure you keep\n",
        "track of where the exported file goes, so you can put it in the same folder\n",
        "as this notebook for project submission. Also, make sure you remove all of\n",
        "the quote-formatted guide notes like this one before you finish your report!"
      ]
    },
    {
      "metadata": {
        "id": "i0B8GQpVYeF5",
        "colab_type": "code",
        "colab": {}
      },
      "cell_type": "code",
      "source": [
        ""
      ],
      "execution_count": 0,
      "outputs": []
    }
  ]
}