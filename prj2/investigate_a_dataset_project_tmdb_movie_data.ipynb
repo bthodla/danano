{
 "cells": [
  {
   "cell_type": "markdown",
   "metadata": {},
   "source": [
    "# Project: TMDB Movie Data\n",
    "\n",
    "## Table of Contents\n",
    "<ul>\n",
    "<li><a href=\"#intro\">Introduction</a></li>\n",
    "<li><a href=\"#wrangling\">Data Wrangling</a></li>\n",
    "<li><a href=\"#eda\">Exploratory Data Analysis</a></li>\n",
    "</ul>"
   ]
  },
  {
   "cell_type": "markdown",
   "metadata": {},
   "source": [
    "<a id='intro'></a>\n",
    "## Introduction\n",
    "\n",
    "The TMDB Movie Data dataset lists about 11k movies produced by Production Companies and several important details about those movies such as:\n",
    "<ul>\n",
    "    <li>A Unique Id</li>\n",
    "    <li>Movie Name</li>\n",
    "    <li>Cast</li>\n",
    "    <li>Director(s)</li>\n",
    "    <li>Runtime</li>\n",
    "    <li>Production Companies</li>\n",
    "    <li>Release Year</li>\n",
    "    <li>Vote Average</li>\n",
    "    <li>Budget (adjusted to 2010 rates)</li>\n",
    "    <li>Revenues (adjusted to 2010 rates)</li>\n",
    "    <li>Popularity Score</li>\n",
    "</ul>\n",
    "\n",
    "Some of the typical questions that I have regarding this dataset are:\n",
    "<ol>\n",
    "    <li>Which Production Companies had the highest budget?</li>\n",
    "    <li>Which Production Companies had the highest revenues?</li>\n",
    "    <li>Did big budget movies produce higher revenues? Are there exceptions?</li>\n",
    "    <li>Which movies had revenues lower than production budgets?</li>\n",
    "    <li>Who were the popular directors?</li>\n",
    "    <li>Who were the popular actors?</li>\n",
    "    <li>Which genres were popular?</li>\n",
    "    <li>Which actors had most movies?</li>\n",
    "    <li>Which directors had most movies?</li>\n",
    "    <li>Which genres had most movies?</li>\n",
    "    <li>Is there a correlation between movie runtimes and popularity?</li>\n",
    "    <li>Are more movies released each year?</li>\n",
    "    <li>Who are directors' favorite actors?</li>\n",
    "    <li>Who are actors' favorite directors?</li>\n",
    "</ol>    "
   ]
  },
  {
   "cell_type": "code",
   "execution_count": 80,
   "metadata": {},
   "outputs": [],
   "source": [
    "import pandas as pd\n",
    "import numpy as np\n",
    "import matplotlib.pyplot as plt\n",
    "import seaborn as sns\n",
    "%matplotlib inline\n",
    "\n",
    "# To supporess budget and revenue values from being returned in exponential format\n",
    "pd.options.display.float_format = '{:20,.2f}'.format\n"
   ]
  },
  {
   "cell_type": "markdown",
   "metadata": {},
   "source": [
    "<a id='wrangling'></a>\n",
    "## Data Wrangling\n",
    "\n",
    "Steps in Data Wrangling:\n",
    "<ul>\n",
    "    <li>Load data from \"tmdb-movies.csv\" file into a dataframe called \"df_movie_list\"</li>\n",
    "    <li>Drop the following columns from the dataframe:</li>\n",
    "    <ul>\n",
    "        <li>budget - instead, I am planning to use the budget_adj column</li>\n",
    "        <li>revenue - instead, I am planning to use the revenue_adj column</li>\n",
    "        <li>Not relevant to my analysis:</li>\n",
    "        <ul>\n",
    "            <li>homepage</li>\n",
    "            <li>tagline</li>\n",
    "            <li>keywords</li>\n",
    "            <li>overview</li>\n",
    "        </ul>\n",
    "    </ul>\n",
    "    <li>Create the following new dataframes for the following data by separating the pipe-separated values into separate rows</li>\n",
    "    <ul>\n",
    "        <li>Cast</li>\n",
    "        <li>Directors</li>\n",
    "        <li>Genres</li>\n",
    "        <li>Production Companies</li>\n",
    "    </ul>\n",
    "</ul>\n"
   ]
  },
  {
   "cell_type": "code",
   "execution_count": 81,
   "metadata": {
    "scrolled": true
   },
   "outputs": [
    {
     "data": {
      "text/html": [
       "<div>\n",
       "<style scoped>\n",
       "    .dataframe tbody tr th:only-of-type {\n",
       "        vertical-align: middle;\n",
       "    }\n",
       "\n",
       "    .dataframe tbody tr th {\n",
       "        vertical-align: top;\n",
       "    }\n",
       "\n",
       "    .dataframe thead th {\n",
       "        text-align: right;\n",
       "    }\n",
       "</style>\n",
       "<table border=\"1\" class=\"dataframe\">\n",
       "  <thead>\n",
       "    <tr style=\"text-align: right;\">\n",
       "      <th></th>\n",
       "      <th>id</th>\n",
       "      <th>imdb_id</th>\n",
       "      <th>popularity</th>\n",
       "      <th>original_title</th>\n",
       "      <th>cast</th>\n",
       "      <th>director</th>\n",
       "      <th>runtime</th>\n",
       "      <th>genres</th>\n",
       "      <th>production_companies</th>\n",
       "      <th>release_date</th>\n",
       "      <th>vote_count</th>\n",
       "      <th>vote_average</th>\n",
       "      <th>release_year</th>\n",
       "      <th>budget_adj</th>\n",
       "      <th>revenue_adj</th>\n",
       "    </tr>\n",
       "  </thead>\n",
       "  <tbody>\n",
       "    <tr>\n",
       "      <th>0</th>\n",
       "      <td>135397</td>\n",
       "      <td>tt0369610</td>\n",
       "      <td>32.99</td>\n",
       "      <td>Jurassic World</td>\n",
       "      <td>Chris Pratt|Bryce Dallas Howard|Irrfan Khan|Vi...</td>\n",
       "      <td>Colin Trevorrow</td>\n",
       "      <td>124</td>\n",
       "      <td>Action|Adventure|Science Fiction|Thriller</td>\n",
       "      <td>Universal Studios|Amblin Entertainment|Legenda...</td>\n",
       "      <td>6/9/15</td>\n",
       "      <td>5562</td>\n",
       "      <td>6.50</td>\n",
       "      <td>2015</td>\n",
       "      <td>137,999,939.28</td>\n",
       "      <td>1,392,445,892.52</td>\n",
       "    </tr>\n",
       "    <tr>\n",
       "      <th>1</th>\n",
       "      <td>76341</td>\n",
       "      <td>tt1392190</td>\n",
       "      <td>28.42</td>\n",
       "      <td>Mad Max: Fury Road</td>\n",
       "      <td>Tom Hardy|Charlize Theron|Hugh Keays-Byrne|Nic...</td>\n",
       "      <td>George Miller</td>\n",
       "      <td>120</td>\n",
       "      <td>Action|Adventure|Science Fiction|Thriller</td>\n",
       "      <td>Village Roadshow Pictures|Kennedy Miller Produ...</td>\n",
       "      <td>5/13/15</td>\n",
       "      <td>6185</td>\n",
       "      <td>7.10</td>\n",
       "      <td>2015</td>\n",
       "      <td>137,999,939.28</td>\n",
       "      <td>348,161,292.49</td>\n",
       "    </tr>\n",
       "    <tr>\n",
       "      <th>2</th>\n",
       "      <td>262500</td>\n",
       "      <td>tt2908446</td>\n",
       "      <td>13.11</td>\n",
       "      <td>Insurgent</td>\n",
       "      <td>Shailene Woodley|Theo James|Kate Winslet|Ansel...</td>\n",
       "      <td>Robert Schwentke</td>\n",
       "      <td>119</td>\n",
       "      <td>Adventure|Science Fiction|Thriller</td>\n",
       "      <td>Summit Entertainment|Mandeville Films|Red Wago...</td>\n",
       "      <td>3/18/15</td>\n",
       "      <td>2480</td>\n",
       "      <td>6.30</td>\n",
       "      <td>2015</td>\n",
       "      <td>101,199,955.47</td>\n",
       "      <td>271,619,025.41</td>\n",
       "    </tr>\n",
       "    <tr>\n",
       "      <th>3</th>\n",
       "      <td>140607</td>\n",
       "      <td>tt2488496</td>\n",
       "      <td>11.17</td>\n",
       "      <td>Star Wars: The Force Awakens</td>\n",
       "      <td>Harrison Ford|Mark Hamill|Carrie Fisher|Adam D...</td>\n",
       "      <td>J.J. Abrams</td>\n",
       "      <td>136</td>\n",
       "      <td>Action|Adventure|Science Fiction|Fantasy</td>\n",
       "      <td>Lucasfilm|Truenorth Productions|Bad Robot</td>\n",
       "      <td>12/15/15</td>\n",
       "      <td>5292</td>\n",
       "      <td>7.50</td>\n",
       "      <td>2015</td>\n",
       "      <td>183,999,919.04</td>\n",
       "      <td>1,902,723,129.80</td>\n",
       "    </tr>\n",
       "    <tr>\n",
       "      <th>4</th>\n",
       "      <td>168259</td>\n",
       "      <td>tt2820852</td>\n",
       "      <td>9.34</td>\n",
       "      <td>Furious 7</td>\n",
       "      <td>Vin Diesel|Paul Walker|Jason Statham|Michelle ...</td>\n",
       "      <td>James Wan</td>\n",
       "      <td>137</td>\n",
       "      <td>Action|Crime|Thriller</td>\n",
       "      <td>Universal Pictures|Original Film|Media Rights ...</td>\n",
       "      <td>4/1/15</td>\n",
       "      <td>2947</td>\n",
       "      <td>7.30</td>\n",
       "      <td>2015</td>\n",
       "      <td>174,799,923.09</td>\n",
       "      <td>1,385,748,801.47</td>\n",
       "    </tr>\n",
       "  </tbody>\n",
       "</table>\n",
       "</div>"
      ],
      "text/plain": [
       "       id    imdb_id           popularity                original_title  \\\n",
       "0  135397  tt0369610                32.99                Jurassic World   \n",
       "1   76341  tt1392190                28.42            Mad Max: Fury Road   \n",
       "2  262500  tt2908446                13.11                     Insurgent   \n",
       "3  140607  tt2488496                11.17  Star Wars: The Force Awakens   \n",
       "4  168259  tt2820852                 9.34                     Furious 7   \n",
       "\n",
       "                                                cast          director  \\\n",
       "0  Chris Pratt|Bryce Dallas Howard|Irrfan Khan|Vi...   Colin Trevorrow   \n",
       "1  Tom Hardy|Charlize Theron|Hugh Keays-Byrne|Nic...     George Miller   \n",
       "2  Shailene Woodley|Theo James|Kate Winslet|Ansel...  Robert Schwentke   \n",
       "3  Harrison Ford|Mark Hamill|Carrie Fisher|Adam D...       J.J. Abrams   \n",
       "4  Vin Diesel|Paul Walker|Jason Statham|Michelle ...         James Wan   \n",
       "\n",
       "   runtime                                     genres  \\\n",
       "0      124  Action|Adventure|Science Fiction|Thriller   \n",
       "1      120  Action|Adventure|Science Fiction|Thriller   \n",
       "2      119         Adventure|Science Fiction|Thriller   \n",
       "3      136   Action|Adventure|Science Fiction|Fantasy   \n",
       "4      137                      Action|Crime|Thriller   \n",
       "\n",
       "                                production_companies release_date  vote_count  \\\n",
       "0  Universal Studios|Amblin Entertainment|Legenda...       6/9/15        5562   \n",
       "1  Village Roadshow Pictures|Kennedy Miller Produ...      5/13/15        6185   \n",
       "2  Summit Entertainment|Mandeville Films|Red Wago...      3/18/15        2480   \n",
       "3          Lucasfilm|Truenorth Productions|Bad Robot     12/15/15        5292   \n",
       "4  Universal Pictures|Original Film|Media Rights ...       4/1/15        2947   \n",
       "\n",
       "          vote_average  release_year           budget_adj          revenue_adj  \n",
       "0                 6.50          2015       137,999,939.28     1,392,445,892.52  \n",
       "1                 7.10          2015       137,999,939.28       348,161,292.49  \n",
       "2                 6.30          2015       101,199,955.47       271,619,025.41  \n",
       "3                 7.50          2015       183,999,919.04     1,902,723,129.80  \n",
       "4                 7.30          2015       174,799,923.09     1,385,748,801.47  "
      ]
     },
     "execution_count": 81,
     "metadata": {},
     "output_type": "execute_result"
    }
   ],
   "source": [
    "# Load movie list into a dataframe\n",
    "df_movie_list = pd.read_csv(\"tmdb-movies.csv\")\n",
    "\n",
    "# Drop columns not part of the analysis\n",
    "df_movie_list.drop(['budget', 'revenue', 'homepage', 'tagline', 'keywords', 'overview'], axis = 1, inplace = True)\n",
    "\n",
    "df_movie_list.head()"
   ]
  },
  {
   "cell_type": "markdown",
   "metadata": {},
   "source": [
    "### Data Cleaning\n",
    "\n",
    "In the next four steps, I am creating new dataframes as mentioned in the Data Wrangling section above by separating the pipe-separated values in certain columns into separate rows. I am doing this to make it easy for me to answer the questions that I have around these columns.\n",
    "\n",
    "I wasn't able to figure out a programmatic way of doing this for all the four columns in one code snippet because my attempts do so kept producing errors. Therefore, I went with the approach of repeating the steps for each of those columns.\n",
    "\n",
    "In each of the below four code snippets, I used the string split function to separate the values in a column into separate rows. I then added a discriminator column to each of these dataframes to identify the type of information that was stored in a row. This is because I later combined all the rows into a single dataframe to make merges easier in my queries.\n",
    "\n",
    "The steps are documented in the code snippets."
   ]
  },
  {
   "cell_type": "code",
   "execution_count": 82,
   "metadata": {},
   "outputs": [
    {
     "data": {
      "text/html": [
       "<div>\n",
       "<style scoped>\n",
       "    .dataframe tbody tr th:only-of-type {\n",
       "        vertical-align: middle;\n",
       "    }\n",
       "\n",
       "    .dataframe tbody tr th {\n",
       "        vertical-align: top;\n",
       "    }\n",
       "\n",
       "    .dataframe thead th {\n",
       "        text-align: right;\n",
       "    }\n",
       "</style>\n",
       "<table border=\"1\" class=\"dataframe\">\n",
       "  <thead>\n",
       "    <tr style=\"text-align: right;\">\n",
       "      <th></th>\n",
       "      <th>id</th>\n",
       "      <th>value</th>\n",
       "      <th>type</th>\n",
       "    </tr>\n",
       "  </thead>\n",
       "  <tbody>\n",
       "    <tr>\n",
       "      <th>1</th>\n",
       "      <td>76341</td>\n",
       "      <td>Tom Hardy</td>\n",
       "      <td>Cast</td>\n",
       "    </tr>\n",
       "    <tr>\n",
       "      <th>1</th>\n",
       "      <td>76341</td>\n",
       "      <td>Charlize Theron</td>\n",
       "      <td>Cast</td>\n",
       "    </tr>\n",
       "    <tr>\n",
       "      <th>1</th>\n",
       "      <td>76341</td>\n",
       "      <td>Hugh Keays-Byrne</td>\n",
       "      <td>Cast</td>\n",
       "    </tr>\n",
       "    <tr>\n",
       "      <th>1</th>\n",
       "      <td>76341</td>\n",
       "      <td>Nicholas Hoult</td>\n",
       "      <td>Cast</td>\n",
       "    </tr>\n",
       "    <tr>\n",
       "      <th>1</th>\n",
       "      <td>76341</td>\n",
       "      <td>Josh Helman</td>\n",
       "      <td>Cast</td>\n",
       "    </tr>\n",
       "  </tbody>\n",
       "</table>\n",
       "</div>"
      ],
      "text/plain": [
       "      id             value  type\n",
       "1  76341         Tom Hardy  Cast\n",
       "1  76341   Charlize Theron  Cast\n",
       "1  76341  Hugh Keays-Byrne  Cast\n",
       "1  76341    Nicholas Hoult  Cast\n",
       "1  76341       Josh Helman  Cast"
      ]
     },
     "execution_count": 82,
     "metadata": {},
     "output_type": "execute_result"
    }
   ],
   "source": [
    "# Create new dataframes by separating the pipe-separated values into separate rows\n",
    "# Keep these dataframes separate so that we may merge them with the main dataframe for analysis\n",
    "\n",
    "# First, copy only id and cast columns\n",
    "df_cast_tmp = df_movie_list[['id', 'cast']].copy()\n",
    "\n",
    "# Next, drop null values\n",
    "df_cast_tmp.dropna(inplace = True)\n",
    "\n",
    "# Make five copies of the dataframe to split the cast column into five rows\n",
    "# Need to figure out  programmatic way of doing this for any number of values separated by the separator\n",
    "df_c1 = df_cast_tmp.copy()\n",
    "df_c2 = df_cast_tmp.copy()\n",
    "df_c3 = df_cast_tmp.copy()\n",
    "df_c4 = df_cast_tmp.copy()\n",
    "df_c5 = df_cast_tmp.copy()\n",
    "\n",
    "# Split data in \"cast\" into five rows separated by \"|\"\n",
    "df_c1['cast'] = df_cast_tmp['cast'].str.split(\"|\", n = -1, expand = True)[0]\n",
    "df_c2['cast'] = df_cast_tmp['cast'].str.split(\"|\", n = -1, expand = True)[1]\n",
    "df_c3['cast'] = df_cast_tmp['cast'].str.split(\"|\", n = -1, expand = True)[2]\n",
    "df_c4['cast'] = df_cast_tmp['cast'].str.split(\"|\", n = -1, expand = True)[3]\n",
    "df_c5['cast'] = df_cast_tmp['cast'].str.split(\"|\", n = -1, expand = True)[4]\n",
    "\n",
    "# Merge the rows into a single dataframe\n",
    "df_cast = df_c1.append(df_c2.append(df_c3.append(df_c4.append(df_c5))))\n",
    "\n",
    "# Since not all rows in the original dataframe may have five cast members, drop the rows with null values\n",
    "df_cast.dropna(inplace = True)\n",
    "\n",
    "# Add a new column to the dataframe titled \"row_type\"\n",
    "# We will use this later as a discriminator column when we combine all these dataframes into one again\n",
    "row_type = np.repeat('Cast', df_cast['id'].count())\n",
    "df_cast['type'] = row_type\n",
    "\n",
    "# Rename the \"cast\" column to a generic name\n",
    "df_cast = df_cast.rename(columns = {'cast': 'value'})\n",
    "\n",
    "# Verification\n",
    "df_cast.query('id == 76341')\n",
    "# df_cast['cast'].isnull().sum()\n",
    "# df_cast_tmp['cast'].str.split(\"|\", n = -1, expand = True)\n",
    "# df_cast.head()"
   ]
  },
  {
   "cell_type": "code",
   "execution_count": 84,
   "metadata": {},
   "outputs": [
    {
     "data": {
      "text/html": [
       "<div>\n",
       "<style scoped>\n",
       "    .dataframe tbody tr th:only-of-type {\n",
       "        vertical-align: middle;\n",
       "    }\n",
       "\n",
       "    .dataframe tbody tr th {\n",
       "        vertical-align: top;\n",
       "    }\n",
       "\n",
       "    .dataframe thead th {\n",
       "        text-align: right;\n",
       "    }\n",
       "</style>\n",
       "<table border=\"1\" class=\"dataframe\">\n",
       "  <thead>\n",
       "    <tr style=\"text-align: right;\">\n",
       "      <th></th>\n",
       "      <th>id</th>\n",
       "      <th>value</th>\n",
       "      <th>type</th>\n",
       "    </tr>\n",
       "  </thead>\n",
       "  <tbody>\n",
       "    <tr>\n",
       "      <th>1</th>\n",
       "      <td>76341</td>\n",
       "      <td>George Miller</td>\n",
       "      <td>Director</td>\n",
       "    </tr>\n",
       "  </tbody>\n",
       "</table>\n",
       "</div>"
      ],
      "text/plain": [
       "      id          value      type\n",
       "1  76341  George Miller  Director"
      ]
     },
     "execution_count": 84,
     "metadata": {},
     "output_type": "execute_result"
    }
   ],
   "source": [
    "# Repeat these steps for each of the columns with multiple values separated by a separator\n",
    "# First, copy only id and director columns\n",
    "df_dir_tmp = df_movie_list[['id', 'director']].copy()\n",
    "\n",
    "# Next, drop null values\n",
    "df_dir_tmp.dropna(inplace = True)\n",
    "\n",
    "# Make five copies of the dataframe to split the cast column into five rows\n",
    "# Need to figure out  programmatic way of doing this for any number of values separated by the separator\n",
    "df_d1 = df_dir_tmp.copy()\n",
    "df_d2 = df_dir_tmp.copy()\n",
    "df_d3 = df_dir_tmp.copy()\n",
    "df_d4 = df_dir_tmp.copy()\n",
    "df_d5 = df_dir_tmp.copy()\n",
    "\n",
    "# Split data in \"director\" into five rows separated by \"|\"\n",
    "df_d1['director'] = df_dir_tmp['director'].str.split(\"|\", n = -1, expand = True)[0]\n",
    "df_d2['director'] = df_dir_tmp['director'].str.split(\"|\", n = -1, expand = True)[1]\n",
    "df_d3['director'] = df_dir_tmp['director'].str.split(\"|\", n = -1, expand = True)[2]\n",
    "df_d4['director'] = df_dir_tmp['director'].str.split(\"|\", n = -1, expand = True)[3]\n",
    "df_d5['director'] = df_dir_tmp['director'].str.split(\"|\", n = -1, expand = True)[4]\n",
    "\n",
    "# Merge the rows into a single dataframe\n",
    "df_dir = df_d1.append(df_d2.append(df_d3.append(df_d4.append(df_d5))))\n",
    "\n",
    "# Since not all rows in the original dataframe may have five directors, drop the rows with null values\n",
    "df_dir.dropna(inplace = True)\n",
    "\n",
    "# Add a new column to the dataframe titled \"row_type\"\n",
    "# We will use this later as a discriminator column when we combine all these dataframes into one again\n",
    "row_type = np.repeat('Director', df_dir['id'].count())\n",
    "df_dir['type'] = row_type\n",
    "\n",
    "# Rename the \"cast\" column to a generic name\n",
    "df_dir = df_dir.rename(columns = {'director': 'value'})\n",
    "\n",
    "# Verification\n",
    "df_dir.query('id == 76341')\n",
    "# df_dir['director'].isnull().sum()\n",
    "# df_dir_tmp['director'].str.split(\"|\", n = -1, expand = True)\n",
    "# df_dir.head()"
   ]
  },
  {
   "cell_type": "code",
   "execution_count": 85,
   "metadata": {},
   "outputs": [
    {
     "data": {
      "text/html": [
       "<div>\n",
       "<style scoped>\n",
       "    .dataframe tbody tr th:only-of-type {\n",
       "        vertical-align: middle;\n",
       "    }\n",
       "\n",
       "    .dataframe tbody tr th {\n",
       "        vertical-align: top;\n",
       "    }\n",
       "\n",
       "    .dataframe thead th {\n",
       "        text-align: right;\n",
       "    }\n",
       "</style>\n",
       "<table border=\"1\" class=\"dataframe\">\n",
       "  <thead>\n",
       "    <tr style=\"text-align: right;\">\n",
       "      <th></th>\n",
       "      <th>id</th>\n",
       "      <th>value</th>\n",
       "      <th>type</th>\n",
       "    </tr>\n",
       "  </thead>\n",
       "  <tbody>\n",
       "    <tr>\n",
       "      <th>1</th>\n",
       "      <td>76341</td>\n",
       "      <td>Action</td>\n",
       "      <td>Genre</td>\n",
       "    </tr>\n",
       "    <tr>\n",
       "      <th>1</th>\n",
       "      <td>76341</td>\n",
       "      <td>Adventure</td>\n",
       "      <td>Genre</td>\n",
       "    </tr>\n",
       "    <tr>\n",
       "      <th>1</th>\n",
       "      <td>76341</td>\n",
       "      <td>Science Fiction</td>\n",
       "      <td>Genre</td>\n",
       "    </tr>\n",
       "    <tr>\n",
       "      <th>1</th>\n",
       "      <td>76341</td>\n",
       "      <td>Thriller</td>\n",
       "      <td>Genre</td>\n",
       "    </tr>\n",
       "  </tbody>\n",
       "</table>\n",
       "</div>"
      ],
      "text/plain": [
       "      id            value   type\n",
       "1  76341           Action  Genre\n",
       "1  76341        Adventure  Genre\n",
       "1  76341  Science Fiction  Genre\n",
       "1  76341         Thriller  Genre"
      ]
     },
     "execution_count": 85,
     "metadata": {},
     "output_type": "execute_result"
    }
   ],
   "source": [
    "# Repeat these steps for each of the columns with multiple values separated by a separator\n",
    "# First, copy only id and genres columns\n",
    "df_genres_tmp = df_movie_list[['id', 'genres']].copy()\n",
    "\n",
    "# Next, drop null values\n",
    "df_genres_tmp.dropna(inplace = True)\n",
    "\n",
    "# Make five copies of the dataframe to split the cast column into five rows\n",
    "# Need to figure out  programmatic way of doing this for any number of values separated by the separator\n",
    "df_g1 = df_genres_tmp.copy()\n",
    "df_g2 = df_genres_tmp.copy()\n",
    "df_g3 = df_genres_tmp.copy()\n",
    "df_g4 = df_genres_tmp.copy()\n",
    "df_g5 = df_genres_tmp.copy()\n",
    "\n",
    "# Split data in \"genres\" into five rows separated by \"|\"\n",
    "df_g1['genres'] = df_genres_tmp['genres'].str.split(\"|\", n = -1, expand = True)[0]\n",
    "df_g2['genres'] = df_genres_tmp['genres'].str.split(\"|\", n = -1, expand = True)[1]\n",
    "df_g3['genres'] = df_genres_tmp['genres'].str.split(\"|\", n = -1, expand = True)[2]\n",
    "df_g4['genres'] = df_genres_tmp['genres'].str.split(\"|\", n = -1, expand = True)[3]\n",
    "df_g5['genres'] = df_genres_tmp['genres'].str.split(\"|\", n = -1, expand = True)[4]\n",
    "\n",
    "# Merge the rows into a single dataframe\n",
    "df_genre = df_g1.append(df_g2.append(df_g3.append(df_g4.append(df_g5))))\n",
    "\n",
    "# Since not all rows in the original dataframe may have five genres, drop the rows with null values\n",
    "df_genre.dropna(inplace = True)\n",
    "\n",
    "# Add a new column to the dataframe titled \"row_type\"\n",
    "# We will use this later as a discriminator column when we combine all these dataframes into one again\n",
    "row_type = np.repeat('Genre', df_genre['id'].count())\n",
    "df_genre['type'] = row_type\n",
    "\n",
    "# Rename the \"cast\" column to a generic name\n",
    "df_genre = df_genre.rename(columns = {'genres': 'value'})\n",
    "\n",
    "# Verification\n",
    "df_genre.query('id == 76341')\n",
    "# df_genre['genres'].isnull().sum()\n",
    "# df_genres_tmp['genres'].str.split(\"|\", n = -1, expand = True)\n",
    "# df_genre.head()"
   ]
  },
  {
   "cell_type": "code",
   "execution_count": 86,
   "metadata": {},
   "outputs": [
    {
     "data": {
      "text/html": [
       "<div>\n",
       "<style scoped>\n",
       "    .dataframe tbody tr th:only-of-type {\n",
       "        vertical-align: middle;\n",
       "    }\n",
       "\n",
       "    .dataframe tbody tr th {\n",
       "        vertical-align: top;\n",
       "    }\n",
       "\n",
       "    .dataframe thead th {\n",
       "        text-align: right;\n",
       "    }\n",
       "</style>\n",
       "<table border=\"1\" class=\"dataframe\">\n",
       "  <thead>\n",
       "    <tr style=\"text-align: right;\">\n",
       "      <th></th>\n",
       "      <th>id</th>\n",
       "      <th>value</th>\n",
       "      <th>type</th>\n",
       "    </tr>\n",
       "  </thead>\n",
       "  <tbody>\n",
       "    <tr>\n",
       "      <th>1</th>\n",
       "      <td>76341</td>\n",
       "      <td>Village Roadshow Pictures</td>\n",
       "      <td>Production Company</td>\n",
       "    </tr>\n",
       "    <tr>\n",
       "      <th>1</th>\n",
       "      <td>76341</td>\n",
       "      <td>Kennedy Miller Productions</td>\n",
       "      <td>Production Company</td>\n",
       "    </tr>\n",
       "  </tbody>\n",
       "</table>\n",
       "</div>"
      ],
      "text/plain": [
       "      id                       value                type\n",
       "1  76341   Village Roadshow Pictures  Production Company\n",
       "1  76341  Kennedy Miller Productions  Production Company"
      ]
     },
     "execution_count": 86,
     "metadata": {},
     "output_type": "execute_result"
    }
   ],
   "source": [
    "# Repeat these steps for each of the columns with multiple values separated by a separator\n",
    "# First, copy only id and production_companies columns\n",
    "df_prod_co_tmp = df_movie_list[['id', 'production_companies']].copy()\n",
    "\n",
    "# Next, drop null values\n",
    "df_prod_co_tmp.dropna(inplace = True)\n",
    "\n",
    "# Make five copies of the dataframe to split the cast column into five rows\n",
    "# Need to figure out  programmatic way of doing this for any number of values separated by the separator\n",
    "df_p1 = df_prod_co_tmp.copy()\n",
    "df_p2 = df_prod_co_tmp.copy()\n",
    "df_p3 = df_prod_co_tmp.copy()\n",
    "df_p4 = df_prod_co_tmp.copy()\n",
    "df_p5 = df_prod_co_tmp.copy()\n",
    "\n",
    "# Split data in \"production_companies\" into five rows separated by \"|\"\n",
    "df_p1['production_companies'] = df_prod_co_tmp['production_companies'].str.split(\"|\", n = -1, expand = True)[0]\n",
    "df_p2['production_companies'] = df_prod_co_tmp['production_companies'].str.split(\"|\", n = -1, expand = True)[1]\n",
    "df_p3['production_companies'] = df_prod_co_tmp['production_companies'].str.split(\"|\", n = -1, expand = True)[2]\n",
    "df_p4['production_companies'] = df_prod_co_tmp['production_companies'].str.split(\"|\", n = -1, expand = True)[3]\n",
    "df_p5['production_companies'] = df_prod_co_tmp['production_companies'].str.split(\"|\", n = -1, expand = True)[4]\n",
    "\n",
    "# Merge the rows into a single dataframe\n",
    "df_prod_co = df_p1.append(df_p2.append(df_p3.append(df_p4.append(df_p5))))\n",
    "\n",
    "# Since not all rows in the original dataframe may have five production companies, drop the rows with null values\n",
    "df_prod_co.dropna(inplace = True)\n",
    "\n",
    "# Add a new column to the dataframe titled \"row_type\"\n",
    "# We will use this later as a discriminator column when we combine all these dataframes into one again\n",
    "row_type = np.repeat('Production Company', df_prod_co['id'].count())\n",
    "df_prod_co['type'] = row_type\n",
    "\n",
    "# Rename the \"cast\" column to a generic name\n",
    "df_prod_co = df_prod_co.rename(columns = {'production_companies': 'value'})\n",
    "\n",
    "# Verification\n",
    "df_prod_co.query('id == 76341')\n",
    "# df_prod_co['production_companies'].isnull().sum()\n",
    "# df_prod_co_tmp['production_companies'].str.split(\"|\", n = -1, expand = True)\n",
    "# df_prod_co.head()"
   ]
  },
  {
   "cell_type": "code",
   "execution_count": 87,
   "metadata": {},
   "outputs": [
    {
     "data": {
      "text/html": [
       "<div>\n",
       "<style scoped>\n",
       "    .dataframe tbody tr th:only-of-type {\n",
       "        vertical-align: middle;\n",
       "    }\n",
       "\n",
       "    .dataframe tbody tr th {\n",
       "        vertical-align: top;\n",
       "    }\n",
       "\n",
       "    .dataframe thead th {\n",
       "        text-align: right;\n",
       "    }\n",
       "</style>\n",
       "<table border=\"1\" class=\"dataframe\">\n",
       "  <thead>\n",
       "    <tr style=\"text-align: right;\">\n",
       "      <th></th>\n",
       "      <th>id</th>\n",
       "      <th>value</th>\n",
       "      <th>type</th>\n",
       "    </tr>\n",
       "  </thead>\n",
       "  <tbody>\n",
       "    <tr>\n",
       "      <th>1</th>\n",
       "      <td>76341</td>\n",
       "      <td>Tom Hardy</td>\n",
       "      <td>Cast</td>\n",
       "    </tr>\n",
       "    <tr>\n",
       "      <th>1</th>\n",
       "      <td>76341</td>\n",
       "      <td>Charlize Theron</td>\n",
       "      <td>Cast</td>\n",
       "    </tr>\n",
       "    <tr>\n",
       "      <th>1</th>\n",
       "      <td>76341</td>\n",
       "      <td>Hugh Keays-Byrne</td>\n",
       "      <td>Cast</td>\n",
       "    </tr>\n",
       "    <tr>\n",
       "      <th>1</th>\n",
       "      <td>76341</td>\n",
       "      <td>Nicholas Hoult</td>\n",
       "      <td>Cast</td>\n",
       "    </tr>\n",
       "    <tr>\n",
       "      <th>1</th>\n",
       "      <td>76341</td>\n",
       "      <td>Josh Helman</td>\n",
       "      <td>Cast</td>\n",
       "    </tr>\n",
       "    <tr>\n",
       "      <th>1</th>\n",
       "      <td>76341</td>\n",
       "      <td>George Miller</td>\n",
       "      <td>Director</td>\n",
       "    </tr>\n",
       "    <tr>\n",
       "      <th>1</th>\n",
       "      <td>76341</td>\n",
       "      <td>Action</td>\n",
       "      <td>Genre</td>\n",
       "    </tr>\n",
       "    <tr>\n",
       "      <th>1</th>\n",
       "      <td>76341</td>\n",
       "      <td>Adventure</td>\n",
       "      <td>Genre</td>\n",
       "    </tr>\n",
       "    <tr>\n",
       "      <th>1</th>\n",
       "      <td>76341</td>\n",
       "      <td>Science Fiction</td>\n",
       "      <td>Genre</td>\n",
       "    </tr>\n",
       "    <tr>\n",
       "      <th>1</th>\n",
       "      <td>76341</td>\n",
       "      <td>Thriller</td>\n",
       "      <td>Genre</td>\n",
       "    </tr>\n",
       "    <tr>\n",
       "      <th>1</th>\n",
       "      <td>76341</td>\n",
       "      <td>Village Roadshow Pictures</td>\n",
       "      <td>Production Company</td>\n",
       "    </tr>\n",
       "    <tr>\n",
       "      <th>1</th>\n",
       "      <td>76341</td>\n",
       "      <td>Kennedy Miller Productions</td>\n",
       "      <td>Production Company</td>\n",
       "    </tr>\n",
       "  </tbody>\n",
       "</table>\n",
       "</div>"
      ],
      "text/plain": [
       "      id                       value                type\n",
       "1  76341                   Tom Hardy                Cast\n",
       "1  76341             Charlize Theron                Cast\n",
       "1  76341            Hugh Keays-Byrne                Cast\n",
       "1  76341              Nicholas Hoult                Cast\n",
       "1  76341                 Josh Helman                Cast\n",
       "1  76341               George Miller            Director\n",
       "1  76341                      Action               Genre\n",
       "1  76341                   Adventure               Genre\n",
       "1  76341             Science Fiction               Genre\n",
       "1  76341                    Thriller               Genre\n",
       "1  76341   Village Roadshow Pictures  Production Company\n",
       "1  76341  Kennedy Miller Productions  Production Company"
      ]
     },
     "execution_count": 87,
     "metadata": {},
     "output_type": "execute_result"
    }
   ],
   "source": [
    "# Create a single dataframe to combine all the above \n",
    "df_mv = df_cast.append(df_dir.append(df_genre.append(df_prod_co)))\n",
    "\n",
    "df_mv.query('id == 76341')\n",
    "# df_mv.isnull().sum().any()"
   ]
  },
  {
   "cell_type": "markdown",
   "metadata": {},
   "source": [
    "<a id='eda'></a>\n",
    "## Exploratory Data Analysis\n",
    "\n",
    "### Research Question 1 (Which Production Companies had the highest budget?)"
   ]
  },
  {
   "cell_type": "code",
   "execution_count": 88,
   "metadata": {},
   "outputs": [
    {
     "data": {
      "text/plain": [
       "value\n",
       "Warner Bros.                                24,281,184,329.70\n",
       "Universal Pictures                          19,050,474,613.29\n",
       "Paramount Pictures                          17,145,279,612.80\n",
       "Twentieth Century Fox Film Corporation      13,104,390,946.64\n",
       "Columbia Pictures                           12,786,450,817.13\n",
       "Walt Disney Pictures                        11,747,793,345.17\n",
       "New Line Cinema                              7,202,735,433.91\n",
       "Touchstone Pictures                          6,996,645,251.38\n",
       "Columbia Pictures Corporation                6,550,126,060.05\n",
       "Metro-Goldwyn-Mayer (MGM)                    6,142,258,083.45\n",
       "Name: budget_adj, dtype: float64"
      ]
     },
     "execution_count": 88,
     "metadata": {},
     "output_type": "execute_result"
    }
   ],
   "source": [
    "df_top10_prodco_by_budget = df_movie_list.merge(df_mv.query('type == \"Production Company\"'), on='id', how='inner').groupby('value').sum()['budget_adj'].nlargest(10)\n",
    "df_top10_prodco_by_budget.head(10)"
   ]
  },
  {
   "cell_type": "code",
   "execution_count": 92,
   "metadata": {},
   "outputs": [
    {
     "data": {
      "image/png": "[encoded data removed]",
      "text/plain": [
       "<Figure size 432x288 with 1 Axes>"
      ]
     },
     "metadata": {
      "needs_background": "light"
     },
     "output_type": "display_data"
    }
   ],
   "source": [
    "# Representing the answer to Question 1 visually\n",
    "# sending results of group by to matplotlib\n",
    "\n",
    "df_top10_prodco_by_budget.plot(kind='bar', title = 'Top 10 Production Companies by Budget', alpha = .7)\n",
    "plt.xlabel('Production Company', fontsize=18)\n",
    "plt.ylabel('Budget', fontsize=18);"
   ]
  },
  {
   "cell_type": "markdown",
   "metadata": {},
   "source": [
    "### Research Question 2  (Which Production Companies had the highest revenues?)"
   ]
  },
  {
   "cell_type": "code",
   "execution_count": 93,
   "metadata": {},
   "outputs": [
    {
     "data": {
      "text/plain": [
       "value\n",
       "Warner Bros.                                71,048,487,651.52\n",
       "Universal Pictures                          64,321,960,187.24\n",
       "Paramount Pictures                          57,469,667,370.21\n",
       "Twentieth Century Fox Film Corporation      52,247,285,068.56\n",
       "Walt Disney Pictures                        37,386,388,788.77\n",
       "Columbia Pictures                           33,262,002,792.31\n",
       "New Line Cinema                             23,076,784,391.32\n",
       "Amblin Entertainment                        21,299,244,854.09\n",
       "Metro-Goldwyn-Mayer (MGM)                   20,428,218,177.75\n",
       "Columbia Pictures Corporation               18,118,991,141.35\n",
       "Name: revenue_adj, dtype: float64"
      ]
     },
     "execution_count": 93,
     "metadata": {},
     "output_type": "execute_result"
    }
   ],
   "source": [
    "# Continue to explore the data to address your additional research\n",
    "#   questions. Add more headers as needed if you have more questions to\n",
    "#   investigate.\n",
    "\n",
    "df_top10_prodco_by_revenue = df_movie_list.merge(df_mv.query('type == \"Production Company\"'), on='id', how='inner').groupby('value').sum()['revenue_adj'].nlargest(10)\n",
    "df_top10_prodco_by_revenue.head(10)"
   ]
  },
  {
   "cell_type": "code",
   "execution_count": 94,
   "metadata": {},
   "outputs": [
    {
     "data": {
      "image/png": "[encoded data removed]",
      "text/plain": [
       "<Figure size 432x288 with 1 Axes>"
      ]
     },
     "metadata": {
      "needs_background": "light"
     },
     "output_type": "display_data"
    }
   ],
   "source": [
    "# Representing the answer to Question 2 visually\n",
    "# sending results of group by to matplotlib\n",
    "\n",
    "df_top10_prodco_by_revenue.plot(kind='bar', title = 'Top 10 Production Companies by Revenue', alpha = .7)\n",
    "plt.xlabel('Production Company', fontsize=18)\n",
    "plt.ylabel('Revenue', fontsize=18);"
   ]
  },
  {
   "cell_type": "markdown",
   "metadata": {},
   "source": [
    "### Research Question 3  (Did big budget movies produce higher revenues? Are there exceptions?)"
   ]
  },
  {
   "cell_type": "code",
   "execution_count": 95,
   "metadata": {},
   "outputs": [
    {
     "data": {
      "text/html": [
       "<div>\n",
       "<style scoped>\n",
       "    .dataframe tbody tr th:only-of-type {\n",
       "        vertical-align: middle;\n",
       "    }\n",
       "\n",
       "    .dataframe tbody tr th {\n",
       "        vertical-align: top;\n",
       "    }\n",
       "\n",
       "    .dataframe thead th {\n",
       "        text-align: right;\n",
       "    }\n",
       "</style>\n",
       "<table border=\"1\" class=\"dataframe\">\n",
       "  <thead>\n",
       "    <tr style=\"text-align: right;\">\n",
       "      <th></th>\n",
       "      <th>budget_adj</th>\n",
       "      <th>revenue_adj</th>\n",
       "    </tr>\n",
       "    <tr>\n",
       "      <th>original_title</th>\n",
       "      <th></th>\n",
       "      <th></th>\n",
       "    </tr>\n",
       "  </thead>\n",
       "  <tbody>\n",
       "    <tr>\n",
       "      <th>$5 a Day</th>\n",
       "      <td>0.00</td>\n",
       "      <td>0.00</td>\n",
       "    </tr>\n",
       "    <tr>\n",
       "      <th>$9.99</th>\n",
       "      <td>0.00</td>\n",
       "      <td>0.00</td>\n",
       "    </tr>\n",
       "    <tr>\n",
       "      <th>'71</th>\n",
       "      <td>0.00</td>\n",
       "      <td>1,497,553.12</td>\n",
       "    </tr>\n",
       "    <tr>\n",
       "      <th>(500) Days of Summer</th>\n",
       "      <td>7,623,003.26</td>\n",
       "      <td>61,718,613.20</td>\n",
       "    </tr>\n",
       "    <tr>\n",
       "      <th>(T)Raumschiff Surprise - Periode 1</th>\n",
       "      <td>0.00</td>\n",
       "      <td>0.00</td>\n",
       "    </tr>\n",
       "    <tr>\n",
       "      <th>*batteries not included</th>\n",
       "      <td>0.00</td>\n",
       "      <td>124,910,637.06</td>\n",
       "    </tr>\n",
       "    <tr>\n",
       "      <th>...And Justice for All</th>\n",
       "      <td>0.00</td>\n",
       "      <td>100,051,648.28</td>\n",
       "    </tr>\n",
       "    <tr>\n",
       "      <th>1</th>\n",
       "      <td>0.00</td>\n",
       "      <td>0.00</td>\n",
       "    </tr>\n",
       "    <tr>\n",
       "      <th>10</th>\n",
       "      <td>0.00</td>\n",
       "      <td>0.00</td>\n",
       "    </tr>\n",
       "    <tr>\n",
       "      <th>10 Items or Less</th>\n",
       "      <td>0.00</td>\n",
       "      <td>627,938.15</td>\n",
       "    </tr>\n",
       "  </tbody>\n",
       "</table>\n",
       "</div>"
      ],
      "text/plain": [
       "                                             budget_adj          revenue_adj\n",
       "original_title                                                              \n",
       "$5 a Day                                           0.00                 0.00\n",
       "$9.99                                              0.00                 0.00\n",
       "'71                                                0.00         1,497,553.12\n",
       "(500) Days of Summer                       7,623,003.26        61,718,613.20\n",
       "(T)Raumschiff Surprise - Periode 1                 0.00                 0.00\n",
       "*batteries not included                            0.00       124,910,637.06\n",
       "...And Justice for All                             0.00       100,051,648.28\n",
       "1                                                  0.00                 0.00\n",
       "10                                                 0.00                 0.00\n",
       "10 Items or Less                                   0.00           627,938.15"
      ]
     },
     "execution_count": 95,
     "metadata": {},
     "output_type": "execute_result"
    }
   ],
   "source": [
    "df_big_budget_movies = df_movie_list.groupby('original_title').sum()[['budget_adj', 'revenue_adj']]\n",
    "df_big_budget_movies.head(10)"
   ]
  },
  {
   "cell_type": "code",
   "execution_count": 96,
   "metadata": {},
   "outputs": [
    {
     "data": {
      "image/png": "[encoded data removed]",
      "text/plain": [
       "<Figure size 432x288 with 1 Axes>"
      ]
     },
     "metadata": {
      "needs_background": "light"
     },
     "output_type": "display_data"
    }
   ],
   "source": [
    "# Representing the answer to Question 3 visually\n",
    "df_big_budget_movies.plot(x = 'budget_adj', y = 'revenue_adj', kind = 'scatter');"
   ]
  },
  {
   "cell_type": "markdown",
   "metadata": {},
   "source": [
    "<a id='wrangling'></a>\n",
    "### Research Question 3 - Conclusion\n",
    "\n",
    "In general, the bigger the budget, the more revenue a movie seemed to generate. However, there are outliers in both directions as can be seen in the diagram above - some movies with lower budgets reported very high revenues and, to the contrary, some movies with bigger budgets reported very low revenues."
   ]
  },
  {
   "cell_type": "markdown",
   "metadata": {},
   "source": [
    "### Research Question 4  (Which movies had revenues lower than production budgets?)"
   ]
  },
  {
   "cell_type": "code",
   "execution_count": 97,
   "metadata": {},
   "outputs": [
    {
     "data": {
      "text/html": [
       "<div>\n",
       "<style scoped>\n",
       "    .dataframe tbody tr th:only-of-type {\n",
       "        vertical-align: middle;\n",
       "    }\n",
       "\n",
       "    .dataframe tbody tr th {\n",
       "        vertical-align: top;\n",
       "    }\n",
       "\n",
       "    .dataframe thead th {\n",
       "        text-align: right;\n",
       "    }\n",
       "</style>\n",
       "<table border=\"1\" class=\"dataframe\">\n",
       "  <thead>\n",
       "    <tr style=\"text-align: right;\">\n",
       "      <th></th>\n",
       "      <th>original_title</th>\n",
       "      <th>budget_adj</th>\n",
       "      <th>revenue_adj</th>\n",
       "    </tr>\n",
       "  </thead>\n",
       "  <tbody>\n",
       "    <tr>\n",
       "      <th>2244</th>\n",
       "      <td>The Warrior's Way</td>\n",
       "      <td>425,000,000.00</td>\n",
       "      <td>11,087,569.00</td>\n",
       "    </tr>\n",
       "    <tr>\n",
       "      <th>5508</th>\n",
       "      <td>The Lone Ranger</td>\n",
       "      <td>238,688,504.95</td>\n",
       "      <td>83,578,333.82</td>\n",
       "    </tr>\n",
       "    <tr>\n",
       "      <th>2435</th>\n",
       "      <td>The 13th Warrior</td>\n",
       "      <td>209,448,455.46</td>\n",
       "      <td>80,767,119.37</td>\n",
       "    </tr>\n",
       "    <tr>\n",
       "      <th>7448</th>\n",
       "      <td>Evan Almighty</td>\n",
       "      <td>184,042,001.96</td>\n",
       "      <td>181,938,664.80</td>\n",
       "    </tr>\n",
       "    <tr>\n",
       "      <th>3925</th>\n",
       "      <td>Treasure Planet</td>\n",
       "      <td>169,716,595.11</td>\n",
       "      <td>132,837,318.40</td>\n",
       "    </tr>\n",
       "    <tr>\n",
       "      <th>2676</th>\n",
       "      <td>Final Fantasy: The Spirits Within</td>\n",
       "      <td>168,713,871.99</td>\n",
       "      <td>104,838,837.00</td>\n",
       "    </tr>\n",
       "    <tr>\n",
       "      <th>7031</th>\n",
       "      <td>The Alamo</td>\n",
       "      <td>167,394,582.97</td>\n",
       "      <td>29,807,735.20</td>\n",
       "    </tr>\n",
       "    <tr>\n",
       "      <th>5462</th>\n",
       "      <td>47 Ronin</td>\n",
       "      <td>163,805,836.73</td>\n",
       "      <td>141,305,911.61</td>\n",
       "    </tr>\n",
       "    <tr>\n",
       "      <th>6590</th>\n",
       "      <td>Flushed Away</td>\n",
       "      <td>161,168,704.59</td>\n",
       "      <td>69,723,654.08</td>\n",
       "    </tr>\n",
       "    <tr>\n",
       "      <th>6313</th>\n",
       "      <td>Stealth</td>\n",
       "      <td>150,736,044.10</td>\n",
       "      <td>85,900,499.92</td>\n",
       "    </tr>\n",
       "  </tbody>\n",
       "</table>\n",
       "</div>"
      ],
      "text/plain": [
       "                         original_title           budget_adj  \\\n",
       "2244                  The Warrior's Way       425,000,000.00   \n",
       "5508                    The Lone Ranger       238,688,504.95   \n",
       "2435                   The 13th Warrior       209,448,455.46   \n",
       "7448                      Evan Almighty       184,042,001.96   \n",
       "3925                    Treasure Planet       169,716,595.11   \n",
       "2676  Final Fantasy: The Spirits Within       168,713,871.99   \n",
       "7031                          The Alamo       167,394,582.97   \n",
       "5462                           47 Ronin       163,805,836.73   \n",
       "6590                       Flushed Away       161,168,704.59   \n",
       "6313                            Stealth       150,736,044.10   \n",
       "\n",
       "              revenue_adj  \n",
       "2244        11,087,569.00  \n",
       "5508        83,578,333.82  \n",
       "2435        80,767,119.37  \n",
       "7448       181,938,664.80  \n",
       "3925       132,837,318.40  \n",
       "2676       104,838,837.00  \n",
       "7031        29,807,735.20  \n",
       "5462       141,305,911.61  \n",
       "6590        69,723,654.08  \n",
       "6313        85,900,499.92  "
      ]
     },
     "execution_count": 97,
     "metadata": {},
     "output_type": "execute_result"
    }
   ],
   "source": [
    "df_low_revenue_movies = df_movie_list[['original_title', 'budget_adj', 'revenue_adj']].query('revenue_adj < budget_adj and revenue_adj != 0').nlargest(10, 'budget_adj')\n",
    "df_low_revenue_movies.head(10)"
   ]
  },
  {
   "cell_type": "code",
   "execution_count": 98,
   "metadata": {},
   "outputs": [
    {
     "data": {
      "image/png": "[encoded data removed]",
      "text/plain": [
       "<Figure size 432x288 with 1 Axes>"
      ]
     },
     "metadata": {
      "needs_background": "light"
     },
     "output_type": "display_data"
    }
   ],
   "source": [
    "# Representing the answer to Question 4 visually\n",
    "index = np.arange(len(df_low_revenue_movies.original_title))\n",
    "df_low_revenue_movies.plot(kind='bar');\n",
    "plt.xlabel('Movies', fontsize=18)\n",
    "plt.ylabel('Budget Vs. Revenue', fontsize=18)\n",
    "plt.xticks(index, df_low_revenue_movies.original_title, fontsize=10)\n",
    "plt.title('Movies with Revenues lower than Budgeted Cost');"
   ]
  },
  {
   "cell_type": "markdown",
   "metadata": {},
   "source": [
    "### Research Question 5  (Who were the popular directors?)"
   ]
  },
  {
   "cell_type": "code",
   "execution_count": 99,
   "metadata": {},
   "outputs": [
    {
     "data": {
      "text/plain": [
       "value\n",
       "Mark Cousins                           9.20\n",
       "Derek Frankowski                       8.80\n",
       "David Mallet                           8.70\n",
       "Curt Morgan                            8.50\n",
       "James Payne                            8.50\n",
       "Michael Henry Wilson                   8.50\n",
       "Saul Swimmer                           8.50\n",
       "Anthony Mandler                        8.40\n",
       "Chris Hegedus                          8.40\n",
       "David Dawkins                          8.40\n",
       "Name: vote_average, dtype: float64"
      ]
     },
     "execution_count": 99,
     "metadata": {},
     "output_type": "execute_result"
    }
   ],
   "source": [
    "# Mesasured by the mean vote_average of all movies directed by them\n",
    "\n",
    "df_popular_dir = df_movie_list.merge(df_mv.query('type == \"Director\"'), on='id', how='inner').groupby('value').mean()['vote_average'].nlargest(10)\n",
    "df_popular_dir.head(10)"
   ]
  },
  {
   "cell_type": "code",
   "execution_count": 100,
   "metadata": {},
   "outputs": [
    {
     "data": {
      "image/png": "[encoded data removed]",
      "text/plain": [
       "<Figure size 432x288 with 1 Axes>"
      ]
     },
     "metadata": {
      "needs_background": "light"
     },
     "output_type": "display_data"
    }
   ],
   "source": [
    "# Representing the answer to Question 5 visually\n",
    "ax = df_popular_dir.plot(kind='barh', title = 'Popular Directors by vote', alpha = .7)\n",
    "ax.invert_yaxis()\n",
    "plt.xlabel('Director', fontsize=18)\n",
    "plt.ylabel('Vote', fontsize=18);"
   ]
  },
  {
   "cell_type": "markdown",
   "metadata": {},
   "source": [
    "### Research Question 6  (Who were the popular actors?)"
   ]
  },
  {
   "cell_type": "code",
   "execution_count": 101,
   "metadata": {},
   "outputs": [
    {
     "data": {
      "text/plain": [
       "value\n",
       "Harrison Ford         14,683,483,145.71\n",
       "Tom Cruise            11,212,800,243.23\n",
       "Tom Hanks             10,672,385,155.22\n",
       "Emma Watson            8,806,337,401.56\n",
       "Ian McKellen           8,671,322,793.00\n",
       "Eddie Murphy           8,572,389,604.53\n",
       "Johnny Depp            8,564,523,652.67\n",
       "Daniel Radcliffe       8,515,082,234.94\n",
       "Rupert Grint           8,358,390,101.76\n",
       "Bruce Willis           8,253,050,905.29\n",
       "Name: revenue_adj, dtype: float64"
      ]
     },
     "execution_count": 101,
     "metadata": {},
     "output_type": "execute_result"
    }
   ],
   "source": [
    "# For a change, I am using the adjusted revenue earned by the movies that they acted in to do this ranking\n",
    "\n",
    "df_popular_actors = df_movie_list.merge(df_mv.query('type == \"Cast\"'), on='id', how='inner').groupby('value').sum()['revenue_adj'].nlargest(10)\n",
    "df_popular_actors.head(10)"
   ]
  },
  {
   "cell_type": "code",
   "execution_count": 102,
   "metadata": {},
   "outputs": [
    {
     "data": {
      "image/png": "[encoded data removed]",
      "text/plain": [
       "<Figure size 432x288 with 1 Axes>"
      ]
     },
     "metadata": {
      "needs_background": "light"
     },
     "output_type": "display_data"
    }
   ],
   "source": [
    "# Representing the answer to Question 6 visually\n",
    "ax = df_popular_actors.plot(kind='barh', title = 'Popular Actors by Movie Revenue', alpha = .7)\n",
    "ax.invert_yaxis()\n",
    "plt.xlabel('Actor', fontsize=18)\n",
    "plt.ylabel('Movie Revenue', fontsize=18);"
   ]
  },
  {
   "cell_type": "markdown",
   "metadata": {},
   "source": [
    "### Research Question 7  (Which were the popular genres?)"
   ]
  },
  {
   "cell_type": "code",
   "execution_count": 103,
   "metadata": {},
   "outputs": [
    {
     "data": {
      "text/plain": [
       "value\n",
       "Documentary                   6.91\n",
       "Music                         6.48\n",
       "History                       6.41\n",
       "Animation                     6.40\n",
       "War                           6.30\n",
       "Drama                         6.16\n",
       "Crime                         6.12\n",
       "Western                       6.08\n",
       "Romance                       6.04\n",
       "Family                        6.00\n",
       "Name: vote_average, dtype: float64"
      ]
     },
     "execution_count": 103,
     "metadata": {},
     "output_type": "execute_result"
    }
   ],
   "source": [
    "# Again, measured using the mean of vote_average\n",
    "\n",
    "df_popular_genres = df_movie_list.merge(df_mv.query('type == \"Genre\"'), on='id', how='inner').groupby('value').mean()['vote_average'].nlargest(10)\n",
    "df_popular_genres.head(10)"
   ]
  },
  {
   "cell_type": "code",
   "execution_count": 104,
   "metadata": {},
   "outputs": [
    {
     "data": {
      "image/png": "[encoded data removed]",
      "text/plain": [
       "<Figure size 432x288 with 1 Axes>"
      ]
     },
     "metadata": {
      "needs_background": "light"
     },
     "output_type": "display_data"
    }
   ],
   "source": [
    "# Representing the answer to Question 7 visually\n",
    "ax = df_popular_genres.plot(kind='barh', title = 'Popular Genres by Vote', alpha = .7)\n",
    "ax.invert_yaxis()\n",
    "plt.xlabel('Genre', fontsize=18)\n",
    "plt.ylabel('Vote', fontsize=18);"
   ]
  },
  {
   "cell_type": "markdown",
   "metadata": {},
   "source": [
    "### Research Question 8 (Which directors had most movies?)"
   ]
  },
  {
   "cell_type": "code",
   "execution_count": 105,
   "metadata": {},
   "outputs": [
    {
     "data": {
      "text/plain": [
       "value\n",
       "Woody Allen          46\n",
       "Clint Eastwood       34\n",
       "Martin Scorsese      31\n",
       "Steven Spielberg     30\n",
       "Ridley Scott         23\n",
       "Steven Soderbergh    23\n",
       "Ron Howard           22\n",
       "Joel Schumacher      21\n",
       "Brian De Palma       20\n",
       "Tim Burton           20\n",
       "Name: id, dtype: int64"
      ]
     },
     "execution_count": 105,
     "metadata": {},
     "output_type": "execute_result"
    }
   ],
   "source": [
    "df_dir_with_max_movies = df_movie_list.merge(df_mv.query('type == \"Director\"'), on='id', how='inner').groupby('value').count()['id'].nlargest(10)\n",
    "df_dir_with_max_movies.head(10)"
   ]
  },
  {
   "cell_type": "code",
   "execution_count": 106,
   "metadata": {},
   "outputs": [
    {
     "data": {
      "image/png": "[encoded data removed]",
      "text/plain": [
       "<Figure size 360x360 with 1 Axes>"
      ]
     },
     "metadata": {},
     "output_type": "display_data"
    }
   ],
   "source": [
    "# Representing the answer to Question 8 visually\n",
    "df_dir_with_max_movies.plot(kind='pie', title = 'Directors with most movies', figsize=(5, 5));"
   ]
  },
  {
   "cell_type": "markdown",
   "metadata": {},
   "source": [
    "### Research Question 9 (Which actors had most movies?)"
   ]
  },
  {
   "cell_type": "code",
   "execution_count": 107,
   "metadata": {},
   "outputs": [
    {
     "data": {
      "text/plain": [
       "value\n",
       "Robert De Niro       72\n",
       "Samuel L. Jackson    71\n",
       "Bruce Willis         62\n",
       "Nicolas Cage         61\n",
       "Michael Caine        53\n",
       "Robin Williams       51\n",
       "John Cusack          50\n",
       "John Goodman         49\n",
       "Morgan Freeman       49\n",
       "Liam Neeson          48\n",
       "Name: id, dtype: int64"
      ]
     },
     "execution_count": 107,
     "metadata": {},
     "output_type": "execute_result"
    }
   ],
   "source": [
    "df_actors_with_most_movies = df_movie_list.merge(df_mv.query('type == \"Cast\"'), on='id', how='inner').groupby('value').count()['id'].nlargest(10)\n",
    "df_actors_with_most_movies.head(10)"
   ]
  },
  {
   "cell_type": "code",
   "execution_count": 108,
   "metadata": {},
   "outputs": [
    {
     "data": {
      "image/png": "[encoded data removed]",
      "text/plain": [
       "<Figure size 360x360 with 1 Axes>"
      ]
     },
     "metadata": {},
     "output_type": "display_data"
    }
   ],
   "source": [
    "# Representing the answer to Question 9 visually\n",
    "df_actors_with_most_movies.plot(kind='pie', title = 'Directors with most movies', figsize=(5, 5));"
   ]
  },
  {
   "cell_type": "markdown",
   "metadata": {},
   "source": [
    "### Research Question 10 (Which genres had most movies?)"
   ]
  },
  {
   "cell_type": "code",
   "execution_count": 109,
   "metadata": {},
   "outputs": [
    {
     "data": {
      "text/plain": [
       "value\n",
       "Drama              4763\n",
       "Comedy             3793\n",
       "Thriller           2910\n",
       "Action             2387\n",
       "Romance            1712\n",
       "Horror             1637\n",
       "Adventure          1471\n",
       "Crime              1357\n",
       "Science Fiction    1232\n",
       "Family             1231\n",
       "Name: id, dtype: int64"
      ]
     },
     "execution_count": 109,
     "metadata": {},
     "output_type": "execute_result"
    }
   ],
   "source": [
    "df_genres_with_max_movies = df_movie_list.merge(df_mv.query('type == \"Genre\"'), on='id', how='inner').groupby('value').count()['id'].nlargest(10)\n",
    "df_genres_with_max_movies.head(10)"
   ]
  },
  {
   "cell_type": "code",
   "execution_count": 110,
   "metadata": {},
   "outputs": [
    {
     "data": {
      "image/png": "[encoded data removed]",
      "text/plain": [
       "<Figure size 432x288 with 1 Axes>"
      ]
     },
     "metadata": {
      "needs_background": "light"
     },
     "output_type": "display_data"
    }
   ],
   "source": [
    "# Representing the answer to Question 10 visually\n",
    "ax = df_genres_with_max_movies.plot(kind='barh', title = 'Genres with most movies', alpha = .7)\n",
    "ax.invert_yaxis()\n",
    "plt.xlabel('Genre', fontsize=18)\n",
    "plt.ylabel('No. of movies', fontsize=18);"
   ]
  },
  {
   "cell_type": "markdown",
   "metadata": {},
   "source": [
    "### Research Question 11 (Is there a correlation between movie runtimes and popularity?)"
   ]
  },
  {
   "cell_type": "code",
   "execution_count": 111,
   "metadata": {},
   "outputs": [
    {
     "data": {
      "image/png": "[encoded data removed]",
      "text/plain": [
       "<Figure size 432x288 with 1 Axes>"
      ]
     },
     "metadata": {
      "needs_background": "light"
     },
     "output_type": "display_data"
    }
   ],
   "source": [
    "df_movie_list.plot(x = 'runtime', y = 'vote_average', kind = 'scatter');"
   ]
  },
  {
   "cell_type": "markdown",
   "metadata": {},
   "source": [
    "### Conclusion\n",
    "\n",
    "It seems so - in general, shorter movies seem to be more popular than longer ones. Of course, there are a few outliers which seem to be exceptions to that rule"
   ]
  },
  {
   "cell_type": "markdown",
   "metadata": {},
   "source": [
    "### Research Question 12 (Are more movies released each year?)"
   ]
  },
  {
   "cell_type": "code",
   "execution_count": 112,
   "metadata": {},
   "outputs": [
    {
     "data": {
      "text/plain": [
       "release_year\n",
       "1960    32\n",
       "1961    31\n",
       "1962    32\n",
       "1963    34\n",
       "1964    42\n",
       "1965    35\n",
       "1966    46\n",
       "1967    40\n",
       "1968    39\n",
       "1969    31\n",
       "Name: id, dtype: int64"
      ]
     },
     "execution_count": 112,
     "metadata": {},
     "output_type": "execute_result"
    }
   ],
   "source": [
    "df_rel_year = df_movie_list.groupby('release_year').count()['id']\n",
    "# df_rel_year = df_rel_year.sort_values('release_year', ascending = True)\n",
    "\n",
    "df_rel_year.head(10)"
   ]
  },
  {
   "cell_type": "code",
   "execution_count": 113,
   "metadata": {},
   "outputs": [
    {
     "data": {
      "image/png": "[encoded data removed]",
      "text/plain": [
       "<Figure size 432x288 with 1 Axes>"
      ]
     },
     "metadata": {
      "needs_background": "light"
     },
     "output_type": "display_data"
    }
   ],
   "source": [
    "# Representing the answer to Question 12 visually\n",
    "ax = df_rel_year.plot(kind='line', title = 'Trend of releases per year', alpha = .7)\n",
    "plt.xlabel('Year', fontsize=18)\n",
    "plt.ylabel('No. of releases', fontsize=18);"
   ]
  },
  {
   "cell_type": "markdown",
   "metadata": {},
   "source": [
    "### Conclusion\n",
    "\n",
    "The trendline clearly says yes."
   ]
  },
  {
   "cell_type": "markdown",
   "metadata": {},
   "source": [
    "### Research Question 13 (Who are directors' favorite actors?)"
   ]
  },
  {
   "cell_type": "code",
   "execution_count": 114,
   "metadata": {},
   "outputs": [
    {
     "data": {
      "text/plain": [
       "director          cast                \n",
       "Woody Allen       Mia Farrow              12\n",
       "Gerald Thomas     Kenneth Williams        11\n",
       "                  Charles Hawtrey         10\n",
       "                  Sid James               10\n",
       "                  Joan Sims                9\n",
       "Martin Scorsese   Robert De Niro           9\n",
       "Dennis Dugan      Adam Sandler             8\n",
       "Dwight H. Little  Cary-Hiroyuki Tagawa     8\n",
       "                  Ian Anthony Dale         8\n",
       "                  Jon Foo                  8\n",
       "Name: id, dtype: int64"
      ]
     },
     "execution_count": 114,
     "metadata": {},
     "output_type": "execute_result"
    }
   ],
   "source": [
    "df_by_dir = df_movie_list.merge(df_mv.query('type == \"Director\"'), on='id', how='inner')[['id', 'value']]\n",
    "df_by_dir_cast = df_by_dir.merge(df_mv.query('type == \"Cast\"'), on = 'id', how = 'inner')[['id', 'value_x', 'value_y']]\n",
    "df_by_dir_cast = df_by_dir_cast.rename(columns = {'value_x': 'director', 'value_y': 'cast'})\n",
    "\n",
    "# Filtering out directors who cast themselves into their movies, for example Woody Allen\n",
    "df_by_dir_cast = df_by_dir_cast.query('director != cast').groupby(['director', 'cast']).count()['id'].nlargest(10)\n",
    "\n",
    "df_by_dir_cast.head(10)"
   ]
  },
  {
   "cell_type": "code",
   "execution_count": 115,
   "metadata": {},
   "outputs": [
    {
     "data": {
      "image/png": "[encoded data removed]",
      "text/plain": [
       "<Figure size 432x288 with 1 Axes>"
      ]
     },
     "metadata": {
      "needs_background": "light"
     },
     "output_type": "display_data"
    }
   ],
   "source": [
    "# Representing the answer to Question 13 visually\n",
    "ax = df_by_dir_cast.plot(kind='barh', title = 'Favorite actors of directors', alpha = .7)\n",
    "ax.invert_yaxis()\n",
    "plt.xlabel('Director/Actor', fontsize=18)\n",
    "plt.ylabel('No. of movies', fontsize=18);"
   ]
  },
  {
   "cell_type": "code",
   "execution_count": 116,
   "metadata": {},
   "outputs": [
    {
     "data": {
      "text/plain": [
       "cast                  director        \n",
       "Mia Farrow            Woody Allen         12\n",
       "Kenneth Williams      Gerald Thomas       11\n",
       "Charles Hawtrey       Gerald Thomas       10\n",
       "Sid James             Gerald Thomas       10\n",
       "Joan Sims             Gerald Thomas        9\n",
       "Robert De Niro        Martin Scorsese      9\n",
       "Adam Sandler          Dennis Dugan         8\n",
       "Cary-Hiroyuki Tagawa  Dwight H. Little     8\n",
       "Ian Anthony Dale      Dwight H. Little     8\n",
       "Johnny Depp           Tim Burton           8\n",
       "Name: id, dtype: int64"
      ]
     },
     "execution_count": 116,
     "metadata": {},
     "output_type": "execute_result"
    }
   ],
   "source": [
    "# Question 14\n",
    "# Who are actors' favorite directors?\n",
    "\n",
    "df_by_cast = df_movie_list.merge(df_mv.query('type == \"Cast\"'), on='id', how='inner')[['id', 'value']]\n",
    "df_by_cast_dir = df_by_cast.merge(df_mv.query('type == \"Director\"'), on = 'id', how = 'inner')[['id', 'value_x', 'value_y']]\n",
    "df_by_cast_dir = df_by_cast_dir.rename(columns = {'value_x': 'cast', 'value_y': 'director'})\n",
    "\n",
    "# Filtering out directors who cast themselves into their movies, for example Woody Allen\n",
    "df_by_cast_dir = df_by_cast_dir.query('director != cast').groupby(['cast', 'director']).count()['id'].nlargest(10)\n",
    "\n",
    "df_by_cast_dir.head(10)"
   ]
  },
  {
   "cell_type": "code",
   "execution_count": 117,
   "metadata": {},
   "outputs": [
    {
     "data": {
      "image/png": "[encoded data removed]",
      "text/plain": [
       "<Figure size 432x288 with 1 Axes>"
      ]
     },
     "metadata": {
      "needs_background": "light"
     },
     "output_type": "display_data"
    }
   ],
   "source": [
    "# Representing the answer to Question 14 visually\n",
    "ax = df_by_cast_dir.plot(kind='barh', title = 'Favorite directors of actors', alpha = .7);\n",
    "ax.invert_yaxis()\n",
    "plt.xlabel('Actor/Director', fontsize=18)\n",
    "plt.ylabel('No. of movies', fontsize=18);"
   ]
  },
  {
   "cell_type": "markdown",
   "metadata": {},
   "source": [
    "### Conclusion\n",
    "\n",
    "I expected the results for both Questions 13 and 14 to be the same. It mostly is except for the last pair."
   ]
  }
 ],
 "metadata": {
  "kernelspec": {
   "display_name": "Python 3",
   "language": "python",
   "name": "python3"
  },
  "language_info": {
   "codemirror_mode": {
    "name": "ipython",
    "version": 3
   },
   "file_extension": ".py",
   "mimetype": "text/x-python",
   "name": "python",
   "nbconvert_exporter": "python",
   "pygments_lexer": "ipython3",
   "version": "3.7.1"
  }
 },
 "nbformat": 4,
 "nbformat_minor": 2
}
