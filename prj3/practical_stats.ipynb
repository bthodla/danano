{
  "nbformat": 4,
  "nbformat_minor": 0,
  "metadata": {
    "colab": {
      "name": "practical_stats.ipynb",
      "version": "0.3.2",
      "provenance": []
    },
    "kernelspec": {
      "display_name": "Python 3",
      "language": "python",
      "name": "python3"
    }
  },
  "cells": [
    {
      "metadata": {
        "id": "3RZ0J823-V1z",
        "colab_type": "text"
      },
      "cell_type": "markdown",
      "source": [
        "Data Types\n",
        "    - Quantitative\n",
        "        - Continuous - should be possible to sub-divide them into smaller units\n",
        "        - Discrete - if we can divide quantitative data into smaller units\n",
        "    - Categorical\n",
        "        - Ordinal - if an order ranking is associated with the data\n",
        "        - Nominal - if no order ranking is associated with the data\n",
        "        \n",
        "Quantitative Measures\n",
        "    - Center\n",
        "        - Mean\n",
        "        - Median - order the list and pick the middle value (n/2); if the middle value is a fraction, sum the two values to its left and right and divide it by 2\n",
        "        - Mode - the most frequently occuring value\n",
        "    - Spread\n",
        "        - Range\n",
        "            - Histograms: bin values\n",
        "            - Five Number Summary: maximum, minimum, first quartile, second quartile (median), third quartile\n",
        "                - Begin by ordering the values\n",
        "                - Q1 = Median of values to the left of the Median of the series\n",
        "                - Q3 = Meadian of the values to the right of the Median of the series\n",
        "                - Range = Maximum - Minimum\n",
        "                - IQR = Q3 - Q1\n",
        "                - Box Plot essentially plots all the five values in the Five Number Summary with markers\n",
        "        - Standard Deviation\n",
        "            - On average, how far each point in our dataset is from the mean\n",
        "            - A single value to represent the spread of a series of data points; variance is the same\n",
        "            - Frequently used to compare different groups to assess which is more spread out\n",
        "            - In financial matters such as money, economy or stock prices, having a higher standard deviation is considered to be more risky\n",
        "            - For comparison to be fair, all data must be in the same unit\n",
        "        - Variance\n",
        "            - The variance is the average squared difference of each observation from the mean\n",
        "            - Standard Deviation = Square Root of Variance\n",
        "    - Shape\n",
        "        - Left skewed - Mean < Median - if you draw a box plot, the longer whisker is on the left\n",
        "        - Right skewed - Mean > Median - if you draw a box plot, the longer whisker is on the right\n",
        "        - Normal Distribution (aka Bell Curve) - here Mean = Median = Mode - has a symmetric box plot\n",
        "            - You can find out every detail about the data using just the Mean and SD\n",
        "            - However, if the data is skewed, the Five Number Summary provides much more information about the data\n",
        "            \n",
        "    - Outliers\n",
        "        - Anamoly Detection\n",
        "        - Mean and SD are not good measures to describe the data\n",
        "        \n",
        "\n",
        "Notation"
      ]
    },
    {
      "metadata": {
        "id": "lFlCh4Dz-V11",
        "colab_type": "code",
        "outputId": "4bd95a79-6f98-40e4-da63-ee9f788e7ba9",
        "colab": {}
      },
      "cell_type": "code",
      "source": [
        "import statistics as stat\n",
        "import numpy as np\n",
        "\n",
        "list = [15, 4, 3, 8, 15, 22, 7, 9, 2, 3, 3, 12, 6]\n",
        "list.sort()\n",
        "print (list)\n",
        "len(list)\n",
        "stat.median(list)\n",
        "# statistics.mean(list)\n",
        "# list2 = [-5.14, -1.14, 3.86, -3.14, 1.86, 5.86, -2.14]\n",
        "# list3 = np.array(list2)**2\n",
        "# (np.array(list3).sum()/7)**0.5"
      ],
      "execution_count": 0,
      "outputs": [
        {
          "output_type": "stream",
          "text": [
            "[2, 3, 3, 3, 4, 6, 7, 8, 9, 12, 15, 15, 22]\n"
          ],
          "name": "stdout"
        },
        {
          "output_type": "execute_result",
          "data": {
            "text/plain": [
              "7"
            ]
          },
          "metadata": {
            "tags": []
          },
          "execution_count": 39
        }
      ]
    },
    {
      "metadata": {
        "id": "eYH_gQ5F-V17",
        "colab_type": "code",
        "colab": {}
      },
      "cell_type": "code",
      "source": [
        "3\n",
        "13.5"
      ],
      "execution_count": 0,
      "outputs": []
    },
    {
      "metadata": {
        "id": "XdYJC9XU-uOl",
        "colab_type": "text"
      },
      "cell_type": "markdown",
      "source": [
        "**Probability Theory**\n",
        "\n",
        "Probability Mass Function: P(X = x) = n! / ((n -x)! * x!) * p^x * (1 -p)^(n - x)\n",
        "\n",
        "where n is the number of events, x is the number of successes and p is the probability of success\n",
        "\n",
        "**Conditional Probability**\n",
        "\n",
        "P(A|B) = P(AxB) / P(B)\n",
        "\n",
        "Probabilities multiply for independent events\n",
        "\n",
        "**Example:**\n",
        "\n",
        "Probability of a person having cancer = P(Cancer) = 0.1\n",
        "Probability of a person not having cancer = P(No Cancer) = 0.9\n",
        "\n",
        "Probablity of a person testing positive for cancer given the probability of a person having cancer = P(Positive | Cancer) = 0.9\n",
        "Probablity of a person testing negative for cancer given the probability of a person having cancer = P(Positive | Cancer) = 0.1\n",
        "\n",
        "Probablity of a person testing positive for cancer given the probability of a person not having cancer = P(Positive | No Cancer) = 0.2\n",
        "Probablity of a person testing negative for cancer given the probability of a person not having cancer = P(Negative | No Cancer) = 0.8\n",
        "\n",
        "**Bayes' rule**\n",
        "\n",
        "P(S|Y) = P(Y|S)*P(S) / P(Y)\n",
        "\n",
        "P(S|Y) = 0.12*0.4 / 0.1 = 0.48\n"
      ]
    },
    {
      "metadata": {
        "id": "D8duda1qsg04",
        "colab_type": "code",
        "outputId": "2aa0db98-7e92-4421-ca5b-803ddb578a08",
        "colab": {
          "base_uri": "https://localhost:8080/",
          "height": 34
        }
      },
      "cell_type": "code",
      "source": [
        "import numpy as np\n",
        "import matplotlib.pyplot as plt\n",
        "%matplotlib inline\n",
        "\n",
        "# outcome of one coin flip\n",
        "np.random.randint(2)"
      ],
      "execution_count": 0,
      "outputs": [
        {
          "output_type": "execute_result",
          "data": {
            "text/plain": [
              "1"
            ]
          },
          "metadata": {
            "tags": []
          },
          "execution_count": 1
        }
      ]
    },
    {
      "metadata": {
        "id": "UBfV01lRs3oE",
        "colab_type": "code",
        "outputId": "722ea862-575b-45ca-e917-0b6c5bf7532f",
        "colab": {
          "base_uri": "https://localhost:8080/",
          "height": 34
        }
      },
      "cell_type": "code",
      "source": [
        "# outcome of ten thousand coin flips\n",
        "np.random.randint(2, size=10000)"
      ],
      "execution_count": 0,
      "outputs": [
        {
          "output_type": "execute_result",
          "data": {
            "text/plain": [
              "array([0, 1, 1, ..., 0, 0, 1])"
            ]
          },
          "metadata": {
            "tags": []
          },
          "execution_count": 2
        }
      ]
    },
    {
      "metadata": {
        "id": "g-JssOUJtGuR",
        "colab_type": "code",
        "outputId": "02b150bf-802e-4e45-98cf-cad599908bf5",
        "colab": {
          "base_uri": "https://localhost:8080/",
          "height": 34
        }
      },
      "cell_type": "code",
      "source": [
        "# mean outcome of ten thousand coin flips\n",
        "np.random.randint(2, size=10000).mean()"
      ],
      "execution_count": 0,
      "outputs": [
        {
          "output_type": "execute_result",
          "data": {
            "text/plain": [
              "0.503"
            ]
          },
          "metadata": {
            "tags": []
          },
          "execution_count": 3
        }
      ]
    },
    {
      "metadata": {
        "id": "InSZLwoa0WhI",
        "colab_type": "code",
        "outputId": "1b64753b-18e9-435b-fc3f-35d38db071b7",
        "colab": {
          "base_uri": "https://localhost:8080/",
          "height": 34
        }
      },
      "cell_type": "code",
      "source": [
        "# outcome of one coin flip\n",
        "np.random.choice([0, 1])"
      ],
      "execution_count": 0,
      "outputs": [
        {
          "output_type": "execute_result",
          "data": {
            "text/plain": [
              "1"
            ]
          },
          "metadata": {
            "tags": []
          },
          "execution_count": 5
        }
      ]
    },
    {
      "metadata": {
        "id": "47nR8l-N0nlp",
        "colab_type": "code",
        "outputId": "61cba517-4769-4975-d7f7-8f89af38a7eb",
        "colab": {
          "base_uri": "https://localhost:8080/",
          "height": 34
        }
      },
      "cell_type": "code",
      "source": [
        "# outcome of 10,000 coin flips\n",
        "np.random.choice([0, 1], size = 10000)"
      ],
      "execution_count": 0,
      "outputs": [
        {
          "output_type": "execute_result",
          "data": {
            "text/plain": [
              "array([1, 1, 1, ..., 0, 0, 1])"
            ]
          },
          "metadata": {
            "tags": []
          },
          "execution_count": 6
        }
      ]
    },
    {
      "metadata": {
        "id": "yQzPto8E05GZ",
        "colab_type": "code",
        "outputId": "43a5f4c5-26c7-4816-eb34-4e2bc564b5c1",
        "colab": {
          "base_uri": "https://localhost:8080/",
          "height": 34
        }
      },
      "cell_type": "code",
      "source": [
        "# mean outcome of ten thousand coin flips\n",
        "np.random.choice([0, 1], size = 10000).mean()"
      ],
      "execution_count": 0,
      "outputs": [
        {
          "output_type": "execute_result",
          "data": {
            "text/plain": [
              "0.5103"
            ]
          },
          "metadata": {
            "tags": []
          },
          "execution_count": 7
        }
      ]
    },
    {
      "metadata": {
        "id": "FnoAG4GS1MGb",
        "colab_type": "code",
        "outputId": "b3e310ae-44f2-4c5c-913c-db11790a7d16",
        "colab": {
          "base_uri": "https://localhost:8080/",
          "height": 34
        }
      },
      "cell_type": "code",
      "source": [
        "# outcome of ten thousand biased coin flips\n",
        "np.random.choice([0, 1], size = 10000, p = [0.8, 0.2])"
      ],
      "execution_count": 0,
      "outputs": [
        {
          "output_type": "execute_result",
          "data": {
            "text/plain": [
              "array([0, 0, 1, ..., 0, 0, 0])"
            ]
          },
          "metadata": {
            "tags": []
          },
          "execution_count": 9
        }
      ]
    },
    {
      "metadata": {
        "id": "jbpaQzy_1sWQ",
        "colab_type": "code",
        "outputId": "df991792-af84-464b-d501-93b584c55f0f",
        "colab": {
          "base_uri": "https://localhost:8080/",
          "height": 34
        }
      },
      "cell_type": "code",
      "source": [
        "# mean outcome of ten thousand biased coin flips\n",
        "np.random.choice([0, 1], size = 10000, p = [0.8, 0.2]).mean()\n",
        "\n",
        "tests = np.random.choice([0, 1], size = (int(1e6), p = [0.6, 0.4])"
      ],
      "execution_count": 0,
      "outputs": [
        {
          "output_type": "execute_result",
          "data": {
            "text/plain": [
              "0.1986"
            ]
          },
          "metadata": {
            "tags": []
          },
          "execution_count": 10
        }
      ]
    },
    {
      "metadata": {
        "id": "t5yk14C06GcN",
        "colab_type": "code",
        "outputId": "110cacd5-f7f9-4b40-ac30-744bd3a1d242",
        "colab": {
          "base_uri": "https://localhost:8080/",
          "height": 34
        }
      },
      "cell_type": "code",
      "source": [
        "# simulate 1 million tests of two fair coin flips\n",
        "tests = np.random.randint(2, size=(int(1e6), 2))\n",
        "\n",
        "# sums of all tests\n",
        "test_sums = tests.sum(axis=1)\n",
        "\n",
        "# proportion of tests that produced exactly two heads\n",
        "(test_sums == 0).mean()"
      ],
      "execution_count": 0,
      "outputs": [
        {
          "output_type": "execute_result",
          "data": {
            "text/plain": [
              "0.249567"
            ]
          },
          "metadata": {
            "tags": []
          },
          "execution_count": 11
        }
      ]
    },
    {
      "metadata": {
        "id": "JPDhfutL6HWn",
        "colab_type": "code",
        "outputId": "d7c6570e-66ee-411d-a31b-61998d83ff74",
        "colab": {
          "base_uri": "https://localhost:8080/",
          "height": 34
        }
      },
      "cell_type": "code",
      "source": [
        "# simulate 1 million tests of three fair coin flips\n",
        "tests = np.random.randint(2, size=(int(1e6), 3))\n",
        "\n",
        "# sums of all tests\n",
        "test_sums = tests.sum(axis=1)\n",
        "\n",
        "# proportion of tests that produced exactly one head\n",
        "(test_sums == 0).mean()"
      ],
      "execution_count": 0,
      "outputs": [
        {
          "output_type": "execute_result",
          "data": {
            "text/plain": [
              "0.124852"
            ]
          },
          "metadata": {
            "tags": []
          },
          "execution_count": 12
        }
      ]
    },
    {
      "metadata": {
        "id": "QxWTdzoC6NsX",
        "colab_type": "code",
        "outputId": "9aa71db3-4566-45ea-c6a3-f4c6c25d1640",
        "colab": {
          "base_uri": "https://localhost:8080/",
          "height": 34
        }
      },
      "cell_type": "code",
      "source": [
        "# simulate 1 million tests of three biased coin flips\n",
        "# hint: use np.random.choice()\n",
        "tests = np.random.choice([0, 1], size = (int(1e6), 3), p = [0.6, 0.4])\n",
        "\n",
        "# sums of all tests\n",
        "test_sums = tests.sum(axis = 1)\n",
        "\n",
        "# proportion of tests that produced exactly one head\n",
        "(test_sums == 0).mean()"
      ],
      "execution_count": 0,
      "outputs": [
        {
          "output_type": "execute_result",
          "data": {
            "text/plain": [
              "0.215589"
            ]
          },
          "metadata": {
            "tags": []
          },
          "execution_count": 13
        }
      ]
    },
    {
      "metadata": {
        "id": "P31FD1xI7l2p",
        "colab_type": "code",
        "outputId": "164593d3-e8a0-485d-cabc-33d81cf82015",
        "colab": {
          "base_uri": "https://localhost:8080/",
          "height": 34
        }
      },
      "cell_type": "code",
      "source": [
        "# simulate 1 million tests of three fair coin flips\n",
        "tests = np.random.randint(2, size=(int(1e6), 3))\n",
        "\n",
        "# sums of all tests\n",
        "test_sums = tests.sum(axis=1)\n",
        "\n",
        "# proportion of tests that produced exactly one head\n",
        "(test_sums == 2).mean()"
      ],
      "execution_count": 0,
      "outputs": [
        {
          "output_type": "execute_result",
          "data": {
            "text/plain": [
              "0.374289"
            ]
          },
          "metadata": {
            "tags": []
          },
          "execution_count": 24
        }
      ]
    },
    {
      "metadata": {
        "id": "h4c3IYqU9c4N",
        "colab_type": "code",
        "outputId": "b14550cb-71e5-4f34-8a6c-202eba85534f",
        "colab": {
          "base_uri": "https://localhost:8080/",
          "height": 34
        }
      },
      "cell_type": "code",
      "source": [
        "# simulate 1 million tests of three biased coin flips\n",
        "# hint: use np.random.choice()\n",
        "tests = np.random.choice([0, 1], size = (int(1e6), 3), p = [0.6, 0.4])\n",
        "# tests\n",
        "# sums of all tests\n",
        "test_sums = tests.sum(axis = 1)\n",
        "# test_sums\n",
        "\n",
        "# proportion of tests that produced exactly one head\n",
        "(test_sums == 2).mean()"
      ],
      "execution_count": 0,
      "outputs": [
        {
          "output_type": "execute_result",
          "data": {
            "text/plain": [
              "0.21559"
            ]
          },
          "metadata": {
            "tags": []
          },
          "execution_count": 27
        }
      ]
    },
    {
      "metadata": {
        "id": "80UifJjI97KX",
        "colab_type": "code",
        "outputId": "679607c9-d52a-4a1f-c255-768596c2c465",
        "colab": {
          "base_uri": "https://localhost:8080/",
          "height": 34
        }
      },
      "cell_type": "code",
      "source": [
        "# simulate 1 million tests of one die roll\n",
        "tests = np.random.choice([1, 2, 3, 4, 5, 6], size = (int(1e6)))\n",
        "tests_odd_even = tests%2\n",
        "\n",
        "# proportion of tests that produced an even number\n",
        "(tests_odd_even == 0).mean()"
      ],
      "execution_count": 0,
      "outputs": [
        {
          "output_type": "execute_result",
          "data": {
            "text/plain": [
              "0.499466"
            ]
          },
          "metadata": {
            "tags": []
          },
          "execution_count": 38
        }
      ]
    },
    {
      "metadata": {
        "id": "F3PWaOQWA5O7",
        "colab_type": "code",
        "outputId": "74798c9a-281c-4505-db29-d607fab2ef3e",
        "colab": {
          "base_uri": "https://localhost:8080/",
          "height": 34
        }
      },
      "cell_type": "code",
      "source": [
        "# simulate the first million die rolls\n",
        "first = np.random.choice([1, 2, 3, 4, 5, 6], size = (int(1e6)))\n",
        "# first\n",
        "\n",
        "# simulate the second million die rolls\n",
        "second = np.random.choice([1, 2, 3, 4, 5, 6], size = (int(1e6)))\n",
        "# second\n",
        "\n",
        "# proportion of tests where the 1st and 2nd die rolled the same number\n",
        "(first == second).mean()"
      ],
      "execution_count": 0,
      "outputs": [
        {
          "output_type": "execute_result",
          "data": {
            "text/plain": [
              "0.166375"
            ]
          },
          "metadata": {
            "tags": []
          },
          "execution_count": 55
        }
      ]
    },
    {
      "metadata": {
        "id": "m2FOllF2IeH7",
        "colab_type": "code",
        "outputId": "1741f051-1d73-4e06-c3bc-f8f711438b13",
        "colab": {
          "base_uri": "https://localhost:8080/",
          "height": 34
        }
      },
      "cell_type": "code",
      "source": [
        "# number of heads from 10 fair coin flips\n",
        "np.random.binomial(10, 0.5)"
      ],
      "execution_count": 0,
      "outputs": [
        {
          "output_type": "execute_result",
          "data": {
            "text/plain": [
              "2"
            ]
          },
          "metadata": {
            "tags": []
          },
          "execution_count": 56
        }
      ]
    },
    {
      "metadata": {
        "id": "X8QmTuxNIqGY",
        "colab_type": "code",
        "outputId": "9455365c-2605-430b-ab3b-db7f81062ff4",
        "colab": {
          "base_uri": "https://localhost:8080/",
          "height": 34
        }
      },
      "cell_type": "code",
      "source": [
        "# results from 20 tests with 10 coin flips\n",
        "np.random.binomial(10, 0.5, 20)"
      ],
      "execution_count": 0,
      "outputs": [
        {
          "output_type": "execute_result",
          "data": {
            "text/plain": [
              "array([4, 5, 6, 2, 3, 5, 5, 7, 3, 7, 9, 3, 3, 6, 7, 4, 7, 8, 6, 8])"
            ]
          },
          "metadata": {
            "tags": []
          },
          "execution_count": 57
        }
      ]
    },
    {
      "metadata": {
        "id": "CJl_UQiDI1LH",
        "colab_type": "code",
        "outputId": "98cb0248-31d9-4961-f3f4-def08ae4ed54",
        "colab": {
          "base_uri": "https://localhost:8080/",
          "height": 34
        }
      },
      "cell_type": "code",
      "source": [
        "# mean number of heads from the 20 tests\n",
        "np.random.binomial(10, 0.5, 20).mean()"
      ],
      "execution_count": 0,
      "outputs": [
        {
          "output_type": "execute_result",
          "data": {
            "text/plain": [
              "4.7"
            ]
          },
          "metadata": {
            "tags": []
          },
          "execution_count": 58
        }
      ]
    },
    {
      "metadata": {
        "id": "olIJAzuTI6p7",
        "colab_type": "code",
        "outputId": "97717534-2cfe-4d32-91b6-3e44b8bed335",
        "colab": {
          "base_uri": "https://localhost:8080/",
          "height": 34
        }
      },
      "cell_type": "code",
      "source": [
        "# reflects the fairness of the coin more closely as # tests increases\n",
        "np.random.binomial(10, 0.5, 1000000).mean()"
      ],
      "execution_count": 0,
      "outputs": [
        {
          "output_type": "execute_result",
          "data": {
            "text/plain": [
              "5.002248"
            ]
          },
          "metadata": {
            "tags": []
          },
          "execution_count": 59
        }
      ]
    },
    {
      "metadata": {
        "id": "rptNPG6KI-uq",
        "colab_type": "code",
        "outputId": "9dbc4c52-b1c3-46cd-a08a-a96ee4a9a5e8",
        "colab": {
          "base_uri": "https://localhost:8080/",
          "height": 265
        }
      },
      "cell_type": "code",
      "source": [
        "plt.hist(np.random.binomial(10, 0.5, 1000000));"
      ],
      "execution_count": 0,
      "outputs": [
        {
          "output_type": "display_data",
          "data": {
            "image/png": "[encoded data removed]",
            "text/plain": [
              "<Figure size 432x288 with 1 Axes>"
            ]
          },
          "metadata": {
            "tags": []
          }
        }
      ]
    },
    {
      "metadata": {
        "id": "PVZa6HQRJJq8",
        "colab_type": "code",
        "outputId": "46f9fee8-9b76-4508-835e-2b5c0617e36a",
        "colab": {
          "base_uri": "https://localhost:8080/",
          "height": 265
        }
      },
      "cell_type": "code",
      "source": [
        "# gets more narrow as number of flips increase per test\n",
        "plt.hist(np.random.binomial(100, 0.5, 1000000));"
      ],
      "execution_count": 0,
      "outputs": [
        {
          "output_type": "display_data",
          "data": {
            "image/png": "[encoded data removed]",
            "text/plain": [
              "<Figure size 432x288 with 1 Axes>"
            ]
          },
          "metadata": {
            "tags": []
          }
        }
      ]
    },
    {
      "metadata": {
        "id": "WNJ5EpuyLBHv",
        "colab_type": "code",
        "outputId": "b7696eb0-a017-43ff-c028-21e8cfc94ccc",
        "colab": {
          "base_uri": "https://localhost:8080/",
          "height": 34
        }
      },
      "cell_type": "code",
      "source": [
        "# simulate 1 million tests of one fair coin flip\n",
        "# remember, the output of these tests are the # successes, or # heads\n",
        "tests = np.random.binomial(1, 0.5, int(1e6))\n",
        "\n",
        "# proportion of tests that produced heads\n",
        "(tests == 1).mean()"
      ],
      "execution_count": 0,
      "outputs": [
        {
          "output_type": "execute_result",
          "data": {
            "text/plain": [
              "0.500144"
            ]
          },
          "metadata": {
            "tags": []
          },
          "execution_count": 67
        }
      ]
    },
    {
      "metadata": {
        "id": "uU5WBeuKLC4O",
        "colab_type": "code",
        "outputId": "698dbf98-a7f2-4481-8409-2adbdeb3aa00",
        "colab": {
          "base_uri": "https://localhost:8080/",
          "height": 34
        }
      },
      "cell_type": "code",
      "source": [
        "# simulate 1 million tests of five fair coin flips\n",
        "tests = np.random.binomial(5, 0.5, int(1e6))\n",
        "\n",
        "# proportion of tests that produced 1 head\n",
        "(tests == 4).mean()"
      ],
      "execution_count": 0,
      "outputs": [
        {
          "output_type": "execute_result",
          "data": {
            "text/plain": [
              "0.155746"
            ]
          },
          "metadata": {
            "tags": []
          },
          "execution_count": 68
        }
      ]
    },
    {
      "metadata": {
        "id": "oCNVqoyvLHvM",
        "colab_type": "code",
        "outputId": "4e8ba8ee-4606-4803-af27-cd80261b6321",
        "colab": {
          "base_uri": "https://localhost:8080/",
          "height": 34
        }
      },
      "cell_type": "code",
      "source": [
        "# simulate 1 million tests of ten fair coin flips\n",
        "tests = np.random.binomial(10, 0.5, int(1e6))\n",
        "\n",
        "# proportion of tests that produced 4 heads\n",
        "(tests == 6).mean()"
      ],
      "execution_count": 0,
      "outputs": [
        {
          "output_type": "execute_result",
          "data": {
            "text/plain": [
              "0.009657"
            ]
          },
          "metadata": {
            "tags": []
          },
          "execution_count": 69
        }
      ]
    },
    {
      "metadata": {
        "id": "RR2LTzPALJGY",
        "colab_type": "code",
        "outputId": "b5472817-d5d5-459b-b45c-86d8ad6c251d",
        "colab": {
          "base_uri": "https://localhost:8080/",
          "height": 34
        }
      },
      "cell_type": "code",
      "source": [
        "# simulate 1 million tests of five biased coin flips\n",
        "tests = np.random.binomial(5, 0.8, int(1e6))\n",
        "\n",
        "# proportion of tests that produced 5 heads\n",
        "(tests == 0).mean()"
      ],
      "execution_count": 0,
      "outputs": [
        {
          "output_type": "execute_result",
          "data": {
            "text/plain": [
              "0.00031"
            ]
          },
          "metadata": {
            "tags": []
          },
          "execution_count": 70
        }
      ]
    },
    {
      "metadata": {
        "id": "og33yg7SLNTr",
        "colab_type": "code",
        "outputId": "19f2e9f6-5b6b-4a08-d985-6f68677d66de",
        "colab": {
          "base_uri": "https://localhost:8080/",
          "height": 34
        }
      },
      "cell_type": "code",
      "source": [
        "# simulate 1 million tests of ten biased coin flips\n",
        "tests = np.random.binomial(10, 0.15, int(1e6))\n",
        "\n",
        "# proportion of tests that produced at least 3 heads\n",
        "(tests <= 2).mean()"
      ],
      "execution_count": 0,
      "outputs": [
        {
          "output_type": "execute_result",
          "data": {
            "text/plain": [
              "0.819917"
            ]
          },
          "metadata": {
            "tags": []
          },
          "execution_count": 71
        }
      ]
    },
    {
      "metadata": {
        "id": "lYRgn5eYftBr",
        "colab_type": "text"
      },
      "cell_type": "markdown",
      "source": [
        "S = Has Cancer\n",
        "Y = Tested Positive\n",
        "\n",
        "P(cancer) = 0.105\tProbability a patient has cancer\n",
        "P(~cancer) = 0.895\tProbability a patient does not have cancer\n",
        "P(positive|cancer) = 0.905\tProbability a patient with cancer tests positive\n",
        "P(negative|cancer) = 0.095\tProbability a patient with cancer tests negative\n",
        "P(positive|~cancer) = 0.204\tProbability a patient without cancer tests positive\n",
        "P(negative|~cancer) = 0.796\tProbability a patient without cancer tests negative\n",
        "\n",
        "P(S|Y) = P(Y|S)*P(S) / P(Y)\n",
        "P(S|Y) = .905 * .105 / 0.2772820864790666\n",
        "P(S|Y) = 0.3427015470297029\n",
        "\n",
        "P(~S|Y) = P(Y|~S)*P(~S)/P(Y)\n",
        "P(~S|Y) = 0.204 * 0.895 / 0.2772820864790666\n",
        "P(~S|Y) = 0.6584630198019801\n",
        "\n",
        "P(S|~Y) = P(~Y|S)*P(S) / P(~Y)\n",
        "P(S|~Y) = 0.095 * .105 / 0.7227179135209334\n",
        "P(S|~Y) = 0.0138020655270655\n",
        "\n",
        "P(~S|~Y) = P(~Y|~S)*P(~S)/P(~Y)\n",
        "P(~S|~Y) = 0.796 * 0.895 / 0.7227179135209334\n",
        "P(~S|~Y) = 0.9857511301044635"
      ]
    },
    {
      "metadata": {
        "id": "9N8847oIjJvs",
        "colab_type": "text"
      },
      "cell_type": "markdown",
      "source": [
        "Theorems of Sampling Distributions\n",
        "\n",
        "\n",
        "\n",
        "*   The Law of Large Numbers:The larger our sample size, the closer the stastistic gets to the parameter. Methods: Maximum Liklihood Estimation, Method of Moments Estimation, Baynesian Estimation\n",
        "*   Central Limit Theorem: With a large enough sample size, the sampling distribution of the mean will be normally distributed.\n",
        "*   List item\n",
        "\n",
        "\n",
        "*   List item\n",
        "\n"
      ]
    }
  ]
}