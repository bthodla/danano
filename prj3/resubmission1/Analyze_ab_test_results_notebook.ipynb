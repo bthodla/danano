{
  "nbformat": 4,
  "nbformat_minor": 0,
  "metadata": {
    "colab": {
      "name": "Analyze_ab_test_results_notebook.ipynb",
      "version": "0.3.2",
      "provenance": []
    },
    "kernelspec": {
      "display_name": "Python 3",
      "language": "python",
      "name": "python3"
    }
  },
  "cells": [
    {
      "metadata": {
        "colab_type": "text",
        "id": "lIu3V1QQ0tfs"
      },
      "cell_type": "markdown",
      "source": [
        "## Analyze A/B Test Results\n",
        "\n",
        "You may either submit your notebook through the workspace here, or you may work from your local machine and submit through the next page.  Either way assure that your code passes the project [RUBRIC](https://review.udacity.com/#!/projects/37e27304-ad47-4eb0-a1ab-8c12f60e43d0/rubric).  **Please save regularly.**\n",
        "\n",
        "This project will assure you have mastered the subjects covered in the statistics lessons.  The hope is to have this project be as comprehensive of these topics as possible.  Good luck!\n",
        "\n",
        "## Table of Contents\n",
        "- [Introduction](#intro)\n",
        "- [Part I - Probability](#probability)\n",
        "- [Part II - A/B Test](#ab_test)\n",
        "- [Part III - Regression](#regression)\n",
        "\n",
        "\n",
        "<a id='intro'></a>\n",
        "### Introduction\n",
        "\n",
        "A/B tests are very commonly performed by data analysts and data scientists.  It is important that you get some practice working with the difficulties of these \n",
        "\n",
        "For this project, you will be working to understand the results of an A/B test run by an e-commerce website.  Your goal is to work through this notebook to help the company understand if they should implement the new page, keep the old page, or perhaps run the experiment longer to make their decision.\n",
        "\n",
        "**As you work through this notebook, follow along in the classroom and answer the corresponding quiz questions associated with each question.** The labels for each classroom concept are provided for each question.  This will assure you are on the right track as you work through the project, and you can feel more confident in your final submission meeting the criteria.  As a final check, assure you meet all the criteria on the [RUBRIC](https://review.udacity.com/#!/projects/37e27304-ad47-4eb0-a1ab-8c12f60e43d0/rubric).\n",
        "\n",
        "<a id='probability'></a>\n",
        "#### Part I - Probability\n",
        "\n",
        "To get started, let's import our libraries."
      ]
    },
    {
      "metadata": {
        "colab_type": "code",
        "id": "SLPBYVX50tf0",
        "colab": {}
      },
      "cell_type": "code",
      "source": [
        "import pandas as pd\n",
        "import numpy as np\n",
        "import random\n",
        "import matplotlib.pyplot as plt\n",
        "%matplotlib inline\n",
        "#We are setting the seed to assure you get the same answers on quizzes as we set up\n",
        "random.seed(42)"
      ],
      "execution_count": 0,
      "outputs": []
    },
    {
      "metadata": {
        "colab_type": "text",
        "id": "TjeZ_nGV0tf6"
      },
      "cell_type": "markdown",
      "source": [
        "`1.` Now, read in the `ab_data.csv` data. Store it in `df`.  **Use your dataframe to answer the questions in Quiz 1 of the classroom.**\n",
        "\n",
        "a. Read in the dataset and take a look at the top few rows here:"
      ]
    },
    {
      "metadata": {
        "colab_type": "code",
        "id": "QOG8wkwT0tf7",
        "outputId": "266b0175-4fbf-4c02-8fb0-1d89ba9445e0",
        "colab": {
          "base_uri": "https://localhost:8080/",
          "height": 204
        }
      },
      "cell_type": "code",
      "source": [
        "url = 'https://raw.githubusercontent.com/bthodla/danano/master/prj3/resubmission1/ab_data.csv'\n",
        "\n",
        "df = pd.read_csv(url)\n",
        "df.head()"
      ],
      "execution_count": 2,
      "outputs": [
        {
          "output_type": "execute_result",
          "data": {
            "text/html": [
              "<div>\n",
              "<style scoped>\n",
              "    .dataframe tbody tr th:only-of-type {\n",
              "        vertical-align: middle;\n",
              "    }\n",
              "\n",
              "    .dataframe tbody tr th {\n",
              "        vertical-align: top;\n",
              "    }\n",
              "\n",
              "    .dataframe thead th {\n",
              "        text-align: right;\n",
              "    }\n",
              "</style>\n",
              "<table border=\"1\" class=\"dataframe\">\n",
              "  <thead>\n",
              "    <tr style=\"text-align: right;\">\n",
              "      <th></th>\n",
              "      <th>user_id</th>\n",
              "      <th>timestamp</th>\n",
              "      <th>group</th>\n",
              "      <th>landing_page</th>\n",
              "      <th>converted</th>\n",
              "    </tr>\n",
              "  </thead>\n",
              "  <tbody>\n",
              "    <tr>\n",
              "      <th>0</th>\n",
              "      <td>851104</td>\n",
              "      <td>2017-01-21 22:11:48.556739</td>\n",
              "      <td>control</td>\n",
              "      <td>old_page</td>\n",
              "      <td>0</td>\n",
              "    </tr>\n",
              "    <tr>\n",
              "      <th>1</th>\n",
              "      <td>804228</td>\n",
              "      <td>2017-01-12 08:01:45.159739</td>\n",
              "      <td>control</td>\n",
              "      <td>old_page</td>\n",
              "      <td>0</td>\n",
              "    </tr>\n",
              "    <tr>\n",
              "      <th>2</th>\n",
              "      <td>661590</td>\n",
              "      <td>2017-01-11 16:55:06.154213</td>\n",
              "      <td>treatment</td>\n",
              "      <td>new_page</td>\n",
              "      <td>0</td>\n",
              "    </tr>\n",
              "    <tr>\n",
              "      <th>3</th>\n",
              "      <td>853541</td>\n",
              "      <td>2017-01-08 18:28:03.143765</td>\n",
              "      <td>treatment</td>\n",
              "      <td>new_page</td>\n",
              "      <td>0</td>\n",
              "    </tr>\n",
              "    <tr>\n",
              "      <th>4</th>\n",
              "      <td>864975</td>\n",
              "      <td>2017-01-21 01:52:26.210827</td>\n",
              "      <td>control</td>\n",
              "      <td>old_page</td>\n",
              "      <td>1</td>\n",
              "    </tr>\n",
              "  </tbody>\n",
              "</table>\n",
              "</div>"
            ],
            "text/plain": [
              "   user_id                   timestamp      group landing_page  converted\n",
              "0   851104  2017-01-21 22:11:48.556739    control     old_page          0\n",
              "1   804228  2017-01-12 08:01:45.159739    control     old_page          0\n",
              "2   661590  2017-01-11 16:55:06.154213  treatment     new_page          0\n",
              "3   853541  2017-01-08 18:28:03.143765  treatment     new_page          0\n",
              "4   864975  2017-01-21 01:52:26.210827    control     old_page          1"
            ]
          },
          "metadata": {
            "tags": []
          },
          "execution_count": 2
        }
      ]
    },
    {
      "metadata": {
        "colab_type": "text",
        "id": "RmRb5LLp0tgE"
      },
      "cell_type": "markdown",
      "source": [
        "b. Use the cell below to find the number of rows in the dataset."
      ]
    },
    {
      "metadata": {
        "colab_type": "code",
        "id": "gPerR_Kl0tgG",
        "outputId": "f6ceb597-2dfd-413b-aaf0-eeed80022db1",
        "colab": {
          "base_uri": "https://localhost:8080/",
          "height": 34
        }
      },
      "cell_type": "code",
      "source": [
        "df.shape"
      ],
      "execution_count": 3,
      "outputs": [
        {
          "output_type": "execute_result",
          "data": {
            "text/plain": [
              "(294478, 5)"
            ]
          },
          "metadata": {
            "tags": []
          },
          "execution_count": 3
        }
      ]
    },
    {
      "metadata": {
        "colab_type": "text",
        "id": "mlqSkYo-0tgK"
      },
      "cell_type": "markdown",
      "source": [
        "c. The number of unique users in the dataset."
      ]
    },
    {
      "metadata": {
        "colab_type": "code",
        "id": "0pA8gUxP0tgL",
        "outputId": "cce3eaa7-7382-4a9a-ed26-c6c53acec07c",
        "colab": {
          "base_uri": "https://localhost:8080/",
          "height": 34
        }
      },
      "cell_type": "code",
      "source": [
        "unique_user_count = df['user_id'].nunique()\n",
        "unique_user_count"
      ],
      "execution_count": 4,
      "outputs": [
        {
          "output_type": "execute_result",
          "data": {
            "text/plain": [
              "290584"
            ]
          },
          "metadata": {
            "tags": []
          },
          "execution_count": 4
        }
      ]
    },
    {
      "metadata": {
        "colab_type": "text",
        "collapsed": true,
        "id": "p0d-fThM0tgR"
      },
      "cell_type": "markdown",
      "source": [
        "d. The proportion of users converted."
      ]
    },
    {
      "metadata": {
        "colab_type": "code",
        "id": "N1tIex3D0tgT",
        "outputId": "4a9922e6-e76b-4c48-e365-385c7cbebb78",
        "colab": {
          "base_uri": "https://localhost:8080/",
          "height": 34
        }
      },
      "cell_type": "code",
      "source": [
        "converted = df.query('converted == 1')['user_id'].nunique()\n",
        "converted_proportion = converted/unique_user_count\n",
        "converted_proportion"
      ],
      "execution_count": 5,
      "outputs": [
        {
          "output_type": "execute_result",
          "data": {
            "text/plain": [
              "0.12104245244060237"
            ]
          },
          "metadata": {
            "tags": []
          },
          "execution_count": 5
        }
      ]
    },
    {
      "metadata": {
        "colab_type": "text",
        "collapsed": true,
        "id": "xzwNFsdi0tgY"
      },
      "cell_type": "markdown",
      "source": [
        "e. The number of times the `new_page` and `treatment` don't match."
      ]
    },
    {
      "metadata": {
        "colab_type": "code",
        "id": "YUzUXyk40tgZ",
        "outputId": "3d32328f-c5a7-4364-c6b4-78456a9724c0",
        "colab": {
          "base_uri": "https://localhost:8080/",
          "height": 119
        }
      },
      "cell_type": "code",
      "source": [
        "df.groupby(['group', 'landing_page'])['user_id'].nunique()"
      ],
      "execution_count": 6,
      "outputs": [
        {
          "output_type": "execute_result",
          "data": {
            "text/plain": [
              "group      landing_page\n",
              "control    new_page          1928\n",
              "           old_page        145274\n",
              "treatment  new_page        145310\n",
              "           old_page          1965\n",
              "Name: user_id, dtype: int64"
            ]
          },
          "metadata": {
            "tags": []
          },
          "execution_count": 6
        }
      ]
    },
    {
      "metadata": {
        "colab_type": "text",
        "id": "xsHqzV590tgf"
      },
      "cell_type": "markdown",
      "source": [
        "f. Do any of the rows have missing values?"
      ]
    },
    {
      "metadata": {
        "colab_type": "code",
        "id": "Mb9efp3e0tgg",
        "outputId": "a8274622-4775-4e9d-ff77-9b2643a2cdbe",
        "colab": {
          "base_uri": "https://localhost:8080/",
          "height": 34
        }
      },
      "cell_type": "code",
      "source": [
        "df[df.isnull().any(axis=1)].count()['user_id']"
      ],
      "execution_count": 7,
      "outputs": [
        {
          "output_type": "execute_result",
          "data": {
            "text/plain": [
              "0"
            ]
          },
          "metadata": {
            "tags": []
          },
          "execution_count": 7
        }
      ]
    },
    {
      "metadata": {
        "colab_type": "text",
        "id": "C0mQkase0tgm"
      },
      "cell_type": "markdown",
      "source": [
        "`2.` For the rows where **treatment** does not match with **new_page** or **control** does not match with **old_page**, we cannot be sure if this row truly received the new or old page.  Use **Quiz 2** in the classroom to figure out how we should handle these rows.  \n",
        "\n",
        "a. Now use the answer to the quiz to create a new dataset that meets the specifications from the quiz.  Store your new dataframe in **df2**."
      ]
    },
    {
      "metadata": {
        "colab_type": "code",
        "id": "h5SiG62c0tgn",
        "outputId": "c5d962f8-e644-4977-bee2-b27504ca1cc4",
        "colab": {
          "base_uri": "https://localhost:8080/",
          "height": 85
        }
      },
      "cell_type": "code",
      "source": [
        "df1 = df.drop(df[(df.group == \"control\") & (df.landing_page == \"new_page\")].index)\n",
        "df2 = df1.drop(df[(df.group == \"treatment\") & (df.landing_page == \"old_page\")].index)\n",
        "df2.groupby(['group', 'landing_page'])['user_id'].nunique()"
      ],
      "execution_count": 8,
      "outputs": [
        {
          "output_type": "execute_result",
          "data": {
            "text/plain": [
              "group      landing_page\n",
              "control    old_page        145274\n",
              "treatment  new_page        145310\n",
              "Name: user_id, dtype: int64"
            ]
          },
          "metadata": {
            "tags": []
          },
          "execution_count": 8
        }
      ]
    },
    {
      "metadata": {
        "colab_type": "code",
        "id": "JpKTFh2a0tgv",
        "outputId": "dcc07206-079b-47aa-bf8f-6bff573887f4",
        "colab": {
          "base_uri": "https://localhost:8080/",
          "height": 34
        }
      },
      "cell_type": "code",
      "source": [
        "# Double Check all of the correct rows were removed - this should be 0\n",
        "df2[((df2['group'] == 'treatment') == (df2['landing_page'] == 'new_page')) == False].shape[0]"
      ],
      "execution_count": 9,
      "outputs": [
        {
          "output_type": "execute_result",
          "data": {
            "text/plain": [
              "0"
            ]
          },
          "metadata": {
            "tags": []
          },
          "execution_count": 9
        }
      ]
    },
    {
      "metadata": {
        "colab_type": "text",
        "id": "FStWOso70tg0"
      },
      "cell_type": "markdown",
      "source": [
        "`3.` Use **df2** and the cells below to answer questions for **Quiz3** in the classroom."
      ]
    },
    {
      "metadata": {
        "colab_type": "text",
        "id": "zp7Y9adT0tg1"
      },
      "cell_type": "markdown",
      "source": [
        "a. How many unique **user_id**s are in **df2**?"
      ]
    },
    {
      "metadata": {
        "colab_type": "code",
        "id": "4eGuhbS40tg2",
        "outputId": "a24fa4cf-af8d-41be-fe19-3c248c6abda4",
        "scrolled": true,
        "colab": {
          "base_uri": "https://localhost:8080/",
          "height": 34
        }
      },
      "cell_type": "code",
      "source": [
        "df2['user_id'].nunique()"
      ],
      "execution_count": 10,
      "outputs": [
        {
          "output_type": "execute_result",
          "data": {
            "text/plain": [
              "290584"
            ]
          },
          "metadata": {
            "tags": []
          },
          "execution_count": 10
        }
      ]
    },
    {
      "metadata": {
        "colab_type": "text",
        "collapsed": true,
        "id": "-FBh6NO60tg6"
      },
      "cell_type": "markdown",
      "source": [
        "b. There is one **user_id** repeated in **df2**.  What is it?"
      ]
    },
    {
      "metadata": {
        "colab_type": "code",
        "id": "ZniITiLZ0tg7",
        "outputId": "52dcae24-0137-434a-c441-d4b22dbd6fc3",
        "colab": {
          "base_uri": "https://localhost:8080/",
          "height": 68
        }
      },
      "cell_type": "code",
      "source": [
        "df2[df2['user_id'].duplicated(keep=False)]['user_id']"
      ],
      "execution_count": 11,
      "outputs": [
        {
          "output_type": "execute_result",
          "data": {
            "text/plain": [
              "1899    773192\n",
              "2893    773192\n",
              "Name: user_id, dtype: int64"
            ]
          },
          "metadata": {
            "tags": []
          },
          "execution_count": 11
        }
      ]
    },
    {
      "metadata": {
        "colab_type": "text",
        "id": "6bi8-2tY0thC"
      },
      "cell_type": "markdown",
      "source": [
        "c. What is the row information for the repeat **user_id**? "
      ]
    },
    {
      "metadata": {
        "colab_type": "code",
        "id": "oYrUGMsi0thE",
        "outputId": "605648f3-b397-4575-d5ca-57205a25c20e",
        "colab": {
          "base_uri": "https://localhost:8080/",
          "height": 111
        }
      },
      "cell_type": "code",
      "source": [
        "df2[df2['user_id'].duplicated(keep=False)]"
      ],
      "execution_count": 12,
      "outputs": [
        {
          "output_type": "execute_result",
          "data": {
            "text/html": [
              "<div>\n",
              "<style scoped>\n",
              "    .dataframe tbody tr th:only-of-type {\n",
              "        vertical-align: middle;\n",
              "    }\n",
              "\n",
              "    .dataframe tbody tr th {\n",
              "        vertical-align: top;\n",
              "    }\n",
              "\n",
              "    .dataframe thead th {\n",
              "        text-align: right;\n",
              "    }\n",
              "</style>\n",
              "<table border=\"1\" class=\"dataframe\">\n",
              "  <thead>\n",
              "    <tr style=\"text-align: right;\">\n",
              "      <th></th>\n",
              "      <th>user_id</th>\n",
              "      <th>timestamp</th>\n",
              "      <th>group</th>\n",
              "      <th>landing_page</th>\n",
              "      <th>converted</th>\n",
              "    </tr>\n",
              "  </thead>\n",
              "  <tbody>\n",
              "    <tr>\n",
              "      <th>1899</th>\n",
              "      <td>773192</td>\n",
              "      <td>2017-01-09 05:37:58.781806</td>\n",
              "      <td>treatment</td>\n",
              "      <td>new_page</td>\n",
              "      <td>0</td>\n",
              "    </tr>\n",
              "    <tr>\n",
              "      <th>2893</th>\n",
              "      <td>773192</td>\n",
              "      <td>2017-01-14 02:55:59.590927</td>\n",
              "      <td>treatment</td>\n",
              "      <td>new_page</td>\n",
              "      <td>0</td>\n",
              "    </tr>\n",
              "  </tbody>\n",
              "</table>\n",
              "</div>"
            ],
            "text/plain": [
              "      user_id                   timestamp      group landing_page  converted\n",
              "1899   773192  2017-01-09 05:37:58.781806  treatment     new_page          0\n",
              "2893   773192  2017-01-14 02:55:59.590927  treatment     new_page          0"
            ]
          },
          "metadata": {
            "tags": []
          },
          "execution_count": 12
        }
      ]
    },
    {
      "metadata": {
        "colab_type": "text",
        "id": "9dJjfnuK0thJ"
      },
      "cell_type": "markdown",
      "source": [
        "d. Remove **one** of the rows with a duplicate **user_id**, but keep your dataframe as **df2**."
      ]
    },
    {
      "metadata": {
        "colab_type": "code",
        "id": "99QyszQC0thK",
        "outputId": "5742beaa-7c6f-496e-d0a0-d71a0a4ef337",
        "colab": {
          "base_uri": "https://localhost:8080/",
          "height": 80
        }
      },
      "cell_type": "code",
      "source": [
        "# df2.drop([1899], inplace = True)\n",
        "df2.drop_duplicates(subset = ['user_id'], keep = 'last', inplace = True)\n",
        "df2.query('user_id == 773192')"
      ],
      "execution_count": 13,
      "outputs": [
        {
          "output_type": "execute_result",
          "data": {
            "text/html": [
              "<div>\n",
              "<style scoped>\n",
              "    .dataframe tbody tr th:only-of-type {\n",
              "        vertical-align: middle;\n",
              "    }\n",
              "\n",
              "    .dataframe tbody tr th {\n",
              "        vertical-align: top;\n",
              "    }\n",
              "\n",
              "    .dataframe thead th {\n",
              "        text-align: right;\n",
              "    }\n",
              "</style>\n",
              "<table border=\"1\" class=\"dataframe\">\n",
              "  <thead>\n",
              "    <tr style=\"text-align: right;\">\n",
              "      <th></th>\n",
              "      <th>user_id</th>\n",
              "      <th>timestamp</th>\n",
              "      <th>group</th>\n",
              "      <th>landing_page</th>\n",
              "      <th>converted</th>\n",
              "    </tr>\n",
              "  </thead>\n",
              "  <tbody>\n",
              "    <tr>\n",
              "      <th>2893</th>\n",
              "      <td>773192</td>\n",
              "      <td>2017-01-14 02:55:59.590927</td>\n",
              "      <td>treatment</td>\n",
              "      <td>new_page</td>\n",
              "      <td>0</td>\n",
              "    </tr>\n",
              "  </tbody>\n",
              "</table>\n",
              "</div>"
            ],
            "text/plain": [
              "      user_id                   timestamp      group landing_page  converted\n",
              "2893   773192  2017-01-14 02:55:59.590927  treatment     new_page          0"
            ]
          },
          "metadata": {
            "tags": []
          },
          "execution_count": 13
        }
      ]
    },
    {
      "metadata": {
        "colab_type": "text",
        "id": "W3uKSlDR0thQ"
      },
      "cell_type": "markdown",
      "source": [
        "`4.` Use **df2** in the cells below to answer the quiz questions related to **Quiz 4** in the classroom.\n",
        "\n",
        "a. What is the probability of an individual converting regardless of the page they receive?"
      ]
    },
    {
      "metadata": {
        "colab_type": "code",
        "id": "bg6l1A_60thR",
        "outputId": "84cbb912-ecf5-45ce-aeec-79626de8f43c",
        "colab": {
          "base_uri": "https://localhost:8080/",
          "height": 34
        }
      },
      "cell_type": "code",
      "source": [
        "df2.query('converted == 1').count()['user_id']/df2.shape[0]"
      ],
      "execution_count": 14,
      "outputs": [
        {
          "output_type": "execute_result",
          "data": {
            "text/plain": [
              "0.11959708724499628"
            ]
          },
          "metadata": {
            "tags": []
          },
          "execution_count": 14
        }
      ]
    },
    {
      "metadata": {
        "colab_type": "text",
        "id": "fw9yQDX_0thX"
      },
      "cell_type": "markdown",
      "source": [
        "b. Given that an individual was in the `control` group, what is the probability they converted?"
      ]
    },
    {
      "metadata": {
        "colab_type": "code",
        "id": "TlwQPjpW0thY",
        "outputId": "aa480fbe-6800-48a2-9134-40b85e6ffaf5",
        "colab": {
          "base_uri": "https://localhost:8080/",
          "height": 34
        }
      },
      "cell_type": "code",
      "source": [
        "conv_in_control_group = df2.query('group == \"control\" and converted == 1').count()['user_id'] / df2.query('group == \"control\"').count()['user_id']\n",
        "conv_in_control_group"
      ],
      "execution_count": 15,
      "outputs": [
        {
          "output_type": "execute_result",
          "data": {
            "text/plain": [
              "0.1203863045004612"
            ]
          },
          "metadata": {
            "tags": []
          },
          "execution_count": 15
        }
      ]
    },
    {
      "metadata": {
        "colab_type": "text",
        "id": "ib1TyPVT0thc"
      },
      "cell_type": "markdown",
      "source": [
        "c. Given that an individual was in the `treatment` group, what is the probability they converted?"
      ]
    },
    {
      "metadata": {
        "colab_type": "code",
        "id": "Z557nd6z0thd",
        "outputId": "539c84dc-4e66-4770-e3cd-691826cdad56",
        "colab": {
          "base_uri": "https://localhost:8080/",
          "height": 34
        }
      },
      "cell_type": "code",
      "source": [
        "conv_in_treatment_group = df2.query('group == \"treatment\" and converted == 1').count()['user_id'] / df2.query('group == \"treatment\"').count()['user_id']\n",
        "conv_in_treatment_group"
      ],
      "execution_count": 16,
      "outputs": [
        {
          "output_type": "execute_result",
          "data": {
            "text/plain": [
              "0.11880806551510564"
            ]
          },
          "metadata": {
            "tags": []
          },
          "execution_count": 16
        }
      ]
    },
    {
      "metadata": {
        "colab_type": "text",
        "id": "-CDTD8iv0thh"
      },
      "cell_type": "markdown",
      "source": [
        "d. What is the probability that an individual received the new page?"
      ]
    },
    {
      "metadata": {
        "colab_type": "code",
        "id": "UqEZCSmZ0thi",
        "outputId": "63b20429-d3b5-47d3-ac76-029d250298ef",
        "colab": {
          "base_uri": "https://localhost:8080/",
          "height": 34
        }
      },
      "cell_type": "code",
      "source": [
        "df2.query('landing_page == \"new_page\"').count()['user_id']/df2.shape[0]"
      ],
      "execution_count": 17,
      "outputs": [
        {
          "output_type": "execute_result",
          "data": {
            "text/plain": [
              "0.5000619442226688"
            ]
          },
          "metadata": {
            "tags": []
          },
          "execution_count": 17
        }
      ]
    },
    {
      "metadata": {
        "colab_type": "text",
        "id": "perYpRCL0thm"
      },
      "cell_type": "markdown",
      "source": [
        "e. Consider your results from parts (a) through (d) above, and explain below whether you think there is sufficient evidence to conclude that the new treatment page leads to more conversions."
      ]
    },
    {
      "metadata": {
        "colab_type": "text",
        "id": "IIZSxPMK0tho"
      },
      "cell_type": "markdown",
      "source": [
        "Given that the p-value is more or less the same for conversion in the control group (12.04%) and the treatment group (11.9%), the difference is not statistically significant to indicate that the new page resulted in a higher conversion rate."
      ]
    },
    {
      "metadata": {
        "colab_type": "text",
        "id": "gS0ISHn90thp"
      },
      "cell_type": "markdown",
      "source": [
        "<a id='ab_test'></a>\n",
        "### Part II - A/B Test\n",
        "\n",
        "Notice that because of the time stamp associated with each event, you could technically run a hypothesis test continuously as each observation was observed.  \n",
        "\n",
        "However, then the hard question is do you stop as soon as one page is considered significantly better than another or does it need to happen consistently for a certain amount of time?  How long do you run to render a decision that neither page is better than another?  \n",
        "\n",
        "These questions are the difficult parts associated with A/B tests in general.  \n",
        "\n",
        "\n",
        "`1.` For now, consider you need to make the decision just based on all the data provided.  If you want to assume that the old page is better unless the new page proves to be definitely better at a Type I error rate of 5%, what should your null and alternative hypotheses be?  You can state your hypothesis in terms of words or in terms of **$p_{old}$** and **$p_{new}$**, which are the converted rates for the old and new pages."
      ]
    },
    {
      "metadata": {
        "colab_type": "text",
        "id": "3OI8Xh_v0thp"
      },
      "cell_type": "markdown",
      "source": [
        "$$H_{0}: P_{New} - P_{Old} <= 0$$\n",
        "$$H_{1}: P_{New} - P_{Old} > 0$$"
      ]
    },
    {
      "metadata": {
        "colab_type": "text",
        "id": "Ojhf2a0Z0thr"
      },
      "cell_type": "markdown",
      "source": [
        "`2.` Assume under the null hypothesis, $p_{new}$ and $p_{old}$ both have \"true\" success rates equal to the **converted** success rate regardless of page - that is $p_{new}$ and $p_{old}$ are equal. Furthermore, assume they are equal to the **converted** rate in **ab_data.csv** regardless of the page. <br><br>\n",
        "\n",
        "Use a sample size for each page equal to the ones in **ab_data.csv**.  <br><br>\n",
        "\n",
        "Perform the sampling distribution for the difference in **converted** between the two pages over 10,000 iterations of calculating an estimate from the null.  <br><br>\n",
        "\n",
        "Use the cells below to provide the necessary parts of this simulation.  If this doesn't make complete sense right now, don't worry - you are going to work through the problems below to complete this problem.  You can use **Quiz 5** in the classroom to make sure you are on the right track.<br><br>"
      ]
    },
    {
      "metadata": {
        "colab_type": "text",
        "id": "NGRnL6hs0thr"
      },
      "cell_type": "markdown",
      "source": [
        "a. What is the **conversion rate** for $p_{new}$ under the null? "
      ]
    },
    {
      "metadata": {
        "colab_type": "code",
        "id": "GAGLSkkQ0ths",
        "outputId": "0186d5fb-633d-40d4-cb02-33e92dd22a68",
        "colab": {
          "base_uri": "https://localhost:8080/",
          "height": 34
        }
      },
      "cell_type": "code",
      "source": [
        "p_new_cr = (df2.converted == 1).mean()\n",
        "p_new_cr"
      ],
      "execution_count": 18,
      "outputs": [
        {
          "output_type": "execute_result",
          "data": {
            "text/plain": [
              "0.11959708724499628"
            ]
          },
          "metadata": {
            "tags": []
          },
          "execution_count": 18
        }
      ]
    },
    {
      "metadata": {
        "colab_type": "text",
        "id": "oS-FVkIF0thy"
      },
      "cell_type": "markdown",
      "source": [
        "b. What is the **conversion rate** for $p_{old}$ under the null? <br><br>"
      ]
    },
    {
      "metadata": {
        "colab_type": "code",
        "id": "hRZv5E-C0thz",
        "outputId": "d19a58db-4678-4a03-edf8-c2fb67a2b039",
        "colab": {
          "base_uri": "https://localhost:8080/",
          "height": 34
        }
      },
      "cell_type": "code",
      "source": [
        "p_old_cr = (df2.converted == 1).mean()\n",
        "p_old_cr"
      ],
      "execution_count": 19,
      "outputs": [
        {
          "output_type": "execute_result",
          "data": {
            "text/plain": [
              "0.11959708724499628"
            ]
          },
          "metadata": {
            "tags": []
          },
          "execution_count": 19
        }
      ]
    },
    {
      "metadata": {
        "colab_type": "text",
        "id": "WC_QoukE0th6"
      },
      "cell_type": "markdown",
      "source": [
        "c. What is $n_{new}$, the number of individuals in the treatment group?"
      ]
    },
    {
      "metadata": {
        "colab_type": "code",
        "id": "e30p7vxH0th8",
        "outputId": "a76c15ca-f5e6-4fd2-d93e-a237b9cdeda3",
        "colab": {
          "base_uri": "https://localhost:8080/",
          "height": 34
        }
      },
      "cell_type": "code",
      "source": [
        "n_new = df2.query('group == \"treatment\"').count()['user_id']\n",
        "n_new"
      ],
      "execution_count": 20,
      "outputs": [
        {
          "output_type": "execute_result",
          "data": {
            "text/plain": [
              "145310"
            ]
          },
          "metadata": {
            "tags": []
          },
          "execution_count": 20
        }
      ]
    },
    {
      "metadata": {
        "colab_type": "text",
        "id": "0Q994y0g0tiD"
      },
      "cell_type": "markdown",
      "source": [
        "d. What is $n_{old}$, the number of individuals in the control group?"
      ]
    },
    {
      "metadata": {
        "colab_type": "code",
        "id": "Gqw85Vkd0tiF",
        "outputId": "18a5daa2-46d0-44a8-c2ed-fb40a85c1fb3",
        "colab": {
          "base_uri": "https://localhost:8080/",
          "height": 34
        }
      },
      "cell_type": "code",
      "source": [
        "n_old = df2.query('group == \"control\"').count()['user_id']\n",
        "n_old"
      ],
      "execution_count": 21,
      "outputs": [
        {
          "output_type": "execute_result",
          "data": {
            "text/plain": [
              "145274"
            ]
          },
          "metadata": {
            "tags": []
          },
          "execution_count": 21
        }
      ]
    },
    {
      "metadata": {
        "colab_type": "text",
        "id": "RxnBEr6K0tiI"
      },
      "cell_type": "markdown",
      "source": [
        "e. Simulate $n_{new}$ transactions with a conversion rate of $p_{new}$ under the null.  Store these $n_{new}$ 1's and 0's in **new_page_converted**."
      ]
    },
    {
      "metadata": {
        "colab_type": "code",
        "id": "36aV2NgB0tiJ",
        "outputId": "79c4e3d2-a36a-4806-e6b0-fbe69fce2f48",
        "colab": {
          "base_uri": "https://localhost:8080/",
          "height": 34
        }
      },
      "cell_type": "code",
      "source": [
        "new_page_converted = (np.random.choice([0, 1], size=n_new, p=[1-p_new_cr, p_new_cr])).mean()\n",
        "new_page_converted"
      ],
      "execution_count": 22,
      "outputs": [
        {
          "output_type": "execute_result",
          "data": {
            "text/plain": [
              "0.12041841580070195"
            ]
          },
          "metadata": {
            "tags": []
          },
          "execution_count": 22
        }
      ]
    },
    {
      "metadata": {
        "colab_type": "text",
        "id": "fUX1tJEO0tiN"
      },
      "cell_type": "markdown",
      "source": [
        "f. Simulate $n_{old}$ transactions with a conversion rate of $p_{old}$ under the null.  Store these $n_{old}$ 1's and 0's in **old_page_converted**."
      ]
    },
    {
      "metadata": {
        "colab_type": "code",
        "id": "z3be3spc0tiO",
        "outputId": "f2ff9f18-fa6c-4cc1-9326-29224e745d7c",
        "colab": {
          "base_uri": "https://localhost:8080/",
          "height": 34
        }
      },
      "cell_type": "code",
      "source": [
        "old_page_converted = (np.random.choice([0, 1], size=n_old, p=[1-p_old_cr, p_old_cr])).mean()\n",
        "old_page_converted"
      ],
      "execution_count": 23,
      "outputs": [
        {
          "output_type": "execute_result",
          "data": {
            "text/plain": [
              "0.12073048171042307"
            ]
          },
          "metadata": {
            "tags": []
          },
          "execution_count": 23
        }
      ]
    },
    {
      "metadata": {
        "colab_type": "text",
        "id": "HQpxMS7S0tiR"
      },
      "cell_type": "markdown",
      "source": [
        "g. Find $p_{new}$ - $p_{old}$ for your simulated values from part (e) and (f)."
      ]
    },
    {
      "metadata": {
        "colab_type": "code",
        "id": "3f-nl_lx0tiS",
        "outputId": "24920876-0b3e-463a-9398-304f358ecd20",
        "colab": {
          "base_uri": "https://localhost:8080/",
          "height": 34
        }
      },
      "cell_type": "code",
      "source": [
        "new_page_converted - old_page_converted"
      ],
      "execution_count": 24,
      "outputs": [
        {
          "output_type": "execute_result",
          "data": {
            "text/plain": [
              "-0.00031206590972111814"
            ]
          },
          "metadata": {
            "tags": []
          },
          "execution_count": 24
        }
      ]
    },
    {
      "metadata": {
        "colab_type": "text",
        "id": "yrXwmEj90tiX"
      },
      "cell_type": "markdown",
      "source": [
        "h. Create 10,000 $p_{new}$ - $p_{old}$ values using the same simulation process you used in parts (a) through (g) above. Store all 10,000 values in a NumPy array called **p_diffs**."
      ]
    },
    {
      "metadata": {
        "colab_type": "code",
        "id": "Rp13lYG20tiY",
        "colab": {}
      },
      "cell_type": "code",
      "source": [
        "diffs = []\n",
        "for _ in range(10000):\n",
        "    old_page_converted = (np.random.choice([0, 1], size=n_old, p=[1-p_old_cr, p_old_cr])).mean()\n",
        "    new_page_converted = (np.random.choice([0, 1], size=n_new, p=[1-p_new_cr, p_new_cr])).mean()\n",
        "    diffs.append(new_page_converted - old_page_converted)\n"
      ],
      "execution_count": 0,
      "outputs": []
    },
    {
      "metadata": {
        "colab_type": "text",
        "id": "VQVzmhMa0tic"
      },
      "cell_type": "markdown",
      "source": [
        "i. Plot a histogram of the **p_diffs**.  Does this plot look like what you expected?  Use the matching problem in the classroom to assure you fully understand what was computed here."
      ]
    },
    {
      "metadata": {
        "colab_type": "code",
        "id": "XsnvbDjj0tid",
        "outputId": "d853a153-7b8e-41c2-a359-2ca4967214d5",
        "colab": {
          "base_uri": "https://localhost:8080/",
          "height": 265
        }
      },
      "cell_type": "code",
      "source": [
        "plt.hist(diffs);"
      ],
      "execution_count": 26,
      "outputs": [
        {
          "output_type": "display_data",
          "data": {
            "image/png": "[encoded data removed]",
            "text/plain": [
              "<Figure size 432x288 with 1 Axes>"
            ]
          },
          "metadata": {
            "tags": []
          }
        }
      ]
    },
    {
      "metadata": {
        "colab_type": "text",
        "id": "Iq9BfgnZ0tih"
      },
      "cell_type": "markdown",
      "source": [
        "j. What proportion of the **p_diffs** are greater than the actual difference observed in **ab_data.csv**?"
      ]
    },
    {
      "metadata": {
        "colab_type": "code",
        "id": "d8FNopaS0tii",
        "outputId": "42c1392e-aa35-4716-a1d6-5e07c7f2f528",
        "colab": {
          "base_uri": "https://localhost:8080/",
          "height": 286
        }
      },
      "cell_type": "code",
      "source": [
        "diff_cr = conv_in_treatment_group - conv_in_control_group\n",
        "\n",
        "diffs = np.array(diffs)\n",
        "null_vals = np.random.normal(0, diffs.std(), diffs.size)\n",
        "\n",
        "plt.hist(null_vals);\n",
        "plt.axvline(x = diff_cr, color = 'red');\n",
        "\n",
        "(null_vals > (diff_cr)).mean()"
      ],
      "execution_count": 27,
      "outputs": [
        {
          "output_type": "execute_result",
          "data": {
            "text/plain": [
              "0.9064"
            ]
          },
          "metadata": {
            "tags": []
          },
          "execution_count": 27
        },
        {
          "output_type": "display_data",
          "data": {
            "image/png": "[encoded data removed]",
            "text/plain": [
              "<Figure size 432x288 with 1 Axes>"
            ]
          },
          "metadata": {
            "tags": []
          }
        }
      ]
    },
    {
      "metadata": {
        "colab_type": "text",
        "id": "y2qwoyNV0tiy"
      },
      "cell_type": "markdown",
      "source": [
        "k. Please explain using the vocabulary you've learned in this course what you just computed in part **j.**  What is this value called in scientific studies?  What does this value mean in terms of whether or not there is a difference between the new and old pages?"
      ]
    },
    {
      "metadata": {
        "colab_type": "text",
        "id": "Yggifdk80tiz"
      },
      "cell_type": "markdown",
      "source": [
        "The above code snippet computed the p-value. The p-value is high which indicates that the null hypothesis is true. In other words, it means that there is not much of a difference between the new and old pages."
      ]
    },
    {
      "metadata": {
        "colab_type": "text",
        "id": "zZhgLxPF0ti0"
      },
      "cell_type": "markdown",
      "source": [
        "l. We could also use a built-in to achieve similar results.  Though using the built-in might be easier to code, the above portions are a walkthrough of the ideas that are critical to correctly thinking about statistical significance. Fill in the below to calculate the number of conversions for each page, as well as the number of individuals who received each page. Let `n_old` and `n_new` refer the the number of rows associated with the old page and new pages, respectively."
      ]
    },
    {
      "metadata": {
        "colab_type": "code",
        "id": "zPPE5Ar90ti1",
        "outputId": "c4b54269-ae30-404f-d006-0d2ff97db972",
        "colab": {
          "base_uri": "https://localhost:8080/",
          "height": 34
        }
      },
      "cell_type": "code",
      "source": [
        "import statsmodels.api as sm\n",
        "\n",
        "# convert_old = df2.query('group == \"control\" and converted == 1').count()['user_id']\n",
        "# convert_new = df2.query('group == \"treatment\" and converted == 1').count()['user_id']\n",
        "# n_old = df2.query('group == \"control\"').count()['user_id']\n",
        "# n_new = df2.query('group == \"treatment\"').count()['user_id']\n",
        "\n",
        "convert_old = sum((df2.group == 'control') & (df2.converted == 1))\n",
        "n_old = sum(df2.group == 'control')\n",
        "\n",
        "convert_new = sum((df2.group == 'control') & (df2.converted == 1))\n",
        "n_new = sum(df2.group == 'treatment')\n",
        "\n",
        "convert_old, n_old, convert_new, n_new"
      ],
      "execution_count": 36,
      "outputs": [
        {
          "output_type": "execute_result",
          "data": {
            "text/plain": [
              "(17489, 145274, 17489, 145310)"
            ]
          },
          "metadata": {
            "tags": []
          },
          "execution_count": 36
        }
      ]
    },
    {
      "metadata": {
        "colab_type": "text",
        "id": "AreKRjNO0ti4"
      },
      "cell_type": "markdown",
      "source": [
        "m. Now use `stats.proportions_ztest` to compute your test statistic and p-value.  [Here](http://knowledgetack.com/python/statsmodels/proportions_ztest/) is a helpful link on using the built in."
      ]
    },
    {
      "metadata": {
        "colab_type": "code",
        "id": "548qqee70ti7",
        "outputId": "a711dd2f-b3fc-4888-c607-76a657f87d18",
        "colab": {
          "base_uri": "https://localhost:8080/",
          "height": 34
        }
      },
      "cell_type": "code",
      "source": [
        "# z_score, p_value = sm.stats.proportions_ztest([convert_old, convert_new], [n_old, n_new])\n",
        "z_score, p_value = sm.stats.proportions_ztest([convert_new, convert_old], [n_new, n_old])\n",
        "z_score, p_value"
      ],
      "execution_count": 37,
      "outputs": [
        {
          "output_type": "execute_result",
          "data": {
            "text/plain": [
              "(-0.024704645134338545, 0.9802905499311774)"
            ]
          },
          "metadata": {
            "tags": []
          },
          "execution_count": 37
        }
      ]
    },
    {
      "metadata": {
        "colab_type": "code",
        "id": "BhP3Xeh60ti_",
        "outputId": "70ded315-623d-4f19-f258-a3eb7794d10c",
        "colab": {
          "base_uri": "https://localhost:8080/",
          "height": 34
        }
      },
      "cell_type": "code",
      "source": [
        "from scipy.stats import norm\n",
        "\n",
        "norm.cdf(z_score)\n",
        "# 0.9999999383005862 # Tells us how significant our z-score is"
      ],
      "execution_count": 38,
      "outputs": [
        {
          "output_type": "execute_result",
          "data": {
            "text/plain": [
              "0.4901452749655887"
            ]
          },
          "metadata": {
            "tags": []
          },
          "execution_count": 38
        }
      ]
    },
    {
      "metadata": {
        "colab_type": "code",
        "id": "XuTm1aUw0tjD",
        "outputId": "1eb10cf3-825a-4024-c348-66ef49a73299",
        "colab": {
          "base_uri": "https://localhost:8080/",
          "height": 34
        }
      },
      "cell_type": "code",
      "source": [
        "norm.ppf(1-(0.05/2))\n",
        "# 1.959963984540054 # Tells us what our critical value at 95% confidence is"
      ],
      "execution_count": 39,
      "outputs": [
        {
          "output_type": "execute_result",
          "data": {
            "text/plain": [
              "1.959963984540054"
            ]
          },
          "metadata": {
            "tags": []
          },
          "execution_count": 39
        }
      ]
    },
    {
      "metadata": {
        "colab_type": "text",
        "id": "UxpT_fZC0tjd"
      },
      "cell_type": "markdown",
      "source": [
        "n. What do the z-score and p-value you computed in the previous question mean for the conversion rates of the old and new pages?  Do they agree with the findings in parts **j.** and **k.**?"
      ]
    },
    {
      "metadata": {
        "colab_type": "text",
        "id": "dQrjvXtc0tjf"
      },
      "cell_type": "markdown",
      "source": [
        "Since the z_score of 1.3109241984234394 is less than the critical value at 95% of 1.959963984540054, we accept the null hypothesis that there is no difference in conversion rates between the old and the new pages."
      ]
    },
    {
      "metadata": {
        "colab_type": "text",
        "id": "vuQGPGJp0tjg"
      },
      "cell_type": "markdown",
      "source": [
        "<a id='regression'></a>\n",
        "### Part III - A regression approach\n",
        "\n",
        "`1.` In this final part, you will see that the result you achieved in the A/B test in Part II above can also be achieved by performing regression.<br><br> \n",
        "\n",
        "a. Since each row is either a conversion or no conversion, what type of regression should you be performing in this case?"
      ]
    },
    {
      "metadata": {
        "colab_type": "text",
        "id": "3XfHBw7D0tjg"
      },
      "cell_type": "markdown",
      "source": [
        "**Logistic Regression**"
      ]
    },
    {
      "metadata": {
        "colab_type": "text",
        "id": "1crujlK_0tjh"
      },
      "cell_type": "markdown",
      "source": [
        "b. The goal is to use **statsmodels** to fit the regression model you specified in part **a.** to see if there is a significant difference in conversion based on which page a customer receives. However, you first need to create in df2 a column for the intercept, and create a dummy variable column for which page each user received.  Add an **intercept** column, as well as an **ab_page** column, which is 1 when an individual receives the **treatment** and 0 if **control**."
      ]
    },
    {
      "metadata": {
        "colab_type": "code",
        "id": "OY2sX0c20tji",
        "outputId": "db30af63-99a6-4e96-ba11-c2af7c99f03f",
        "colab": {
          "base_uri": "https://localhost:8080/",
          "height": 204
        }
      },
      "cell_type": "code",
      "source": [
        "df2['intercept'] = 1\n",
        "df2[['control', 'ab_page']] = pd.get_dummies(df2['group'])\n",
        "df2.drop(['control'], axis = 1, inplace = True)\n",
        "df2.head()"
      ],
      "execution_count": 40,
      "outputs": [
        {
          "output_type": "execute_result",
          "data": {
            "text/html": [
              "<div>\n",
              "<style scoped>\n",
              "    .dataframe tbody tr th:only-of-type {\n",
              "        vertical-align: middle;\n",
              "    }\n",
              "\n",
              "    .dataframe tbody tr th {\n",
              "        vertical-align: top;\n",
              "    }\n",
              "\n",
              "    .dataframe thead th {\n",
              "        text-align: right;\n",
              "    }\n",
              "</style>\n",
              "<table border=\"1\" class=\"dataframe\">\n",
              "  <thead>\n",
              "    <tr style=\"text-align: right;\">\n",
              "      <th></th>\n",
              "      <th>user_id</th>\n",
              "      <th>timestamp</th>\n",
              "      <th>group</th>\n",
              "      <th>landing_page</th>\n",
              "      <th>converted</th>\n",
              "      <th>intercept</th>\n",
              "      <th>ab_page</th>\n",
              "    </tr>\n",
              "  </thead>\n",
              "  <tbody>\n",
              "    <tr>\n",
              "      <th>0</th>\n",
              "      <td>851104</td>\n",
              "      <td>2017-01-21 22:11:48.556739</td>\n",
              "      <td>control</td>\n",
              "      <td>old_page</td>\n",
              "      <td>0</td>\n",
              "      <td>1</td>\n",
              "      <td>0</td>\n",
              "    </tr>\n",
              "    <tr>\n",
              "      <th>1</th>\n",
              "      <td>804228</td>\n",
              "      <td>2017-01-12 08:01:45.159739</td>\n",
              "      <td>control</td>\n",
              "      <td>old_page</td>\n",
              "      <td>0</td>\n",
              "      <td>1</td>\n",
              "      <td>0</td>\n",
              "    </tr>\n",
              "    <tr>\n",
              "      <th>2</th>\n",
              "      <td>661590</td>\n",
              "      <td>2017-01-11 16:55:06.154213</td>\n",
              "      <td>treatment</td>\n",
              "      <td>new_page</td>\n",
              "      <td>0</td>\n",
              "      <td>1</td>\n",
              "      <td>1</td>\n",
              "    </tr>\n",
              "    <tr>\n",
              "      <th>3</th>\n",
              "      <td>853541</td>\n",
              "      <td>2017-01-08 18:28:03.143765</td>\n",
              "      <td>treatment</td>\n",
              "      <td>new_page</td>\n",
              "      <td>0</td>\n",
              "      <td>1</td>\n",
              "      <td>1</td>\n",
              "    </tr>\n",
              "    <tr>\n",
              "      <th>4</th>\n",
              "      <td>864975</td>\n",
              "      <td>2017-01-21 01:52:26.210827</td>\n",
              "      <td>control</td>\n",
              "      <td>old_page</td>\n",
              "      <td>1</td>\n",
              "      <td>1</td>\n",
              "      <td>0</td>\n",
              "    </tr>\n",
              "  </tbody>\n",
              "</table>\n",
              "</div>"
            ],
            "text/plain": [
              "   user_id                   timestamp      group landing_page  converted  \\\n",
              "0   851104  2017-01-21 22:11:48.556739    control     old_page          0   \n",
              "1   804228  2017-01-12 08:01:45.159739    control     old_page          0   \n",
              "2   661590  2017-01-11 16:55:06.154213  treatment     new_page          0   \n",
              "3   853541  2017-01-08 18:28:03.143765  treatment     new_page          0   \n",
              "4   864975  2017-01-21 01:52:26.210827    control     old_page          1   \n",
              "\n",
              "   intercept  ab_page  \n",
              "0          1        0  \n",
              "1          1        0  \n",
              "2          1        1  \n",
              "3          1        1  \n",
              "4          1        0  "
            ]
          },
          "metadata": {
            "tags": []
          },
          "execution_count": 40
        }
      ]
    },
    {
      "metadata": {
        "colab_type": "text",
        "id": "EIWsxNzd0tjp"
      },
      "cell_type": "markdown",
      "source": [
        "c. Use **statsmodels** to instantiate your regression model on the two columns you created in part b., then fit the model using the two columns you created in part **b.** to predict whether or not an individual converts. "
      ]
    },
    {
      "metadata": {
        "colab_type": "code",
        "id": "WHle7W7h0tjq",
        "outputId": "7e56cf15-a056-47ab-c678-c7c08b767cd9",
        "colab": {
          "base_uri": "https://localhost:8080/",
          "height": 68
        }
      },
      "cell_type": "code",
      "source": [
        "log_mdl = sm.Logit(df2['converted'], df2[['intercept', 'ab_page']])\n",
        "results = log_mdl.fit()"
      ],
      "execution_count": 41,
      "outputs": [
        {
          "output_type": "stream",
          "text": [
            "Optimization terminated successfully.\n",
            "         Current function value: 0.366118\n",
            "         Iterations 6\n"
          ],
          "name": "stdout"
        }
      ]
    },
    {
      "metadata": {
        "colab_type": "text",
        "id": "jQqnH6-y0tju"
      },
      "cell_type": "markdown",
      "source": [
        "d. Provide the summary of your model below, and use it as necessary to answer the following questions."
      ]
    },
    {
      "metadata": {
        "colab_type": "code",
        "id": "g5I0Dvza0tjv",
        "outputId": "5857678f-f2b8-48be-b41a-afc2d19ddd6c",
        "colab": {
          "base_uri": "https://localhost:8080/",
          "height": 231
        }
      },
      "cell_type": "code",
      "source": [
        "results.summary2()"
      ],
      "execution_count": 42,
      "outputs": [
        {
          "output_type": "execute_result",
          "data": {
            "text/html": [
              "<table class=\"simpletable\">\n",
              "<tr>\n",
              "        <td>Model:</td>              <td>Logit</td>       <td>No. Iterations:</td>    <td>6.0000</td>   \n",
              "</tr>\n",
              "<tr>\n",
              "  <td>Dependent Variable:</td>     <td>converted</td>    <td>Pseudo R-squared:</td>    <td>0.000</td>   \n",
              "</tr>\n",
              "<tr>\n",
              "         <td>Date:</td>        <td>2019-03-08 14:16</td>       <td>AIC:</td>        <td>212780.3502</td>\n",
              "</tr>\n",
              "<tr>\n",
              "   <td>No. Observations:</td>       <td>290584</td>            <td>BIC:</td>        <td>212801.5095</td>\n",
              "</tr>\n",
              "<tr>\n",
              "       <td>Df Model:</td>              <td>1</td>         <td>Log-Likelihood:</td>  <td>-1.0639e+05</td>\n",
              "</tr>\n",
              "<tr>\n",
              "     <td>Df Residuals:</td>         <td>290582</td>          <td>LL-Null:</td>      <td>-1.0639e+05</td>\n",
              "</tr>\n",
              "<tr>\n",
              "      <td>Converged:</td>           <td>1.0000</td>           <td>Scale:</td>         <td>1.0000</td>   \n",
              "</tr>\n",
              "</table>\n",
              "<table class=\"simpletable\">\n",
              "<tr>\n",
              "      <td></td>       <th>Coef.</th>  <th>Std.Err.</th>     <th>z</th>      <th>P>|z|</th> <th>[0.025</th>  <th>0.975]</th> \n",
              "</tr>\n",
              "<tr>\n",
              "  <th>intercept</th> <td>-1.9888</td>  <td>0.0081</td>  <td>-246.6690</td> <td>0.0000</td> <td>-2.0046</td> <td>-1.9730</td>\n",
              "</tr>\n",
              "<tr>\n",
              "  <th>ab_page</th>   <td>-0.0150</td>  <td>0.0114</td>   <td>-1.3109</td>  <td>0.1899</td> <td>-0.0374</td> <td>0.0074</td> \n",
              "</tr>\n",
              "</table>"
            ],
            "text/plain": [
              "<class 'statsmodels.iolib.summary2.Summary'>\n",
              "\"\"\"\n",
              "                          Results: Logit\n",
              "==================================================================\n",
              "Model:              Logit            No. Iterations:   6.0000     \n",
              "Dependent Variable: converted        Pseudo R-squared: 0.000      \n",
              "Date:               2019-03-08 14:16 AIC:              212780.3502\n",
              "No. Observations:   290584           BIC:              212801.5095\n",
              "Df Model:           1                Log-Likelihood:   -1.0639e+05\n",
              "Df Residuals:       290582           LL-Null:          -1.0639e+05\n",
              "Converged:          1.0000           Scale:            1.0000     \n",
              "-------------------------------------------------------------------\n",
              "              Coef.   Std.Err.      z      P>|z|    [0.025   0.975]\n",
              "-------------------------------------------------------------------\n",
              "intercept    -1.9888    0.0081  -246.6690  0.0000  -2.0046  -1.9730\n",
              "ab_page      -0.0150    0.0114    -1.3109  0.1899  -0.0374   0.0074\n",
              "==================================================================\n",
              "\n",
              "\"\"\""
            ]
          },
          "metadata": {
            "tags": []
          },
          "execution_count": 42
        }
      ]
    },
    {
      "metadata": {
        "colab_type": "text",
        "id": "V1BzgGFE0tj1"
      },
      "cell_type": "markdown",
      "source": [
        "e. What is the p-value associated with **ab_page**? Why does it differ from the value you found in **Part II**?<br><br>  **Hint**: What are the null and alternative hypotheses associated with your regression model, and how do they compare to the null and alternative hypotheses in **Part II**?"
      ]
    },
    {
      "metadata": {
        "colab_type": "text",
        "id": "B9SrT-LM0tj1"
      },
      "cell_type": "markdown",
      "source": [
        "The p-value associated with ab_page is 0.190. \n",
        "\n",
        "In a Logistic Linear Regression Model, we are essentially performing a bi-modal test. In other words, we are testing to see if there is a conversion (True or 1 - Alternative Hypothesis) or not (False or 0 - Null Hypothesis). \n",
        "\n",
        "In a Logistic Linear Regression Model, a smaller p-value indicates that the Null Hypothesis is more likely true whereas a larger p-value indicates that the Alternative Hypothesis is true.\n",
        "\n",
        "Both approaches (A/B Test in Part II and Linear Regression in Part III) produce the same conclusion with the given data and the difference is in the interpretation of the p-value."
      ]
    },
    {
      "metadata": {
        "colab_type": "text",
        "id": "cV70M8hA0tj2"
      },
      "cell_type": "markdown",
      "source": [
        "f. Now, you are considering other things that might influence whether or not an individual converts.  Discuss why it is a good idea to consider other factors to add into your regression model.  Are there any disadvantages to adding additional terms into your regression model?"
      ]
    },
    {
      "metadata": {
        "colab_type": "text",
        "id": "c5CIGkat0tj3"
      },
      "cell_type": "markdown",
      "source": [
        "It is a good practice to use other factors (explanatory variables) in your regression model to predict more accurately the response. However, there are problems associated with using multiple explanatory variables. For example, a \"weak\" relationship between the explantory variable and the response variable may not yield accurate results."
      ]
    },
    {
      "metadata": {
        "colab_type": "text",
        "id": "G1Sfl0-30tj3"
      },
      "cell_type": "markdown",
      "source": [
        "g. Now along with testing if the conversion rate changes for different pages, also add an effect based on which country a user lives in. You will need to read in the **countries.csv** dataset and merge together your datasets on the appropriate rows.  [Here](https://pandas.pydata.org/pandas-docs/stable/generated/pandas.DataFrame.join.html) are the docs for joining tables. \n",
        "\n",
        "Does it appear that country had an impact on conversion?  Don't forget to create dummy variables for these country columns - **Hint: You will need two columns for the three dummy variables.** Provide the statistical output as well as a written response to answer this question."
      ]
    },
    {
      "metadata": {
        "colab_type": "code",
        "id": "NtjF8q8P0tj6",
        "outputId": "ea05b053-a9a2-4484-dab3-786156d77b42",
        "colab": {
          "base_uri": "https://localhost:8080/",
          "height": 324
        }
      },
      "cell_type": "code",
      "source": [
        "countries_url = 'https://raw.githubusercontent.com/bthodla/danano/master/prj3/countries.csv'\n",
        "countries_df = pd.read_csv(countries_url)\n",
        "df3 = df2.set_index('user_id').join(countries_df.set_index('user_id'))\n",
        "df3 [['CA', 'UK', 'US']] = pd.get_dummies(df3['country'])\n",
        "# Retaining \"US\" as the baseline; hence dropping it\n",
        "df3.drop(['US'], axis = 1, inplace = True)\n",
        "# df3.query('country != \"US\"').head()\n",
        "\n",
        "log_mdl_country = sm.Logit(df3['converted'], df3[['intercept', 'ab_page', 'CA', 'UK']])\n",
        "results_country = log_mdl_country.fit()\n",
        "\n",
        "results_country.summary2()"
      ],
      "execution_count": 44,
      "outputs": [
        {
          "output_type": "stream",
          "text": [
            "Optimization terminated successfully.\n",
            "         Current function value: 0.366113\n",
            "         Iterations 6\n"
          ],
          "name": "stdout"
        },
        {
          "output_type": "execute_result",
          "data": {
            "text/html": [
              "<table class=\"simpletable\">\n",
              "<tr>\n",
              "        <td>Model:</td>              <td>Logit</td>       <td>No. Iterations:</td>    <td>6.0000</td>   \n",
              "</tr>\n",
              "<tr>\n",
              "  <td>Dependent Variable:</td>     <td>converted</td>    <td>Pseudo R-squared:</td>    <td>0.000</td>   \n",
              "</tr>\n",
              "<tr>\n",
              "         <td>Date:</td>        <td>2019-03-08 14:17</td>       <td>AIC:</td>        <td>212781.1253</td>\n",
              "</tr>\n",
              "<tr>\n",
              "   <td>No. Observations:</td>       <td>290584</td>            <td>BIC:</td>        <td>212823.4439</td>\n",
              "</tr>\n",
              "<tr>\n",
              "       <td>Df Model:</td>              <td>3</td>         <td>Log-Likelihood:</td>  <td>-1.0639e+05</td>\n",
              "</tr>\n",
              "<tr>\n",
              "     <td>Df Residuals:</td>         <td>290580</td>          <td>LL-Null:</td>      <td>-1.0639e+05</td>\n",
              "</tr>\n",
              "<tr>\n",
              "      <td>Converged:</td>           <td>1.0000</td>           <td>Scale:</td>         <td>1.0000</td>   \n",
              "</tr>\n",
              "</table>\n",
              "<table class=\"simpletable\">\n",
              "<tr>\n",
              "      <td></td>       <th>Coef.</th>  <th>Std.Err.</th>     <th>z</th>      <th>P>|z|</th> <th>[0.025</th>  <th>0.975]</th> \n",
              "</tr>\n",
              "<tr>\n",
              "  <th>intercept</th> <td>-1.9893</td>  <td>0.0089</td>  <td>-223.7628</td> <td>0.0000</td> <td>-2.0067</td> <td>-1.9718</td>\n",
              "</tr>\n",
              "<tr>\n",
              "  <th>ab_page</th>   <td>-0.0149</td>  <td>0.0114</td>   <td>-1.3069</td>  <td>0.1912</td> <td>-0.0374</td> <td>0.0075</td> \n",
              "</tr>\n",
              "<tr>\n",
              "  <th>CA</th>        <td>-0.0408</td>  <td>0.0269</td>   <td>-1.5161</td>  <td>0.1295</td> <td>-0.0934</td> <td>0.0119</td> \n",
              "</tr>\n",
              "<tr>\n",
              "  <th>UK</th>        <td>0.0099</td>   <td>0.0133</td>   <td>0.7433</td>   <td>0.4573</td> <td>-0.0162</td> <td>0.0359</td> \n",
              "</tr>\n",
              "</table>"
            ],
            "text/plain": [
              "<class 'statsmodels.iolib.summary2.Summary'>\n",
              "\"\"\"\n",
              "                          Results: Logit\n",
              "==================================================================\n",
              "Model:              Logit            No. Iterations:   6.0000     \n",
              "Dependent Variable: converted        Pseudo R-squared: 0.000      \n",
              "Date:               2019-03-08 14:17 AIC:              212781.1253\n",
              "No. Observations:   290584           BIC:              212823.4439\n",
              "Df Model:           3                Log-Likelihood:   -1.0639e+05\n",
              "Df Residuals:       290580           LL-Null:          -1.0639e+05\n",
              "Converged:          1.0000           Scale:            1.0000     \n",
              "-------------------------------------------------------------------\n",
              "              Coef.   Std.Err.      z      P>|z|    [0.025   0.975]\n",
              "-------------------------------------------------------------------\n",
              "intercept    -1.9893    0.0089  -223.7628  0.0000  -2.0067  -1.9718\n",
              "ab_page      -0.0149    0.0114    -1.3069  0.1912  -0.0374   0.0075\n",
              "CA           -0.0408    0.0269    -1.5161  0.1295  -0.0934   0.0119\n",
              "UK            0.0099    0.0133     0.7433  0.4573  -0.0162   0.0359\n",
              "==================================================================\n",
              "\n",
              "\"\"\""
            ]
          },
          "metadata": {
            "tags": []
          },
          "execution_count": 44
        }
      ]
    },
    {
      "metadata": {
        "colab_type": "text",
        "id": "c-0YSwBo0tkA"
      },
      "cell_type": "markdown",
      "source": [
        "Adding country to the list of Explanatory variables had an impact on predicting conversion rates although all the countries didn't have the same impact. Clearly, there was less of an impact on conversions in UK compared to the US."
      ]
    },
    {
      "metadata": {
        "colab_type": "text",
        "id": "3YckNJ-E0tj8"
      },
      "cell_type": "markdown",
      "source": [
        "h. Though you have now looked at the individual factors of country and page on conversion, we would now like to look at an interaction between page and country to see if there significant effects on conversion.  Create the necessary additional columns, and fit the new model.  \n",
        "\n",
        "Provide the summary results, and your conclusions based on the results."
      ]
    },
    {
      "metadata": {
        "colab_type": "code",
        "id": "39SRVJwu0tj9",
        "outputId": "c58a7609-838f-499d-de7a-9c99a6d13a4e",
        "colab": {
          "base_uri": "https://localhost:8080/",
          "height": 303
        }
      },
      "cell_type": "code",
      "source": [
        "df3['UK_ab_page'] = df3['UK'] * df3['ab_page']\n",
        "df3['CA_ab_page'] = df3['CA'] * df3['ab_page']\n",
        "\n",
        "log_mdl_country_combined = sm.Logit(df3['converted'], df3[['intercept', 'UK_ab_page', 'CA_ab_page']])\n",
        "results_country_combined = log_mdl_country_combined.fit()\n",
        "\n",
        "results_country_combined.summary2()"
      ],
      "execution_count": 45,
      "outputs": [
        {
          "output_type": "stream",
          "text": [
            "Optimization terminated successfully.\n",
            "         Current function value: 0.366113\n",
            "         Iterations 6\n"
          ],
          "name": "stdout"
        },
        {
          "output_type": "execute_result",
          "data": {
            "text/html": [
              "<table class=\"simpletable\">\n",
              "<tr>\n",
              "        <td>Model:</td>              <td>Logit</td>       <td>No. Iterations:</td>    <td>6.0000</td>   \n",
              "</tr>\n",
              "<tr>\n",
              "  <td>Dependent Variable:</td>     <td>converted</td>    <td>Pseudo R-squared:</td>    <td>0.000</td>   \n",
              "</tr>\n",
              "<tr>\n",
              "         <td>Date:</td>        <td>2019-03-08 14:18</td>       <td>AIC:</td>        <td>212779.0384</td>\n",
              "</tr>\n",
              "<tr>\n",
              "   <td>No. Observations:</td>       <td>290584</td>            <td>BIC:</td>        <td>212810.7773</td>\n",
              "</tr>\n",
              "<tr>\n",
              "       <td>Df Model:</td>              <td>2</td>         <td>Log-Likelihood:</td>  <td>-1.0639e+05</td>\n",
              "</tr>\n",
              "<tr>\n",
              "     <td>Df Residuals:</td>         <td>290581</td>          <td>LL-Null:</td>      <td>-1.0639e+05</td>\n",
              "</tr>\n",
              "<tr>\n",
              "      <td>Converged:</td>           <td>1.0000</td>           <td>Scale:</td>         <td>1.0000</td>   \n",
              "</tr>\n",
              "</table>\n",
              "<table class=\"simpletable\">\n",
              "<tr>\n",
              "       <td></td>       <th>Coef.</th>  <th>Std.Err.</th>     <th>z</th>      <th>P>|z|</th> <th>[0.025</th>  <th>0.975]</th> \n",
              "</tr>\n",
              "<tr>\n",
              "  <th>intercept</th>  <td>-1.9963</td>  <td>0.0062</td>  <td>-322.0487</td> <td>0.0000</td> <td>-2.0084</td> <td>-1.9841</td>\n",
              "</tr>\n",
              "<tr>\n",
              "  <th>UK_ab_page</th> <td>0.0149</td>   <td>0.0173</td>   <td>0.8617</td>   <td>0.3888</td> <td>-0.0190</td> <td>0.0488</td> \n",
              "</tr>\n",
              "<tr>\n",
              "  <th>CA_ab_page</th> <td>-0.0752</td>  <td>0.0376</td>   <td>-1.9974</td>  <td>0.0458</td> <td>-0.1489</td> <td>-0.0014</td>\n",
              "</tr>\n",
              "</table>"
            ],
            "text/plain": [
              "<class 'statsmodels.iolib.summary2.Summary'>\n",
              "\"\"\"\n",
              "                          Results: Logit\n",
              "==================================================================\n",
              "Model:              Logit            No. Iterations:   6.0000     \n",
              "Dependent Variable: converted        Pseudo R-squared: 0.000      \n",
              "Date:               2019-03-08 14:18 AIC:              212779.0384\n",
              "No. Observations:   290584           BIC:              212810.7773\n",
              "Df Model:           2                Log-Likelihood:   -1.0639e+05\n",
              "Df Residuals:       290581           LL-Null:          -1.0639e+05\n",
              "Converged:          1.0000           Scale:            1.0000     \n",
              "-------------------------------------------------------------------\n",
              "              Coef.   Std.Err.      z      P>|z|    [0.025   0.975]\n",
              "-------------------------------------------------------------------\n",
              "intercept    -1.9963    0.0062  -322.0487  0.0000  -2.0084  -1.9841\n",
              "UK_ab_page    0.0149    0.0173     0.8617  0.3888  -0.0190   0.0488\n",
              "CA_ab_page   -0.0752    0.0376    -1.9974  0.0458  -0.1489  -0.0014\n",
              "==================================================================\n",
              "\n",
              "\"\"\""
            ]
          },
          "metadata": {
            "tags": []
          },
          "execution_count": 45
        }
      ]
    },
    {
      "metadata": {
        "id": "8CshA2VpU_9u",
        "colab_type": "text"
      },
      "cell_type": "markdown",
      "source": [
        "Using the interaction between countries and page shows more significant effect on conversion compared to using the countries and pages separately as explanatory variables.\n",
        "\n",
        "However, it doesn't change the conclusion itself. US and Canada show a more significant impact on conversion when compared to the UK.\n",
        "\n",
        "At this stage, we may ask how we will deal with samples from more countries:\n",
        "\n",
        "* Do we calculate interactions between pages and each of these countries?\n",
        "* Or do we treat the pages and countries as two separate explanatory variables?\n",
        "\n",
        "I think that the answer is mostly do with the practicality of calculating interactions between the pages and the countries. The model gets a lot harder to fit with an increase in the number of countries. Since we have found out that the conclusion is the same whether we include or exclude the country as an explanatory variable, from a practical viewpoint, we may consider dropping country as an explanatory varialble altogether. \n",
        "\n",
        "I don't think that it will significantly alter the conclusion, especially since this is a bi-modal model."
      ]
    },
    {
      "metadata": {
        "colab_type": "text",
        "id": "eetgVSo40tkC"
      },
      "cell_type": "markdown",
      "source": [
        "<a id='conclusions'></a>\n",
        "## Finishing Up\n",
        "\n",
        "> Congratulations!  You have reached the end of the A/B Test Results project!  You should be very proud of all you have accomplished!\n",
        "\n",
        "> **Tip**: Once you are satisfied with your work here, check over your report to make sure that it is satisfies all the areas of the rubric (found on the project submission page at the end of the lesson). You should also probably remove all of the \"Tips\" like this one so that the presentation is as polished as possible.\n",
        "\n",
        "\n",
        "## Directions to Submit\n",
        "\n",
        "> Before you submit your project, you need to create a .html or .pdf version of this notebook in the workspace here. To do that, run the code cell below. If it worked correctly, you should get a return code of 0, and you should see the generated .html file in the workspace directory (click on the orange Jupyter icon in the upper left).\n",
        "\n",
        "> Alternatively, you can download this report as .html via the **File** > **Download as** submenu, and then manually upload it into the workspace directory by clicking on the orange Jupyter icon in the upper left, then using the Upload button.\n",
        "\n",
        "> Once you've done this, you can submit your project by clicking on the \"Submit Project\" button in the lower right here. This will create and submit a zip file with this .ipynb doc and the .html or .pdf version you created. Congratulations!"
      ]
    },
    {
      "metadata": {
        "colab_type": "code",
        "id": "-Q2tmO3D0tkD",
        "outputId": "fb50705c-e9eb-4ad3-b03c-c4c9db191667",
        "colab": {}
      },
      "cell_type": "code",
      "source": [
        "from subprocess import call\n",
        "call(['python', '-m', 'nbconvert', 'Analyze_ab_test_results_notebook.ipynb'])"
      ],
      "execution_count": 0,
      "outputs": [
        {
          "output_type": "execute_result",
          "data": {
            "text/plain": [
              "0"
            ]
          },
          "metadata": {
            "tags": []
          },
          "execution_count": 171
        }
      ]
    }
  ]
}